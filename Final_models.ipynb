{
 "cells": [
  {
   "cell_type": "code",
   "execution_count": 73,
   "metadata": {},
   "outputs": [],
   "source": [
    "import pandas as pd\n",
    "import numpy as np\n",
    "\n",
    "import statsmodels.api as sm\n",
    "from statsmodels.formula.api import ols\n",
    "from statsmodels.stats.outliers_influence import variance_inflation_factor\n",
    "\n",
    "from matplotlib import pyplot as plt\n",
    "\n",
    "from sklearn import linear_model\n",
    "from sklearn.linear_model import LinearRegression\n",
    "\n",
    "from sklearn.model_selection import train_test_split\n",
    "from sklearn import metrics\n",
    "from sklearn.preprocessing import PolynomialFeatures\n",
    "from sklearn.preprocessing import StandardScaler\n",
    "\n",
    "import seaborn as sns\n",
    "\n",
    "import pickle"
   ]
  },
  {
   "cell_type": "code",
   "execution_count": 74,
   "metadata": {},
   "outputs": [],
   "source": [
    "# importing nba data\n",
    "\n",
    "nba_data = pd.read_csv('CSV_files/cleaned_nba_data.csv', index_col = 0)"
   ]
  },
  {
   "cell_type": "code",
   "execution_count": 75,
   "metadata": {
    "scrolled": false
   },
   "outputs": [
    {
     "data": {
      "text/plain": [
       "Index(['3P%', 'FT%', 'TRB', 'AST', 'STL', 'BLK', 'PF', 'PTS', 'TEAM', 'AGE',\n",
       "       'W', 'SOS', 'PACE', '3PAr', 'TS%', 'TOV%', 'ORB%', 'FT/FGA', 'D_eFG%',\n",
       "       'D_TOV%', 'DRB%', 'D_FT/FGA', 'SEASON'],\n",
       "      dtype='object')"
      ]
     },
     "execution_count": 75,
     "metadata": {},
     "output_type": "execute_result"
    }
   ],
   "source": [
    "# checking all the columns to make sure they are still good\n",
    "\n",
    "nba_data.columns"
   ]
  },
  {
   "cell_type": "code",
   "execution_count": null,
   "metadata": {},
   "outputs": [],
   "source": []
  },
  {
   "cell_type": "code",
   "execution_count": null,
   "metadata": {},
   "outputs": [],
   "source": []
  },
  {
   "cell_type": "markdown",
   "metadata": {},
   "source": [
    "### Creating Target and Features"
   ]
  },
  {
   "cell_type": "code",
   "execution_count": 96,
   "metadata": {},
   "outputs": [],
   "source": [
    "# creating an x for features and y for target\n",
    "\n",
    "X = nba_data.drop(columns = ['W', 'TEAM', 'SEASON'])\n",
    "y = nba_data['W']"
   ]
  },
  {
   "cell_type": "markdown",
   "metadata": {},
   "source": [
    "### Train Test Split"
   ]
  },
  {
   "cell_type": "code",
   "execution_count": 97,
   "metadata": {},
   "outputs": [],
   "source": [
    "# train test split the data\n",
    "\n",
    "X_train, X_test, y_train, y_test = train_test_split(X, y, random_state=23,test_size=0.2)  "
   ]
  },
  {
   "cell_type": "code",
   "execution_count": 98,
   "metadata": {},
   "outputs": [],
   "source": [
    "\n",
    "scaler = StandardScaler()\n",
    "scaler.fit(X_train)\n",
    "X_train_scale = pd.DataFrame(data=scaler.transform(X_train), columns = X.columns)\n",
    "X_test_scale = pd.DataFrame(data=scaler.transform(X_test), columns = X.columns)"
   ]
  },
  {
   "cell_type": "markdown",
   "metadata": {},
   "source": [
    "### Lasso Test \n",
    "\n",
    "#### Turned out to be the best type of model after comparing results in multiple scenarios"
   ]
  },
  {
   "cell_type": "code",
   "execution_count": 99,
   "metadata": {},
   "outputs": [],
   "source": [
    "# import lasso regression model as it was the best performing one in all my practice\n",
    "\n",
    "from sklearn.linear_model import Lasso"
   ]
  },
  {
   "cell_type": "code",
   "execution_count": 100,
   "metadata": {},
   "outputs": [
    {
     "name": "stdout",
     "output_type": "stream",
     "text": [
      "Testing Error: 4.325724421001547\n"
     ]
    }
   ],
   "source": [
    "# create a new lasso model with some hyper parameters that were tested\n",
    "lasso = Lasso(alpha = .02, max_iter = 4000)\n",
    "\n",
    "# fitting to the training data\n",
    "lasso.fit(X_train_scale, y_train)\n",
    "\n",
    "# predicting on the testing data\n",
    "lasso_pred = lasso.predict(X_test_scale)\n",
    "\n",
    "# finding the root mean squared error\n",
    "test_rmse = np.sqrt(metrics.mean_squared_error(y_test, lasso_pred))\n",
    "\n",
    "#printing out the result\n",
    "print('Testing Error: '+ str(test_rmse))"
   ]
  },
  {
   "cell_type": "markdown",
   "metadata": {},
   "source": [
    "We can see that the model does fairly well since the most wins is 73 and the least is 11, the average is 41 so only being 5 off is pretty good"
   ]
  },
  {
   "cell_type": "code",
   "execution_count": null,
   "metadata": {},
   "outputs": [],
   "source": []
  },
  {
   "cell_type": "code",
   "execution_count": 101,
   "metadata": {
    "scrolled": true
   },
   "outputs": [
    {
     "data": {
      "text/plain": [
       "<matplotlib.axes._subplots.AxesSubplot at 0x7fb0078f2e90>"
      ]
     },
     "execution_count": 101,
     "metadata": {},
     "output_type": "execute_result"
    },
    {
     "data": {
      "image/png": "[encoded data removed]",
      "text/plain": [
       "<Figure size 432x288 with 1 Axes>"
      ]
     },
     "metadata": {},
     "output_type": "display_data"
    }
   ],
   "source": [
    "# plotting the residuals vs the actual predictions to see the results\n",
    "\n",
    "sns.residplot(y_test, lasso_pred, lowess=True, color=\"g\")"
   ]
  },
  {
   "cell_type": "code",
   "execution_count": null,
   "metadata": {},
   "outputs": [],
   "source": []
  },
  {
   "cell_type": "code",
   "execution_count": null,
   "metadata": {},
   "outputs": [],
   "source": []
  },
  {
   "cell_type": "code",
   "execution_count": 102,
   "metadata": {},
   "outputs": [],
   "source": [
    "# importing sklearn for vif scores and cross validation\n",
    "\n",
    "from sklearn.linear_model import LinearRegression\n",
    "from sklearn.model_selection import cross_val_score\n",
    "from sklearn.model_selection import KFold"
   ]
  },
  {
   "cell_type": "code",
   "execution_count": null,
   "metadata": {},
   "outputs": [],
   "source": []
  },
  {
   "cell_type": "markdown",
   "metadata": {},
   "source": [
    "Final Check of Collinearity of the Data"
   ]
  },
  {
   "cell_type": "code",
   "execution_count": 103,
   "metadata": {
    "scrolled": true
   },
   "outputs": [
    {
     "data": {
      "text/html": [
       "<div>\n",
       "<style scoped>\n",
       "    .dataframe tbody tr th:only-of-type {\n",
       "        vertical-align: middle;\n",
       "    }\n",
       "\n",
       "    .dataframe tbody tr th {\n",
       "        vertical-align: top;\n",
       "    }\n",
       "\n",
       "    .dataframe thead th {\n",
       "        text-align: right;\n",
       "    }\n",
       "</style>\n",
       "<table border=\"1\" class=\"dataframe\">\n",
       "  <thead>\n",
       "    <tr style=\"text-align: right;\">\n",
       "      <th></th>\n",
       "      <th>VIF Factor</th>\n",
       "      <th>features</th>\n",
       "    </tr>\n",
       "  </thead>\n",
       "  <tbody>\n",
       "    <tr>\n",
       "      <th>0</th>\n",
       "      <td>930.121273</td>\n",
       "      <td>3P%</td>\n",
       "    </tr>\n",
       "    <tr>\n",
       "      <th>1</th>\n",
       "      <td>861.932952</td>\n",
       "      <td>FT%</td>\n",
       "    </tr>\n",
       "    <tr>\n",
       "      <th>2</th>\n",
       "      <td>11788.143345</td>\n",
       "      <td>TRB</td>\n",
       "    </tr>\n",
       "    <tr>\n",
       "      <th>3</th>\n",
       "      <td>334.337667</td>\n",
       "      <td>AST</td>\n",
       "    </tr>\n",
       "    <tr>\n",
       "      <th>4</th>\n",
       "      <td>525.808134</td>\n",
       "      <td>STL</td>\n",
       "    </tr>\n",
       "    <tr>\n",
       "      <th>5</th>\n",
       "      <td>68.192416</td>\n",
       "      <td>BLK</td>\n",
       "    </tr>\n",
       "    <tr>\n",
       "      <th>6</th>\n",
       "      <td>1193.616506</td>\n",
       "      <td>PF</td>\n",
       "    </tr>\n",
       "    <tr>\n",
       "      <th>7</th>\n",
       "      <td>14400.467363</td>\n",
       "      <td>PTS</td>\n",
       "    </tr>\n",
       "    <tr>\n",
       "      <th>8</th>\n",
       "      <td>432.565648</td>\n",
       "      <td>AGE</td>\n",
       "    </tr>\n",
       "    <tr>\n",
       "      <th>9</th>\n",
       "      <td>1.363007</td>\n",
       "      <td>SOS</td>\n",
       "    </tr>\n",
       "    <tr>\n",
       "      <th>10</th>\n",
       "      <td>20399.213346</td>\n",
       "      <td>PACE</td>\n",
       "    </tr>\n",
       "    <tr>\n",
       "      <th>11</th>\n",
       "      <td>73.915695</td>\n",
       "      <td>3PAr</td>\n",
       "    </tr>\n",
       "    <tr>\n",
       "      <th>12</th>\n",
       "      <td>16064.525652</td>\n",
       "      <td>TS%</td>\n",
       "    </tr>\n",
       "    <tr>\n",
       "      <th>13</th>\n",
       "      <td>946.878870</td>\n",
       "      <td>TOV%</td>\n",
       "    </tr>\n",
       "    <tr>\n",
       "      <th>14</th>\n",
       "      <td>879.240683</td>\n",
       "      <td>ORB%</td>\n",
       "    </tr>\n",
       "    <tr>\n",
       "      <th>15</th>\n",
       "      <td>181.517848</td>\n",
       "      <td>FT/FGA</td>\n",
       "    </tr>\n",
       "    <tr>\n",
       "      <th>16</th>\n",
       "      <td>4808.343238</td>\n",
       "      <td>D_eFG%</td>\n",
       "    </tr>\n",
       "    <tr>\n",
       "      <th>17</th>\n",
       "      <td>1234.739726</td>\n",
       "      <td>D_TOV%</td>\n",
       "    </tr>\n",
       "    <tr>\n",
       "      <th>18</th>\n",
       "      <td>7450.334775</td>\n",
       "      <td>DRB%</td>\n",
       "    </tr>\n",
       "    <tr>\n",
       "      <th>19</th>\n",
       "      <td>552.010594</td>\n",
       "      <td>D_FT/FGA</td>\n",
       "    </tr>\n",
       "  </tbody>\n",
       "</table>\n",
       "</div>"
      ],
      "text/plain": [
       "      VIF Factor  features\n",
       "0     930.121273       3P%\n",
       "1     861.932952       FT%\n",
       "2   11788.143345       TRB\n",
       "3     334.337667       AST\n",
       "4     525.808134       STL\n",
       "5      68.192416       BLK\n",
       "6    1193.616506        PF\n",
       "7   14400.467363       PTS\n",
       "8     432.565648       AGE\n",
       "9       1.363007       SOS\n",
       "10  20399.213346      PACE\n",
       "11     73.915695      3PAr\n",
       "12  16064.525652       TS%\n",
       "13    946.878870      TOV%\n",
       "14    879.240683      ORB%\n",
       "15    181.517848    FT/FGA\n",
       "16   4808.343238    D_eFG%\n",
       "17   1234.739726    D_TOV%\n",
       "18   7450.334775      DRB%\n",
       "19    552.010594  D_FT/FGA"
      ]
     },
     "execution_count": 103,
     "metadata": {},
     "output_type": "execute_result"
    }
   ],
   "source": [
    "# checking the colinearity of the different features to make sure nothing is incredibly high\n",
    "\n",
    "vif = pd.DataFrame()\n",
    "vif[\"VIF Factor\"] = [variance_inflation_factor(X.values, i) for i in range(X.shape[1])]\n",
    "vif[\"features\"] = X.columns\n",
    "vif"
   ]
  },
  {
   "cell_type": "code",
   "execution_count": null,
   "metadata": {},
   "outputs": [],
   "source": []
  },
  {
   "cell_type": "markdown",
   "metadata": {},
   "source": [
    "Checking *R^2* Value"
   ]
  },
  {
   "cell_type": "code",
   "execution_count": 104,
   "metadata": {},
   "outputs": [
    {
     "name": "stderr",
     "output_type": "stream",
     "text": [
      "/Users/antoniohila/opt/anaconda3/lib/python3.7/site-packages/numpy/core/fromnumeric.py:2542: FutureWarning: Method .ptp is deprecated and will be removed in a future version. Use numpy.ptp instead.\n",
      "  return ptp(axis=axis, out=out, **kwargs)\n"
     ]
    }
   ],
   "source": [
    "X_endog = sm.add_constant(X_test)"
   ]
  },
  {
   "cell_type": "code",
   "execution_count": 105,
   "metadata": {},
   "outputs": [],
   "source": [
    "res = sm.OLS(y_test, X_endog).fit()"
   ]
  },
  {
   "cell_type": "code",
   "execution_count": 106,
   "metadata": {},
   "outputs": [
    {
     "data": {
      "text/html": [
       "<table class=\"simpletable\">\n",
       "<caption>OLS Regression Results</caption>\n",
       "<tr>\n",
       "  <th>Dep. Variable:</th>            <td>W</td>        <th>  R-squared:         </th> <td>   0.939</td>\n",
       "</tr>\n",
       "<tr>\n",
       "  <th>Model:</th>                   <td>OLS</td>       <th>  Adj. R-squared:    </th> <td>   0.903</td>\n",
       "</tr>\n",
       "<tr>\n",
       "  <th>Method:</th>             <td>Least Squares</td>  <th>  F-statistic:       </th> <td>   26.23</td>\n",
       "</tr>\n",
       "<tr>\n",
       "  <th>Date:</th>             <td>Thu, 02 Jul 2020</td> <th>  Prob (F-statistic):</th> <td>3.95e-15</td>\n",
       "</tr>\n",
       "<tr>\n",
       "  <th>Time:</th>                 <td>20:23:00</td>     <th>  Log-Likelihood:    </th> <td> -140.55</td>\n",
       "</tr>\n",
       "<tr>\n",
       "  <th>No. Observations:</th>      <td>    55</td>      <th>  AIC:               </th> <td>   323.1</td>\n",
       "</tr>\n",
       "<tr>\n",
       "  <th>Df Residuals:</th>          <td>    34</td>      <th>  BIC:               </th> <td>   365.3</td>\n",
       "</tr>\n",
       "<tr>\n",
       "  <th>Df Model:</th>              <td>    20</td>      <th>                     </th>     <td> </td>   \n",
       "</tr>\n",
       "<tr>\n",
       "  <th>Covariance Type:</th>      <td>nonrobust</td>    <th>                     </th>     <td> </td>   \n",
       "</tr>\n",
       "</table>\n",
       "<table class=\"simpletable\">\n",
       "<tr>\n",
       "      <td></td>        <th>coef</th>     <th>std err</th>      <th>t</th>      <th>P>|t|</th>  <th>[0.025</th>    <th>0.975]</th>  \n",
       "</tr>\n",
       "<tr>\n",
       "  <th>const</th>    <td> -394.3427</td> <td>  155.256</td> <td>   -2.540</td> <td> 0.016</td> <td> -709.862</td> <td>  -78.824</td>\n",
       "</tr>\n",
       "<tr>\n",
       "  <th>3P%</th>      <td>   84.4718</td> <td>   50.307</td> <td>    1.679</td> <td> 0.102</td> <td>  -17.765</td> <td>  186.709</td>\n",
       "</tr>\n",
       "<tr>\n",
       "  <th>FT%</th>      <td>   28.8448</td> <td>   22.485</td> <td>    1.283</td> <td> 0.208</td> <td>  -16.851</td> <td>   74.540</td>\n",
       "</tr>\n",
       "<tr>\n",
       "  <th>TRB</th>      <td>    0.9785</td> <td>    1.679</td> <td>    0.583</td> <td> 0.564</td> <td>   -2.433</td> <td>    4.390</td>\n",
       "</tr>\n",
       "<tr>\n",
       "  <th>AST</th>      <td>   -0.3352</td> <td>    0.453</td> <td>   -0.739</td> <td> 0.465</td> <td>   -1.257</td> <td>    0.586</td>\n",
       "</tr>\n",
       "<tr>\n",
       "  <th>STL</th>      <td>    8.8574</td> <td>    2.633</td> <td>    3.364</td> <td> 0.002</td> <td>    3.507</td> <td>   14.208</td>\n",
       "</tr>\n",
       "<tr>\n",
       "  <th>BLK</th>      <td>   -1.8042</td> <td>    1.163</td> <td>   -1.551</td> <td> 0.130</td> <td>   -4.168</td> <td>    0.559</td>\n",
       "</tr>\n",
       "<tr>\n",
       "  <th>PF</th>       <td>    2.0018</td> <td>    1.084</td> <td>    1.847</td> <td> 0.073</td> <td>   -0.200</td> <td>    4.204</td>\n",
       "</tr>\n",
       "<tr>\n",
       "  <th>PTS</th>      <td>   -3.2890</td> <td>    1.630</td> <td>   -2.018</td> <td> 0.052</td> <td>   -6.601</td> <td>    0.023</td>\n",
       "</tr>\n",
       "<tr>\n",
       "  <th>AGE</th>      <td>    1.4516</td> <td>    0.445</td> <td>    3.262</td> <td> 0.003</td> <td>    0.547</td> <td>    2.356</td>\n",
       "</tr>\n",
       "<tr>\n",
       "  <th>SOS</th>      <td>   -3.1709</td> <td>    1.919</td> <td>   -1.653</td> <td> 0.108</td> <td>   -7.070</td> <td>    0.728</td>\n",
       "</tr>\n",
       "<tr>\n",
       "  <th>PACE</th>     <td>    2.2197</td> <td>    1.683</td> <td>    1.319</td> <td> 0.196</td> <td>   -1.200</td> <td>    5.639</td>\n",
       "</tr>\n",
       "<tr>\n",
       "  <th>3PAr</th>     <td>  -26.6244</td> <td>   19.213</td> <td>   -1.386</td> <td> 0.175</td> <td>  -65.670</td> <td>   12.421</td>\n",
       "</tr>\n",
       "<tr>\n",
       "  <th>TS%</th>      <td>  876.2321</td> <td>  280.323</td> <td>    3.126</td> <td> 0.004</td> <td>  306.546</td> <td> 1445.918</td>\n",
       "</tr>\n",
       "<tr>\n",
       "  <th>TOV%</th>     <td>   -7.5238</td> <td>    2.341</td> <td>   -3.214</td> <td> 0.003</td> <td>  -12.281</td> <td>   -2.766</td>\n",
       "</tr>\n",
       "<tr>\n",
       "  <th>ORB%</th>     <td>    2.3115</td> <td>    0.955</td> <td>    2.421</td> <td> 0.021</td> <td>    0.371</td> <td>    4.252</td>\n",
       "</tr>\n",
       "<tr>\n",
       "  <th>FT/FGA</th>   <td>  -15.5042</td> <td>   44.329</td> <td>   -0.350</td> <td> 0.729</td> <td> -105.592</td> <td>   74.583</td>\n",
       "</tr>\n",
       "<tr>\n",
       "  <th>D_eFG%</th>   <td> -237.6225</td> <td>   95.565</td> <td>   -2.486</td> <td> 0.018</td> <td> -431.834</td> <td>  -43.411</td>\n",
       "</tr>\n",
       "<tr>\n",
       "  <th>D_TOV%</th>   <td>   -3.4429</td> <td>    2.062</td> <td>   -1.669</td> <td> 0.104</td> <td>   -7.634</td> <td>    0.749</td>\n",
       "</tr>\n",
       "<tr>\n",
       "  <th>DRB%</th>     <td>    1.3164</td> <td>    0.699</td> <td>    1.882</td> <td> 0.068</td> <td>   -0.105</td> <td>    2.738</td>\n",
       "</tr>\n",
       "<tr>\n",
       "  <th>D_FT/FGA</th> <td> -103.9051</td> <td>   79.120</td> <td>   -1.313</td> <td> 0.198</td> <td> -264.697</td> <td>   56.887</td>\n",
       "</tr>\n",
       "</table>\n",
       "<table class=\"simpletable\">\n",
       "<tr>\n",
       "  <th>Omnibus:</th>       <td> 0.659</td> <th>  Durbin-Watson:     </th> <td>   2.041</td>\n",
       "</tr>\n",
       "<tr>\n",
       "  <th>Prob(Omnibus):</th> <td> 0.719</td> <th>  Jarque-Bera (JB):  </th> <td>   0.176</td>\n",
       "</tr>\n",
       "<tr>\n",
       "  <th>Skew:</th>          <td> 0.079</td> <th>  Prob(JB):          </th> <td>   0.916</td>\n",
       "</tr>\n",
       "<tr>\n",
       "  <th>Kurtosis:</th>      <td> 3.228</td> <th>  Cond. No.          </th> <td>1.03e+05</td>\n",
       "</tr>\n",
       "</table><br/><br/>Warnings:<br/>[1] Standard Errors assume that the covariance matrix of the errors is correctly specified.<br/>[2] The condition number is large, 1.03e+05. This might indicate that there are<br/>strong multicollinearity or other numerical problems."
      ],
      "text/plain": [
       "<class 'statsmodels.iolib.summary.Summary'>\n",
       "\"\"\"\n",
       "                            OLS Regression Results                            \n",
       "==============================================================================\n",
       "Dep. Variable:                      W   R-squared:                       0.939\n",
       "Model:                            OLS   Adj. R-squared:                  0.903\n",
       "Method:                 Least Squares   F-statistic:                     26.23\n",
       "Date:                Thu, 02 Jul 2020   Prob (F-statistic):           3.95e-15\n",
       "Time:                        20:23:00   Log-Likelihood:                -140.55\n",
       "No. Observations:                  55   AIC:                             323.1\n",
       "Df Residuals:                      34   BIC:                             365.3\n",
       "Df Model:                          20                                         \n",
       "Covariance Type:            nonrobust                                         \n",
       "==============================================================================\n",
       "                 coef    std err          t      P>|t|      [0.025      0.975]\n",
       "------------------------------------------------------------------------------\n",
       "const       -394.3427    155.256     -2.540      0.016    -709.862     -78.824\n",
       "3P%           84.4718     50.307      1.679      0.102     -17.765     186.709\n",
       "FT%           28.8448     22.485      1.283      0.208     -16.851      74.540\n",
       "TRB            0.9785      1.679      0.583      0.564      -2.433       4.390\n",
       "AST           -0.3352      0.453     -0.739      0.465      -1.257       0.586\n",
       "STL            8.8574      2.633      3.364      0.002       3.507      14.208\n",
       "BLK           -1.8042      1.163     -1.551      0.130      -4.168       0.559\n",
       "PF             2.0018      1.084      1.847      0.073      -0.200       4.204\n",
       "PTS           -3.2890      1.630     -2.018      0.052      -6.601       0.023\n",
       "AGE            1.4516      0.445      3.262      0.003       0.547       2.356\n",
       "SOS           -3.1709      1.919     -1.653      0.108      -7.070       0.728\n",
       "PACE           2.2197      1.683      1.319      0.196      -1.200       5.639\n",
       "3PAr         -26.6244     19.213     -1.386      0.175     -65.670      12.421\n",
       "TS%          876.2321    280.323      3.126      0.004     306.546    1445.918\n",
       "TOV%          -7.5238      2.341     -3.214      0.003     -12.281      -2.766\n",
       "ORB%           2.3115      0.955      2.421      0.021       0.371       4.252\n",
       "FT/FGA       -15.5042     44.329     -0.350      0.729    -105.592      74.583\n",
       "D_eFG%      -237.6225     95.565     -2.486      0.018    -431.834     -43.411\n",
       "D_TOV%        -3.4429      2.062     -1.669      0.104      -7.634       0.749\n",
       "DRB%           1.3164      0.699      1.882      0.068      -0.105       2.738\n",
       "D_FT/FGA    -103.9051     79.120     -1.313      0.198    -264.697      56.887\n",
       "==============================================================================\n",
       "Omnibus:                        0.659   Durbin-Watson:                   2.041\n",
       "Prob(Omnibus):                  0.719   Jarque-Bera (JB):                0.176\n",
       "Skew:                           0.079   Prob(JB):                        0.916\n",
       "Kurtosis:                       3.228   Cond. No.                     1.03e+05\n",
       "==============================================================================\n",
       "\n",
       "Warnings:\n",
       "[1] Standard Errors assume that the covariance matrix of the errors is correctly specified.\n",
       "[2] The condition number is large, 1.03e+05. This might indicate that there are\n",
       "strong multicollinearity or other numerical problems.\n",
       "\"\"\""
      ]
     },
     "execution_count": 106,
     "metadata": {},
     "output_type": "execute_result"
    }
   ],
   "source": [
    "res.summary()"
   ]
  },
  {
   "cell_type": "code",
   "execution_count": null,
   "metadata": {},
   "outputs": [],
   "source": []
  },
  {
   "cell_type": "code",
   "execution_count": null,
   "metadata": {},
   "outputs": [],
   "source": []
  },
  {
   "cell_type": "code",
   "execution_count": null,
   "metadata": {},
   "outputs": [],
   "source": []
  },
  {
   "cell_type": "code",
   "execution_count": null,
   "metadata": {},
   "outputs": [],
   "source": []
  },
  {
   "cell_type": "code",
   "execution_count": 107,
   "metadata": {},
   "outputs": [
    {
     "data": {
      "text/plain": [
       "0.7940637334128982"
      ]
     },
     "execution_count": 107,
     "metadata": {},
     "output_type": "execute_result"
    }
   ],
   "source": [
    "crossvalidation = KFold(n_splits=10, shuffle=True, random_state=1)\n",
    "\n",
    "baseline = np.mean(cross_val_score(lasso, X, y, scoring='r2', cv=crossvalidation))\n",
    "\n",
    "baseline"
   ]
  },
  {
   "cell_type": "code",
   "execution_count": null,
   "metadata": {},
   "outputs": [],
   "source": []
  },
  {
   "cell_type": "code",
   "execution_count": 108,
   "metadata": {},
   "outputs": [],
   "source": [
    "from statsmodels.stats.outliers_influence import variance_inflation_factor"
   ]
  },
  {
   "cell_type": "markdown",
   "metadata": {},
   "source": [
    "The final model included 9 features the 4 most valuable, according to the Lasso model were, DFG%, TS_Pts and TOVs. \n",
    "\n",
    "DFG% was the most effective tool, this is the shooting % of the other team, and it had a large affect on the data which makes sense, and goes with my original idea that defense should a big proponent in wins\n",
    "\n",
    "TS also made sense. As they show the efficiency of scoring with TS. The volume of scoring itself did not have as much of an impact in the end as the rest\n",
    "\n",
    "TOV is a measure of possessions. This is negatively correlated as expected as less turnovers means you have the ball more. This goes with DFG% as if you have a higher rate of turnovers and more possessions it will lead to the most efficiency. \n",
    "\n",
    "*Honorable mention to Age which had a high correlation and i believe this is due to the trend of tanking in the nba which has become much more prevelant in the last decade where more teams will completely rebuild their rosters from the ground up and go all in on youth to lose more on purpose.* \n",
    " "
   ]
  },
  {
   "cell_type": "code",
   "execution_count": null,
   "metadata": {},
   "outputs": [],
   "source": []
  },
  {
   "cell_type": "markdown",
   "metadata": {},
   "source": [
    "Overall the model was very effective. From the final results of an R^2 of .902 i was able to find the proper balance between overfitting and underfitting the model using the most valuable stats. \n",
    "\n",
    "What i learned is that efficiency was key when creating features in the data. So in terms of basketball for offense its more about finding quality shots rather than more shots. and for defense hindering the opponents quality looks is better than something like blocks, steals or rebounds.\n",
    "\n",
    "Possesion also matters, maintaining low turnovers had a very positive affect on teams wins in the model.\n",
    "\n",
    "Things that didnt matter as much were rebounding as a whole, surprisingly 3 pt shooting didnt mean much either, at least the quantity. This may be due to the data we have being during the 3 point shooting era as even though the numbers have increased year upon year the overall numbers are still pretty close compared to where they were even 10 years ago. "
   ]
  },
  {
   "cell_type": "code",
   "execution_count": null,
   "metadata": {},
   "outputs": [],
   "source": []
  },
  {
   "cell_type": "code",
   "execution_count": null,
   "metadata": {},
   "outputs": [],
   "source": []
  }
 ],
 "metadata": {
  "kernelspec": {
   "display_name": "Python 3",
   "language": "python",
   "name": "python3"
  },
  "language_info": {
   "codemirror_mode": {
    "name": "ipython",
    "version": 3
   },
   "file_extension": ".py",
   "mimetype": "text/x-python",
   "name": "python",
   "nbconvert_exporter": "python",
   "pygments_lexer": "ipython3",
   "version": "3.7.6"
  }
 },
 "nbformat": 4,
 "nbformat_minor": 4
}
