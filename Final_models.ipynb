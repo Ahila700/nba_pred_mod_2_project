{
 "cells": [
  {
   "cell_type": "code",
   "execution_count": 2,
   "metadata": {},
   "outputs": [],
   "source": [
    "import pandas as pd\n",
    "import numpy as np\n",
    "\n",
    "import statsmodels.api as sm\n",
    "from statsmodels.formula.api import ols\n",
    "from statsmodels.stats.outliers_influence import variance_inflation_factor\n",
    "\n",
    "from matplotlib import pyplot as plt\n",
    "\n",
    "from sklearn import linear_model\n",
    "from sklearn.linear_model import LinearRegression\n",
    "\n",
    "from sklearn.model_selection import train_test_split\n",
    "from sklearn import metrics\n",
    "from sklearn.preprocessing import PolynomialFeatures\n",
    "from sklearn.preprocessing import StandardScaler\n",
    "\n",
    "import seaborn as sns\n",
    "\n",
    "import pickle"
   ]
  },
  {
   "cell_type": "code",
   "execution_count": 3,
   "metadata": {},
   "outputs": [],
   "source": [
    "nba_data = pd.read_csv('CSV_files/cleaned_nba_data.csv', index_col = 0)"
   ]
  },
  {
   "cell_type": "code",
   "execution_count": 5,
   "metadata": {
    "scrolled": false
   },
   "outputs": [
    {
     "data": {
      "text/plain": [
       "Index(['3P%', 'FT%', 'TRB', 'AST', 'STL', 'BLK', 'PF', 'PTS', 'TEAM', 'AGE',\n",
       "       'W', 'SOS', 'PACE', '3PAr', 'TS%', 'TOV%', 'ORB%', 'FT/FGA', 'D_eFG%',\n",
       "       'D_TOV%', 'DRB%', 'D_FT/FGA', 'SEASON'],\n",
       "      dtype='object')"
      ]
     },
     "execution_count": 5,
     "metadata": {},
     "output_type": "execute_result"
    }
   ],
   "source": [
    "nba_data.columns"
   ]
  },
  {
   "cell_type": "code",
   "execution_count": null,
   "metadata": {},
   "outputs": [],
   "source": []
  },
  {
   "cell_type": "code",
   "execution_count": null,
   "metadata": {},
   "outputs": [],
   "source": []
  },
  {
   "cell_type": "markdown",
   "metadata": {},
   "source": [
    "Applying all the interactions that were found to be the best from the multiple models"
   ]
  },
  {
   "cell_type": "code",
   "execution_count": 7,
   "metadata": {},
   "outputs": [],
   "source": [
    "nba_data['TS_Ast'] = [nba_data['TS%'][i]*nba_data['AST'][i] for i in range(len(nba_data['TS%']))]"
   ]
  },
  {
   "cell_type": "code",
   "execution_count": 8,
   "metadata": {},
   "outputs": [],
   "source": [
    "nba_data['TS_ORB'] = [nba_data['TS%'][i]*nba_data['ORB%'][i] for i in range(len(nba_data['TS%']))]"
   ]
  },
  {
   "cell_type": "code",
   "execution_count": 9,
   "metadata": {},
   "outputs": [],
   "source": [
    "nba_data['TS_Pts'] = [nba_data['TS%'][i]*nba_data['PTS'][i] for i in range(len(nba_data['TS%']))]"
   ]
  },
  {
   "cell_type": "code",
   "execution_count": null,
   "metadata": {},
   "outputs": [],
   "source": []
  },
  {
   "cell_type": "markdown",
   "metadata": {},
   "source": [
    "### Creating Target and Features"
   ]
  },
  {
   "cell_type": "code",
   "execution_count": 10,
   "metadata": {},
   "outputs": [],
   "source": [
    "X = nba_data['W']\n",
    "y = nba_data.drop(columns = ['W', 'TEAM', 'SEASON'])"
   ]
  },
  {
   "cell_type": "markdown",
   "metadata": {},
   "source": [
    "### Train Test Split"
   ]
  },
  {
   "cell_type": "code",
   "execution_count": 16,
   "metadata": {},
   "outputs": [],
   "source": [
    "X_train, X_test, y_train, y_test = train_test_split(X, y, random_state=23,test_size=0.2)  "
   ]
  },
  {
   "cell_type": "code",
   "execution_count": null,
   "metadata": {},
   "outputs": [],
   "source": []
  },
  {
   "cell_type": "code",
   "execution_count": null,
   "metadata": {},
   "outputs": [],
   "source": []
  },
  {
   "cell_type": "markdown",
   "metadata": {},
   "source": [
    "### Lasso Test \n",
    "\n",
    "#### Turned out to be the best type of model after comparing results in multiple scenarios"
   ]
  },
  {
   "cell_type": "code",
   "execution_count": 13,
   "metadata": {},
   "outputs": [],
   "source": [
    "from sklearn.linear_model import Lasso"
   ]
  },
  {
   "cell_type": "code",
   "execution_count": 22,
   "metadata": {},
   "outputs": [
    {
     "ename": "ValueError",
     "evalue": "Expected 2D array, got 1D array instead:\narray=[20. 48. 30. 29. 23. 57. 43. 48. 33. 45. 37. 22. 56. 40. 22. 49. 50. 32.\n 19. 39. 43. 23. 60. 24. 29. 22. 21. 52. 37. 33. 36. 48. 31. 32. 47. 36.\n 26. 49. 51. 20. 41. 25. 62. 43. 39. 27. 43. 62. 57. 17. 34. 40. 51. 23.\n 25. 47. 47. 41. 59. 51. 36. 38. 39. 43. 17. 24. 48. 25. 38. 21. 37. 45.\n 41. 41. 18. 56. 41. 55. 40. 35. 57. 58. 58. 56. 48. 19. 32. 19. 33. 57.\n 23. 21. 50. 31. 50. 53. 27. 56. 51. 67. 44. 42. 53. 29. 44. 46. 25. 32.\n 46. 28. 37. 28. 26. 45. 44. 34. 10. 53. 49. 41. 43. 48. 27. 21. 50. 42.\n 34. 22. 54. 42. 49. 20. 48. 51. 27. 24. 29. 49. 56. 33. 40. 41. 44. 48.\n 15. 44. 54. 40. 34. 29. 27. 19. 38. 41. 42. 39. 29. 51. 55. 73. 39. 46.\n 51. 45. 50. 32. 41. 20. 52. 39. 44. 46.  7. 36. 53. 46. 28. 19. 33. 37.\n 36. 22. 17. 48. 34. 37. 29. 40. 30. 35. 55. 41. 50. 58. 41. 47. 31. 42.\n 40. 59. 49. 67. 42. 21. 24. 47. 29. 30. 50. 55. 38. 35. 54. 53. 61. 45.\n 33. 28. 36.].\nReshape your data either using array.reshape(-1, 1) if your data has a single feature or array.reshape(1, -1) if it contains a single sample.",
     "output_type": "error",
     "traceback": [
      "\u001b[0;31m---------------------------------------------------------------------------\u001b[0m",
      "\u001b[0;31mValueError\u001b[0m                                Traceback (most recent call last)",
      "\u001b[0;32m<ipython-input-22-f12b5c9aa61e>\u001b[0m in \u001b[0;36m<module>\u001b[0;34m\u001b[0m\n\u001b[1;32m      1\u001b[0m \u001b[0mlasso\u001b[0m \u001b[0;34m=\u001b[0m \u001b[0mLasso\u001b[0m\u001b[0;34m(\u001b[0m\u001b[0;34m)\u001b[0m\u001b[0;34m\u001b[0m\u001b[0;34m\u001b[0m\u001b[0m\n\u001b[1;32m      2\u001b[0m \u001b[0;34m\u001b[0m\u001b[0m\n\u001b[0;32m----> 3\u001b[0;31m \u001b[0mlasso\u001b[0m\u001b[0;34m.\u001b[0m\u001b[0mfit\u001b[0m\u001b[0;34m(\u001b[0m\u001b[0mX_train\u001b[0m\u001b[0;34m,\u001b[0m \u001b[0my_train\u001b[0m\u001b[0;34m)\u001b[0m\u001b[0;34m\u001b[0m\u001b[0;34m\u001b[0m\u001b[0m\n\u001b[0m\u001b[1;32m      4\u001b[0m \u001b[0;34m\u001b[0m\u001b[0m\n\u001b[1;32m      5\u001b[0m \u001b[0mlasso_pred\u001b[0m \u001b[0;34m=\u001b[0m \u001b[0mlasso\u001b[0m\u001b[0;34m.\u001b[0m\u001b[0mpredict\u001b[0m\u001b[0;34m(\u001b[0m\u001b[0mX_test\u001b[0m\u001b[0;34m)\u001b[0m\u001b[0;34m\u001b[0m\u001b[0;34m\u001b[0m\u001b[0m\n",
      "\u001b[0;32m~/opt/anaconda3/lib/python3.7/site-packages/sklearn/linear_model/_coordinate_descent.py\u001b[0m in \u001b[0;36mfit\u001b[0;34m(self, X, y, sample_weight, check_input)\u001b[0m\n\u001b[1;32m    761\u001b[0m                                        \u001b[0mdtype\u001b[0m\u001b[0;34m=\u001b[0m\u001b[0;34m[\u001b[0m\u001b[0mnp\u001b[0m\u001b[0;34m.\u001b[0m\u001b[0mfloat64\u001b[0m\u001b[0;34m,\u001b[0m \u001b[0mnp\u001b[0m\u001b[0;34m.\u001b[0m\u001b[0mfloat32\u001b[0m\u001b[0;34m]\u001b[0m\u001b[0;34m,\u001b[0m\u001b[0;34m\u001b[0m\u001b[0;34m\u001b[0m\u001b[0m\n\u001b[1;32m    762\u001b[0m                                        \u001b[0mcopy\u001b[0m\u001b[0;34m=\u001b[0m\u001b[0mX_copied\u001b[0m\u001b[0;34m,\u001b[0m \u001b[0mmulti_output\u001b[0m\u001b[0;34m=\u001b[0m\u001b[0;32mTrue\u001b[0m\u001b[0;34m,\u001b[0m\u001b[0;34m\u001b[0m\u001b[0;34m\u001b[0m\u001b[0m\n\u001b[0;32m--> 763\u001b[0;31m                                        y_numeric=True)\n\u001b[0m\u001b[1;32m    764\u001b[0m             y = check_array(y, order='F', copy=False, dtype=X.dtype.type,\n\u001b[1;32m    765\u001b[0m                             ensure_2d=False)\n",
      "\u001b[0;32m~/opt/anaconda3/lib/python3.7/site-packages/sklearn/base.py\u001b[0m in \u001b[0;36m_validate_data\u001b[0;34m(self, X, y, reset, validate_separately, **check_params)\u001b[0m\n\u001b[1;32m    430\u001b[0m                 \u001b[0my\u001b[0m \u001b[0;34m=\u001b[0m \u001b[0mcheck_array\u001b[0m\u001b[0;34m(\u001b[0m\u001b[0my\u001b[0m\u001b[0;34m,\u001b[0m \u001b[0;34m**\u001b[0m\u001b[0mcheck_y_params\u001b[0m\u001b[0;34m)\u001b[0m\u001b[0;34m\u001b[0m\u001b[0;34m\u001b[0m\u001b[0m\n\u001b[1;32m    431\u001b[0m             \u001b[0;32melse\u001b[0m\u001b[0;34m:\u001b[0m\u001b[0;34m\u001b[0m\u001b[0;34m\u001b[0m\u001b[0m\n\u001b[0;32m--> 432\u001b[0;31m                 \u001b[0mX\u001b[0m\u001b[0;34m,\u001b[0m \u001b[0my\u001b[0m \u001b[0;34m=\u001b[0m \u001b[0mcheck_X_y\u001b[0m\u001b[0;34m(\u001b[0m\u001b[0mX\u001b[0m\u001b[0;34m,\u001b[0m \u001b[0my\u001b[0m\u001b[0;34m,\u001b[0m \u001b[0;34m**\u001b[0m\u001b[0mcheck_params\u001b[0m\u001b[0;34m)\u001b[0m\u001b[0;34m\u001b[0m\u001b[0;34m\u001b[0m\u001b[0m\n\u001b[0m\u001b[1;32m    433\u001b[0m             \u001b[0mout\u001b[0m \u001b[0;34m=\u001b[0m \u001b[0mX\u001b[0m\u001b[0;34m,\u001b[0m \u001b[0my\u001b[0m\u001b[0;34m\u001b[0m\u001b[0;34m\u001b[0m\u001b[0m\n\u001b[1;32m    434\u001b[0m \u001b[0;34m\u001b[0m\u001b[0m\n",
      "\u001b[0;32m~/opt/anaconda3/lib/python3.7/site-packages/sklearn/utils/validation.py\u001b[0m in \u001b[0;36minner_f\u001b[0;34m(*args, **kwargs)\u001b[0m\n\u001b[1;32m     71\u001b[0m                           FutureWarning)\n\u001b[1;32m     72\u001b[0m         \u001b[0mkwargs\u001b[0m\u001b[0;34m.\u001b[0m\u001b[0mupdate\u001b[0m\u001b[0;34m(\u001b[0m\u001b[0;34m{\u001b[0m\u001b[0mk\u001b[0m\u001b[0;34m:\u001b[0m \u001b[0marg\u001b[0m \u001b[0;32mfor\u001b[0m \u001b[0mk\u001b[0m\u001b[0;34m,\u001b[0m \u001b[0marg\u001b[0m \u001b[0;32min\u001b[0m \u001b[0mzip\u001b[0m\u001b[0;34m(\u001b[0m\u001b[0msig\u001b[0m\u001b[0;34m.\u001b[0m\u001b[0mparameters\u001b[0m\u001b[0;34m,\u001b[0m \u001b[0margs\u001b[0m\u001b[0;34m)\u001b[0m\u001b[0;34m}\u001b[0m\u001b[0;34m)\u001b[0m\u001b[0;34m\u001b[0m\u001b[0;34m\u001b[0m\u001b[0m\n\u001b[0;32m---> 73\u001b[0;31m         \u001b[0;32mreturn\u001b[0m \u001b[0mf\u001b[0m\u001b[0;34m(\u001b[0m\u001b[0;34m**\u001b[0m\u001b[0mkwargs\u001b[0m\u001b[0;34m)\u001b[0m\u001b[0;34m\u001b[0m\u001b[0;34m\u001b[0m\u001b[0m\n\u001b[0m\u001b[1;32m     74\u001b[0m     \u001b[0;32mreturn\u001b[0m \u001b[0minner_f\u001b[0m\u001b[0;34m\u001b[0m\u001b[0;34m\u001b[0m\u001b[0m\n\u001b[1;32m     75\u001b[0m \u001b[0;34m\u001b[0m\u001b[0m\n",
      "\u001b[0;32m~/opt/anaconda3/lib/python3.7/site-packages/sklearn/utils/validation.py\u001b[0m in \u001b[0;36mcheck_X_y\u001b[0;34m(X, y, accept_sparse, accept_large_sparse, dtype, order, copy, force_all_finite, ensure_2d, allow_nd, multi_output, ensure_min_samples, ensure_min_features, y_numeric, estimator)\u001b[0m\n\u001b[1;32m    801\u001b[0m                     \u001b[0mensure_min_samples\u001b[0m\u001b[0;34m=\u001b[0m\u001b[0mensure_min_samples\u001b[0m\u001b[0;34m,\u001b[0m\u001b[0;34m\u001b[0m\u001b[0;34m\u001b[0m\u001b[0m\n\u001b[1;32m    802\u001b[0m                     \u001b[0mensure_min_features\u001b[0m\u001b[0;34m=\u001b[0m\u001b[0mensure_min_features\u001b[0m\u001b[0;34m,\u001b[0m\u001b[0;34m\u001b[0m\u001b[0;34m\u001b[0m\u001b[0m\n\u001b[0;32m--> 803\u001b[0;31m                     estimator=estimator)\n\u001b[0m\u001b[1;32m    804\u001b[0m     \u001b[0;32mif\u001b[0m \u001b[0mmulti_output\u001b[0m\u001b[0;34m:\u001b[0m\u001b[0;34m\u001b[0m\u001b[0;34m\u001b[0m\u001b[0m\n\u001b[1;32m    805\u001b[0m         y = check_array(y, accept_sparse='csr', force_all_finite=True,\n",
      "\u001b[0;32m~/opt/anaconda3/lib/python3.7/site-packages/sklearn/utils/validation.py\u001b[0m in \u001b[0;36minner_f\u001b[0;34m(*args, **kwargs)\u001b[0m\n\u001b[1;32m     71\u001b[0m                           FutureWarning)\n\u001b[1;32m     72\u001b[0m         \u001b[0mkwargs\u001b[0m\u001b[0;34m.\u001b[0m\u001b[0mupdate\u001b[0m\u001b[0;34m(\u001b[0m\u001b[0;34m{\u001b[0m\u001b[0mk\u001b[0m\u001b[0;34m:\u001b[0m \u001b[0marg\u001b[0m \u001b[0;32mfor\u001b[0m \u001b[0mk\u001b[0m\u001b[0;34m,\u001b[0m \u001b[0marg\u001b[0m \u001b[0;32min\u001b[0m \u001b[0mzip\u001b[0m\u001b[0;34m(\u001b[0m\u001b[0msig\u001b[0m\u001b[0;34m.\u001b[0m\u001b[0mparameters\u001b[0m\u001b[0;34m,\u001b[0m \u001b[0margs\u001b[0m\u001b[0;34m)\u001b[0m\u001b[0;34m}\u001b[0m\u001b[0;34m)\u001b[0m\u001b[0;34m\u001b[0m\u001b[0;34m\u001b[0m\u001b[0m\n\u001b[0;32m---> 73\u001b[0;31m         \u001b[0;32mreturn\u001b[0m \u001b[0mf\u001b[0m\u001b[0;34m(\u001b[0m\u001b[0;34m**\u001b[0m\u001b[0mkwargs\u001b[0m\u001b[0;34m)\u001b[0m\u001b[0;34m\u001b[0m\u001b[0;34m\u001b[0m\u001b[0m\n\u001b[0m\u001b[1;32m     74\u001b[0m     \u001b[0;32mreturn\u001b[0m \u001b[0minner_f\u001b[0m\u001b[0;34m\u001b[0m\u001b[0;34m\u001b[0m\u001b[0m\n\u001b[1;32m     75\u001b[0m \u001b[0;34m\u001b[0m\u001b[0m\n",
      "\u001b[0;32m~/opt/anaconda3/lib/python3.7/site-packages/sklearn/utils/validation.py\u001b[0m in \u001b[0;36mcheck_array\u001b[0;34m(array, accept_sparse, accept_large_sparse, dtype, order, copy, force_all_finite, ensure_2d, allow_nd, ensure_min_samples, ensure_min_features, estimator)\u001b[0m\n\u001b[1;32m    622\u001b[0m                     \u001b[0;34m\"Reshape your data either using array.reshape(-1, 1) if \"\u001b[0m\u001b[0;34m\u001b[0m\u001b[0;34m\u001b[0m\u001b[0m\n\u001b[1;32m    623\u001b[0m                     \u001b[0;34m\"your data has a single feature or array.reshape(1, -1) \"\u001b[0m\u001b[0;34m\u001b[0m\u001b[0;34m\u001b[0m\u001b[0m\n\u001b[0;32m--> 624\u001b[0;31m                     \"if it contains a single sample.\".format(array))\n\u001b[0m\u001b[1;32m    625\u001b[0m \u001b[0;34m\u001b[0m\u001b[0m\n\u001b[1;32m    626\u001b[0m         \u001b[0;31m# in the future np.flexible dtypes will be handled like object dtypes\u001b[0m\u001b[0;34m\u001b[0m\u001b[0;34m\u001b[0m\u001b[0;34m\u001b[0m\u001b[0m\n",
      "\u001b[0;31mValueError\u001b[0m: Expected 2D array, got 1D array instead:\narray=[20. 48. 30. 29. 23. 57. 43. 48. 33. 45. 37. 22. 56. 40. 22. 49. 50. 32.\n 19. 39. 43. 23. 60. 24. 29. 22. 21. 52. 37. 33. 36. 48. 31. 32. 47. 36.\n 26. 49. 51. 20. 41. 25. 62. 43. 39. 27. 43. 62. 57. 17. 34. 40. 51. 23.\n 25. 47. 47. 41. 59. 51. 36. 38. 39. 43. 17. 24. 48. 25. 38. 21. 37. 45.\n 41. 41. 18. 56. 41. 55. 40. 35. 57. 58. 58. 56. 48. 19. 32. 19. 33. 57.\n 23. 21. 50. 31. 50. 53. 27. 56. 51. 67. 44. 42. 53. 29. 44. 46. 25. 32.\n 46. 28. 37. 28. 26. 45. 44. 34. 10. 53. 49. 41. 43. 48. 27. 21. 50. 42.\n 34. 22. 54. 42. 49. 20. 48. 51. 27. 24. 29. 49. 56. 33. 40. 41. 44. 48.\n 15. 44. 54. 40. 34. 29. 27. 19. 38. 41. 42. 39. 29. 51. 55. 73. 39. 46.\n 51. 45. 50. 32. 41. 20. 52. 39. 44. 46.  7. 36. 53. 46. 28. 19. 33. 37.\n 36. 22. 17. 48. 34. 37. 29. 40. 30. 35. 55. 41. 50. 58. 41. 47. 31. 42.\n 40. 59. 49. 67. 42. 21. 24. 47. 29. 30. 50. 55. 38. 35. 54. 53. 61. 45.\n 33. 28. 36.].\nReshape your data either using array.reshape(-1, 1) if your data has a single feature or array.reshape(1, -1) if it contains a single sample."
     ]
    }
   ],
   "source": [
    "lasso = Lasso()\n",
    "\n",
    "lasso.fit(X_train, y_train)\n",
    "\n",
    "lasso_pred = lasso.predict(X_test)\n",
    "\n",
    "test_rmse = np.sqrt(metrics.mean_squared_error(y_test, lasso_pred))\n",
    "\n",
    "print('Testing Error: '+ str(test_rmse))"
   ]
  },
  {
   "cell_type": "code",
   "execution_count": null,
   "metadata": {},
   "outputs": [],
   "source": []
  },
  {
   "cell_type": "markdown",
   "metadata": {},
   "source": [
    "Viewing Lasso data as a graph"
   ]
  },
  {
   "cell_type": "code",
   "execution_count": 51,
   "metadata": {},
   "outputs": [
    {
     "data": {
      "text/plain": [
       "<matplotlib.axes._subplots.AxesSubplot at 0x1a20517750>"
      ]
     },
     "execution_count": 51,
     "metadata": {},
     "output_type": "execute_result"
    },
    {
     "data": {
      "image/png": "[encoded data removed]",
      "text/plain": [
       "<Figure size 1152x576 with 1 Axes>"
      ]
     },
     "metadata": {},
     "output_type": "display_data"
    }
   ],
   "source": [
    "lasso_coef01 = pd.DataFrame(data=lasso.coef_).T\n",
    "lasso_coef01.columns = X_train.columns\n",
    "lasso_coef01 = lasso_coef01.T.sort_values(by=0).T\n",
    "lasso_coef01.plot(kind='bar', title='Modal Coefficients', legend=True, figsize=(16,8))"
   ]
  },
  {
   "cell_type": "code",
   "execution_count": 52,
   "metadata": {},
   "outputs": [
    {
     "data": {
      "text/html": [
       "<div>\n",
       "<style scoped>\n",
       "    .dataframe tbody tr th:only-of-type {\n",
       "        vertical-align: middle;\n",
       "    }\n",
       "\n",
       "    .dataframe tbody tr th {\n",
       "        vertical-align: top;\n",
       "    }\n",
       "\n",
       "    .dataframe thead th {\n",
       "        text-align: right;\n",
       "    }\n",
       "</style>\n",
       "<table border=\"1\" class=\"dataframe\">\n",
       "  <thead>\n",
       "    <tr style=\"text-align: right;\">\n",
       "      <th></th>\n",
       "      <th>0</th>\n",
       "    </tr>\n",
       "  </thead>\n",
       "  <tbody>\n",
       "    <tr>\n",
       "      <th>Defensive Field Goal %</th>\n",
       "      <td>-6.792426</td>\n",
       "    </tr>\n",
       "    <tr>\n",
       "      <th>Turnover %</th>\n",
       "      <td>-2.918656</td>\n",
       "    </tr>\n",
       "    <tr>\n",
       "      <th>True Shooting x Assists</th>\n",
       "      <td>-0.557037</td>\n",
       "    </tr>\n",
       "    <tr>\n",
       "      <th>Block %</th>\n",
       "      <td>-0.345137</td>\n",
       "    </tr>\n",
       "    <tr>\n",
       "      <th>Age</th>\n",
       "      <td>1.485445</td>\n",
       "    </tr>\n",
       "    <tr>\n",
       "      <th>True Shooting x Points</th>\n",
       "      <td>1.650155</td>\n",
       "    </tr>\n",
       "    <tr>\n",
       "      <th>Defensive Rebound %</th>\n",
       "      <td>2.305082</td>\n",
       "    </tr>\n",
       "    <tr>\n",
       "      <th>True Shooting x Offensive Rebounds</th>\n",
       "      <td>2.611391</td>\n",
       "    </tr>\n",
       "    <tr>\n",
       "      <th>Steal %</th>\n",
       "      <td>2.966013</td>\n",
       "    </tr>\n",
       "    <tr>\n",
       "      <th>True Shooting %</th>\n",
       "      <td>5.455595</td>\n",
       "    </tr>\n",
       "  </tbody>\n",
       "</table>\n",
       "</div>"
      ],
      "text/plain": [
       "                                           0\n",
       "Defensive Field Goal %             -6.792426\n",
       "Turnover %                         -2.918656\n",
       "True Shooting x Assists            -0.557037\n",
       "Block %                            -0.345137\n",
       "Age                                 1.485445\n",
       "True Shooting x Points              1.650155\n",
       "Defensive Rebound %                 2.305082\n",
       "True Shooting x Offensive Rebounds  2.611391\n",
       "Steal %                             2.966013\n",
       "True Shooting %                     5.455595"
      ]
     },
     "execution_count": 52,
     "metadata": {},
     "output_type": "execute_result"
    }
   ],
   "source": [
    "lasso_coef01.T"
   ]
  },
  {
   "cell_type": "code",
   "execution_count": null,
   "metadata": {},
   "outputs": [],
   "source": []
  },
  {
   "cell_type": "code",
   "execution_count": 53,
   "metadata": {},
   "outputs": [],
   "source": [
    "import seaborn as sns\n",
    "sns.set(context='paper', style='darkgrid', rc={'figure.facecolor':'white'}, font_scale=1.2)\n"
   ]
  },
  {
   "cell_type": "code",
   "execution_count": 54,
   "metadata": {},
   "outputs": [
    {
     "data": {
      "text/plain": [
       "<matplotlib.axes._subplots.AxesSubplot at 0x1a21d78390>"
      ]
     },
     "execution_count": 54,
     "metadata": {},
     "output_type": "execute_result"
    },
    {
     "data": {
      "image/png": "[encoded data removed]",
      "text/plain": [
       "<Figure size 432x288 with 1 Axes>"
      ]
     },
     "metadata": {},
     "output_type": "display_data"
    }
   ],
   "source": [
    "sns.residplot(y_train, y_train_pred_lasso,lowess=True, color=\"g\")"
   ]
  },
  {
   "cell_type": "code",
   "execution_count": null,
   "metadata": {},
   "outputs": [],
   "source": []
  },
  {
   "cell_type": "code",
   "execution_count": null,
   "metadata": {},
   "outputs": [],
   "source": []
  },
  {
   "cell_type": "code",
   "execution_count": null,
   "metadata": {},
   "outputs": [],
   "source": []
  },
  {
   "cell_type": "markdown",
   "metadata": {},
   "source": [
    "Final Check of Collinearity of the Data"
   ]
  },
  {
   "cell_type": "code",
   "execution_count": 55,
   "metadata": {},
   "outputs": [],
   "source": [
    "from statsmodels.stats.outliers_influence import variance_inflation_factor"
   ]
  },
  {
   "cell_type": "code",
   "execution_count": 56,
   "metadata": {},
   "outputs": [
    {
     "data": {
      "text/html": [
       "<div>\n",
       "<style scoped>\n",
       "    .dataframe tbody tr th:only-of-type {\n",
       "        vertical-align: middle;\n",
       "    }\n",
       "\n",
       "    .dataframe tbody tr th {\n",
       "        vertical-align: top;\n",
       "    }\n",
       "\n",
       "    .dataframe thead th {\n",
       "        text-align: right;\n",
       "    }\n",
       "</style>\n",
       "<table border=\"1\" class=\"dataframe\">\n",
       "  <thead>\n",
       "    <tr style=\"text-align: right;\">\n",
       "      <th></th>\n",
       "      <th>VIF Factor</th>\n",
       "      <th>features</th>\n",
       "    </tr>\n",
       "  </thead>\n",
       "  <tbody>\n",
       "    <tr>\n",
       "      <th>0</th>\n",
       "      <td>1.62581</td>\n",
       "      <td>Age</td>\n",
       "    </tr>\n",
       "    <tr>\n",
       "      <th>1</th>\n",
       "      <td>1.38400</td>\n",
       "      <td>Turnover %</td>\n",
       "    </tr>\n",
       "    <tr>\n",
       "      <th>2</th>\n",
       "      <td>1.34919</td>\n",
       "      <td>Defensive Field Goal %</td>\n",
       "    </tr>\n",
       "    <tr>\n",
       "      <th>3</th>\n",
       "      <td>1.48854</td>\n",
       "      <td>Defensive Rebound %</td>\n",
       "    </tr>\n",
       "    <tr>\n",
       "      <th>4</th>\n",
       "      <td>3.27342</td>\n",
       "      <td>True Shooting %</td>\n",
       "    </tr>\n",
       "    <tr>\n",
       "      <th>5</th>\n",
       "      <td>1.43523</td>\n",
       "      <td>Steal %</td>\n",
       "    </tr>\n",
       "    <tr>\n",
       "      <th>6</th>\n",
       "      <td>1.25401</td>\n",
       "      <td>Block %</td>\n",
       "    </tr>\n",
       "    <tr>\n",
       "      <th>7</th>\n",
       "      <td>1.51775</td>\n",
       "      <td>True Shooting x Assists</td>\n",
       "    </tr>\n",
       "    <tr>\n",
       "      <th>8</th>\n",
       "      <td>1.36847</td>\n",
       "      <td>True Shooting x Offensive Rebounds</td>\n",
       "    </tr>\n",
       "    <tr>\n",
       "      <th>9</th>\n",
       "      <td>2.65602</td>\n",
       "      <td>True Shooting x Points</td>\n",
       "    </tr>\n",
       "  </tbody>\n",
       "</table>\n",
       "</div>"
      ],
      "text/plain": [
       "   VIF Factor                            features\n",
       "0     1.62581                                 Age\n",
       "1     1.38400                          Turnover %\n",
       "2     1.34919              Defensive Field Goal %\n",
       "3     1.48854                 Defensive Rebound %\n",
       "4     3.27342                     True Shooting %\n",
       "5     1.43523                             Steal %\n",
       "6     1.25401                             Block %\n",
       "7     1.51775             True Shooting x Assists\n",
       "8     1.36847  True Shooting x Offensive Rebounds\n",
       "9     2.65602              True Shooting x Points"
      ]
     },
     "execution_count": 56,
     "metadata": {},
     "output_type": "execute_result"
    }
   ],
   "source": [
    "vif = pd.DataFrame()\n",
    "vif[\"VIF Factor\"] = [variance_inflation_factor(X_train.values, i) for i in range(X_train.shape[1])]\n",
    "vif[\"features\"] = X_train.columns\n",
    "vif.round(5)"
   ]
  },
  {
   "cell_type": "code",
   "execution_count": null,
   "metadata": {},
   "outputs": [],
   "source": []
  },
  {
   "cell_type": "markdown",
   "metadata": {},
   "source": [
    "Checking *R^2* Value"
   ]
  },
  {
   "cell_type": "code",
   "execution_count": 26,
   "metadata": {},
   "outputs": [],
   "source": [
    "X_endog = sm.add_constant(X_test)"
   ]
  },
  {
   "cell_type": "code",
   "execution_count": 27,
   "metadata": {},
   "outputs": [],
   "source": [
    "res = sm.OLS(list(y_test), X_endog)"
   ]
  },
  {
   "cell_type": "code",
   "execution_count": 28,
   "metadata": {
    "scrolled": true
   },
   "outputs": [
    {
     "data": {
      "text/html": [
       "<table class=\"simpletable\">\n",
       "<caption>OLS Regression Results</caption>\n",
       "<tr>\n",
       "  <th>Dep. Variable:</th>            <td>y</td>        <th>  R-squared:         </th> <td>   0.903</td>\n",
       "</tr>\n",
       "<tr>\n",
       "  <th>Model:</th>                   <td>OLS</td>       <th>  Adj. R-squared:    </th> <td>   0.869</td>\n",
       "</tr>\n",
       "<tr>\n",
       "  <th>Method:</th>             <td>Least Squares</td>  <th>  F-statistic:       </th> <td>   26.83</td>\n",
       "</tr>\n",
       "<tr>\n",
       "  <th>Date:</th>             <td>Thu, 07 May 2020</td> <th>  Prob (F-statistic):</th> <td>5.89e-11</td>\n",
       "</tr>\n",
       "<tr>\n",
       "  <th>Time:</th>                 <td>17:37:04</td>     <th>  Log-Likelihood:    </th> <td> -103.48</td>\n",
       "</tr>\n",
       "<tr>\n",
       "  <th>No. Observations:</th>      <td>    36</td>      <th>  AIC:               </th> <td>   227.0</td>\n",
       "</tr>\n",
       "<tr>\n",
       "  <th>Df Residuals:</th>          <td>    26</td>      <th>  BIC:               </th> <td>   242.8</td>\n",
       "</tr>\n",
       "<tr>\n",
       "  <th>Df Model:</th>              <td>     9</td>      <th>                     </th>     <td> </td>   \n",
       "</tr>\n",
       "<tr>\n",
       "  <th>Covariance Type:</th>      <td>nonrobust</td>    <th>                     </th>     <td> </td>   \n",
       "</tr>\n",
       "</table>\n",
       "<table class=\"simpletable\">\n",
       "<tr>\n",
       "                   <td></td>                     <th>coef</th>     <th>std err</th>      <th>t</th>      <th>P>|t|</th>  <th>[0.025</th>    <th>0.975]</th>  \n",
       "</tr>\n",
       "<tr>\n",
       "  <th>const</th>                              <td>   41.5133</td> <td>    0.966</td> <td>   42.982</td> <td> 0.000</td> <td>   39.528</td> <td>   43.499</td>\n",
       "</tr>\n",
       "<tr>\n",
       "  <th>Age</th>                                <td>    0.3714</td> <td>    1.532</td> <td>    0.242</td> <td> 0.810</td> <td>   -2.778</td> <td>    3.520</td>\n",
       "</tr>\n",
       "<tr>\n",
       "  <th>Turnover %</th>                         <td>   -4.7889</td> <td>    1.355</td> <td>   -3.534</td> <td> 0.002</td> <td>   -7.574</td> <td>   -2.003</td>\n",
       "</tr>\n",
       "<tr>\n",
       "  <th>Defensive Field Goal %</th>             <td>  -11.7955</td> <td>    1.568</td> <td>   -7.523</td> <td> 0.000</td> <td>  -15.018</td> <td>   -8.573</td>\n",
       "</tr>\n",
       "<tr>\n",
       "  <th>True Shooting %</th>                    <td>    4.5789</td> <td>    1.618</td> <td>    2.830</td> <td> 0.009</td> <td>    1.253</td> <td>    7.905</td>\n",
       "</tr>\n",
       "<tr>\n",
       "  <th>Steal %</th>                            <td>    1.8934</td> <td>    0.918</td> <td>    2.062</td> <td> 0.049</td> <td>    0.006</td> <td>    3.781</td>\n",
       "</tr>\n",
       "<tr>\n",
       "  <th>Block %</th>                            <td>   -2.1825</td> <td>    0.860</td> <td>   -2.538</td> <td> 0.018</td> <td>   -3.951</td> <td>   -0.415</td>\n",
       "</tr>\n",
       "<tr>\n",
       "  <th>True Shooting x Assists</th>            <td>    0.6418</td> <td>    1.118</td> <td>    0.574</td> <td> 0.571</td> <td>   -1.657</td> <td>    2.941</td>\n",
       "</tr>\n",
       "<tr>\n",
       "  <th>True Shooting x Offensive Rebounds</th> <td>    1.6884</td> <td>    0.909</td> <td>    1.857</td> <td> 0.075</td> <td>   -0.180</td> <td>    3.557</td>\n",
       "</tr>\n",
       "<tr>\n",
       "  <th>True Shooting x Points</th>             <td>    2.0667</td> <td>    1.360</td> <td>    1.520</td> <td> 0.141</td> <td>   -0.728</td> <td>    4.861</td>\n",
       "</tr>\n",
       "</table>\n",
       "<table class=\"simpletable\">\n",
       "<tr>\n",
       "  <th>Omnibus:</th>       <td> 0.339</td> <th>  Durbin-Watson:     </th> <td>   2.144</td>\n",
       "</tr>\n",
       "<tr>\n",
       "  <th>Prob(Omnibus):</th> <td> 0.844</td> <th>  Jarque-Bera (JB):  </th> <td>   0.023</td>\n",
       "</tr>\n",
       "<tr>\n",
       "  <th>Skew:</th>          <td> 0.055</td> <th>  Prob(JB):          </th> <td>   0.988</td>\n",
       "</tr>\n",
       "<tr>\n",
       "  <th>Kurtosis:</th>      <td> 3.058</td> <th>  Cond. No.          </th> <td>    4.68</td>\n",
       "</tr>\n",
       "</table><br/><br/>Warnings:<br/>[1] Standard Errors assume that the covariance matrix of the errors is correctly specified."
      ],
      "text/plain": [
       "<class 'statsmodels.iolib.summary.Summary'>\n",
       "\"\"\"\n",
       "                            OLS Regression Results                            \n",
       "==============================================================================\n",
       "Dep. Variable:                      y   R-squared:                       0.903\n",
       "Model:                            OLS   Adj. R-squared:                  0.869\n",
       "Method:                 Least Squares   F-statistic:                     26.83\n",
       "Date:                Thu, 07 May 2020   Prob (F-statistic):           5.89e-11\n",
       "Time:                        17:37:04   Log-Likelihood:                -103.48\n",
       "No. Observations:                  36   AIC:                             227.0\n",
       "Df Residuals:                      26   BIC:                             242.8\n",
       "Df Model:                           9                                         \n",
       "Covariance Type:            nonrobust                                         \n",
       "======================================================================================================\n",
       "                                         coef    std err          t      P>|t|      [0.025      0.975]\n",
       "------------------------------------------------------------------------------------------------------\n",
       "const                                 41.5133      0.966     42.982      0.000      39.528      43.499\n",
       "Age                                    0.3714      1.532      0.242      0.810      -2.778       3.520\n",
       "Turnover %                            -4.7889      1.355     -3.534      0.002      -7.574      -2.003\n",
       "Defensive Field Goal %               -11.7955      1.568     -7.523      0.000     -15.018      -8.573\n",
       "True Shooting %                        4.5789      1.618      2.830      0.009       1.253       7.905\n",
       "Steal %                                1.8934      0.918      2.062      0.049       0.006       3.781\n",
       "Block %                               -2.1825      0.860     -2.538      0.018      -3.951      -0.415\n",
       "True Shooting x Assists                0.6418      1.118      0.574      0.571      -1.657       2.941\n",
       "True Shooting x Offensive Rebounds     1.6884      0.909      1.857      0.075      -0.180       3.557\n",
       "True Shooting x Points                 2.0667      1.360      1.520      0.141      -0.728       4.861\n",
       "==============================================================================\n",
       "Omnibus:                        0.339   Durbin-Watson:                   2.144\n",
       "Prob(Omnibus):                  0.844   Jarque-Bera (JB):                0.023\n",
       "Skew:                           0.055   Prob(JB):                        0.988\n",
       "Kurtosis:                       3.058   Cond. No.                         4.68\n",
       "==============================================================================\n",
       "\n",
       "Warnings:\n",
       "[1] Standard Errors assume that the covariance matrix of the errors is correctly specified.\n",
       "\"\"\""
      ]
     },
     "execution_count": 28,
     "metadata": {},
     "output_type": "execute_result"
    }
   ],
   "source": [
    "res.fit().summary()"
   ]
  },
  {
   "cell_type": "code",
   "execution_count": null,
   "metadata": {},
   "outputs": [],
   "source": []
  },
  {
   "cell_type": "code",
   "execution_count": 57,
   "metadata": {},
   "outputs": [],
   "source": [
    "from sklearn.linear_model import LinearRegression\n",
    "from sklearn.model_selection import cross_val_score\n",
    "from sklearn.model_selection import KFold"
   ]
  },
  {
   "cell_type": "code",
   "execution_count": 58,
   "metadata": {},
   "outputs": [
    {
     "data": {
      "text/plain": [
       "0.8341412117399747"
      ]
     },
     "execution_count": 58,
     "metadata": {},
     "output_type": "execute_result"
    }
   ],
   "source": [
    "X = nba_data[features_list]\n",
    "y = nba_data['Wins']\n",
    "crossvalidation = KFold(n_splits=10, shuffle=True, random_state=1)\n",
    "baseline = np.mean(cross_val_score(lasso, X, y, scoring='r2', cv=crossvalidation))\n",
    "baseline"
   ]
  },
  {
   "cell_type": "code",
   "execution_count": 59,
   "metadata": {},
   "outputs": [
    {
     "data": {
      "text/html": [
       "<div>\n",
       "<style scoped>\n",
       "    .dataframe tbody tr th:only-of-type {\n",
       "        vertical-align: middle;\n",
       "    }\n",
       "\n",
       "    .dataframe tbody tr th {\n",
       "        vertical-align: top;\n",
       "    }\n",
       "\n",
       "    .dataframe thead th {\n",
       "        text-align: right;\n",
       "    }\n",
       "</style>\n",
       "<table border=\"1\" class=\"dataframe\">\n",
       "  <thead>\n",
       "    <tr style=\"text-align: right;\">\n",
       "      <th></th>\n",
       "      <th>Age</th>\n",
       "      <th>Turnover %</th>\n",
       "      <th>Defensive Field Goal %</th>\n",
       "      <th>Defensive Rebound %</th>\n",
       "      <th>True Shooting %</th>\n",
       "      <th>Steal %</th>\n",
       "      <th>Block %</th>\n",
       "      <th>True Shooting x Assists</th>\n",
       "      <th>True Shooting x Offensive Rebounds</th>\n",
       "      <th>True Shooting x Points</th>\n",
       "    </tr>\n",
       "  </thead>\n",
       "  <tbody>\n",
       "    <tr>\n",
       "      <th>count</th>\n",
       "      <td>1.440000e+02</td>\n",
       "      <td>1.440000e+02</td>\n",
       "      <td>1.440000e+02</td>\n",
       "      <td>1.440000e+02</td>\n",
       "      <td>1.440000e+02</td>\n",
       "      <td>1.440000e+02</td>\n",
       "      <td>1.440000e+02</td>\n",
       "      <td>1.440000e+02</td>\n",
       "      <td>1.440000e+02</td>\n",
       "      <td>1.440000e+02</td>\n",
       "    </tr>\n",
       "    <tr>\n",
       "      <th>mean</th>\n",
       "      <td>-3.083953e-18</td>\n",
       "      <td>1.412450e-15</td>\n",
       "      <td>-6.662880e-15</td>\n",
       "      <td>7.377972e-15</td>\n",
       "      <td>-1.630640e-15</td>\n",
       "      <td>1.105597e-15</td>\n",
       "      <td>7.201030e-16</td>\n",
       "      <td>4.841806e-16</td>\n",
       "      <td>-6.603514e-16</td>\n",
       "      <td>4.132497e-16</td>\n",
       "    </tr>\n",
       "    <tr>\n",
       "      <th>std</th>\n",
       "      <td>1.003490e+00</td>\n",
       "      <td>1.003490e+00</td>\n",
       "      <td>1.003490e+00</td>\n",
       "      <td>1.003490e+00</td>\n",
       "      <td>1.003490e+00</td>\n",
       "      <td>1.003490e+00</td>\n",
       "      <td>1.003490e+00</td>\n",
       "      <td>1.003490e+00</td>\n",
       "      <td>1.003490e+00</td>\n",
       "      <td>1.003490e+00</td>\n",
       "    </tr>\n",
       "    <tr>\n",
       "      <th>min</th>\n",
       "      <td>-2.030664e+00</td>\n",
       "      <td>-2.335107e+00</td>\n",
       "      <td>-2.707249e+00</td>\n",
       "      <td>-2.604408e+00</td>\n",
       "      <td>-2.647401e+00</td>\n",
       "      <td>-2.268549e+00</td>\n",
       "      <td>-2.495899e+00</td>\n",
       "      <td>-2.053273e+00</td>\n",
       "      <td>-2.272389e+00</td>\n",
       "      <td>-1.996727e+00</td>\n",
       "    </tr>\n",
       "    <tr>\n",
       "      <th>25%</th>\n",
       "      <td>-6.352709e-01</td>\n",
       "      <td>-7.062586e-01</td>\n",
       "      <td>-7.210648e-01</td>\n",
       "      <td>-6.405518e-01</td>\n",
       "      <td>-6.250326e-01</td>\n",
       "      <td>-7.686433e-01</td>\n",
       "      <td>-7.683150e-01</td>\n",
       "      <td>-6.720118e-01</td>\n",
       "      <td>-7.397057e-01</td>\n",
       "      <td>-7.034396e-01</td>\n",
       "    </tr>\n",
       "    <tr>\n",
       "      <th>50%</th>\n",
       "      <td>-1.505555e-01</td>\n",
       "      <td>-4.453883e-02</td>\n",
       "      <td>-5.900317e-02</td>\n",
       "      <td>-1.063584e-02</td>\n",
       "      <td>-2.177685e-02</td>\n",
       "      <td>2.336302e-03</td>\n",
       "      <td>4.149001e-02</td>\n",
       "      <td>-9.265129e-02</td>\n",
       "      <td>2.236141e-02</td>\n",
       "      <td>-2.493630e-02</td>\n",
       "    </tr>\n",
       "    <tr>\n",
       "      <th>75%</th>\n",
       "      <td>5.691734e-01</td>\n",
       "      <td>7.444348e-01</td>\n",
       "      <td>7.271950e-01</td>\n",
       "      <td>6.563340e-01</td>\n",
       "      <td>6.691768e-01</td>\n",
       "      <td>7.592981e-01</td>\n",
       "      <td>7.523188e-01</td>\n",
       "      <td>5.835844e-01</td>\n",
       "      <td>7.537462e-01</td>\n",
       "      <td>6.475311e-01</td>\n",
       "    </tr>\n",
       "    <tr>\n",
       "      <th>max</th>\n",
       "      <td>2.317086e+00</td>\n",
       "      <td>3.060454e+00</td>\n",
       "      <td>3.030618e+00</td>\n",
       "      <td>2.434920e+00</td>\n",
       "      <td>2.269000e+00</td>\n",
       "      <td>2.665721e+00</td>\n",
       "      <td>2.470905e+00</td>\n",
       "      <td>3.222387e+00</td>\n",
       "      <td>3.275019e+00</td>\n",
       "      <td>3.362579e+00</td>\n",
       "    </tr>\n",
       "  </tbody>\n",
       "</table>\n",
       "</div>"
      ],
      "text/plain": [
       "                Age    Turnover %  Defensive Field Goal %  \\\n",
       "count  1.440000e+02  1.440000e+02            1.440000e+02   \n",
       "mean  -3.083953e-18  1.412450e-15           -6.662880e-15   \n",
       "std    1.003490e+00  1.003490e+00            1.003490e+00   \n",
       "min   -2.030664e+00 -2.335107e+00           -2.707249e+00   \n",
       "25%   -6.352709e-01 -7.062586e-01           -7.210648e-01   \n",
       "50%   -1.505555e-01 -4.453883e-02           -5.900317e-02   \n",
       "75%    5.691734e-01  7.444348e-01            7.271950e-01   \n",
       "max    2.317086e+00  3.060454e+00            3.030618e+00   \n",
       "\n",
       "       Defensive Rebound %  True Shooting %       Steal %       Block %  \\\n",
       "count         1.440000e+02     1.440000e+02  1.440000e+02  1.440000e+02   \n",
       "mean          7.377972e-15    -1.630640e-15  1.105597e-15  7.201030e-16   \n",
       "std           1.003490e+00     1.003490e+00  1.003490e+00  1.003490e+00   \n",
       "min          -2.604408e+00    -2.647401e+00 -2.268549e+00 -2.495899e+00   \n",
       "25%          -6.405518e-01    -6.250326e-01 -7.686433e-01 -7.683150e-01   \n",
       "50%          -1.063584e-02    -2.177685e-02  2.336302e-03  4.149001e-02   \n",
       "75%           6.563340e-01     6.691768e-01  7.592981e-01  7.523188e-01   \n",
       "max           2.434920e+00     2.269000e+00  2.665721e+00  2.470905e+00   \n",
       "\n",
       "       True Shooting x Assists  True Shooting x Offensive Rebounds  \\\n",
       "count             1.440000e+02                        1.440000e+02   \n",
       "mean              4.841806e-16                       -6.603514e-16   \n",
       "std               1.003490e+00                        1.003490e+00   \n",
       "min              -2.053273e+00                       -2.272389e+00   \n",
       "25%              -6.720118e-01                       -7.397057e-01   \n",
       "50%              -9.265129e-02                        2.236141e-02   \n",
       "75%               5.835844e-01                        7.537462e-01   \n",
       "max               3.222387e+00                        3.275019e+00   \n",
       "\n",
       "       True Shooting x Points  \n",
       "count            1.440000e+02  \n",
       "mean             4.132497e-16  \n",
       "std              1.003490e+00  \n",
       "min             -1.996727e+00  \n",
       "25%             -7.034396e-01  \n",
       "50%             -2.493630e-02  \n",
       "75%              6.475311e-01  \n",
       "max              3.362579e+00  "
      ]
     },
     "execution_count": 59,
     "metadata": {},
     "output_type": "execute_result"
    }
   ],
   "source": [
    "X_train.describe()"
   ]
  },
  {
   "cell_type": "code",
   "execution_count": 60,
   "metadata": {},
   "outputs": [
    {
     "data": {
      "text/html": [
       "<div>\n",
       "<style scoped>\n",
       "    .dataframe tbody tr th:only-of-type {\n",
       "        vertical-align: middle;\n",
       "    }\n",
       "\n",
       "    .dataframe tbody tr th {\n",
       "        vertical-align: top;\n",
       "    }\n",
       "\n",
       "    .dataframe thead th {\n",
       "        text-align: right;\n",
       "    }\n",
       "</style>\n",
       "<table border=\"1\" class=\"dataframe\">\n",
       "  <thead>\n",
       "    <tr style=\"text-align: right;\">\n",
       "      <th></th>\n",
       "      <th>Age</th>\n",
       "      <th>Wins</th>\n",
       "      <th>Turnover %</th>\n",
       "      <th>Defensive Field Goal %</th>\n",
       "      <th>Defensive Rebound %</th>\n",
       "      <th>True Shooting %</th>\n",
       "      <th>Steal %</th>\n",
       "      <th>Block %</th>\n",
       "      <th>year</th>\n",
       "      <th>True Shooting x Assists</th>\n",
       "      <th>True Shooting x Offensive Rebounds</th>\n",
       "      <th>True Shooting x Points</th>\n",
       "    </tr>\n",
       "  </thead>\n",
       "  <tbody>\n",
       "    <tr>\n",
       "      <th>count</th>\n",
       "      <td>180.000000</td>\n",
       "      <td>180.000000</td>\n",
       "      <td>180.000000</td>\n",
       "      <td>180.000000</td>\n",
       "      <td>180.000000</td>\n",
       "      <td>180.000000</td>\n",
       "      <td>180.000000</td>\n",
       "      <td>180.000000</td>\n",
       "      <td>180.000000</td>\n",
       "      <td>180.000000</td>\n",
       "      <td>180.000000</td>\n",
       "      <td>180.000000</td>\n",
       "    </tr>\n",
       "    <tr>\n",
       "      <th>mean</th>\n",
       "      <td>26.539444</td>\n",
       "      <td>41.000000</td>\n",
       "      <td>13.021667</td>\n",
       "      <td>0.509800</td>\n",
       "      <td>76.163889</td>\n",
       "      <td>0.547434</td>\n",
       "      <td>15.782222</td>\n",
       "      <td>16.495556</td>\n",
       "      <td>2016.500000</td>\n",
       "      <td>78.974291</td>\n",
       "      <td>13.025222</td>\n",
       "      <td>61.695023</td>\n",
       "    </tr>\n",
       "    <tr>\n",
       "      <th>std</th>\n",
       "      <td>1.726607</td>\n",
       "      <td>12.469852</td>\n",
       "      <td>0.976385</td>\n",
       "      <td>0.018087</td>\n",
       "      <td>2.019120</td>\n",
       "      <td>0.018722</td>\n",
       "      <td>1.845065</td>\n",
       "      <td>2.900276</td>\n",
       "      <td>1.712589</td>\n",
       "      <td>8.272053</td>\n",
       "      <td>1.290170</td>\n",
       "      <td>5.466285</td>\n",
       "    </tr>\n",
       "    <tr>\n",
       "      <th>min</th>\n",
       "      <td>23.200000</td>\n",
       "      <td>10.000000</td>\n",
       "      <td>10.700000</td>\n",
       "      <td>0.460000</td>\n",
       "      <td>71.000000</td>\n",
       "      <td>0.497700</td>\n",
       "      <td>11.800000</td>\n",
       "      <td>9.500000</td>\n",
       "      <td>2014.000000</td>\n",
       "      <td>61.929780</td>\n",
       "      <td>9.849400</td>\n",
       "      <td>51.085760</td>\n",
       "    </tr>\n",
       "    <tr>\n",
       "      <th>25%</th>\n",
       "      <td>25.375000</td>\n",
       "      <td>32.000000</td>\n",
       "      <td>12.300000</td>\n",
       "      <td>0.496000</td>\n",
       "      <td>74.850000</td>\n",
       "      <td>0.534450</td>\n",
       "      <td>14.375000</td>\n",
       "      <td>14.300000</td>\n",
       "      <td>2015.000000</td>\n",
       "      <td>73.152992</td>\n",
       "      <td>12.113257</td>\n",
       "      <td>57.908120</td>\n",
       "    </tr>\n",
       "    <tr>\n",
       "      <th>50%</th>\n",
       "      <td>26.300000</td>\n",
       "      <td>42.000000</td>\n",
       "      <td>12.950000</td>\n",
       "      <td>0.511000</td>\n",
       "      <td>76.200000</td>\n",
       "      <td>0.547150</td>\n",
       "      <td>15.750000</td>\n",
       "      <td>16.600000</td>\n",
       "      <td>2016.500000</td>\n",
       "      <td>78.416740</td>\n",
       "      <td>13.099440</td>\n",
       "      <td>61.030715</td>\n",
       "    </tr>\n",
       "    <tr>\n",
       "      <th>75%</th>\n",
       "      <td>27.600000</td>\n",
       "      <td>50.000000</td>\n",
       "      <td>13.725000</td>\n",
       "      <td>0.522250</td>\n",
       "      <td>77.500000</td>\n",
       "      <td>0.559925</td>\n",
       "      <td>17.100000</td>\n",
       "      <td>18.525000</td>\n",
       "      <td>2018.000000</td>\n",
       "      <td>84.590530</td>\n",
       "      <td>13.933208</td>\n",
       "      <td>65.259555</td>\n",
       "    </tr>\n",
       "    <tr>\n",
       "      <th>max</th>\n",
       "      <td>30.600000</td>\n",
       "      <td>73.000000</td>\n",
       "      <td>16.000000</td>\n",
       "      <td>0.564000</td>\n",
       "      <td>81.200000</td>\n",
       "      <td>0.590200</td>\n",
       "      <td>20.600000</td>\n",
       "      <td>26.800000</td>\n",
       "      <td>2019.000000</td>\n",
       "      <td>104.980150</td>\n",
       "      <td>17.254280</td>\n",
       "      <td>81.551580</td>\n",
       "    </tr>\n",
       "  </tbody>\n",
       "</table>\n",
       "</div>"
      ],
      "text/plain": [
       "              Age        Wins  Turnover %  Defensive Field Goal %  \\\n",
       "count  180.000000  180.000000  180.000000              180.000000   \n",
       "mean    26.539444   41.000000   13.021667                0.509800   \n",
       "std      1.726607   12.469852    0.976385                0.018087   \n",
       "min     23.200000   10.000000   10.700000                0.460000   \n",
       "25%     25.375000   32.000000   12.300000                0.496000   \n",
       "50%     26.300000   42.000000   12.950000                0.511000   \n",
       "75%     27.600000   50.000000   13.725000                0.522250   \n",
       "max     30.600000   73.000000   16.000000                0.564000   \n",
       "\n",
       "       Defensive Rebound %  True Shooting %     Steal %     Block %  \\\n",
       "count           180.000000       180.000000  180.000000  180.000000   \n",
       "mean             76.163889         0.547434   15.782222   16.495556   \n",
       "std               2.019120         0.018722    1.845065    2.900276   \n",
       "min              71.000000         0.497700   11.800000    9.500000   \n",
       "25%              74.850000         0.534450   14.375000   14.300000   \n",
       "50%              76.200000         0.547150   15.750000   16.600000   \n",
       "75%              77.500000         0.559925   17.100000   18.525000   \n",
       "max              81.200000         0.590200   20.600000   26.800000   \n",
       "\n",
       "              year  True Shooting x Assists  \\\n",
       "count   180.000000               180.000000   \n",
       "mean   2016.500000                78.974291   \n",
       "std       1.712589                 8.272053   \n",
       "min    2014.000000                61.929780   \n",
       "25%    2015.000000                73.152992   \n",
       "50%    2016.500000                78.416740   \n",
       "75%    2018.000000                84.590530   \n",
       "max    2019.000000               104.980150   \n",
       "\n",
       "       True Shooting x Offensive Rebounds  True Shooting x Points  \n",
       "count                          180.000000              180.000000  \n",
       "mean                            13.025222               61.695023  \n",
       "std                              1.290170                5.466285  \n",
       "min                              9.849400               51.085760  \n",
       "25%                             12.113257               57.908120  \n",
       "50%                             13.099440               61.030715  \n",
       "75%                             13.933208               65.259555  \n",
       "max                             17.254280               81.551580  "
      ]
     },
     "execution_count": 60,
     "metadata": {},
     "output_type": "execute_result"
    }
   ],
   "source": [
    "nba_data.describe()"
   ]
  },
  {
   "cell_type": "code",
   "execution_count": null,
   "metadata": {},
   "outputs": [],
   "source": []
  },
  {
   "cell_type": "markdown",
   "metadata": {},
   "source": [
    "The final model included 9 features the 4 most valuable, according to the Lasso model were, DFG%, TS_Pts and TOVs. \n",
    "\n",
    "DFG% was the most effective tool, this is the shooting % of the other team, and it had a large affect on the data which makes sense, and goes with my original idea that defense should a big proponent in wins\n",
    "\n",
    "TS also made sense. As they show the efficiency of scoring with TS. The volume of scoring itself did not have as much of an impact in the end as the rest\n",
    "\n",
    "TOV is a measure of possessions. This is negatively correlated as expected as less turnovers means you have the ball more. This goes with DFG% as if you have a higher rate of turnovers and more possessions it will lead to the most efficiency. \n",
    "\n",
    "*Honorable mention to Age which had a high correlation and i believe this is due to the trend of tanking in the nba which has become much more prevelant in the last decade where more teams will completely rebuild their rosters from the ground up and go all in on youth to lose more on purpose.* \n",
    " "
   ]
  },
  {
   "cell_type": "markdown",
   "metadata": {},
   "source": [
    "Overall the model was very effective. From the final results of an R^2 of .902 i was able to find the proper balance between overfitting and underfitting the model using the most valuable stats. \n",
    "\n",
    "What i learned is that efficiency was key when creating features in the data. So in terms of basketball for offense its more about finding quality shots rather than more shots. and for defense hindering the opponents quality looks is better than something like blocks, steals or rebounds.\n",
    "\n",
    "Possesion also matters, maintaining low turnovers had a very positive affect on teams wins in the model.\n",
    "\n",
    "Things that didnt matter as much were rebounding as a whole, surprisingly 3 pt shooting didnt mean much either, at least the quantity. This may be due to the data we have being during the 3 point shooting era as even though the numbers have increased year upon year the overall numbers are still pretty close compared to where they were even 10 years ago. "
   ]
  },
  {
   "cell_type": "code",
   "execution_count": null,
   "metadata": {},
   "outputs": [],
   "source": []
  },
  {
   "cell_type": "code",
   "execution_count": null,
   "metadata": {},
   "outputs": [],
   "source": []
  },
  {
   "cell_type": "code",
   "execution_count": null,
   "metadata": {},
   "outputs": [],
   "source": []
  },
  {
   "cell_type": "code",
   "execution_count": null,
   "metadata": {},
   "outputs": [],
   "source": []
  }
 ],
 "metadata": {
  "kernelspec": {
   "display_name": "Python 3",
   "language": "python",
   "name": "python3"
  },
  "language_info": {
   "codemirror_mode": {
    "name": "ipython",
    "version": 3
   },
   "file_extension": ".py",
   "mimetype": "text/x-python",
   "name": "python",
   "nbconvert_exporter": "python",
   "pygments_lexer": "ipython3",
   "version": "3.7.6"
  }
 },
 "nbformat": 4,
 "nbformat_minor": 4
}
