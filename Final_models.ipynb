{
 "cells": [
  {
   "cell_type": "code",
   "execution_count": 1,
   "metadata": {},
   "outputs": [],
   "source": [
    "import pandas as pd\n",
    "import numpy as np\n",
    "\n",
    "import statsmodels.api as sm\n",
    "from statsmodels.formula.api import ols\n",
    "\n",
    "from matplotlib import pyplot as plt\n",
    "\n",
    "from sklearn import linear_model\n",
    "from sklearn.linear_model import LinearRegression\n",
    "\n",
    "from sklearn.model_selection import train_test_split\n",
    "from sklearn import metrics\n",
    "from sklearn.preprocessing import PolynomialFeatures\n",
    "from sklearn.preprocessing import StandardScaler\n",
    "\n",
    "import seaborn as sns\n",
    "\n",
    "import pickle"
   ]
  },
  {
   "cell_type": "code",
   "execution_count": 2,
   "metadata": {},
   "outputs": [],
   "source": [
    "nba_data = pd.read_csv('Finalized_nba_data_for_modeling.csv', index_col = 0)"
   ]
  },
  {
   "cell_type": "code",
   "execution_count": 3,
   "metadata": {},
   "outputs": [],
   "source": [
    "nba_data['TS%'] = [x/10 for x in nba_data['TS%']]\n",
    "\n",
    "# turning TS% into the avergae for the team as it was originally the sum "
   ]
  },
  {
   "cell_type": "code",
   "execution_count": null,
   "metadata": {},
   "outputs": [],
   "source": []
  },
  {
   "cell_type": "markdown",
   "metadata": {},
   "source": [
    "Applying all the interactions that were found to be the best from the multiple models"
   ]
  },
  {
   "cell_type": "code",
   "execution_count": 4,
   "metadata": {},
   "outputs": [],
   "source": [
    "nba_data['TS_Ast'] = [nba_data['TS%'][i]*nba_data['AST%'][i] for i in range(len(nba_data['TS%']))]"
   ]
  },
  {
   "cell_type": "code",
   "execution_count": 5,
   "metadata": {},
   "outputs": [],
   "source": [
    "nba_data['TS_ORB'] = [nba_data['TS%'][i]*nba_data['ORB%'][i] for i in range(len(nba_data['TS%']))]"
   ]
  },
  {
   "cell_type": "code",
   "execution_count": 6,
   "metadata": {},
   "outputs": [],
   "source": [
    "nba_data['TS_Pts'] = [nba_data['TS%'][i]*nba_data['PTS'][i] for i in range(len(nba_data['TS%']))]"
   ]
  },
  {
   "cell_type": "code",
   "execution_count": null,
   "metadata": {},
   "outputs": [],
   "source": []
  },
  {
   "cell_type": "markdown",
   "metadata": {},
   "source": [
    "Removing the collinear and weak features found in the models"
   ]
  },
  {
   "cell_type": "code",
   "execution_count": 7,
   "metadata": {},
   "outputs": [],
   "source": [
    "nba_data = nba_data.drop(columns = ['ORB%', '3PAr', 'FTr', 'AST%', '3P%', 'PTS', 'FT%'])"
   ]
  },
  {
   "cell_type": "code",
   "execution_count": null,
   "metadata": {},
   "outputs": [],
   "source": []
  },
  {
   "cell_type": "markdown",
   "metadata": {},
   "source": [
    "Creating Target and Features"
   ]
  },
  {
   "cell_type": "code",
   "execution_count": 8,
   "metadata": {},
   "outputs": [],
   "source": [
    "target = nba_data['W']"
   ]
  },
  {
   "cell_type": "code",
   "execution_count": 9,
   "metadata": {},
   "outputs": [],
   "source": [
    "features_list = []"
   ]
  },
  {
   "cell_type": "code",
   "execution_count": 10,
   "metadata": {},
   "outputs": [],
   "source": [
    "for x in nba_data:\n",
    "    if (x == 'W') or (x == 'Tm') or (x == 'year') or (x == 'Pace'):\n",
    "        pass\n",
    "    else:\n",
    "        features_list.append(x)"
   ]
  },
  {
   "cell_type": "code",
   "execution_count": 11,
   "metadata": {},
   "outputs": [],
   "source": [
    "features = nba_data[features_list]"
   ]
  },
  {
   "cell_type": "code",
   "execution_count": null,
   "metadata": {},
   "outputs": [],
   "source": []
  },
  {
   "cell_type": "markdown",
   "metadata": {},
   "source": [
    "Train Test Split"
   ]
  },
  {
   "cell_type": "code",
   "execution_count": 12,
   "metadata": {},
   "outputs": [],
   "source": [
    "X_train, X_test, y_train, y_test = train_test_split(features, target, random_state=23,test_size=0.2)  "
   ]
  },
  {
   "cell_type": "code",
   "execution_count": null,
   "metadata": {},
   "outputs": [],
   "source": []
  },
  {
   "cell_type": "markdown",
   "metadata": {},
   "source": [
    "Applying Scalar (Standard Scalar) - Using it to get a better view of the data in the models and have a better idea of final results"
   ]
  },
  {
   "cell_type": "code",
   "execution_count": 13,
   "metadata": {},
   "outputs": [],
   "source": [
    "scaler = StandardScaler()\n",
    "final_scaler = scaler.fit(X_train)\n",
    "X_train =pd.DataFrame(data=scaler.transform(X_train), columns=features_list)\n",
    "X_test =pd.DataFrame(data=scaler.transform(X_test), columns=features_list)"
   ]
  },
  {
   "cell_type": "code",
   "execution_count": null,
   "metadata": {},
   "outputs": [],
   "source": []
  },
  {
   "cell_type": "markdown",
   "metadata": {},
   "source": [
    "Lasso Test - Turned out to be the best type of model after comparing results in multiple scenarios"
   ]
  },
  {
   "cell_type": "code",
   "execution_count": 14,
   "metadata": {},
   "outputs": [],
   "source": [
    "from sklearn.linear_model import Lasso"
   ]
  },
  {
   "cell_type": "code",
   "execution_count": 15,
   "metadata": {},
   "outputs": [
    {
     "name": "stdout",
     "output_type": "stream",
     "text": [
      "Training Error: 3.7935826618971173\n",
      "Testing Error: 5.72745611011417\n"
     ]
    }
   ],
   "source": [
    "lasso = Lasso(alpha=0.01, max_iter = 5000, normalize=False)\n",
    "\n",
    "final_lasso = lasso.fit(X_train,y_train)\n",
    "\n",
    "y_train_pred_lasso = lasso.predict(X_train)\n",
    "y_pred_lasso = lasso.predict(X_test)\n",
    "\n",
    "train_rmse = metrics.mean_absolute_error(y_train, y_train_pred_lasso)\n",
    "test_rmse = np.sqrt(metrics.mean_squared_error(y_test, y_pred_lasso))\n",
    "print('Training Error: '+ str(train_rmse))\n",
    "print('Testing Error: '+ str(test_rmse))"
   ]
  },
  {
   "cell_type": "code",
   "execution_count": null,
   "metadata": {},
   "outputs": [],
   "source": []
  },
  {
   "cell_type": "markdown",
   "metadata": {},
   "source": [
    "Viewing Lasso data as a graph"
   ]
  },
  {
   "cell_type": "code",
   "execution_count": 16,
   "metadata": {},
   "outputs": [
    {
     "data": {
      "text/plain": [
       "<matplotlib.axes._subplots.AxesSubplot at 0x1a181de210>"
      ]
     },
     "execution_count": 16,
     "metadata": {},
     "output_type": "execute_result"
    },
    {
     "data": {
      "image/png": "[encoded data removed]",
      "text/plain": [
       "<Figure size 1152x576 with 1 Axes>"
      ]
     },
     "metadata": {
      "needs_background": "light"
     },
     "output_type": "display_data"
    }
   ],
   "source": [
    "lasso_coef01 = pd.DataFrame(data=lasso.coef_).T\n",
    "lasso_coef01.columns = X_train.columns\n",
    "lasso_coef01 = lasso_coef01.T.sort_values(by=0).T\n",
    "lasso_coef01.plot(kind='bar', title='Modal Coefficients', legend=False, figsize=(16,8))"
   ]
  },
  {
   "cell_type": "code",
   "execution_count": 17,
   "metadata": {},
   "outputs": [
    {
     "data": {
      "text/html": [
       "<div>\n",
       "<style scoped>\n",
       "    .dataframe tbody tr th:only-of-type {\n",
       "        vertical-align: middle;\n",
       "    }\n",
       "\n",
       "    .dataframe tbody tr th {\n",
       "        vertical-align: top;\n",
       "    }\n",
       "\n",
       "    .dataframe thead th {\n",
       "        text-align: right;\n",
       "    }\n",
       "</style>\n",
       "<table border=\"1\" class=\"dataframe\">\n",
       "  <thead>\n",
       "    <tr style=\"text-align: right;\">\n",
       "      <th></th>\n",
       "      <th>0</th>\n",
       "    </tr>\n",
       "  </thead>\n",
       "  <tbody>\n",
       "    <tr>\n",
       "      <th>Dfg%</th>\n",
       "      <td>-6.298125</td>\n",
       "    </tr>\n",
       "    <tr>\n",
       "      <th>TOV</th>\n",
       "      <td>-3.823258</td>\n",
       "    </tr>\n",
       "    <tr>\n",
       "      <th>BLK%</th>\n",
       "      <td>-0.218078</td>\n",
       "    </tr>\n",
       "    <tr>\n",
       "      <th>TS_Ast</th>\n",
       "      <td>0.065958</td>\n",
       "    </tr>\n",
       "    <tr>\n",
       "      <th>Age</th>\n",
       "      <td>1.138108</td>\n",
       "    </tr>\n",
       "    <tr>\n",
       "      <th>TRB%</th>\n",
       "      <td>1.160551</td>\n",
       "    </tr>\n",
       "    <tr>\n",
       "      <th>TS_ORB</th>\n",
       "      <td>2.016628</td>\n",
       "    </tr>\n",
       "    <tr>\n",
       "      <th>STL%</th>\n",
       "      <td>2.502568</td>\n",
       "    </tr>\n",
       "    <tr>\n",
       "      <th>TS%</th>\n",
       "      <td>3.298707</td>\n",
       "    </tr>\n",
       "    <tr>\n",
       "      <th>TS_Pts</th>\n",
       "      <td>4.431130</td>\n",
       "    </tr>\n",
       "  </tbody>\n",
       "</table>\n",
       "</div>"
      ],
      "text/plain": [
       "               0\n",
       "Dfg%   -6.298125\n",
       "TOV    -3.823258\n",
       "BLK%   -0.218078\n",
       "TS_Ast  0.065958\n",
       "Age     1.138108\n",
       "TRB%    1.160551\n",
       "TS_ORB  2.016628\n",
       "STL%    2.502568\n",
       "TS%     3.298707\n",
       "TS_Pts  4.431130"
      ]
     },
     "execution_count": 17,
     "metadata": {},
     "output_type": "execute_result"
    }
   ],
   "source": [
    "lasso_coef01.T"
   ]
  },
  {
   "cell_type": "code",
   "execution_count": null,
   "metadata": {},
   "outputs": [],
   "source": []
  },
  {
   "cell_type": "code",
   "execution_count": 18,
   "metadata": {},
   "outputs": [
    {
     "data": {
      "text/plain": [
       "<matplotlib.axes._subplots.AxesSubplot at 0x1a19be2850>"
      ]
     },
     "execution_count": 18,
     "metadata": {},
     "output_type": "execute_result"
    },
    {
     "data": {
      "image/png": "[encoded data removed]",
      "text/plain": [
       "<Figure size 432x288 with 1 Axes>"
      ]
     },
     "metadata": {
      "needs_background": "light"
     },
     "output_type": "display_data"
    }
   ],
   "source": [
    "sns.residplot( y_train, y_train_pred_lasso,lowess=True, color=\"g\")"
   ]
  },
  {
   "cell_type": "code",
   "execution_count": null,
   "metadata": {},
   "outputs": [],
   "source": []
  },
  {
   "cell_type": "code",
   "execution_count": null,
   "metadata": {},
   "outputs": [],
   "source": []
  },
  {
   "cell_type": "code",
   "execution_count": null,
   "metadata": {},
   "outputs": [],
   "source": []
  },
  {
   "cell_type": "markdown",
   "metadata": {},
   "source": [
    "Final Check of Collinearity of the Data"
   ]
  },
  {
   "cell_type": "code",
   "execution_count": 19,
   "metadata": {},
   "outputs": [],
   "source": [
    "from statsmodels.stats.outliers_influence import variance_inflation_factor"
   ]
  },
  {
   "cell_type": "code",
   "execution_count": 20,
   "metadata": {},
   "outputs": [
    {
     "data": {
      "text/html": [
       "<div>\n",
       "<style scoped>\n",
       "    .dataframe tbody tr th:only-of-type {\n",
       "        vertical-align: middle;\n",
       "    }\n",
       "\n",
       "    .dataframe tbody tr th {\n",
       "        vertical-align: top;\n",
       "    }\n",
       "\n",
       "    .dataframe thead th {\n",
       "        text-align: right;\n",
       "    }\n",
       "</style>\n",
       "<table border=\"1\" class=\"dataframe\">\n",
       "  <thead>\n",
       "    <tr style=\"text-align: right;\">\n",
       "      <th></th>\n",
       "      <th>VIF Factor</th>\n",
       "      <th>features</th>\n",
       "    </tr>\n",
       "  </thead>\n",
       "  <tbody>\n",
       "    <tr>\n",
       "      <th>0</th>\n",
       "      <td>1.60656</td>\n",
       "      <td>Age</td>\n",
       "    </tr>\n",
       "    <tr>\n",
       "      <th>1</th>\n",
       "      <td>1.32837</td>\n",
       "      <td>Dfg%</td>\n",
       "    </tr>\n",
       "    <tr>\n",
       "      <th>2</th>\n",
       "      <td>1.62601</td>\n",
       "      <td>TOV</td>\n",
       "    </tr>\n",
       "    <tr>\n",
       "      <th>3</th>\n",
       "      <td>3.90208</td>\n",
       "      <td>TS%</td>\n",
       "    </tr>\n",
       "    <tr>\n",
       "      <th>4</th>\n",
       "      <td>1.51753</td>\n",
       "      <td>TRB%</td>\n",
       "    </tr>\n",
       "    <tr>\n",
       "      <th>5</th>\n",
       "      <td>1.42170</td>\n",
       "      <td>STL%</td>\n",
       "    </tr>\n",
       "    <tr>\n",
       "      <th>6</th>\n",
       "      <td>1.36524</td>\n",
       "      <td>BLK%</td>\n",
       "    </tr>\n",
       "    <tr>\n",
       "      <th>7</th>\n",
       "      <td>1.61394</td>\n",
       "      <td>TS_Ast</td>\n",
       "    </tr>\n",
       "    <tr>\n",
       "      <th>8</th>\n",
       "      <td>1.45159</td>\n",
       "      <td>TS_ORB</td>\n",
       "    </tr>\n",
       "    <tr>\n",
       "      <th>9</th>\n",
       "      <td>3.23329</td>\n",
       "      <td>TS_Pts</td>\n",
       "    </tr>\n",
       "  </tbody>\n",
       "</table>\n",
       "</div>"
      ],
      "text/plain": [
       "   VIF Factor features\n",
       "0     1.60656      Age\n",
       "1     1.32837     Dfg%\n",
       "2     1.62601      TOV\n",
       "3     3.90208      TS%\n",
       "4     1.51753     TRB%\n",
       "5     1.42170     STL%\n",
       "6     1.36524     BLK%\n",
       "7     1.61394   TS_Ast\n",
       "8     1.45159   TS_ORB\n",
       "9     3.23329   TS_Pts"
      ]
     },
     "execution_count": 20,
     "metadata": {},
     "output_type": "execute_result"
    }
   ],
   "source": [
    "vif = pd.DataFrame()\n",
    "vif[\"VIF Factor\"] = [variance_inflation_factor(X_train.values, i) for i in range(X_train.shape[1])]\n",
    "vif[\"features\"] = X_train.columns\n",
    "vif.round(5)"
   ]
  },
  {
   "cell_type": "code",
   "execution_count": null,
   "metadata": {},
   "outputs": [],
   "source": []
  },
  {
   "cell_type": "markdown",
   "metadata": {},
   "source": [
    "Checking *R^2* Value"
   ]
  },
  {
   "cell_type": "code",
   "execution_count": 21,
   "metadata": {},
   "outputs": [],
   "source": [
    "X_endog = sm.add_constant(X_test)"
   ]
  },
  {
   "cell_type": "code",
   "execution_count": 22,
   "metadata": {},
   "outputs": [],
   "source": [
    "res = sm.OLS(list(y_test), X_endog)"
   ]
  },
  {
   "cell_type": "code",
   "execution_count": 24,
   "metadata": {
    "scrolled": true
   },
   "outputs": [
    {
     "data": {
      "text/html": [
       "<table class=\"simpletable\">\n",
       "<caption>OLS Regression Results</caption>\n",
       "<tr>\n",
       "  <th>Dep. Variable:</th>            <td>y</td>        <th>  R-squared:         </th> <td>   0.921</td>\n",
       "</tr>\n",
       "<tr>\n",
       "  <th>Model:</th>                   <td>OLS</td>       <th>  Adj. R-squared:    </th> <td>   0.890</td>\n",
       "</tr>\n",
       "<tr>\n",
       "  <th>Method:</th>             <td>Least Squares</td>  <th>  F-statistic:       </th> <td>   29.27</td>\n",
       "</tr>\n",
       "<tr>\n",
       "  <th>Date:</th>             <td>Thu, 07 May 2020</td> <th>  Prob (F-statistic):</th> <td>2.44e-11</td>\n",
       "</tr>\n",
       "<tr>\n",
       "  <th>Time:</th>                 <td>09:20:45</td>     <th>  Log-Likelihood:    </th> <td> -99.675</td>\n",
       "</tr>\n",
       "<tr>\n",
       "  <th>No. Observations:</th>      <td>    36</td>      <th>  AIC:               </th> <td>   221.3</td>\n",
       "</tr>\n",
       "<tr>\n",
       "  <th>Df Residuals:</th>          <td>    25</td>      <th>  BIC:               </th> <td>   238.8</td>\n",
       "</tr>\n",
       "<tr>\n",
       "  <th>Df Model:</th>              <td>    10</td>      <th>                     </th>     <td> </td>   \n",
       "</tr>\n",
       "<tr>\n",
       "  <th>Covariance Type:</th>      <td>nonrobust</td>    <th>                     </th>     <td> </td>   \n",
       "</tr>\n",
       "</table>\n",
       "<table class=\"simpletable\">\n",
       "<tr>\n",
       "     <td></td>       <th>coef</th>     <th>std err</th>      <th>t</th>      <th>P>|t|</th>  <th>[0.025</th>    <th>0.975]</th>  \n",
       "</tr>\n",
       "<tr>\n",
       "  <th>const</th>  <td>   41.0949</td> <td>    0.900</td> <td>   45.658</td> <td> 0.000</td> <td>   39.241</td> <td>   42.949</td>\n",
       "</tr>\n",
       "<tr>\n",
       "  <th>Age</th>    <td>   -0.2209</td> <td>    1.396</td> <td>   -0.158</td> <td> 0.876</td> <td>   -3.097</td> <td>    2.655</td>\n",
       "</tr>\n",
       "<tr>\n",
       "  <th>Dfg%</th>   <td>  -10.8910</td> <td>    1.338</td> <td>   -8.138</td> <td> 0.000</td> <td>  -13.647</td> <td>   -8.135</td>\n",
       "</tr>\n",
       "<tr>\n",
       "  <th>TOV</th>    <td>   -5.9584</td> <td>    1.309</td> <td>   -4.552</td> <td> 0.000</td> <td>   -8.654</td> <td>   -3.262</td>\n",
       "</tr>\n",
       "<tr>\n",
       "  <th>TS%</th>    <td>    1.8702</td> <td>    1.565</td> <td>    1.195</td> <td> 0.243</td> <td>   -1.353</td> <td>    5.094</td>\n",
       "</tr>\n",
       "<tr>\n",
       "  <th>TRB%</th>   <td>    0.4324</td> <td>    1.074</td> <td>    0.403</td> <td> 0.691</td> <td>   -1.779</td> <td>    2.644</td>\n",
       "</tr>\n",
       "<tr>\n",
       "  <th>STL%</th>   <td>    1.9993</td> <td>    0.869</td> <td>    2.301</td> <td> 0.030</td> <td>    0.210</td> <td>    3.789</td>\n",
       "</tr>\n",
       "<tr>\n",
       "  <th>BLK%</th>   <td>   -1.2496</td> <td>    0.792</td> <td>   -1.578</td> <td> 0.127</td> <td>   -2.880</td> <td>    0.381</td>\n",
       "</tr>\n",
       "<tr>\n",
       "  <th>TS_Ast</th> <td>    1.5851</td> <td>    1.097</td> <td>    1.445</td> <td> 0.161</td> <td>   -0.674</td> <td>    3.844</td>\n",
       "</tr>\n",
       "<tr>\n",
       "  <th>TS_ORB</th> <td>    2.0995</td> <td>    1.000</td> <td>    2.098</td> <td> 0.046</td> <td>    0.039</td> <td>    4.160</td>\n",
       "</tr>\n",
       "<tr>\n",
       "  <th>TS_Pts</th> <td>    5.7549</td> <td>    1.530</td> <td>    3.762</td> <td> 0.001</td> <td>    2.604</td> <td>    8.906</td>\n",
       "</tr>\n",
       "</table>\n",
       "<table class=\"simpletable\">\n",
       "<tr>\n",
       "  <th>Omnibus:</th>       <td> 0.089</td> <th>  Durbin-Watson:     </th> <td>   2.050</td>\n",
       "</tr>\n",
       "<tr>\n",
       "  <th>Prob(Omnibus):</th> <td> 0.957</td> <th>  Jarque-Bera (JB):  </th> <td>   0.024</td>\n",
       "</tr>\n",
       "<tr>\n",
       "  <th>Skew:</th>          <td>-0.016</td> <th>  Prob(JB):          </th> <td>   0.988</td>\n",
       "</tr>\n",
       "<tr>\n",
       "  <th>Kurtosis:</th>      <td> 2.879</td> <th>  Cond. No.          </th> <td>    5.25</td>\n",
       "</tr>\n",
       "</table><br/><br/>Warnings:<br/>[1] Standard Errors assume that the covariance matrix of the errors is correctly specified."
      ],
      "text/plain": [
       "<class 'statsmodels.iolib.summary.Summary'>\n",
       "\"\"\"\n",
       "                            OLS Regression Results                            \n",
       "==============================================================================\n",
       "Dep. Variable:                      y   R-squared:                       0.921\n",
       "Model:                            OLS   Adj. R-squared:                  0.890\n",
       "Method:                 Least Squares   F-statistic:                     29.27\n",
       "Date:                Thu, 07 May 2020   Prob (F-statistic):           2.44e-11\n",
       "Time:                        09:20:45   Log-Likelihood:                -99.675\n",
       "No. Observations:                  36   AIC:                             221.3\n",
       "Df Residuals:                      25   BIC:                             238.8\n",
       "Df Model:                          10                                         \n",
       "Covariance Type:            nonrobust                                         \n",
       "==============================================================================\n",
       "                 coef    std err          t      P>|t|      [0.025      0.975]\n",
       "------------------------------------------------------------------------------\n",
       "const         41.0949      0.900     45.658      0.000      39.241      42.949\n",
       "Age           -0.2209      1.396     -0.158      0.876      -3.097       2.655\n",
       "Dfg%         -10.8910      1.338     -8.138      0.000     -13.647      -8.135\n",
       "TOV           -5.9584      1.309     -4.552      0.000      -8.654      -3.262\n",
       "TS%            1.8702      1.565      1.195      0.243      -1.353       5.094\n",
       "TRB%           0.4324      1.074      0.403      0.691      -1.779       2.644\n",
       "STL%           1.9993      0.869      2.301      0.030       0.210       3.789\n",
       "BLK%          -1.2496      0.792     -1.578      0.127      -2.880       0.381\n",
       "TS_Ast         1.5851      1.097      1.445      0.161      -0.674       3.844\n",
       "TS_ORB         2.0995      1.000      2.098      0.046       0.039       4.160\n",
       "TS_Pts         5.7549      1.530      3.762      0.001       2.604       8.906\n",
       "==============================================================================\n",
       "Omnibus:                        0.089   Durbin-Watson:                   2.050\n",
       "Prob(Omnibus):                  0.957   Jarque-Bera (JB):                0.024\n",
       "Skew:                          -0.016   Prob(JB):                        0.988\n",
       "Kurtosis:                       2.879   Cond. No.                         5.25\n",
       "==============================================================================\n",
       "\n",
       "Warnings:\n",
       "[1] Standard Errors assume that the covariance matrix of the errors is correctly specified.\n",
       "\"\"\""
      ]
     },
     "execution_count": 24,
     "metadata": {},
     "output_type": "execute_result"
    }
   ],
   "source": [
    "res.fit().summary()"
   ]
  },
  {
   "cell_type": "code",
   "execution_count": null,
   "metadata": {},
   "outputs": [],
   "source": []
  },
  {
   "cell_type": "markdown",
   "metadata": {},
   "source": [
    "The final model included 9 features the 4 most valuable, according to the Lasso model were, DFG%, TS_Pts and TOVs. \n",
    "\n",
    "DFG% was the most effective tool, this is the shooting % of the other team, and it had a large affect on the data which makes sense, and goes with my original idea that defense should a big proponent in wins\n",
    "\n",
    "TS_Pts also made sense. As they show the efficiency of scoring with TS_Pts. The volume of scoring but doing so at an efficient rate is a large proponent of wins\n",
    "\n",
    "TOV is a measure of possessions. This is negatively correlated as expected as less turnovers means you have the ball more. This goes with DFG% as if you have a higher rate of turnovers and more possessions it will lead to the most efficiency. \n",
    "\n",
    "*Honorable mention to Age which had a high correlation and i believe this is due to the trend of tanking in the nba which has become much more prevelant in the last decade where more teams will completely rebuild their rosters from the ground up and go all in on youth to lose more on purpose.* \n",
    " "
   ]
  },
  {
   "cell_type": "code",
   "execution_count": null,
   "metadata": {},
   "outputs": [],
   "source": []
  }
 ],
 "metadata": {
  "kernelspec": {
   "display_name": "Python 3",
   "language": "python",
   "name": "python3"
  },
  "language_info": {
   "codemirror_mode": {
    "name": "ipython",
    "version": 3
   },
   "file_extension": ".py",
   "mimetype": "text/x-python",
   "name": "python",
   "nbconvert_exporter": "python",
   "pygments_lexer": "ipython3",
   "version": "3.7.6"
  }
 },
 "nbformat": 4,
 "nbformat_minor": 4
}
