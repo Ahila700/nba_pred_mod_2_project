{
 "cells": [
  {
   "cell_type": "code",
   "execution_count": 1,
   "metadata": {},
   "outputs": [],
   "source": [
    "import pandas as pd\n",
    "import numpy as np"
   ]
  },
  {
   "cell_type": "code",
   "execution_count": null,
   "metadata": {},
   "outputs": [],
   "source": []
  },
  {
   "cell_type": "markdown",
   "metadata": {},
   "source": [
    "# 2019 nba players stats"
   ]
  },
  {
   "cell_type": "code",
   "execution_count": 2,
   "metadata": {},
   "outputs": [],
   "source": [
    "nba_players_list_2019 = pd.read_html('https://www.basketball-reference.com/leagues/NBA_2019_per_game.html')"
   ]
  },
  {
   "cell_type": "code",
   "execution_count": 3,
   "metadata": {},
   "outputs": [],
   "source": [
    "nba_players_2019 = nba_players_list_2019[0]"
   ]
  },
  {
   "cell_type": "code",
   "execution_count": 4,
   "metadata": {},
   "outputs": [],
   "source": [
    "year_2019 = [2019 for x in nba_players_2019['Player']]"
   ]
  },
  {
   "cell_type": "code",
   "execution_count": 5,
   "metadata": {},
   "outputs": [],
   "source": [
    "nba_players_2019.drop(columns = 'Rk', inplace = True)"
   ]
  },
  {
   "cell_type": "code",
   "execution_count": 6,
   "metadata": {},
   "outputs": [],
   "source": [
    "nba_players_2019.rename(columns = {'MP': 'MPG'}, inplace = True)"
   ]
  },
  {
   "cell_type": "code",
   "execution_count": null,
   "metadata": {},
   "outputs": [],
   "source": []
  },
  {
   "cell_type": "code",
   "execution_count": 7,
   "metadata": {},
   "outputs": [],
   "source": [
    "nba_players_list_2019_advanced = pd.read_html('https://www.basketball-reference.com/leagues/NBA_2019_advanced.html')"
   ]
  },
  {
   "cell_type": "code",
   "execution_count": 8,
   "metadata": {},
   "outputs": [],
   "source": [
    "nba_players_2019_advanced = nba_players_list_2019_advanced[0]"
   ]
  },
  {
   "cell_type": "code",
   "execution_count": 9,
   "metadata": {},
   "outputs": [],
   "source": [
    "nba_players_2019_advanced['year'] = year_2019"
   ]
  },
  {
   "cell_type": "code",
   "execution_count": 10,
   "metadata": {},
   "outputs": [],
   "source": [
    "nba_players_2019_advanced.drop(columns = ['Rk', 'Unnamed: 19', 'Unnamed: 24', \n",
    "                                          'Player', 'Pos', 'Age', 'Tm', 'G'], inplace = True)"
   ]
  },
  {
   "cell_type": "code",
   "execution_count": null,
   "metadata": {},
   "outputs": [],
   "source": []
  },
  {
   "cell_type": "code",
   "execution_count": null,
   "metadata": {},
   "outputs": [],
   "source": []
  },
  {
   "cell_type": "markdown",
   "metadata": {},
   "source": [
    "# 2018 nba players stats"
   ]
  },
  {
   "cell_type": "code",
   "execution_count": 11,
   "metadata": {},
   "outputs": [],
   "source": [
    "nba_players_list_2018 = pd.read_html('https://www.basketball-reference.com/leagues/NBA_2018_per_game.html')"
   ]
  },
  {
   "cell_type": "code",
   "execution_count": 12,
   "metadata": {},
   "outputs": [],
   "source": [
    "nba_players_2018 = nba_players_list_2018[0]"
   ]
  },
  {
   "cell_type": "code",
   "execution_count": 13,
   "metadata": {},
   "outputs": [],
   "source": [
    "year_2018 = [2018 for x in nba_players_2018['Player']]"
   ]
  },
  {
   "cell_type": "code",
   "execution_count": 14,
   "metadata": {},
   "outputs": [],
   "source": [
    "nba_players_2018.drop(columns = 'Rk', inplace = True)"
   ]
  },
  {
   "cell_type": "code",
   "execution_count": 15,
   "metadata": {},
   "outputs": [],
   "source": [
    "nba_players_2018.rename(columns = {'MP': 'MPG'}, inplace = True)"
   ]
  },
  {
   "cell_type": "code",
   "execution_count": null,
   "metadata": {},
   "outputs": [],
   "source": []
  },
  {
   "cell_type": "code",
   "execution_count": 16,
   "metadata": {},
   "outputs": [],
   "source": [
    "nba_players_list_2018_advanced = pd.read_html('https://www.basketball-reference.com/leagues/NBA_2018_advanced.html')"
   ]
  },
  {
   "cell_type": "code",
   "execution_count": 17,
   "metadata": {},
   "outputs": [],
   "source": [
    "nba_players_2018_advanced = nba_players_list_2018_advanced[0]"
   ]
  },
  {
   "cell_type": "code",
   "execution_count": 18,
   "metadata": {},
   "outputs": [],
   "source": [
    "nba_players_2018_advanced['year'] = year_2018"
   ]
  },
  {
   "cell_type": "code",
   "execution_count": 19,
   "metadata": {},
   "outputs": [],
   "source": [
    "nba_players_2018_advanced.drop(columns = ['Rk', 'Unnamed: 19', 'Unnamed: 24', \n",
    "                                          'Player', 'Pos', 'Age', 'Tm', 'G'], inplace = True)"
   ]
  },
  {
   "cell_type": "code",
   "execution_count": null,
   "metadata": {},
   "outputs": [],
   "source": []
  },
  {
   "cell_type": "markdown",
   "metadata": {},
   "source": [
    "# 2017 nba players stats"
   ]
  },
  {
   "cell_type": "code",
   "execution_count": 20,
   "metadata": {},
   "outputs": [],
   "source": [
    "nba_players_list_2017 = pd.read_html('https://www.basketball-reference.com/leagues/NBA_2017_per_game.html')"
   ]
  },
  {
   "cell_type": "code",
   "execution_count": 21,
   "metadata": {},
   "outputs": [],
   "source": [
    "nba_players_2017 = nba_players_list_2017[0]"
   ]
  },
  {
   "cell_type": "code",
   "execution_count": 22,
   "metadata": {},
   "outputs": [],
   "source": [
    "year_2017 = [2017 for x in nba_players_2017['Player']]"
   ]
  },
  {
   "cell_type": "code",
   "execution_count": 23,
   "metadata": {},
   "outputs": [],
   "source": [
    "nba_players_2017.drop(columns = 'Rk', inplace = True)"
   ]
  },
  {
   "cell_type": "code",
   "execution_count": 24,
   "metadata": {},
   "outputs": [],
   "source": [
    "nba_players_2017.rename(columns = {'MP': 'MPG'}, inplace = True)"
   ]
  },
  {
   "cell_type": "code",
   "execution_count": null,
   "metadata": {},
   "outputs": [],
   "source": []
  },
  {
   "cell_type": "code",
   "execution_count": 25,
   "metadata": {},
   "outputs": [],
   "source": [
    "nba_players_list_2017_advanced = pd.read_html('https://www.basketball-reference.com/leagues/NBA_2017_advanced.html')"
   ]
  },
  {
   "cell_type": "code",
   "execution_count": 26,
   "metadata": {},
   "outputs": [],
   "source": [
    "nba_players_2017_advanced = nba_players_list_2017_advanced[0]"
   ]
  },
  {
   "cell_type": "code",
   "execution_count": 27,
   "metadata": {},
   "outputs": [],
   "source": [
    "nba_players_2017_advanced['year'] = year_2017"
   ]
  },
  {
   "cell_type": "code",
   "execution_count": 28,
   "metadata": {},
   "outputs": [],
   "source": [
    "nba_players_2017_advanced.drop(columns = ['Rk', 'Unnamed: 19', 'Unnamed: 24', \n",
    "                                          'Player', 'Pos', 'Age', 'Tm', 'G'], inplace = True)"
   ]
  },
  {
   "cell_type": "code",
   "execution_count": null,
   "metadata": {},
   "outputs": [],
   "source": []
  },
  {
   "cell_type": "markdown",
   "metadata": {},
   "source": [
    "# 2016 nba players stats"
   ]
  },
  {
   "cell_type": "code",
   "execution_count": 29,
   "metadata": {},
   "outputs": [],
   "source": [
    "nba_players_list_2016 = pd.read_html('https://www.basketball-reference.com/leagues/NBA_2016_per_game.html')"
   ]
  },
  {
   "cell_type": "code",
   "execution_count": 30,
   "metadata": {},
   "outputs": [],
   "source": [
    "nba_players_2016 = nba_players_list_2016[0]"
   ]
  },
  {
   "cell_type": "code",
   "execution_count": 31,
   "metadata": {},
   "outputs": [],
   "source": [
    "year_2016 = [2016 for x in nba_players_2016['Player']]"
   ]
  },
  {
   "cell_type": "code",
   "execution_count": 32,
   "metadata": {},
   "outputs": [],
   "source": [
    "nba_players_2016.drop(columns = 'Rk', inplace = True)"
   ]
  },
  {
   "cell_type": "code",
   "execution_count": 33,
   "metadata": {},
   "outputs": [],
   "source": [
    "nba_players_2016.rename(columns = {'MP': 'MPG'}, inplace = True)"
   ]
  },
  {
   "cell_type": "code",
   "execution_count": null,
   "metadata": {},
   "outputs": [],
   "source": []
  },
  {
   "cell_type": "code",
   "execution_count": 34,
   "metadata": {},
   "outputs": [],
   "source": [
    "nba_players_list_2016_advanced = pd.read_html('https://www.basketball-reference.com/leagues/NBA_2016_advanced.html')"
   ]
  },
  {
   "cell_type": "code",
   "execution_count": 35,
   "metadata": {},
   "outputs": [],
   "source": [
    "nba_players_2016_advanced = nba_players_list_2016_advanced[0]"
   ]
  },
  {
   "cell_type": "code",
   "execution_count": 36,
   "metadata": {},
   "outputs": [],
   "source": [
    "nba_players_2016_advanced['year'] = year_2016"
   ]
  },
  {
   "cell_type": "code",
   "execution_count": 37,
   "metadata": {},
   "outputs": [],
   "source": [
    "nba_players_2016_advanced.drop(columns = ['Rk', 'Unnamed: 19', 'Unnamed: 24', \n",
    "                                          'Player', 'Pos', 'Age', 'Tm', 'G'], inplace = True)"
   ]
  },
  {
   "cell_type": "code",
   "execution_count": null,
   "metadata": {},
   "outputs": [],
   "source": []
  },
  {
   "cell_type": "markdown",
   "metadata": {},
   "source": [
    "# 2015 nba players stats"
   ]
  },
  {
   "cell_type": "code",
   "execution_count": 38,
   "metadata": {},
   "outputs": [],
   "source": [
    "nba_players_list_2015 = pd.read_html('https://www.basketball-reference.com/leagues/NBA_2015_per_game.html')"
   ]
  },
  {
   "cell_type": "code",
   "execution_count": 39,
   "metadata": {},
   "outputs": [],
   "source": [
    "nba_players_2015 = nba_players_list_2015[0]"
   ]
  },
  {
   "cell_type": "code",
   "execution_count": 40,
   "metadata": {},
   "outputs": [],
   "source": [
    "year_2015 = [2015 for x in nba_players_2015['Player']]"
   ]
  },
  {
   "cell_type": "code",
   "execution_count": 41,
   "metadata": {},
   "outputs": [],
   "source": [
    "nba_players_2015.drop(columns = 'Rk', inplace = True)"
   ]
  },
  {
   "cell_type": "code",
   "execution_count": 42,
   "metadata": {},
   "outputs": [],
   "source": [
    "nba_players_2015.rename(columns = {'MP': 'MPG'}, inplace = True)"
   ]
  },
  {
   "cell_type": "code",
   "execution_count": null,
   "metadata": {},
   "outputs": [],
   "source": []
  },
  {
   "cell_type": "code",
   "execution_count": 43,
   "metadata": {},
   "outputs": [],
   "source": [
    "nba_players_list_2015_advanced = pd.read_html('https://www.basketball-reference.com/leagues/NBA_2015_advanced.html')"
   ]
  },
  {
   "cell_type": "code",
   "execution_count": 44,
   "metadata": {},
   "outputs": [],
   "source": [
    "nba_players_2015_advanced = nba_players_list_2015_advanced[0]"
   ]
  },
  {
   "cell_type": "code",
   "execution_count": 45,
   "metadata": {},
   "outputs": [],
   "source": [
    "nba_players_2015_advanced['year'] = year_2015"
   ]
  },
  {
   "cell_type": "code",
   "execution_count": 46,
   "metadata": {},
   "outputs": [],
   "source": [
    "nba_players_2015_advanced.drop(columns = ['Rk', 'Unnamed: 19', 'Unnamed: 24', \n",
    "                                          'Player', 'Pos', 'Age', 'Tm', 'G'], inplace = True)"
   ]
  },
  {
   "cell_type": "code",
   "execution_count": null,
   "metadata": {},
   "outputs": [],
   "source": []
  },
  {
   "cell_type": "markdown",
   "metadata": {},
   "source": [
    "# 2014 nba players stats"
   ]
  },
  {
   "cell_type": "code",
   "execution_count": 47,
   "metadata": {},
   "outputs": [],
   "source": [
    "nba_players_list_2014 = pd.read_html('https://www.basketball-reference.com/leagues/NBA_2014_per_game.html')"
   ]
  },
  {
   "cell_type": "code",
   "execution_count": 48,
   "metadata": {},
   "outputs": [],
   "source": [
    "nba_players_2014 = nba_players_list_2014[0]"
   ]
  },
  {
   "cell_type": "code",
   "execution_count": 49,
   "metadata": {},
   "outputs": [],
   "source": [
    "year_2014 = [2014 for x in nba_players_2014['Player']]"
   ]
  },
  {
   "cell_type": "code",
   "execution_count": 50,
   "metadata": {},
   "outputs": [],
   "source": [
    "nba_players_2014.drop(columns = 'Rk', inplace = True)"
   ]
  },
  {
   "cell_type": "code",
   "execution_count": 51,
   "metadata": {},
   "outputs": [],
   "source": [
    "nba_players_2014.rename(columns = {'MP': 'MPG'}, inplace = True)"
   ]
  },
  {
   "cell_type": "code",
   "execution_count": null,
   "metadata": {},
   "outputs": [],
   "source": []
  },
  {
   "cell_type": "code",
   "execution_count": 52,
   "metadata": {},
   "outputs": [],
   "source": [
    "nba_players_list_2014_advanced = pd.read_html('https://www.basketball-reference.com/leagues/NBA_2014_advanced.html')"
   ]
  },
  {
   "cell_type": "code",
   "execution_count": 53,
   "metadata": {},
   "outputs": [],
   "source": [
    "nba_players_2014_advanced = nba_players_list_2014_advanced[0]"
   ]
  },
  {
   "cell_type": "code",
   "execution_count": 54,
   "metadata": {},
   "outputs": [],
   "source": [
    "nba_players_2014_advanced['year'] = year_2014"
   ]
  },
  {
   "cell_type": "code",
   "execution_count": 55,
   "metadata": {},
   "outputs": [],
   "source": [
    "nba_players_2014_advanced.drop(columns = ['Rk', 'Unnamed: 19', 'Unnamed: 24', \n",
    "                                          'Player', 'Pos', 'Age', 'Tm', 'G'], inplace = True)"
   ]
  },
  {
   "cell_type": "code",
   "execution_count": null,
   "metadata": {},
   "outputs": [],
   "source": []
  },
  {
   "cell_type": "code",
   "execution_count": null,
   "metadata": {},
   "outputs": [],
   "source": []
  },
  {
   "cell_type": "markdown",
   "metadata": {},
   "source": [
    "# Concating the Per game stats with Advanced Stats and cleaning data to get all ints/floats"
   ]
  },
  {
   "cell_type": "code",
   "execution_count": 56,
   "metadata": {},
   "outputs": [],
   "source": [
    "nba_2019_players = pd.concat([nba_players_2019, nba_players_2019_advanced], axis = 1)"
   ]
  },
  {
   "cell_type": "code",
   "execution_count": 57,
   "metadata": {},
   "outputs": [],
   "source": [
    "nba_2019_players.fillna(0, inplace = True)"
   ]
  },
  {
   "cell_type": "code",
   "execution_count": 58,
   "metadata": {
    "scrolled": false
   },
   "outputs": [],
   "source": [
    "nba_2019_players = nba_2019_players[~nba_2019_players.Player.str.startswith('Player')]\n",
    "\n",
    "# returns all rows in the dataframe that dont start with Player"
   ]
  },
  {
   "cell_type": "code",
   "execution_count": 59,
   "metadata": {},
   "outputs": [],
   "source": [
    "nba_2019_players = nba_2019_players.apply(pd.to_numeric, errors = 'ignore')\n",
    "\n",
    "# applies a numeric type (float or int) to all columns that have entirely numeric values in them\n",
    "# if a column does not have a numeric value it will ignore and move on\n",
    "\n",
    "# that is why i had to first remove all the na values and turn them to 0's"
   ]
  },
  {
   "cell_type": "code",
   "execution_count": null,
   "metadata": {},
   "outputs": [],
   "source": []
  },
  {
   "cell_type": "code",
   "execution_count": 60,
   "metadata": {},
   "outputs": [],
   "source": [
    "nba_2018_players = pd.concat([nba_players_2018, nba_players_2018_advanced], axis = 1)"
   ]
  },
  {
   "cell_type": "code",
   "execution_count": 61,
   "metadata": {},
   "outputs": [],
   "source": [
    "nba_2018_players.fillna(0, inplace = True)"
   ]
  },
  {
   "cell_type": "code",
   "execution_count": 62,
   "metadata": {},
   "outputs": [],
   "source": [
    "nba_2018_players = nba_2018_players[~nba_2018_players.Player.str.startswith('Player')]"
   ]
  },
  {
   "cell_type": "code",
   "execution_count": 63,
   "metadata": {},
   "outputs": [],
   "source": [
    "nba_2018_players = nba_2018_players.apply(pd.to_numeric, errors = 'ignore')"
   ]
  },
  {
   "cell_type": "code",
   "execution_count": null,
   "metadata": {},
   "outputs": [],
   "source": []
  },
  {
   "cell_type": "code",
   "execution_count": 64,
   "metadata": {},
   "outputs": [],
   "source": [
    "nba_2017_players = pd.concat([nba_players_2017, nba_players_2017_advanced], axis = 1)"
   ]
  },
  {
   "cell_type": "code",
   "execution_count": 65,
   "metadata": {},
   "outputs": [],
   "source": [
    "nba_2017_players.fillna(0, inplace = True)"
   ]
  },
  {
   "cell_type": "code",
   "execution_count": 66,
   "metadata": {},
   "outputs": [],
   "source": [
    "nba_2017_players = nba_2017_players[~nba_2017_players.Player.str.startswith('Player')]"
   ]
  },
  {
   "cell_type": "code",
   "execution_count": 67,
   "metadata": {},
   "outputs": [],
   "source": [
    "nba_2017_players = nba_2017_players.apply(pd.to_numeric, errors = 'ignore')"
   ]
  },
  {
   "cell_type": "code",
   "execution_count": null,
   "metadata": {},
   "outputs": [],
   "source": []
  },
  {
   "cell_type": "code",
   "execution_count": 68,
   "metadata": {},
   "outputs": [],
   "source": [
    "nba_2016_players = pd.concat([nba_players_2016, nba_players_2016_advanced], axis = 1)"
   ]
  },
  {
   "cell_type": "code",
   "execution_count": 69,
   "metadata": {},
   "outputs": [],
   "source": [
    "nba_2016_players.fillna(0, inplace = True)"
   ]
  },
  {
   "cell_type": "code",
   "execution_count": 70,
   "metadata": {},
   "outputs": [],
   "source": [
    "nba_2016_players = nba_2016_players[~nba_2016_players.Player.str.startswith('Player')]"
   ]
  },
  {
   "cell_type": "code",
   "execution_count": 71,
   "metadata": {},
   "outputs": [],
   "source": [
    "nba_2016_players = nba_2016_players.apply(pd.to_numeric, errors = 'ignore')"
   ]
  },
  {
   "cell_type": "code",
   "execution_count": null,
   "metadata": {},
   "outputs": [],
   "source": []
  },
  {
   "cell_type": "code",
   "execution_count": 72,
   "metadata": {},
   "outputs": [],
   "source": [
    "nba_2015_players = pd.concat([nba_players_2015, nba_players_2015_advanced], axis = 1)"
   ]
  },
  {
   "cell_type": "code",
   "execution_count": 73,
   "metadata": {},
   "outputs": [],
   "source": [
    "nba_2015_players.fillna(0, inplace = True)"
   ]
  },
  {
   "cell_type": "code",
   "execution_count": 74,
   "metadata": {},
   "outputs": [],
   "source": [
    "nba_2015_players = nba_2015_players[~nba_2015_players.Player.str.startswith('Player')]"
   ]
  },
  {
   "cell_type": "code",
   "execution_count": 75,
   "metadata": {},
   "outputs": [],
   "source": [
    "nba_2015_players = nba_2015_players.apply(pd.to_numeric, errors = 'ignore')"
   ]
  },
  {
   "cell_type": "code",
   "execution_count": null,
   "metadata": {},
   "outputs": [],
   "source": []
  },
  {
   "cell_type": "code",
   "execution_count": 76,
   "metadata": {},
   "outputs": [],
   "source": [
    "nba_2014_players = pd.concat([nba_players_2014, nba_players_2014_advanced], axis = 1)"
   ]
  },
  {
   "cell_type": "code",
   "execution_count": 77,
   "metadata": {},
   "outputs": [],
   "source": [
    "nba_2014_players.fillna(0, inplace = True)"
   ]
  },
  {
   "cell_type": "code",
   "execution_count": 78,
   "metadata": {},
   "outputs": [],
   "source": [
    "nba_2014_players = nba_2014_players[~nba_2014_players.Player.str.startswith('Player')]"
   ]
  },
  {
   "cell_type": "code",
   "execution_count": 79,
   "metadata": {},
   "outputs": [],
   "source": [
    "nba_2014_players = nba_2014_players.apply(pd.to_numeric, errors = 'ignore')"
   ]
  },
  {
   "cell_type": "code",
   "execution_count": null,
   "metadata": {},
   "outputs": [],
   "source": []
  },
  {
   "cell_type": "markdown",
   "metadata": {},
   "source": [
    "# Dropping Duplicate data for players who played on multiple teams (for possible averages over 6 seasons if necessary)"
   ]
  },
  {
   "cell_type": "code",
   "execution_count": 80,
   "metadata": {},
   "outputs": [],
   "source": [
    "nba_players_totals = pd.concat([nba_2014_players.drop_duplicates(subset = ['Player'], keep = 'first', ignore_index = True),\n",
    "                                nba_2015_players.drop_duplicates(subset = ['Player'], keep = 'first', ignore_index = True),\n",
    "                                 nba_2016_players.drop_duplicates(subset = ['Player'], keep = 'first', ignore_index = True),\n",
    "                                 nba_2017_players.drop_duplicates(subset = ['Player'], keep = 'first', ignore_index = True),\n",
    "                                 nba_2018_players.drop_duplicates(subset = ['Player'], keep = 'first', ignore_index = True),\n",
    "                                 nba_2019_players.drop_duplicates(subset = ['Player'], keep = 'first', ignore_index = True)], \n",
    "                                 ignore_index = True)\n",
    "\n",
    "\n",
    "# dropping instances where a player played for more than 1 team by just keeping his \n",
    "# total numbers (for now) may need to change up slightly depending on whether or not \n",
    "# its necessary to keep the players teams for that season seperate. Added all the players to\n",
    "# a single dataframe so i can groupby name and get their averages over the 5 seasons"
   ]
  },
  {
   "cell_type": "code",
   "execution_count": null,
   "metadata": {},
   "outputs": [],
   "source": []
  },
  {
   "cell_type": "code",
   "execution_count": null,
   "metadata": {},
   "outputs": [],
   "source": []
  },
  {
   "cell_type": "markdown",
   "metadata": {},
   "source": [
    "# Playing with the player data"
   ]
  },
  {
   "cell_type": "markdown",
   "metadata": {},
   "source": [
    "Looking to possibly add a weight factor to the players from each team based on their win shares for that season. Will do this for every team and sum up all the stats to get the players total stats (weighted by their value to the team). And eventually will use their win shares and follow the same formula when applying to the final season for predictions"
   ]
  },
  {
   "cell_type": "code",
   "execution_count": null,
   "metadata": {},
   "outputs": [],
   "source": []
  },
  {
   "cell_type": "code",
   "execution_count": null,
   "metadata": {},
   "outputs": [],
   "source": []
  },
  {
   "cell_type": "markdown",
   "metadata": {},
   "source": [
    "# Creating a dataframe for each team top 10 players"
   ]
  },
  {
   "cell_type": "code",
   "execution_count": 81,
   "metadata": {},
   "outputs": [],
   "source": [
    "atl_2019 = nba_2019_players[nba_2019_players['Tm'] == 'ATL'].sort_values('MP', ascending = False)[0:10]\n",
    "atl_2018 = nba_2018_players[nba_2018_players['Tm'] == 'ATL'].sort_values('MP', ascending = False)[0:10]\n",
    "atl_2017 = nba_2017_players[nba_2017_players['Tm'] == 'ATL'].sort_values('MP', ascending = False)[0:10]\n",
    "atl_2016 = nba_2016_players[nba_2016_players['Tm'] == 'ATL'].sort_values('MP', ascending = False)[0:10]\n",
    "atl_2015 = nba_2015_players[nba_2015_players['Tm'] == 'ATL'].sort_values('MP', ascending = False)[0:10]\n",
    "atl_2014 = nba_2014_players[nba_2014_players['Tm'] == 'ATL'].sort_values('MP', ascending = False)[0:10]\n"
   ]
  },
  {
   "cell_type": "code",
   "execution_count": 82,
   "metadata": {},
   "outputs": [],
   "source": [
    "bos_2019 = nba_2019_players[nba_2019_players['Tm'] == 'BOS'].sort_values('MP', ascending = False)[0:10]\n",
    "bos_2018 = nba_2018_players[nba_2018_players['Tm'] == 'BOS'].sort_values('MP', ascending = False)[0:10]\n",
    "bos_2017 = nba_2017_players[nba_2017_players['Tm'] == 'BOS'].sort_values('MP', ascending = False)[0:10]\n",
    "bos_2016 = nba_2016_players[nba_2016_players['Tm'] == 'BOS'].sort_values('MP', ascending = False)[0:10]\n",
    "bos_2015 = nba_2015_players[nba_2015_players['Tm'] == 'BOS'].sort_values('MP', ascending = False)[0:10]\n",
    "bos_2014 = nba_2014_players[nba_2014_players['Tm'] == 'BOS'].sort_values('MP', ascending = False)[0:10]\n"
   ]
  },
  {
   "cell_type": "code",
   "execution_count": 83,
   "metadata": {},
   "outputs": [],
   "source": [
    "brk_2019 = nba_2019_players[nba_2019_players['Tm'] == 'BRK'].sort_values('MP', ascending = False)[0:10]\n",
    "brk_2018 = nba_2018_players[nba_2018_players['Tm'] == 'BRK'].sort_values('MP', ascending = False)[0:10]\n",
    "brk_2017 = nba_2017_players[nba_2017_players['Tm'] == 'BRK'].sort_values('MP', ascending = False)[0:10]\n",
    "brk_2016 = nba_2016_players[nba_2016_players['Tm'] == 'BRK'].sort_values('MP', ascending = False)[0:10]\n",
    "brk_2015 = nba_2015_players[nba_2015_players['Tm'] == 'BRK'].sort_values('MP', ascending = False)[0:10]\n",
    "brk_2014 = nba_2014_players[nba_2014_players['Tm'] == 'BRK'].sort_values('MP', ascending = False)[0:10]\n"
   ]
  },
  {
   "cell_type": "code",
   "execution_count": 84,
   "metadata": {},
   "outputs": [],
   "source": [
    "chi_2019 = nba_2019_players[nba_2019_players['Tm'] == 'CHI'].sort_values('MP', ascending = False)[0:10]\n",
    "chi_2018 = nba_2018_players[nba_2018_players['Tm'] == 'CHI'].sort_values('MP', ascending = False)[0:10]\n",
    "chi_2017 = nba_2017_players[nba_2017_players['Tm'] == 'CHI'].sort_values('MP', ascending = False)[0:10]\n",
    "chi_2016 = nba_2016_players[nba_2016_players['Tm'] == 'CHI'].sort_values('MP', ascending = False)[0:10]\n",
    "chi_2015 = nba_2015_players[nba_2015_players['Tm'] == 'CHI'].sort_values('MP', ascending = False)[0:10]\n",
    "chi_2014 = nba_2014_players[nba_2014_players['Tm'] == 'CHI'].sort_values('MP', ascending = False)[0:10]\n"
   ]
  },
  {
   "cell_type": "code",
   "execution_count": 85,
   "metadata": {},
   "outputs": [],
   "source": [
    "cho_2019 = nba_2019_players[nba_2019_players['Tm'] == 'CHO'].sort_values('MP', ascending = False)[0:10]\n",
    "cho_2018 = nba_2018_players[nba_2018_players['Tm'] == 'CHO'].sort_values('MP', ascending = False)[0:10]\n",
    "cho_2017 = nba_2017_players[nba_2017_players['Tm'] == 'CHO'].sort_values('MP', ascending = False)[0:10]\n",
    "cho_2016 = nba_2016_players[nba_2016_players['Tm'] == 'CHO'].sort_values('MP', ascending = False)[0:10]\n",
    "cho_2015 = nba_2015_players[nba_2015_players['Tm'] == 'CHO'].sort_values('MP', ascending = False)[0:10]\n",
    "cho_2014 = nba_2014_players[nba_2014_players['Tm'] == 'CHA'].sort_values('MP', ascending = False)[0:10]\n"
   ]
  },
  {
   "cell_type": "code",
   "execution_count": 86,
   "metadata": {},
   "outputs": [],
   "source": [
    "cho_2014['Tm'] = ['CHO' for x in cho_2014['Tm']]"
   ]
  },
  {
   "cell_type": "code",
   "execution_count": 87,
   "metadata": {},
   "outputs": [],
   "source": [
    "cle_2019 = nba_2019_players[nba_2019_players['Tm'] == 'CLE'].sort_values('MP', ascending = False)[0:10]\n",
    "cle_2018 = nba_2018_players[nba_2018_players['Tm'] == 'CLE'].sort_values('MP', ascending = False)[0:10]\n",
    "cle_2017 = nba_2017_players[nba_2017_players['Tm'] == 'CLE'].sort_values('MP', ascending = False)[0:10]\n",
    "cle_2016 = nba_2016_players[nba_2016_players['Tm'] == 'CLE'].sort_values('MP', ascending = False)[0:10]\n",
    "cle_2015 = nba_2015_players[nba_2015_players['Tm'] == 'CLE'].sort_values('MP', ascending = False)[0:10]\n",
    "cle_2014 = nba_2014_players[nba_2014_players['Tm'] == 'CLE'].sort_values('MP', ascending = False)[0:10]\n"
   ]
  },
  {
   "cell_type": "code",
   "execution_count": 88,
   "metadata": {},
   "outputs": [],
   "source": [
    "dal_2019 = nba_2019_players[nba_2019_players['Tm'] == 'DAL'].sort_values('MP', ascending = False)[0:10]\n",
    "dal_2018 = nba_2018_players[nba_2018_players['Tm'] == 'DAL'].sort_values('MP', ascending = False)[0:10]\n",
    "dal_2017 = nba_2017_players[nba_2017_players['Tm'] == 'DAL'].sort_values('MP', ascending = False)[0:10]\n",
    "dal_2016 = nba_2016_players[nba_2016_players['Tm'] == 'DAL'].sort_values('MP', ascending = False)[0:10]\n",
    "dal_2015 = nba_2015_players[nba_2015_players['Tm'] == 'DAL'].sort_values('MP', ascending = False)[0:10]\n",
    "dal_2014 = nba_2014_players[nba_2014_players['Tm'] == 'DAL'].sort_values('MP', ascending = False)[0:10]\n"
   ]
  },
  {
   "cell_type": "code",
   "execution_count": 89,
   "metadata": {},
   "outputs": [],
   "source": [
    "den_2019 = nba_2019_players[nba_2019_players['Tm'] == 'DEN'].sort_values('MP', ascending = False)[0:10]\n",
    "den_2018 = nba_2018_players[nba_2018_players['Tm'] == 'DEN'].sort_values('MP', ascending = False)[0:10]\n",
    "den_2017 = nba_2017_players[nba_2017_players['Tm'] == 'DEN'].sort_values('MP', ascending = False)[0:10]\n",
    "den_2016 = nba_2016_players[nba_2016_players['Tm'] == 'DEN'].sort_values('MP', ascending = False)[0:10]\n",
    "den_2015 = nba_2015_players[nba_2015_players['Tm'] == 'DEN'].sort_values('MP', ascending = False)[0:10]\n",
    "den_2014 = nba_2014_players[nba_2014_players['Tm'] == 'DEN'].sort_values('MP', ascending = False)[0:10]\n"
   ]
  },
  {
   "cell_type": "code",
   "execution_count": 90,
   "metadata": {},
   "outputs": [],
   "source": [
    "det_2019 = nba_2019_players[nba_2019_players['Tm'] == 'DET'].sort_values('MP', ascending = False)[0:10]\n",
    "det_2018 = nba_2018_players[nba_2018_players['Tm'] == 'DET'].sort_values('MP', ascending = False)[0:10]\n",
    "det_2017 = nba_2017_players[nba_2017_players['Tm'] == 'DET'].sort_values('MP', ascending = False)[0:10]\n",
    "det_2016 = nba_2016_players[nba_2016_players['Tm'] == 'DET'].sort_values('MP', ascending = False)[0:10]\n",
    "det_2015 = nba_2015_players[nba_2015_players['Tm'] == 'DET'].sort_values('MP', ascending = False)[0:10]\n",
    "det_2014 = nba_2014_players[nba_2014_players['Tm'] == 'DET'].sort_values('MP', ascending = False)[0:10]\n"
   ]
  },
  {
   "cell_type": "code",
   "execution_count": 91,
   "metadata": {},
   "outputs": [],
   "source": [
    "gsw_2019 = nba_2019_players[nba_2019_players['Tm'] == 'GSW'].sort_values('MP', ascending = False)[0:10]\n",
    "gsw_2018 = nba_2018_players[nba_2018_players['Tm'] == 'GSW'].sort_values('MP', ascending = False)[0:10]\n",
    "gsw_2017 = nba_2017_players[nba_2017_players['Tm'] == 'GSW'].sort_values('MP', ascending = False)[0:10]\n",
    "gsw_2016 = nba_2016_players[nba_2016_players['Tm'] == 'GSW'].sort_values('MP', ascending = False)[0:10]\n",
    "gsw_2015 = nba_2015_players[nba_2015_players['Tm'] == 'GSW'].sort_values('MP', ascending = False)[0:10]\n",
    "gsw_2014 = nba_2014_players[nba_2014_players['Tm'] == 'GSW'].sort_values('MP', ascending = False)[0:10]\n"
   ]
  },
  {
   "cell_type": "code",
   "execution_count": 92,
   "metadata": {},
   "outputs": [],
   "source": [
    "hou_2019 = nba_2019_players[nba_2019_players['Tm'] == 'HOU'].sort_values('MP', ascending = False)[0:10]\n",
    "hou_2018 = nba_2018_players[nba_2018_players['Tm'] == 'HOU'].sort_values('MP', ascending = False)[0:10]\n",
    "hou_2017 = nba_2017_players[nba_2017_players['Tm'] == 'HOU'].sort_values('MP', ascending = False)[0:10]\n",
    "hou_2016 = nba_2016_players[nba_2016_players['Tm'] == 'HOU'].sort_values('MP', ascending = False)[0:10]\n",
    "hou_2015 = nba_2015_players[nba_2015_players['Tm'] == 'HOU'].sort_values('MP', ascending = False)[0:10]\n",
    "hou_2014 = nba_2014_players[nba_2014_players['Tm'] == 'HOU'].sort_values('MP', ascending = False)[0:10]\n"
   ]
  },
  {
   "cell_type": "code",
   "execution_count": 93,
   "metadata": {},
   "outputs": [],
   "source": [
    "ind_2019 = nba_2019_players[nba_2019_players['Tm'] == 'IND'].sort_values('MP', ascending = False)[0:10]\n",
    "ind_2018 = nba_2018_players[nba_2018_players['Tm'] == 'IND'].sort_values('MP', ascending = False)[0:10]\n",
    "ind_2017 = nba_2017_players[nba_2017_players['Tm'] == 'IND'].sort_values('MP', ascending = False)[0:10]\n",
    "ind_2016 = nba_2016_players[nba_2016_players['Tm'] == 'IND'].sort_values('MP', ascending = False)[0:10]\n",
    "ind_2015 = nba_2015_players[nba_2015_players['Tm'] == 'IND'].sort_values('MP', ascending = False)[0:10]\n",
    "ind_2014 = nba_2014_players[nba_2014_players['Tm'] == 'IND'].sort_values('MP', ascending = False)[0:10]\n"
   ]
  },
  {
   "cell_type": "code",
   "execution_count": 94,
   "metadata": {},
   "outputs": [],
   "source": [
    "lac_2019 = nba_2019_players[nba_2019_players['Tm'] == 'LAC'].sort_values('MP', ascending = False)[0:10]\n",
    "lac_2018 = nba_2018_players[nba_2018_players['Tm'] == 'LAC'].sort_values('MP', ascending = False)[0:10]\n",
    "lac_2017 = nba_2017_players[nba_2017_players['Tm'] == 'LAC'].sort_values('MP', ascending = False)[0:10]\n",
    "lac_2016 = nba_2016_players[nba_2016_players['Tm'] == 'LAC'].sort_values('MP', ascending = False)[0:10]\n",
    "lac_2015 = nba_2015_players[nba_2015_players['Tm'] == 'LAC'].sort_values('MP', ascending = False)[0:10]\n",
    "lac_2014 = nba_2014_players[nba_2014_players['Tm'] == 'LAC'].sort_values('MP', ascending = False)[0:10]\n"
   ]
  },
  {
   "cell_type": "code",
   "execution_count": 95,
   "metadata": {},
   "outputs": [],
   "source": [
    "lal_2019 = nba_2019_players[nba_2019_players['Tm'] == 'LAL'].sort_values('MP', ascending = False)[0:10]\n",
    "lal_2018 = nba_2018_players[nba_2018_players['Tm'] == 'LAL'].sort_values('MP', ascending = False)[0:10]\n",
    "lal_2017 = nba_2017_players[nba_2017_players['Tm'] == 'LAL'].sort_values('MP', ascending = False)[0:10]\n",
    "lal_2016 = nba_2016_players[nba_2016_players['Tm'] == 'LAL'].sort_values('MP', ascending = False)[0:10]\n",
    "lal_2015 = nba_2015_players[nba_2015_players['Tm'] == 'LAL'].sort_values('MP', ascending = False)[0:10]\n",
    "lal_2014 = nba_2014_players[nba_2014_players['Tm'] == 'LAL'].sort_values('MP', ascending = False)[0:10]\n"
   ]
  },
  {
   "cell_type": "code",
   "execution_count": 96,
   "metadata": {},
   "outputs": [],
   "source": [
    "mem_2019 = nba_2019_players[nba_2019_players['Tm'] == 'MEM'].sort_values('MP', ascending = False)[0:10]\n",
    "mem_2018 = nba_2018_players[nba_2018_players['Tm'] == 'MEM'].sort_values('MP', ascending = False)[0:10]\n",
    "mem_2017 = nba_2017_players[nba_2017_players['Tm'] == 'MEM'].sort_values('MP', ascending = False)[0:10]\n",
    "mem_2016 = nba_2016_players[nba_2016_players['Tm'] == 'MEM'].sort_values('MP', ascending = False)[0:10]\n",
    "mem_2015 = nba_2015_players[nba_2015_players['Tm'] == 'MEM'].sort_values('MP', ascending = False)[0:10]\n",
    "mem_2014 = nba_2014_players[nba_2014_players['Tm'] == 'MEM'].sort_values('MP', ascending = False)[0:10]\n"
   ]
  },
  {
   "cell_type": "code",
   "execution_count": 97,
   "metadata": {},
   "outputs": [],
   "source": [
    "mia_2019 = nba_2019_players[nba_2019_players['Tm'] == 'MIA'].sort_values('MP', ascending = False)[0:10]\n",
    "mia_2018 = nba_2018_players[nba_2018_players['Tm'] == 'MIA'].sort_values('MP', ascending = False)[0:10]\n",
    "mia_2017 = nba_2017_players[nba_2017_players['Tm'] == 'MIA'].sort_values('MP', ascending = False)[0:10]\n",
    "mia_2016 = nba_2016_players[nba_2016_players['Tm'] == 'MIA'].sort_values('MP', ascending = False)[0:10]\n",
    "mia_2015 = nba_2015_players[nba_2015_players['Tm'] == 'MIA'].sort_values('MP', ascending = False)[0:10]\n",
    "mia_2014 = nba_2014_players[nba_2014_players['Tm'] == 'MIA'].sort_values('MP', ascending = False)[0:10]\n"
   ]
  },
  {
   "cell_type": "code",
   "execution_count": 98,
   "metadata": {},
   "outputs": [],
   "source": [
    "mil_2019 = nba_2019_players[nba_2019_players['Tm'] == 'MIL'].sort_values('MP', ascending = False)[0:10]\n",
    "mil_2018 = nba_2018_players[nba_2018_players['Tm'] == 'MIL'].sort_values('MP', ascending = False)[0:10]\n",
    "mil_2017 = nba_2017_players[nba_2017_players['Tm'] == 'MIL'].sort_values('MP', ascending = False)[0:10]\n",
    "mil_2016 = nba_2016_players[nba_2016_players['Tm'] == 'MIL'].sort_values('MP', ascending = False)[0:10]\n",
    "mil_2015 = nba_2015_players[nba_2015_players['Tm'] == 'MIL'].sort_values('MP', ascending = False)[0:10]\n",
    "mil_2014 = nba_2014_players[nba_2014_players['Tm'] == 'MIL'].sort_values('MP', ascending = False)[0:10]\n"
   ]
  },
  {
   "cell_type": "code",
   "execution_count": 99,
   "metadata": {},
   "outputs": [],
   "source": [
    "min_2019 = nba_2019_players[nba_2019_players['Tm'] == 'MIN'].sort_values('MP', ascending = False)[0:10]\n",
    "min_2018 = nba_2018_players[nba_2018_players['Tm'] == 'MIN'].sort_values('MP', ascending = False)[0:10]\n",
    "min_2017 = nba_2017_players[nba_2017_players['Tm'] == 'MIN'].sort_values('MP', ascending = False)[0:10]\n",
    "min_2016 = nba_2016_players[nba_2016_players['Tm'] == 'MIN'].sort_values('MP', ascending = False)[0:10]\n",
    "min_2015 = nba_2015_players[nba_2015_players['Tm'] == 'MIN'].sort_values('MP', ascending = False)[0:10]\n",
    "min_2014 = nba_2014_players[nba_2014_players['Tm'] == 'MIN'].sort_values('MP', ascending = False)[0:10]\n"
   ]
  },
  {
   "cell_type": "code",
   "execution_count": 100,
   "metadata": {},
   "outputs": [],
   "source": [
    "nop_2019 = nba_2019_players[nba_2019_players['Tm'] == 'NOP'].sort_values('MP', ascending = False)[0:10]\n",
    "nop_2018 = nba_2018_players[nba_2018_players['Tm'] == 'NOP'].sort_values('MP', ascending = False)[0:10]\n",
    "nop_2017 = nba_2017_players[nba_2017_players['Tm'] == 'NOP'].sort_values('MP', ascending = False)[0:10]\n",
    "nop_2016 = nba_2016_players[nba_2016_players['Tm'] == 'NOP'].sort_values('MP', ascending = False)[0:10]\n",
    "nop_2015 = nba_2015_players[nba_2015_players['Tm'] == 'NOP'].sort_values('MP', ascending = False)[0:10]\n",
    "nop_2014 = nba_2014_players[nba_2014_players['Tm'] == 'NOP'].sort_values('MP', ascending = False)[0:10]\n"
   ]
  },
  {
   "cell_type": "code",
   "execution_count": 101,
   "metadata": {},
   "outputs": [],
   "source": [
    "nyk_2019 = nba_2019_players[nba_2019_players['Tm'] == 'NYK'].sort_values('MP', ascending = False)[0:10]\n",
    "nyk_2018 = nba_2018_players[nba_2018_players['Tm'] == 'NYK'].sort_values('MP', ascending = False)[0:10]\n",
    "nyk_2017 = nba_2017_players[nba_2017_players['Tm'] == 'NYK'].sort_values('MP', ascending = False)[0:10]\n",
    "nyk_2016 = nba_2016_players[nba_2016_players['Tm'] == 'NYK'].sort_values('MP', ascending = False)[0:10]\n",
    "nyk_2015 = nba_2015_players[nba_2015_players['Tm'] == 'NYK'].sort_values('MP', ascending = False)[0:10]\n",
    "nyk_2014 = nba_2014_players[nba_2014_players['Tm'] == 'NYK'].sort_values('MP', ascending = False)[0:10]\n"
   ]
  },
  {
   "cell_type": "code",
   "execution_count": 102,
   "metadata": {},
   "outputs": [],
   "source": [
    "okc_2019 = nba_2019_players[nba_2019_players['Tm'] == 'OKC'].sort_values('MP', ascending = False)[0:10]\n",
    "okc_2018 = nba_2018_players[nba_2018_players['Tm'] == 'OKC'].sort_values('MP', ascending = False)[0:10]\n",
    "okc_2017 = nba_2017_players[nba_2017_players['Tm'] == 'OKC'].sort_values('MP', ascending = False)[0:10]\n",
    "okc_2016 = nba_2016_players[nba_2016_players['Tm'] == 'OKC'].sort_values('MP', ascending = False)[0:10]\n",
    "okc_2015 = nba_2015_players[nba_2015_players['Tm'] == 'OKC'].sort_values('MP', ascending = False)[0:10]\n",
    "okc_2014 = nba_2014_players[nba_2014_players['Tm'] == 'OKC'].sort_values('MP', ascending = False)[0:10]\n"
   ]
  },
  {
   "cell_type": "code",
   "execution_count": 103,
   "metadata": {},
   "outputs": [],
   "source": [
    "orl_2019 = nba_2019_players[nba_2019_players['Tm'] == 'ORL'].sort_values('MP', ascending = False)[0:10]\n",
    "orl_2018 = nba_2018_players[nba_2018_players['Tm'] == 'ORL'].sort_values('MP', ascending = False)[0:10]\n",
    "orl_2017 = nba_2017_players[nba_2017_players['Tm'] == 'ORL'].sort_values('MP', ascending = False)[0:10]\n",
    "orl_2016 = nba_2016_players[nba_2016_players['Tm'] == 'ORL'].sort_values('MP', ascending = False)[0:10]\n",
    "orl_2015 = nba_2015_players[nba_2015_players['Tm'] == 'ORL'].sort_values('MP', ascending = False)[0:10]\n",
    "orl_2014 = nba_2014_players[nba_2014_players['Tm'] == 'ORL'].sort_values('MP', ascending = False)[0:10]\n"
   ]
  },
  {
   "cell_type": "code",
   "execution_count": 104,
   "metadata": {},
   "outputs": [],
   "source": [
    "phi_2019 = nba_2019_players[nba_2019_players['Tm'] == 'PHI'].sort_values('MP', ascending = False)[0:10]\n",
    "phi_2018 = nba_2018_players[nba_2018_players['Tm'] == 'PHI'].sort_values('MP', ascending = False)[0:10]\n",
    "phi_2017 = nba_2017_players[nba_2017_players['Tm'] == 'PHI'].sort_values('MP', ascending = False)[0:10]\n",
    "phi_2016 = nba_2016_players[nba_2016_players['Tm'] == 'PHI'].sort_values('MP', ascending = False)[0:10]\n",
    "phi_2015 = nba_2015_players[nba_2015_players['Tm'] == 'PHI'].sort_values('MP', ascending = False)[0:10]\n",
    "phi_2014 = nba_2014_players[nba_2014_players['Tm'] == 'PHI'].sort_values('MP', ascending = False)[0:10]\n"
   ]
  },
  {
   "cell_type": "code",
   "execution_count": 105,
   "metadata": {},
   "outputs": [],
   "source": [
    "pho_2019 = nba_2019_players[nba_2019_players['Tm'] == 'PHO'].sort_values('MP', ascending = False)[0:10]\n",
    "pho_2018 = nba_2018_players[nba_2018_players['Tm'] == 'PHO'].sort_values('MP', ascending = False)[0:10]\n",
    "pho_2017 = nba_2017_players[nba_2017_players['Tm'] == 'PHO'].sort_values('MP', ascending = False)[0:10]\n",
    "pho_2016 = nba_2016_players[nba_2016_players['Tm'] == 'PHO'].sort_values('MP', ascending = False)[0:10]\n",
    "pho_2015 = nba_2015_players[nba_2015_players['Tm'] == 'PHO'].sort_values('MP', ascending = False)[0:10]\n",
    "pho_2014 = nba_2014_players[nba_2014_players['Tm'] == 'PHO'].sort_values('MP', ascending = False)[0:10]\n"
   ]
  },
  {
   "cell_type": "code",
   "execution_count": 106,
   "metadata": {},
   "outputs": [],
   "source": [
    "por_2019 = nba_2019_players[nba_2019_players['Tm'] == 'POR'].sort_values('MP', ascending = False)[0:10]\n",
    "por_2018 = nba_2018_players[nba_2018_players['Tm'] == 'POR'].sort_values('MP', ascending = False)[0:10]\n",
    "por_2017 = nba_2017_players[nba_2017_players['Tm'] == 'POR'].sort_values('MP', ascending = False)[0:10]\n",
    "por_2016 = nba_2016_players[nba_2016_players['Tm'] == 'POR'].sort_values('MP', ascending = False)[0:10]\n",
    "por_2015 = nba_2015_players[nba_2015_players['Tm'] == 'POR'].sort_values('MP', ascending = False)[0:10]\n",
    "por_2014 = nba_2014_players[nba_2014_players['Tm'] == 'POR'].sort_values('MP', ascending = False)[0:10]\n"
   ]
  },
  {
   "cell_type": "code",
   "execution_count": 107,
   "metadata": {},
   "outputs": [],
   "source": [
    "sac_2019 = nba_2019_players[nba_2019_players['Tm'] == 'SAC'].sort_values('MP', ascending = False)[0:10]\n",
    "sac_2018 = nba_2018_players[nba_2018_players['Tm'] == 'SAC'].sort_values('MP', ascending = False)[0:10]\n",
    "sac_2017 = nba_2017_players[nba_2017_players['Tm'] == 'SAC'].sort_values('MP', ascending = False)[0:10]\n",
    "sac_2016 = nba_2016_players[nba_2016_players['Tm'] == 'SAC'].sort_values('MP', ascending = False)[0:10]\n",
    "sac_2015 = nba_2015_players[nba_2015_players['Tm'] == 'SAC'].sort_values('MP', ascending = False)[0:10]\n",
    "sac_2014 = nba_2014_players[nba_2014_players['Tm'] == 'SAC'].sort_values('MP', ascending = False)[0:10]\n"
   ]
  },
  {
   "cell_type": "code",
   "execution_count": 108,
   "metadata": {},
   "outputs": [],
   "source": [
    "sas_2019 = nba_2019_players[nba_2019_players['Tm'] == 'SAS'].sort_values('MP', ascending = False)[0:10]\n",
    "sas_2018 = nba_2018_players[nba_2018_players['Tm'] == 'SAS'].sort_values('MP', ascending = False)[0:10]\n",
    "sas_2017 = nba_2017_players[nba_2017_players['Tm'] == 'SAS'].sort_values('MP', ascending = False)[0:10]\n",
    "sas_2016 = nba_2016_players[nba_2016_players['Tm'] == 'SAS'].sort_values('MP', ascending = False)[0:10]\n",
    "sas_2015 = nba_2015_players[nba_2015_players['Tm'] == 'SAS'].sort_values('MP', ascending = False)[0:10]\n",
    "sas_2014 = nba_2014_players[nba_2014_players['Tm'] == 'SAS'].sort_values('MP', ascending = False)[0:10]\n"
   ]
  },
  {
   "cell_type": "code",
   "execution_count": 109,
   "metadata": {},
   "outputs": [],
   "source": [
    "tor_2019 = nba_2019_players[nba_2019_players['Tm'] == 'TOR'].sort_values('MP', ascending = False)[0:10]\n",
    "tor_2018 = nba_2018_players[nba_2018_players['Tm'] == 'TOR'].sort_values('MP', ascending = False)[0:10]\n",
    "tor_2017 = nba_2017_players[nba_2017_players['Tm'] == 'TOR'].sort_values('MP', ascending = False)[0:10]\n",
    "tor_2016 = nba_2016_players[nba_2016_players['Tm'] == 'TOR'].sort_values('MP', ascending = False)[0:10]\n",
    "tor_2015 = nba_2015_players[nba_2015_players['Tm'] == 'TOR'].sort_values('MP', ascending = False)[0:10]\n",
    "tor_2014 = nba_2014_players[nba_2014_players['Tm'] == 'TOR'].sort_values('MP', ascending = False)[0:10]\n"
   ]
  },
  {
   "cell_type": "code",
   "execution_count": 110,
   "metadata": {},
   "outputs": [],
   "source": [
    "uta_2019 = nba_2019_players[nba_2019_players['Tm'] == 'UTA'].sort_values('MP', ascending = False)[0:10]\n",
    "uta_2018 = nba_2018_players[nba_2018_players['Tm'] == 'UTA'].sort_values('MP', ascending = False)[0:10]\n",
    "uta_2017 = nba_2017_players[nba_2017_players['Tm'] == 'UTA'].sort_values('MP', ascending = False)[0:10]\n",
    "uta_2016 = nba_2016_players[nba_2016_players['Tm'] == 'UTA'].sort_values('MP', ascending = False)[0:10]\n",
    "uta_2015 = nba_2015_players[nba_2015_players['Tm'] == 'UTA'].sort_values('MP', ascending = False)[0:10]\n",
    "uta_2014 = nba_2014_players[nba_2014_players['Tm'] == 'UTA'].sort_values('MP', ascending = False)[0:10]\n"
   ]
  },
  {
   "cell_type": "code",
   "execution_count": 111,
   "metadata": {},
   "outputs": [],
   "source": [
    "was_2019 = nba_2019_players[nba_2019_players['Tm'] == 'WAS'].sort_values('MP', ascending = False)[0:10]\n",
    "was_2018 = nba_2018_players[nba_2018_players['Tm'] == 'WAS'].sort_values('MP', ascending = False)[0:10]\n",
    "was_2017 = nba_2017_players[nba_2017_players['Tm'] == 'WAS'].sort_values('MP', ascending = False)[0:10]\n",
    "was_2016 = nba_2016_players[nba_2016_players['Tm'] == 'WAS'].sort_values('MP', ascending = False)[0:10]\n",
    "was_2015 = nba_2015_players[nba_2015_players['Tm'] == 'WAS'].sort_values('MP', ascending = False)[0:10]\n",
    "was_2014 = nba_2014_players[nba_2014_players['Tm'] == 'WAS'].sort_values('MP', ascending = False)[0:10]\n"
   ]
  },
  {
   "cell_type": "code",
   "execution_count": null,
   "metadata": {},
   "outputs": [],
   "source": []
  },
  {
   "cell_type": "code",
   "execution_count": 112,
   "metadata": {},
   "outputs": [],
   "source": [
    "# atl_2019, atl_2018, atl_2017, atl_2016, atl_2015, atl_2014, "
   ]
  },
  {
   "cell_type": "markdown",
   "metadata": {},
   "source": [
    "# Weighing players on each team by win shares"
   ]
  },
  {
   "cell_type": "markdown",
   "metadata": {},
   "source": [
    "Creating list of all teams"
   ]
  },
  {
   "cell_type": "code",
   "execution_count": 113,
   "metadata": {},
   "outputs": [],
   "source": [
    "teams_list = [bos_2019, bos_2018, bos_2017, bos_2016, bos_2015, bos_2014,\n",
    "             brk_2019, brk_2018, brk_2017, brk_2016, brk_2015, brk_2014,\n",
    "             cho_2019, cho_2018, cho_2017, cho_2016, cho_2015, cho_2014,\n",
    "             chi_2019, chi_2018, chi_2017, chi_2016, chi_2015, chi_2014,\n",
    "             cle_2019, cle_2018, cle_2017, cle_2016, cle_2015, cle_2014,\n",
    "             dal_2019, dal_2018, dal_2017, dal_2016, dal_2015, dal_2014,\n",
    "             den_2019, den_2018, den_2017, den_2016, den_2015, den_2014,\n",
    "             det_2019, det_2018, det_2017, det_2016, det_2015, det_2014,\n",
    "             gsw_2019, gsw_2018, gsw_2017, gsw_2016, gsw_2015, gsw_2014,\n",
    "             hou_2019, hou_2018, hou_2017, hou_2016, hou_2015, hou_2014,\n",
    "             ind_2019, ind_2018, ind_2017, ind_2016, ind_2015, ind_2014,\n",
    "             lac_2019, lac_2018, lac_2017, lac_2016, lac_2015, lac_2014,\n",
    "             lal_2019, lal_2018, lal_2017, lal_2016, lal_2015, lal_2014,\n",
    "             mem_2019, mem_2018, mem_2017, mem_2016, mem_2015, mem_2014,\n",
    "             mia_2019, mia_2018, mia_2017, mia_2016, mia_2015, mia_2014,\n",
    "             mil_2019, mil_2018, mil_2017, mil_2016, mil_2015, mil_2014,\n",
    "             min_2019, min_2018, min_2017, min_2016, min_2015, min_2014,\n",
    "             nop_2019, nop_2018, nop_2017, nop_2016, nop_2015, nop_2014,\n",
    "             nyk_2019, nyk_2018, nyk_2017, nyk_2016, nyk_2015, nyk_2014,\n",
    "             okc_2019, okc_2018, okc_2017, okc_2016, okc_2015, okc_2014,\n",
    "             orl_2019, orl_2018, orl_2017, orl_2016, orl_2015, orl_2014,\n",
    "             phi_2019, phi_2018, phi_2017, phi_2016, phi_2015, phi_2014,\n",
    "             pho_2019, pho_2018, pho_2017, pho_2016, pho_2015, pho_2014,\n",
    "             por_2019, por_2018, por_2017, por_2016, por_2015, por_2014,\n",
    "             sac_2019, sac_2018, sac_2017, sac_2016, sac_2015, sac_2014,\n",
    "             sas_2019, sas_2018, sas_2017, sas_2016, sas_2015, sas_2014,\n",
    "             tor_2019, tor_2018, tor_2017, tor_2016, tor_2015, tor_2014,\n",
    "             uta_2019, uta_2018, uta_2017, uta_2016, uta_2015, uta_2014,\n",
    "             was_2019, was_2018, was_2017, was_2016, was_2015, was_2014]"
   ]
  },
  {
   "cell_type": "code",
   "execution_count": null,
   "metadata": {},
   "outputs": [],
   "source": []
  },
  {
   "cell_type": "markdown",
   "metadata": {},
   "source": [
    "# Created a weighing factor to add to the dataset that wasnt really necessary after more thought"
   ]
  },
  {
   "cell_type": "markdown",
   "metadata": {},
   "source": [
    "Creating a list of all columns that will be transformed by the weight factor of WS's"
   ]
  },
  {
   "cell_type": "code",
   "execution_count": 114,
   "metadata": {},
   "outputs": [],
   "source": [
    "# transformation_columns = []\n",
    "\n",
    "# for x in atl_2019.columns[6:50]:\n",
    "#     if x != 'WS':\n",
    "#         transformation_columns.append(x)"
   ]
  },
  {
   "cell_type": "code",
   "execution_count": null,
   "metadata": {},
   "outputs": [],
   "source": []
  },
  {
   "cell_type": "markdown",
   "metadata": {},
   "source": [
    "Creating functions for the % of win shares per player per team and applying that win share percent to the other columns "
   ]
  },
  {
   "cell_type": "code",
   "execution_count": 115,
   "metadata": {},
   "outputs": [],
   "source": [
    "# def win_share_percentage(df):\n",
    "#     df['WS'] = df['WS'] / df['WS'].sum()\n",
    "#     return df['WS']"
   ]
  },
  {
   "cell_type": "code",
   "execution_count": 116,
   "metadata": {},
   "outputs": [],
   "source": [
    "# def applying_weight_factor(df, cols):\n",
    "#     df[cols] = df[cols].apply(lambda x: x*win_share_percentage(df))\n",
    "#     return df"
   ]
  },
  {
   "cell_type": "code",
   "execution_count": null,
   "metadata": {},
   "outputs": [],
   "source": []
  },
  {
   "cell_type": "markdown",
   "metadata": {},
   "source": [
    "Applying function to all teams"
   ]
  },
  {
   "cell_type": "code",
   "execution_count": 117,
   "metadata": {},
   "outputs": [],
   "source": [
    "# for team in teams_list:\n",
    "#     applying_weight_factor(team, transformation_columns)"
   ]
  },
  {
   "cell_type": "code",
   "execution_count": null,
   "metadata": {},
   "outputs": [],
   "source": []
  },
  {
   "cell_type": "code",
   "execution_count": null,
   "metadata": {},
   "outputs": [],
   "source": []
  },
  {
   "cell_type": "markdown",
   "metadata": {
    "collapsed": true
   },
   "source": [
    "# Creating seperate dataframes by season for all 30 teams to later concat with the team data (all sorted aphabetically)"
   ]
  },
  {
   "cell_type": "code",
   "execution_count": 118,
   "metadata": {},
   "outputs": [],
   "source": [
    "for x in teams_list:\n",
    "    for y in x['year'][0:1]:\n",
    "        if y == 2019:\n",
    "            atl_2019 = atl_2019.append(x)\n",
    "        elif y == 2018:\n",
    "            atl_2018 = atl_2018.append(x)\n",
    "        elif y == 2017:\n",
    "            atl_2017 = atl_2017.append(x)\n",
    "        elif y == 2016:\n",
    "            atl_2016 = atl_2016.append(x)\n",
    "        elif y == 2015:\n",
    "            atl_2015 = atl_2015.append(x)\n",
    "        elif y == 2014:\n",
    "            atl_2014 = atl_2014.append(x)"
   ]
  },
  {
   "cell_type": "code",
   "execution_count": 119,
   "metadata": {},
   "outputs": [],
   "source": [
    "players_2019 = atl_2019.groupby('Tm').sum().reset_index()"
   ]
  },
  {
   "cell_type": "code",
   "execution_count": 120,
   "metadata": {},
   "outputs": [],
   "source": [
    "players_2018 = atl_2018.groupby('Tm').sum().reset_index()"
   ]
  },
  {
   "cell_type": "code",
   "execution_count": 121,
   "metadata": {},
   "outputs": [],
   "source": [
    "players_2017 = atl_2017.groupby('Tm').sum().reset_index()"
   ]
  },
  {
   "cell_type": "code",
   "execution_count": 122,
   "metadata": {},
   "outputs": [],
   "source": [
    "players_2016 = atl_2016.groupby('Tm').sum().reset_index()"
   ]
  },
  {
   "cell_type": "code",
   "execution_count": 123,
   "metadata": {},
   "outputs": [],
   "source": [
    "players_2015 = atl_2015.groupby('Tm').sum().reset_index()"
   ]
  },
  {
   "cell_type": "code",
   "execution_count": 124,
   "metadata": {},
   "outputs": [],
   "source": [
    "players_2014 = atl_2014.groupby('Tm').sum().reset_index()"
   ]
  },
  {
   "cell_type": "code",
   "execution_count": 125,
   "metadata": {},
   "outputs": [
    {
     "data": {
      "text/html": [
       "<div>\n",
       "<style scoped>\n",
       "    .dataframe tbody tr th:only-of-type {\n",
       "        vertical-align: middle;\n",
       "    }\n",
       "\n",
       "    .dataframe tbody tr th {\n",
       "        vertical-align: top;\n",
       "    }\n",
       "\n",
       "    .dataframe thead th {\n",
       "        text-align: right;\n",
       "    }\n",
       "</style>\n",
       "<table border=\"1\" class=\"dataframe\">\n",
       "  <thead>\n",
       "    <tr style=\"text-align: right;\">\n",
       "      <th></th>\n",
       "      <th>Tm</th>\n",
       "      <th>Age</th>\n",
       "      <th>G</th>\n",
       "      <th>GS</th>\n",
       "      <th>MPG</th>\n",
       "      <th>FG</th>\n",
       "      <th>FGA</th>\n",
       "      <th>FG%</th>\n",
       "      <th>3P</th>\n",
       "      <th>3PA</th>\n",
       "      <th>...</th>\n",
       "      <th>USG%</th>\n",
       "      <th>OWS</th>\n",
       "      <th>DWS</th>\n",
       "      <th>WS</th>\n",
       "      <th>WS/48</th>\n",
       "      <th>OBPM</th>\n",
       "      <th>DBPM</th>\n",
       "      <th>BPM</th>\n",
       "      <th>VORP</th>\n",
       "      <th>year</th>\n",
       "    </tr>\n",
       "  </thead>\n",
       "  <tbody>\n",
       "    <tr>\n",
       "      <th>0</th>\n",
       "      <td>ATL</td>\n",
       "      <td>264</td>\n",
       "      <td>689</td>\n",
       "      <td>389</td>\n",
       "      <td>246.8</td>\n",
       "      <td>44.4</td>\n",
       "      <td>96.9</td>\n",
       "      <td>4.557</td>\n",
       "      <td>13.6</td>\n",
       "      <td>38.4</td>\n",
       "      <td>...</td>\n",
       "      <td>204.6</td>\n",
       "      <td>14.4</td>\n",
       "      <td>10.2</td>\n",
       "      <td>24.9</td>\n",
       "      <td>0.725</td>\n",
       "      <td>-3.7</td>\n",
       "      <td>-7.300000e+00</td>\n",
       "      <td>-1.080000e+01</td>\n",
       "      <td>3.8</td>\n",
       "      <td>20190</td>\n",
       "    </tr>\n",
       "    <tr>\n",
       "      <th>1</th>\n",
       "      <td>BOS</td>\n",
       "      <td>263</td>\n",
       "      <td>711</td>\n",
       "      <td>404</td>\n",
       "      <td>252.9</td>\n",
       "      <td>45.3</td>\n",
       "      <td>96.9</td>\n",
       "      <td>4.679</td>\n",
       "      <td>13.4</td>\n",
       "      <td>36.3</td>\n",
       "      <td>...</td>\n",
       "      <td>196.8</td>\n",
       "      <td>24.4</td>\n",
       "      <td>24.2</td>\n",
       "      <td>48.4</td>\n",
       "      <td>1.310</td>\n",
       "      <td>3.0</td>\n",
       "      <td>6.200000e+00</td>\n",
       "      <td>9.000000e+00</td>\n",
       "      <td>14.6</td>\n",
       "      <td>20190</td>\n",
       "    </tr>\n",
       "    <tr>\n",
       "      <th>2</th>\n",
       "      <td>BRK</td>\n",
       "      <td>258</td>\n",
       "      <td>677</td>\n",
       "      <td>362</td>\n",
       "      <td>246.4</td>\n",
       "      <td>39.8</td>\n",
       "      <td>88.3</td>\n",
       "      <td>4.628</td>\n",
       "      <td>13.1</td>\n",
       "      <td>35.8</td>\n",
       "      <td>...</td>\n",
       "      <td>187.8</td>\n",
       "      <td>18.9</td>\n",
       "      <td>18.5</td>\n",
       "      <td>37.1</td>\n",
       "      <td>0.999</td>\n",
       "      <td>-6.3</td>\n",
       "      <td>1.200000e+00</td>\n",
       "      <td>-5.200000e+00</td>\n",
       "      <td>8.4</td>\n",
       "      <td>20190</td>\n",
       "    </tr>\n",
       "    <tr>\n",
       "      <th>3</th>\n",
       "      <td>CHI</td>\n",
       "      <td>242</td>\n",
       "      <td>553</td>\n",
       "      <td>348</td>\n",
       "      <td>272.2</td>\n",
       "      <td>45.3</td>\n",
       "      <td>100.7</td>\n",
       "      <td>4.518</td>\n",
       "      <td>10.7</td>\n",
       "      <td>31.2</td>\n",
       "      <td>...</td>\n",
       "      <td>199.8</td>\n",
       "      <td>7.1</td>\n",
       "      <td>10.4</td>\n",
       "      <td>17.2</td>\n",
       "      <td>0.513</td>\n",
       "      <td>-13.0</td>\n",
       "      <td>-3.900000e+00</td>\n",
       "      <td>-1.710000e+01</td>\n",
       "      <td>2.0</td>\n",
       "      <td>20190</td>\n",
       "    </tr>\n",
       "    <tr>\n",
       "      <th>4</th>\n",
       "      <td>CHO</td>\n",
       "      <td>267</td>\n",
       "      <td>691</td>\n",
       "      <td>362</td>\n",
       "      <td>237.3</td>\n",
       "      <td>40.4</td>\n",
       "      <td>89.1</td>\n",
       "      <td>4.603</td>\n",
       "      <td>11.3</td>\n",
       "      <td>31.9</td>\n",
       "      <td>...</td>\n",
       "      <td>201.4</td>\n",
       "      <td>20.2</td>\n",
       "      <td>13.0</td>\n",
       "      <td>33.3</td>\n",
       "      <td>0.940</td>\n",
       "      <td>1.0</td>\n",
       "      <td>-4.800000e+00</td>\n",
       "      <td>-4.000000e+00</td>\n",
       "      <td>9.2</td>\n",
       "      <td>20190</td>\n",
       "    </tr>\n",
       "    <tr>\n",
       "      <th>5</th>\n",
       "      <td>CLE</td>\n",
       "      <td>251</td>\n",
       "      <td>574</td>\n",
       "      <td>325</td>\n",
       "      <td>259.7</td>\n",
       "      <td>42.4</td>\n",
       "      <td>93.3</td>\n",
       "      <td>4.628</td>\n",
       "      <td>9.6</td>\n",
       "      <td>27.2</td>\n",
       "      <td>...</td>\n",
       "      <td>194.1</td>\n",
       "      <td>13.8</td>\n",
       "      <td>2.5</td>\n",
       "      <td>16.4</td>\n",
       "      <td>0.576</td>\n",
       "      <td>-3.8</td>\n",
       "      <td>-1.590000e+01</td>\n",
       "      <td>-1.980000e+01</td>\n",
       "      <td>0.0</td>\n",
       "      <td>20190</td>\n",
       "    </tr>\n",
       "    <tr>\n",
       "      <th>6</th>\n",
       "      <td>DAL</td>\n",
       "      <td>264</td>\n",
       "      <td>617</td>\n",
       "      <td>353</td>\n",
       "      <td>258.7</td>\n",
       "      <td>41.0</td>\n",
       "      <td>90.5</td>\n",
       "      <td>4.658</td>\n",
       "      <td>12.8</td>\n",
       "      <td>36.5</td>\n",
       "      <td>...</td>\n",
       "      <td>193.1</td>\n",
       "      <td>16.4</td>\n",
       "      <td>15.7</td>\n",
       "      <td>32.5</td>\n",
       "      <td>0.948</td>\n",
       "      <td>-3.3</td>\n",
       "      <td>2.300000e+00</td>\n",
       "      <td>-1.000000e+00</td>\n",
       "      <td>8.6</td>\n",
       "      <td>20190</td>\n",
       "    </tr>\n",
       "    <tr>\n",
       "      <th>7</th>\n",
       "      <td>DEN</td>\n",
       "      <td>253</td>\n",
       "      <td>715</td>\n",
       "      <td>408</td>\n",
       "      <td>255.2</td>\n",
       "      <td>43.9</td>\n",
       "      <td>94.5</td>\n",
       "      <td>4.699</td>\n",
       "      <td>11.6</td>\n",
       "      <td>33.0</td>\n",
       "      <td>...</td>\n",
       "      <td>188.5</td>\n",
       "      <td>27.9</td>\n",
       "      <td>21.5</td>\n",
       "      <td>49.3</td>\n",
       "      <td>1.233</td>\n",
       "      <td>4.5</td>\n",
       "      <td>4.100000e+00</td>\n",
       "      <td>8.700000e+00</td>\n",
       "      <td>15.4</td>\n",
       "      <td>20190</td>\n",
       "    </tr>\n",
       "    <tr>\n",
       "      <th>8</th>\n",
       "      <td>DET</td>\n",
       "      <td>266</td>\n",
       "      <td>669</td>\n",
       "      <td>360</td>\n",
       "      <td>246.6</td>\n",
       "      <td>40.9</td>\n",
       "      <td>92.6</td>\n",
       "      <td>4.293</td>\n",
       "      <td>12.9</td>\n",
       "      <td>36.6</td>\n",
       "      <td>...</td>\n",
       "      <td>194.0</td>\n",
       "      <td>17.9</td>\n",
       "      <td>19.7</td>\n",
       "      <td>37.5</td>\n",
       "      <td>0.970</td>\n",
       "      <td>-5.6</td>\n",
       "      <td>2.000000e+00</td>\n",
       "      <td>-3.700000e+00</td>\n",
       "      <td>9.6</td>\n",
       "      <td>20190</td>\n",
       "    </tr>\n",
       "    <tr>\n",
       "      <th>9</th>\n",
       "      <td>GSW</td>\n",
       "      <td>288</td>\n",
       "      <td>722</td>\n",
       "      <td>349</td>\n",
       "      <td>235.4</td>\n",
       "      <td>43.1</td>\n",
       "      <td>88.1</td>\n",
       "      <td>4.960</td>\n",
       "      <td>14.0</td>\n",
       "      <td>36.0</td>\n",
       "      <td>...</td>\n",
       "      <td>182.6</td>\n",
       "      <td>31.9</td>\n",
       "      <td>18.3</td>\n",
       "      <td>50.2</td>\n",
       "      <td>1.334</td>\n",
       "      <td>7.8</td>\n",
       "      <td>4.000000e-01</td>\n",
       "      <td>8.200000e+00</td>\n",
       "      <td>15.8</td>\n",
       "      <td>20190</td>\n",
       "    </tr>\n",
       "    <tr>\n",
       "      <th>10</th>\n",
       "      <td>HOU</td>\n",
       "      <td>285</td>\n",
       "      <td>603</td>\n",
       "      <td>391</td>\n",
       "      <td>278.5</td>\n",
       "      <td>44.3</td>\n",
       "      <td>98.7</td>\n",
       "      <td>4.419</td>\n",
       "      <td>19.4</td>\n",
       "      <td>53.8</td>\n",
       "      <td>...</td>\n",
       "      <td>183.0</td>\n",
       "      <td>32.3</td>\n",
       "      <td>16.8</td>\n",
       "      <td>49.0</td>\n",
       "      <td>1.208</td>\n",
       "      <td>9.2</td>\n",
       "      <td>-8.000000e-01</td>\n",
       "      <td>8.400000e+00</td>\n",
       "      <td>16.7</td>\n",
       "      <td>20190</td>\n",
       "    </tr>\n",
       "    <tr>\n",
       "      <th>11</th>\n",
       "      <td>IND</td>\n",
       "      <td>275</td>\n",
       "      <td>673</td>\n",
       "      <td>404</td>\n",
       "      <td>270.4</td>\n",
       "      <td>46.3</td>\n",
       "      <td>99.3</td>\n",
       "      <td>4.669</td>\n",
       "      <td>11.8</td>\n",
       "      <td>31.6</td>\n",
       "      <td>...</td>\n",
       "      <td>201.7</td>\n",
       "      <td>18.3</td>\n",
       "      <td>25.9</td>\n",
       "      <td>44.4</td>\n",
       "      <td>1.111</td>\n",
       "      <td>-0.8</td>\n",
       "      <td>6.500000e+00</td>\n",
       "      <td>5.600000e+00</td>\n",
       "      <td>13.0</td>\n",
       "      <td>20190</td>\n",
       "    </tr>\n",
       "    <tr>\n",
       "      <th>12</th>\n",
       "      <td>LAC</td>\n",
       "      <td>276</td>\n",
       "      <td>613</td>\n",
       "      <td>366</td>\n",
       "      <td>259.8</td>\n",
       "      <td>44.3</td>\n",
       "      <td>94.7</td>\n",
       "      <td>4.611</td>\n",
       "      <td>12.7</td>\n",
       "      <td>31.7</td>\n",
       "      <td>...</td>\n",
       "      <td>192.2</td>\n",
       "      <td>24.7</td>\n",
       "      <td>13.7</td>\n",
       "      <td>38.5</td>\n",
       "      <td>1.043</td>\n",
       "      <td>6.8</td>\n",
       "      <td>-2.600000e+00</td>\n",
       "      <td>4.000000e+00</td>\n",
       "      <td>12.0</td>\n",
       "      <td>20190</td>\n",
       "    </tr>\n",
       "    <tr>\n",
       "      <th>13</th>\n",
       "      <td>LAL</td>\n",
       "      <td>274</td>\n",
       "      <td>610</td>\n",
       "      <td>365</td>\n",
       "      <td>267.8</td>\n",
       "      <td>47.8</td>\n",
       "      <td>101.3</td>\n",
       "      <td>4.770</td>\n",
       "      <td>11.4</td>\n",
       "      <td>34.2</td>\n",
       "      <td>...</td>\n",
       "      <td>193.0</td>\n",
       "      <td>12.4</td>\n",
       "      <td>18.0</td>\n",
       "      <td>30.2</td>\n",
       "      <td>0.889</td>\n",
       "      <td>-5.0</td>\n",
       "      <td>4.400000e+00</td>\n",
       "      <td>-9.000000e-01</td>\n",
       "      <td>8.7</td>\n",
       "      <td>20190</td>\n",
       "    </tr>\n",
       "    <tr>\n",
       "      <th>14</th>\n",
       "      <td>MEM</td>\n",
       "      <td>275</td>\n",
       "      <td>471</td>\n",
       "      <td>344</td>\n",
       "      <td>282.4</td>\n",
       "      <td>42.0</td>\n",
       "      <td>93.8</td>\n",
       "      <td>4.508</td>\n",
       "      <td>11.7</td>\n",
       "      <td>33.7</td>\n",
       "      <td>...</td>\n",
       "      <td>188.7</td>\n",
       "      <td>10.2</td>\n",
       "      <td>16.4</td>\n",
       "      <td>26.7</td>\n",
       "      <td>0.900</td>\n",
       "      <td>-8.7</td>\n",
       "      <td>6.900000e+00</td>\n",
       "      <td>-1.900000e+00</td>\n",
       "      <td>7.8</td>\n",
       "      <td>20190</td>\n",
       "    </tr>\n",
       "    <tr>\n",
       "      <th>15</th>\n",
       "      <td>MIA</td>\n",
       "      <td>267</td>\n",
       "      <td>669</td>\n",
       "      <td>364</td>\n",
       "      <td>250.0</td>\n",
       "      <td>41.6</td>\n",
       "      <td>91.3</td>\n",
       "      <td>4.632</td>\n",
       "      <td>11.4</td>\n",
       "      <td>32.4</td>\n",
       "      <td>...</td>\n",
       "      <td>195.9</td>\n",
       "      <td>13.0</td>\n",
       "      <td>23.3</td>\n",
       "      <td>36.1</td>\n",
       "      <td>1.005</td>\n",
       "      <td>-6.5</td>\n",
       "      <td>6.400000e+00</td>\n",
       "      <td>-2.220446e-16</td>\n",
       "      <td>9.0</td>\n",
       "      <td>20190</td>\n",
       "    </tr>\n",
       "    <tr>\n",
       "      <th>16</th>\n",
       "      <td>MIL</td>\n",
       "      <td>275</td>\n",
       "      <td>679</td>\n",
       "      <td>400</td>\n",
       "      <td>245.2</td>\n",
       "      <td>45.2</td>\n",
       "      <td>93.4</td>\n",
       "      <td>4.709</td>\n",
       "      <td>13.2</td>\n",
       "      <td>37.6</td>\n",
       "      <td>...</td>\n",
       "      <td>189.2</td>\n",
       "      <td>28.8</td>\n",
       "      <td>27.6</td>\n",
       "      <td>56.4</td>\n",
       "      <td>1.497</td>\n",
       "      <td>4.1</td>\n",
       "      <td>9.900000e+00</td>\n",
       "      <td>1.420000e+01</td>\n",
       "      <td>17.9</td>\n",
       "      <td>20190</td>\n",
       "    </tr>\n",
       "    <tr>\n",
       "      <th>17</th>\n",
       "      <td>MIN</td>\n",
       "      <td>267</td>\n",
       "      <td>664</td>\n",
       "      <td>366</td>\n",
       "      <td>250.1</td>\n",
       "      <td>44.3</td>\n",
       "      <td>96.9</td>\n",
       "      <td>4.539</td>\n",
       "      <td>9.8</td>\n",
       "      <td>27.8</td>\n",
       "      <td>...</td>\n",
       "      <td>196.5</td>\n",
       "      <td>21.1</td>\n",
       "      <td>11.7</td>\n",
       "      <td>32.8</td>\n",
       "      <td>0.948</td>\n",
       "      <td>2.5</td>\n",
       "      <td>-4.900000e+00</td>\n",
       "      <td>-2.400000e+00</td>\n",
       "      <td>8.2</td>\n",
       "      <td>20190</td>\n",
       "    </tr>\n",
       "    <tr>\n",
       "      <th>18</th>\n",
       "      <td>NOP</td>\n",
       "      <td>252</td>\n",
       "      <td>586</td>\n",
       "      <td>340</td>\n",
       "      <td>257.1</td>\n",
       "      <td>48.9</td>\n",
       "      <td>103.2</td>\n",
       "      <td>4.616</td>\n",
       "      <td>10.8</td>\n",
       "      <td>31.5</td>\n",
       "      <td>...</td>\n",
       "      <td>201.7</td>\n",
       "      <td>18.4</td>\n",
       "      <td>11.3</td>\n",
       "      <td>29.5</td>\n",
       "      <td>0.827</td>\n",
       "      <td>-0.8</td>\n",
       "      <td>-5.000000e+00</td>\n",
       "      <td>-5.800000e+00</td>\n",
       "      <td>8.6</td>\n",
       "      <td>20190</td>\n",
       "    </tr>\n",
       "    <tr>\n",
       "      <th>19</th>\n",
       "      <td>NYK</td>\n",
       "      <td>226</td>\n",
       "      <td>596</td>\n",
       "      <td>327</td>\n",
       "      <td>252.2</td>\n",
       "      <td>41.1</td>\n",
       "      <td>94.3</td>\n",
       "      <td>4.516</td>\n",
       "      <td>10.3</td>\n",
       "      <td>30.4</td>\n",
       "      <td>...</td>\n",
       "      <td>200.3</td>\n",
       "      <td>5.5</td>\n",
       "      <td>9.8</td>\n",
       "      <td>15.2</td>\n",
       "      <td>0.510</td>\n",
       "      <td>-13.8</td>\n",
       "      <td>-8.200000e+00</td>\n",
       "      <td>-2.220000e+01</td>\n",
       "      <td>-0.9</td>\n",
       "      <td>20190</td>\n",
       "    </tr>\n",
       "    <tr>\n",
       "      <th>20</th>\n",
       "      <td>OKC</td>\n",
       "      <td>255</td>\n",
       "      <td>695</td>\n",
       "      <td>405</td>\n",
       "      <td>252.2</td>\n",
       "      <td>43.9</td>\n",
       "      <td>97.1</td>\n",
       "      <td>4.542</td>\n",
       "      <td>12.3</td>\n",
       "      <td>35.5</td>\n",
       "      <td>...</td>\n",
       "      <td>180.1</td>\n",
       "      <td>21.7</td>\n",
       "      <td>26.1</td>\n",
       "      <td>47.7</td>\n",
       "      <td>1.129</td>\n",
       "      <td>-7.0</td>\n",
       "      <td>8.000000e+00</td>\n",
       "      <td>1.000000e+00</td>\n",
       "      <td>14.6</td>\n",
       "      <td>20190</td>\n",
       "    </tr>\n",
       "    <tr>\n",
       "      <th>21</th>\n",
       "      <td>ORL</td>\n",
       "      <td>255</td>\n",
       "      <td>692</td>\n",
       "      <td>408</td>\n",
       "      <td>248.5</td>\n",
       "      <td>41.6</td>\n",
       "      <td>92.6</td>\n",
       "      <td>4.407</td>\n",
       "      <td>12.0</td>\n",
       "      <td>33.7</td>\n",
       "      <td>...</td>\n",
       "      <td>192.6</td>\n",
       "      <td>15.9</td>\n",
       "      <td>22.8</td>\n",
       "      <td>38.7</td>\n",
       "      <td>0.938</td>\n",
       "      <td>-9.8</td>\n",
       "      <td>4.200000e+00</td>\n",
       "      <td>-5.700000e+00</td>\n",
       "      <td>9.7</td>\n",
       "      <td>20190</td>\n",
       "    </tr>\n",
       "    <tr>\n",
       "      <th>22</th>\n",
       "      <td>PHI</td>\n",
       "      <td>261</td>\n",
       "      <td>562</td>\n",
       "      <td>340</td>\n",
       "      <td>269.8</td>\n",
       "      <td>47.5</td>\n",
       "      <td>101.5</td>\n",
       "      <td>4.615</td>\n",
       "      <td>12.6</td>\n",
       "      <td>35.5</td>\n",
       "      <td>...</td>\n",
       "      <td>194.1</td>\n",
       "      <td>24.4</td>\n",
       "      <td>16.5</td>\n",
       "      <td>41.1</td>\n",
       "      <td>1.165</td>\n",
       "      <td>4.7</td>\n",
       "      <td>-1.100000e+00</td>\n",
       "      <td>3.600000e+00</td>\n",
       "      <td>12.3</td>\n",
       "      <td>20190</td>\n",
       "    </tr>\n",
       "    <tr>\n",
       "      <th>23</th>\n",
       "      <td>PHO</td>\n",
       "      <td>237</td>\n",
       "      <td>616</td>\n",
       "      <td>318</td>\n",
       "      <td>255.1</td>\n",
       "      <td>46.9</td>\n",
       "      <td>99.6</td>\n",
       "      <td>4.623</td>\n",
       "      <td>10.1</td>\n",
       "      <td>30.2</td>\n",
       "      <td>...</td>\n",
       "      <td>208.3</td>\n",
       "      <td>10.1</td>\n",
       "      <td>7.7</td>\n",
       "      <td>17.9</td>\n",
       "      <td>0.504</td>\n",
       "      <td>-8.4</td>\n",
       "      <td>-8.800000e+00</td>\n",
       "      <td>-1.730000e+01</td>\n",
       "      <td>2.1</td>\n",
       "      <td>20190</td>\n",
       "    </tr>\n",
       "    <tr>\n",
       "      <th>24</th>\n",
       "      <td>POR</td>\n",
       "      <td>261</td>\n",
       "      <td>719</td>\n",
       "      <td>395</td>\n",
       "      <td>240.3</td>\n",
       "      <td>42.3</td>\n",
       "      <td>89.9</td>\n",
       "      <td>4.774</td>\n",
       "      <td>11.0</td>\n",
       "      <td>30.3</td>\n",
       "      <td>...</td>\n",
       "      <td>186.9</td>\n",
       "      <td>30.0</td>\n",
       "      <td>18.1</td>\n",
       "      <td>48.1</td>\n",
       "      <td>1.264</td>\n",
       "      <td>7.6</td>\n",
       "      <td>2.800000e+00</td>\n",
       "      <td>1.030000e+01</td>\n",
       "      <td>15.3</td>\n",
       "      <td>20190</td>\n",
       "    </tr>\n",
       "    <tr>\n",
       "      <th>25</th>\n",
       "      <td>SAC</td>\n",
       "      <td>249</td>\n",
       "      <td>646</td>\n",
       "      <td>409</td>\n",
       "      <td>262.8</td>\n",
       "      <td>46.3</td>\n",
       "      <td>100.8</td>\n",
       "      <td>4.569</td>\n",
       "      <td>13.8</td>\n",
       "      <td>35.5</td>\n",
       "      <td>...</td>\n",
       "      <td>190.8</td>\n",
       "      <td>21.0</td>\n",
       "      <td>14.5</td>\n",
       "      <td>35.4</td>\n",
       "      <td>0.956</td>\n",
       "      <td>1.1</td>\n",
       "      <td>-3.200000e+00</td>\n",
       "      <td>-2.200000e+00</td>\n",
       "      <td>9.7</td>\n",
       "      <td>20190</td>\n",
       "    </tr>\n",
       "    <tr>\n",
       "      <th>26</th>\n",
       "      <td>SAS</td>\n",
       "      <td>285</td>\n",
       "      <td>754</td>\n",
       "      <td>404</td>\n",
       "      <td>247.4</td>\n",
       "      <td>43.6</td>\n",
       "      <td>91.0</td>\n",
       "      <td>4.847</td>\n",
       "      <td>10.3</td>\n",
       "      <td>26.2</td>\n",
       "      <td>...</td>\n",
       "      <td>186.4</td>\n",
       "      <td>27.1</td>\n",
       "      <td>17.2</td>\n",
       "      <td>44.4</td>\n",
       "      <td>1.134</td>\n",
       "      <td>4.5</td>\n",
       "      <td>1.110223e-16</td>\n",
       "      <td>4.700000e+00</td>\n",
       "      <td>12.1</td>\n",
       "      <td>20190</td>\n",
       "    </tr>\n",
       "    <tr>\n",
       "      <th>27</th>\n",
       "      <td>TOR</td>\n",
       "      <td>273</td>\n",
       "      <td>625</td>\n",
       "      <td>393</td>\n",
       "      <td>264.5</td>\n",
       "      <td>46.1</td>\n",
       "      <td>97.1</td>\n",
       "      <td>4.694</td>\n",
       "      <td>13.9</td>\n",
       "      <td>36.6</td>\n",
       "      <td>...</td>\n",
       "      <td>193.5</td>\n",
       "      <td>26.8</td>\n",
       "      <td>23.7</td>\n",
       "      <td>50.5</td>\n",
       "      <td>1.386</td>\n",
       "      <td>8.0</td>\n",
       "      <td>8.200000e+00</td>\n",
       "      <td>1.610000e+01</td>\n",
       "      <td>16.3</td>\n",
       "      <td>20190</td>\n",
       "    </tr>\n",
       "    <tr>\n",
       "      <th>28</th>\n",
       "      <td>UTA</td>\n",
       "      <td>281</td>\n",
       "      <td>692</td>\n",
       "      <td>406</td>\n",
       "      <td>243.5</td>\n",
       "      <td>40.9</td>\n",
       "      <td>87.7</td>\n",
       "      <td>4.717</td>\n",
       "      <td>12.3</td>\n",
       "      <td>34.4</td>\n",
       "      <td>...</td>\n",
       "      <td>192.0</td>\n",
       "      <td>21.0</td>\n",
       "      <td>28.1</td>\n",
       "      <td>49.2</td>\n",
       "      <td>1.249</td>\n",
       "      <td>-1.6</td>\n",
       "      <td>1.170000e+01</td>\n",
       "      <td>1.000000e+01</td>\n",
       "      <td>15.2</td>\n",
       "      <td>20190</td>\n",
       "    </tr>\n",
       "    <tr>\n",
       "      <th>29</th>\n",
       "      <td>WAS</td>\n",
       "      <td>266</td>\n",
       "      <td>518</td>\n",
       "      <td>380</td>\n",
       "      <td>289.0</td>\n",
       "      <td>52.8</td>\n",
       "      <td>114.9</td>\n",
       "      <td>4.670</td>\n",
       "      <td>15.1</td>\n",
       "      <td>44.5</td>\n",
       "      <td>...</td>\n",
       "      <td>206.8</td>\n",
       "      <td>20.3</td>\n",
       "      <td>9.0</td>\n",
       "      <td>29.3</td>\n",
       "      <td>0.845</td>\n",
       "      <td>3.6</td>\n",
       "      <td>-9.100000e+00</td>\n",
       "      <td>-5.500000e+00</td>\n",
       "      <td>7.4</td>\n",
       "      <td>20190</td>\n",
       "    </tr>\n",
       "  </tbody>\n",
       "</table>\n",
       "<p>30 rows × 49 columns</p>\n",
       "</div>"
      ],
      "text/plain": [
       "     Tm  Age    G   GS    MPG    FG    FGA    FG%    3P   3PA  ...   USG%  \\\n",
       "0   ATL  264  689  389  246.8  44.4   96.9  4.557  13.6  38.4  ...  204.6   \n",
       "1   BOS  263  711  404  252.9  45.3   96.9  4.679  13.4  36.3  ...  196.8   \n",
       "2   BRK  258  677  362  246.4  39.8   88.3  4.628  13.1  35.8  ...  187.8   \n",
       "3   CHI  242  553  348  272.2  45.3  100.7  4.518  10.7  31.2  ...  199.8   \n",
       "4   CHO  267  691  362  237.3  40.4   89.1  4.603  11.3  31.9  ...  201.4   \n",
       "5   CLE  251  574  325  259.7  42.4   93.3  4.628   9.6  27.2  ...  194.1   \n",
       "6   DAL  264  617  353  258.7  41.0   90.5  4.658  12.8  36.5  ...  193.1   \n",
       "7   DEN  253  715  408  255.2  43.9   94.5  4.699  11.6  33.0  ...  188.5   \n",
       "8   DET  266  669  360  246.6  40.9   92.6  4.293  12.9  36.6  ...  194.0   \n",
       "9   GSW  288  722  349  235.4  43.1   88.1  4.960  14.0  36.0  ...  182.6   \n",
       "10  HOU  285  603  391  278.5  44.3   98.7  4.419  19.4  53.8  ...  183.0   \n",
       "11  IND  275  673  404  270.4  46.3   99.3  4.669  11.8  31.6  ...  201.7   \n",
       "12  LAC  276  613  366  259.8  44.3   94.7  4.611  12.7  31.7  ...  192.2   \n",
       "13  LAL  274  610  365  267.8  47.8  101.3  4.770  11.4  34.2  ...  193.0   \n",
       "14  MEM  275  471  344  282.4  42.0   93.8  4.508  11.7  33.7  ...  188.7   \n",
       "15  MIA  267  669  364  250.0  41.6   91.3  4.632  11.4  32.4  ...  195.9   \n",
       "16  MIL  275  679  400  245.2  45.2   93.4  4.709  13.2  37.6  ...  189.2   \n",
       "17  MIN  267  664  366  250.1  44.3   96.9  4.539   9.8  27.8  ...  196.5   \n",
       "18  NOP  252  586  340  257.1  48.9  103.2  4.616  10.8  31.5  ...  201.7   \n",
       "19  NYK  226  596  327  252.2  41.1   94.3  4.516  10.3  30.4  ...  200.3   \n",
       "20  OKC  255  695  405  252.2  43.9   97.1  4.542  12.3  35.5  ...  180.1   \n",
       "21  ORL  255  692  408  248.5  41.6   92.6  4.407  12.0  33.7  ...  192.6   \n",
       "22  PHI  261  562  340  269.8  47.5  101.5  4.615  12.6  35.5  ...  194.1   \n",
       "23  PHO  237  616  318  255.1  46.9   99.6  4.623  10.1  30.2  ...  208.3   \n",
       "24  POR  261  719  395  240.3  42.3   89.9  4.774  11.0  30.3  ...  186.9   \n",
       "25  SAC  249  646  409  262.8  46.3  100.8  4.569  13.8  35.5  ...  190.8   \n",
       "26  SAS  285  754  404  247.4  43.6   91.0  4.847  10.3  26.2  ...  186.4   \n",
       "27  TOR  273  625  393  264.5  46.1   97.1  4.694  13.9  36.6  ...  193.5   \n",
       "28  UTA  281  692  406  243.5  40.9   87.7  4.717  12.3  34.4  ...  192.0   \n",
       "29  WAS  266  518  380  289.0  52.8  114.9  4.670  15.1  44.5  ...  206.8   \n",
       "\n",
       "     OWS   DWS    WS  WS/48  OBPM          DBPM           BPM  VORP   year  \n",
       "0   14.4  10.2  24.9  0.725  -3.7 -7.300000e+00 -1.080000e+01   3.8  20190  \n",
       "1   24.4  24.2  48.4  1.310   3.0  6.200000e+00  9.000000e+00  14.6  20190  \n",
       "2   18.9  18.5  37.1  0.999  -6.3  1.200000e+00 -5.200000e+00   8.4  20190  \n",
       "3    7.1  10.4  17.2  0.513 -13.0 -3.900000e+00 -1.710000e+01   2.0  20190  \n",
       "4   20.2  13.0  33.3  0.940   1.0 -4.800000e+00 -4.000000e+00   9.2  20190  \n",
       "5   13.8   2.5  16.4  0.576  -3.8 -1.590000e+01 -1.980000e+01   0.0  20190  \n",
       "6   16.4  15.7  32.5  0.948  -3.3  2.300000e+00 -1.000000e+00   8.6  20190  \n",
       "7   27.9  21.5  49.3  1.233   4.5  4.100000e+00  8.700000e+00  15.4  20190  \n",
       "8   17.9  19.7  37.5  0.970  -5.6  2.000000e+00 -3.700000e+00   9.6  20190  \n",
       "9   31.9  18.3  50.2  1.334   7.8  4.000000e-01  8.200000e+00  15.8  20190  \n",
       "10  32.3  16.8  49.0  1.208   9.2 -8.000000e-01  8.400000e+00  16.7  20190  \n",
       "11  18.3  25.9  44.4  1.111  -0.8  6.500000e+00  5.600000e+00  13.0  20190  \n",
       "12  24.7  13.7  38.5  1.043   6.8 -2.600000e+00  4.000000e+00  12.0  20190  \n",
       "13  12.4  18.0  30.2  0.889  -5.0  4.400000e+00 -9.000000e-01   8.7  20190  \n",
       "14  10.2  16.4  26.7  0.900  -8.7  6.900000e+00 -1.900000e+00   7.8  20190  \n",
       "15  13.0  23.3  36.1  1.005  -6.5  6.400000e+00 -2.220446e-16   9.0  20190  \n",
       "16  28.8  27.6  56.4  1.497   4.1  9.900000e+00  1.420000e+01  17.9  20190  \n",
       "17  21.1  11.7  32.8  0.948   2.5 -4.900000e+00 -2.400000e+00   8.2  20190  \n",
       "18  18.4  11.3  29.5  0.827  -0.8 -5.000000e+00 -5.800000e+00   8.6  20190  \n",
       "19   5.5   9.8  15.2  0.510 -13.8 -8.200000e+00 -2.220000e+01  -0.9  20190  \n",
       "20  21.7  26.1  47.7  1.129  -7.0  8.000000e+00  1.000000e+00  14.6  20190  \n",
       "21  15.9  22.8  38.7  0.938  -9.8  4.200000e+00 -5.700000e+00   9.7  20190  \n",
       "22  24.4  16.5  41.1  1.165   4.7 -1.100000e+00  3.600000e+00  12.3  20190  \n",
       "23  10.1   7.7  17.9  0.504  -8.4 -8.800000e+00 -1.730000e+01   2.1  20190  \n",
       "24  30.0  18.1  48.1  1.264   7.6  2.800000e+00  1.030000e+01  15.3  20190  \n",
       "25  21.0  14.5  35.4  0.956   1.1 -3.200000e+00 -2.200000e+00   9.7  20190  \n",
       "26  27.1  17.2  44.4  1.134   4.5  1.110223e-16  4.700000e+00  12.1  20190  \n",
       "27  26.8  23.7  50.5  1.386   8.0  8.200000e+00  1.610000e+01  16.3  20190  \n",
       "28  21.0  28.1  49.2  1.249  -1.6  1.170000e+01  1.000000e+01  15.2  20190  \n",
       "29  20.3   9.0  29.3  0.845   3.6 -9.100000e+00 -5.500000e+00   7.4  20190  \n",
       "\n",
       "[30 rows x 49 columns]"
      ]
     },
     "execution_count": 125,
     "metadata": {},
     "output_type": "execute_result"
    }
   ],
   "source": [
    "players_2019"
   ]
  },
  {
   "cell_type": "code",
   "execution_count": null,
   "metadata": {},
   "outputs": [],
   "source": []
  },
  {
   "cell_type": "markdown",
   "metadata": {},
   "source": [
    "# Team Stats and creating dataframes of each season"
   ]
  },
  {
   "cell_type": "code",
   "execution_count": 126,
   "metadata": {},
   "outputs": [],
   "source": [
    "nba_2019_teams = pd.read_csv('nba_2019_teams.csv', index_col = 0).set_index('Team').rename(index = {'Charlotte Hornets': 'Cho'}).reset_index().sort_values('Team').drop(columns = ['Team']) "
   ]
  },
  {
   "cell_type": "code",
   "execution_count": 127,
   "metadata": {},
   "outputs": [],
   "source": [
    "nba_2019_teams = nba_2019_teams.reset_index().drop(columns = 'index')"
   ]
  },
  {
   "cell_type": "code",
   "execution_count": 128,
   "metadata": {},
   "outputs": [],
   "source": [
    "nba_2019 = pd.concat([nba_2019_teams, players_2019], axis = 1)"
   ]
  },
  {
   "cell_type": "code",
   "execution_count": null,
   "metadata": {},
   "outputs": [],
   "source": []
  },
  {
   "cell_type": "code",
   "execution_count": null,
   "metadata": {},
   "outputs": [],
   "source": []
  },
  {
   "cell_type": "code",
   "execution_count": 129,
   "metadata": {},
   "outputs": [],
   "source": [
    "nba_2018_teams = pd.read_csv('nba_2018_teams.csv', index_col = 0).set_index('Team').rename(index = {'Charlotte Hornets': 'Cho'}).reset_index().sort_values('Team').drop(columns = ['Team']) "
   ]
  },
  {
   "cell_type": "code",
   "execution_count": 130,
   "metadata": {},
   "outputs": [],
   "source": [
    "nba_2018_teams = nba_2018_teams.reset_index().drop(columns = 'index')"
   ]
  },
  {
   "cell_type": "code",
   "execution_count": 131,
   "metadata": {},
   "outputs": [],
   "source": [
    "nba_2018 = pd.concat([nba_2018_teams, players_2018], axis = 1)"
   ]
  },
  {
   "cell_type": "code",
   "execution_count": null,
   "metadata": {},
   "outputs": [],
   "source": []
  },
  {
   "cell_type": "code",
   "execution_count": 132,
   "metadata": {},
   "outputs": [],
   "source": [
    "nba_2017_teams = pd.read_csv('nba_2017_teams.csv', index_col = 0).set_index('Team').rename(index = {'Charlotte Hornets': 'Cho'}).reset_index().sort_values('Team').drop(columns = ['Team']) "
   ]
  },
  {
   "cell_type": "code",
   "execution_count": 133,
   "metadata": {},
   "outputs": [],
   "source": [
    "nba_2017_teams = nba_2017_teams.reset_index().drop(columns = 'index')"
   ]
  },
  {
   "cell_type": "code",
   "execution_count": 134,
   "metadata": {},
   "outputs": [],
   "source": [
    "nba_2017 = pd.concat([nba_2017_teams, players_2017], axis = 1)"
   ]
  },
  {
   "cell_type": "code",
   "execution_count": null,
   "metadata": {},
   "outputs": [],
   "source": []
  },
  {
   "cell_type": "code",
   "execution_count": 135,
   "metadata": {},
   "outputs": [],
   "source": [
    "nba_2016_teams = pd.read_csv('nba_2016_teams.csv', index_col = 0).set_index('Team').rename(index = {'Charlotte Hornets*': 'Cho'}).reset_index().sort_values('Team').drop(columns = ['Team']) "
   ]
  },
  {
   "cell_type": "code",
   "execution_count": 136,
   "metadata": {},
   "outputs": [],
   "source": [
    "nba_2016_teams = nba_2016_teams.reset_index().drop(columns = 'index')"
   ]
  },
  {
   "cell_type": "code",
   "execution_count": 137,
   "metadata": {},
   "outputs": [],
   "source": [
    "nba_2016 = pd.concat([nba_2016_teams, players_2016], axis = 1)"
   ]
  },
  {
   "cell_type": "code",
   "execution_count": null,
   "metadata": {},
   "outputs": [],
   "source": []
  },
  {
   "cell_type": "code",
   "execution_count": 138,
   "metadata": {},
   "outputs": [],
   "source": [
    "nba_2015_teams = pd.read_csv('nba_2015_teams.csv', index_col = 0).set_index('Team').rename(index = {'Charlotte Hornets': 'Cho'}).reset_index().sort_values('Team').drop(columns = ['Team']) "
   ]
  },
  {
   "cell_type": "code",
   "execution_count": 139,
   "metadata": {},
   "outputs": [],
   "source": [
    "nba_2015_teams = nba_2015_teams.reset_index().drop(columns = 'index')"
   ]
  },
  {
   "cell_type": "code",
   "execution_count": 140,
   "metadata": {},
   "outputs": [],
   "source": [
    "nba_2015 = pd.concat([nba_2015_teams, players_2015], axis = 1)"
   ]
  },
  {
   "cell_type": "code",
   "execution_count": null,
   "metadata": {},
   "outputs": [],
   "source": []
  },
  {
   "cell_type": "code",
   "execution_count": 141,
   "metadata": {},
   "outputs": [],
   "source": [
    "nba_2014_teams = pd.read_csv('nba_2014_teams.csv', index_col = 0).set_index('Team').rename(index = {'Charlotte Bobcats*': 'Cho'}).reset_index().sort_values('Team').drop(columns = ['Team']) "
   ]
  },
  {
   "cell_type": "code",
   "execution_count": 142,
   "metadata": {},
   "outputs": [],
   "source": [
    "nba_2014_teams = nba_2014_teams.reset_index().drop(columns = 'index')"
   ]
  },
  {
   "cell_type": "code",
   "execution_count": 143,
   "metadata": {},
   "outputs": [],
   "source": [
    "nba_2014 = pd.concat([nba_2014_teams, players_2014], axis = 1)"
   ]
  },
  {
   "cell_type": "code",
   "execution_count": 144,
   "metadata": {},
   "outputs": [
    {
     "data": {
      "text/plain": [
       "0     ATL\n",
       "1     BOS\n",
       "2     BRK\n",
       "3     CHI\n",
       "4     CHO\n",
       "5     CLE\n",
       "6     DAL\n",
       "7     DEN\n",
       "8     DET\n",
       "9     GSW\n",
       "10    HOU\n",
       "11    IND\n",
       "12    LAC\n",
       "13    LAL\n",
       "14    MEM\n",
       "15    MIA\n",
       "16    MIL\n",
       "17    MIN\n",
       "18    NOP\n",
       "19    NYK\n",
       "20    OKC\n",
       "21    ORL\n",
       "22    PHI\n",
       "23    PHO\n",
       "24    POR\n",
       "25    SAC\n",
       "26    SAS\n",
       "27    TOR\n",
       "28    UTA\n",
       "29    WAS\n",
       "Name: Tm, dtype: object"
      ]
     },
     "execution_count": 144,
     "metadata": {},
     "output_type": "execute_result"
    }
   ],
   "source": [
    "nba_2014['Tm']"
   ]
  },
  {
   "cell_type": "code",
   "execution_count": null,
   "metadata": {},
   "outputs": [],
   "source": []
  },
  {
   "cell_type": "code",
   "execution_count": 145,
   "metadata": {},
   "outputs": [],
   "source": [
    "nba_data = pd.concat([nba_2014, nba_2015, nba_2016, nba_2017, nba_2018, nba_2019], axis = 0)"
   ]
  },
  {
   "cell_type": "code",
   "execution_count": 146,
   "metadata": {},
   "outputs": [],
   "source": [
    "nba_data.to_csv('finalized_nba_data_set.csv')"
   ]
  },
  {
   "cell_type": "code",
   "execution_count": null,
   "metadata": {},
   "outputs": [],
   "source": []
  },
  {
   "cell_type": "code",
   "execution_count": null,
   "metadata": {},
   "outputs": [],
   "source": []
  },
  {
   "cell_type": "markdown",
   "metadata": {},
   "source": [
    "# Attempt at adding Coaches"
   ]
  },
  {
   "cell_type": "markdown",
   "metadata": {},
   "source": [
    " Coaches record up to and including 2018-19 season"
   ]
  },
  {
   "cell_type": "code",
   "execution_count": 147,
   "metadata": {},
   "outputs": [],
   "source": [
    "nba_coaches_2019 = pd.read_html('https://www.basketball-reference.com/leagues/NBA_2019_coaches.html')"
   ]
  },
  {
   "cell_type": "code",
   "execution_count": 148,
   "metadata": {},
   "outputs": [],
   "source": [
    "nba_2019_coaches = nba_coaches_2019[0]"
   ]
  },
  {
   "cell_type": "code",
   "execution_count": 149,
   "metadata": {},
   "outputs": [],
   "source": [
    "nba_2019_coaches.columns = nba_2019_coaches.columns.droplevel()\n",
    "nba_2019_coaches.columns = nba_2019_coaches.columns.droplevel()"
   ]
  },
  {
   "cell_type": "code",
   "execution_count": 150,
   "metadata": {},
   "outputs": [],
   "source": [
    "nba_2019_coaches = nba_2019_coaches[['Coach', 'Tm','W%']]"
   ]
  },
  {
   "cell_type": "code",
   "execution_count": null,
   "metadata": {},
   "outputs": [],
   "source": []
  },
  {
   "cell_type": "markdown",
   "metadata": {},
   "source": [
    " Coaches record up to and including 2017-18 season"
   ]
  },
  {
   "cell_type": "code",
   "execution_count": 151,
   "metadata": {},
   "outputs": [],
   "source": [
    "nba_coaches_2018 = pd.read_html('https://www.basketball-reference.com/leagues/NBA_2018_coaches.html')"
   ]
  },
  {
   "cell_type": "code",
   "execution_count": 152,
   "metadata": {},
   "outputs": [],
   "source": [
    "nba_2018_coaches = nba_coaches_2018[0]"
   ]
  },
  {
   "cell_type": "code",
   "execution_count": 153,
   "metadata": {},
   "outputs": [],
   "source": [
    "nba_2018_coaches.columns = nba_2018_coaches.columns.droplevel()\n",
    "nba_2018_coaches.columns = nba_2018_coaches.columns.droplevel()"
   ]
  },
  {
   "cell_type": "code",
   "execution_count": 154,
   "metadata": {},
   "outputs": [],
   "source": [
    "nba_2018_coaches = nba_2018_coaches[['Coach', 'Tm','W%']]"
   ]
  },
  {
   "cell_type": "code",
   "execution_count": null,
   "metadata": {},
   "outputs": [],
   "source": []
  },
  {
   "cell_type": "markdown",
   "metadata": {},
   "source": [
    " Coaches record up to and including 2016-17 season"
   ]
  },
  {
   "cell_type": "code",
   "execution_count": 155,
   "metadata": {},
   "outputs": [],
   "source": [
    "nba_coaches_2017 = pd.read_html('https://www.basketball-reference.com/leagues/NBA_2017_coaches.html')"
   ]
  },
  {
   "cell_type": "code",
   "execution_count": 156,
   "metadata": {},
   "outputs": [],
   "source": [
    "nba_2017_coaches = nba_coaches_2017[0]"
   ]
  },
  {
   "cell_type": "code",
   "execution_count": 157,
   "metadata": {},
   "outputs": [],
   "source": [
    "nba_2017_coaches.columns = nba_2017_coaches.columns.droplevel()\n",
    "nba_2017_coaches.columns = nba_2017_coaches.columns.droplevel()"
   ]
  },
  {
   "cell_type": "code",
   "execution_count": 158,
   "metadata": {},
   "outputs": [],
   "source": [
    "nba_2017_coaches = nba_2017_coaches[['Coach', 'Tm','W%']]"
   ]
  },
  {
   "cell_type": "code",
   "execution_count": null,
   "metadata": {},
   "outputs": [],
   "source": []
  },
  {
   "cell_type": "code",
   "execution_count": null,
   "metadata": {},
   "outputs": [],
   "source": []
  },
  {
   "cell_type": "markdown",
   "metadata": {},
   "source": [
    "Coaches record up to and including 2015-16 season"
   ]
  },
  {
   "cell_type": "code",
   "execution_count": 159,
   "metadata": {},
   "outputs": [],
   "source": [
    "nba_coaches_2016 = pd.read_html('https://www.basketball-reference.com/leagues/NBA_2016_coaches.html')"
   ]
  },
  {
   "cell_type": "code",
   "execution_count": 160,
   "metadata": {},
   "outputs": [],
   "source": [
    "nba_2016_coaches = nba_coaches_2016[0]"
   ]
  },
  {
   "cell_type": "code",
   "execution_count": 161,
   "metadata": {},
   "outputs": [],
   "source": [
    "nba_2016_coaches.columns = nba_2016_coaches.columns.droplevel()\n",
    "nba_2016_coaches.columns = nba_2016_coaches.columns.droplevel()"
   ]
  },
  {
   "cell_type": "code",
   "execution_count": 162,
   "metadata": {},
   "outputs": [],
   "source": [
    "nba_2016_coaches = nba_2016_coaches[['Coach', 'Tm','W%']]"
   ]
  },
  {
   "cell_type": "code",
   "execution_count": null,
   "metadata": {},
   "outputs": [],
   "source": []
  },
  {
   "cell_type": "markdown",
   "metadata": {},
   "source": [
    " Coaches record up to and including 2014-15 season"
   ]
  },
  {
   "cell_type": "code",
   "execution_count": 163,
   "metadata": {},
   "outputs": [],
   "source": [
    "nba_coaches_2015 = pd.read_html('https://www.basketball-reference.com/leagues/NBA_2015_coaches.html')"
   ]
  },
  {
   "cell_type": "code",
   "execution_count": 164,
   "metadata": {},
   "outputs": [],
   "source": [
    "nba_2015_coaches = nba_coaches_2015[0]"
   ]
  },
  {
   "cell_type": "code",
   "execution_count": 165,
   "metadata": {},
   "outputs": [],
   "source": [
    "nba_2015_coaches.columns = nba_2015_coaches.columns.droplevel()\n",
    "nba_2015_coaches.columns = nba_2015_coaches.columns.droplevel()"
   ]
  },
  {
   "cell_type": "code",
   "execution_count": 166,
   "metadata": {},
   "outputs": [],
   "source": [
    "nba_2015_coaches = nba_2015_coaches[['Coach', 'Tm','W%']]"
   ]
  },
  {
   "cell_type": "code",
   "execution_count": null,
   "metadata": {},
   "outputs": [],
   "source": []
  },
  {
   "cell_type": "markdown",
   "metadata": {},
   "source": [
    " Coaches record up to and including 2013-14 season"
   ]
  },
  {
   "cell_type": "code",
   "execution_count": 167,
   "metadata": {},
   "outputs": [],
   "source": [
    "nba_coaches_2014 = pd.read_html('https://www.basketball-reference.com/leagues/NBA_2014_coaches.html')"
   ]
  },
  {
   "cell_type": "code",
   "execution_count": 168,
   "metadata": {},
   "outputs": [],
   "source": [
    "nba_2014_coaches = nba_coaches_2014[0]"
   ]
  },
  {
   "cell_type": "code",
   "execution_count": 169,
   "metadata": {},
   "outputs": [],
   "source": [
    "nba_2014_coaches.columns = nba_2014_coaches.columns.droplevel()\n",
    "nba_2014_coaches.columns = nba_2014_coaches.columns.droplevel()"
   ]
  },
  {
   "cell_type": "code",
   "execution_count": 170,
   "metadata": {},
   "outputs": [],
   "source": [
    "nba_2014_coaches = nba_2014_coaches[['Coach', 'Tm','W%']]"
   ]
  },
  {
   "cell_type": "code",
   "execution_count": null,
   "metadata": {},
   "outputs": [],
   "source": []
  },
  {
   "cell_type": "code",
   "execution_count": 171,
   "metadata": {},
   "outputs": [
    {
     "name": "stdout",
     "output_type": "stream",
     "text": [
      "Mike Budenholzer\n",
      "Brad Stevens\n",
      "Jason Kidd\n",
      "Steve Clifford\n",
      "Tom Thibodeau\n",
      "Mike Brown\n",
      "Rick Carlisle\n",
      "Brian Shaw\n",
      "Maurice Cheeks\n",
      "John Loyer\n",
      "Mark Jackson\n",
      "Kevin McHale\n",
      "Frank Vogel\n",
      "Doc Rivers\n",
      "Mike D'Antoni\n",
      "Dave Joerger\n",
      "Erik Spoelstra\n",
      "Larry Drew\n",
      "Rick Adelman\n",
      "Monty Williams\n",
      "Mike Woodson\n",
      "Scott Brooks\n",
      "Jacque Vaughn\n",
      "Brett Brown\n",
      "Jeff Hornacek\n",
      "Terry Stotts\n",
      "Mike Malone\n",
      "Gregg Popovich\n",
      "Dwane Casey\n",
      "Tyrone Corbin\n",
      "Randy Wittman\n"
     ]
    }
   ],
   "source": [
    "for i,j in nba_2014_coaches.iterrows():\n",
    "    print(j[0])"
   ]
  },
  {
   "cell_type": "code",
   "execution_count": null,
   "metadata": {},
   "outputs": [],
   "source": []
  }
 ],
 "metadata": {
  "kernelspec": {
   "display_name": "Python 3",
   "language": "python",
   "name": "python3"
  },
  "language_info": {
   "codemirror_mode": {
    "name": "ipython",
    "version": 3
   },
   "file_extension": ".py",
   "mimetype": "text/x-python",
   "name": "python",
   "nbconvert_exporter": "python",
   "pygments_lexer": "ipython3",
   "version": "3.7.6"
  }
 },
 "nbformat": 4,
 "nbformat_minor": 4
}
