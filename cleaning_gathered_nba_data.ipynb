{
 "cells": [
  {
   "cell_type": "code",
   "execution_count": 14,
   "metadata": {},
   "outputs": [],
   "source": [
    "import pandas as pd\n",
    "import numpy as np"
   ]
  },
  {
   "cell_type": "code",
   "execution_count": 15,
   "metadata": {},
   "outputs": [],
   "source": [
    "nba_data = pd.read_csv('finalized_nba_data_set.csv', index_col = 0).reset_index()"
   ]
  },
  {
   "cell_type": "code",
   "execution_count": 35,
   "metadata": {},
   "outputs": [],
   "source": [
    "nba_data.drop(columns = ['WS', 'WS/48', 'OBPM', 'DBPM', 'BPM', 'VORP', 'Age.1', \n",
    "                         'G','GS', 'index', 'OWS', 'DWS', 'L', 'MOV', 'SOS', 'ORtg', \n",
    "                         'NRtg', 'MPG','MP', 'PER', 'DRtg'], inplace = True)"
   ]
  },
  {
   "cell_type": "code",
   "execution_count": null,
   "metadata": {},
   "outputs": [],
   "source": []
  },
  {
   "cell_type": "code",
   "execution_count": 36,
   "metadata": {},
   "outputs": [],
   "source": [
    "import pandas as pd\n",
    "import numpy as np\n",
    "\n",
    "import statsmodels.api as sm\n",
    "from statsmodels.formula.api import ols\n",
    "\n",
    "from matplotlib import pyplot as plt\n",
    "\n",
    "from sklearn import linear_model\n",
    "from sklearn.linear_model import LinearRegression\n",
    "\n",
    "from sklearn.model_selection import train_test_split\n",
    "from sklearn import metrics\n",
    "from sklearn.preprocessing import PolynomialFeatures\n",
    "from sklearn.preprocessing import StandardScaler\n",
    "\n",
    "import seaborn as sns\n",
    "\n",
    "import pickle"
   ]
  },
  {
   "cell_type": "code",
   "execution_count": 37,
   "metadata": {},
   "outputs": [],
   "source": [
    "target = nba_data['W']"
   ]
  },
  {
   "cell_type": "code",
   "execution_count": 38,
   "metadata": {},
   "outputs": [],
   "source": [
    "features_list = []"
   ]
  },
  {
   "cell_type": "code",
   "execution_count": 39,
   "metadata": {},
   "outputs": [],
   "source": [
    "for x in nba_data:\n",
    "    if (x == 'W') or (x == 'Tm') or (x == 'year') or (x == 'Pace'):\n",
    "        pass\n",
    "    else:\n",
    "        features_list.append(x)"
   ]
  },
  {
   "cell_type": "code",
   "execution_count": 40,
   "metadata": {},
   "outputs": [],
   "source": [
    "features = nba_data[features_list]"
   ]
  },
  {
   "cell_type": "code",
   "execution_count": 44,
   "metadata": {},
   "outputs": [
    {
     "data": {
      "text/plain": [
       "42"
      ]
     },
     "execution_count": 44,
     "metadata": {},
     "output_type": "execute_result"
    }
   ],
   "source": [
    "len(features_list)"
   ]
  },
  {
   "cell_type": "code",
   "execution_count": 41,
   "metadata": {},
   "outputs": [],
   "source": [
    "X_train, X_test, y_train, y_test = train_test_split(features, target, random_state=23,test_size=0.2)  "
   ]
  },
  {
   "cell_type": "code",
   "execution_count": 42,
   "metadata": {},
   "outputs": [],
   "source": [
    "scaler = StandardScaler()\n",
    "final_scaler = scaler.fit(X_train)\n",
    "X_train =pd.DataFrame(data=scaler.transform(X_train), columns=features_list)\n",
    "X_test =pd.DataFrame(data=scaler.transform(X_test), columns=features_list)"
   ]
  },
  {
   "cell_type": "code",
   "execution_count": 43,
   "metadata": {},
   "outputs": [
    {
     "name": "stdout",
     "output_type": "stream",
     "text": [
      "Training Root Mean Squared Error: 2.4679398977349782\n",
      "Testing Root Mean Squared Error: 3.915033816453321\n",
      "Training:  2.4679398977349782 vs. Testing:  3.915033816453321\n"
     ]
    }
   ],
   "source": [
    "#instantiate a linear regression object\n",
    "lm = LinearRegression()\n",
    "\n",
    "#fit the linear regression to the data\n",
    "lm = lm.fit(X_train, y_train)\n",
    "\n",
    "y_train_pred = lm.predict(X_train)\n",
    "\n",
    "train_rmse = np.sqrt(metrics.mean_squared_error((y_train), y_train_pred))\n",
    "\n",
    "\n",
    "print('Training Root Mean Squared Error:' , train_rmse)\n",
    "\n",
    "y_pred = lm.predict(X_test)\n",
    "\n",
    "test_rmse = np.sqrt(metrics.mean_squared_error((y_test), y_pred))\n",
    "\n",
    "print('Testing Root Mean Squared Error:' , test_rmse)\n",
    "\n",
    "\n",
    "print('Training: ', float(train_rmse), \"vs. Testing: \", float(test_rmse))"
   ]
  },
  {
   "cell_type": "code",
   "execution_count": null,
   "metadata": {},
   "outputs": [],
   "source": []
  },
  {
   "cell_type": "code",
   "execution_count": null,
   "metadata": {},
   "outputs": [],
   "source": []
  },
  {
   "cell_type": "code",
   "execution_count": 3,
   "metadata": {
    "scrolled": false
   },
   "outputs": [
    {
     "data": {
      "text/plain": [
       "Index(['index', 'Age', 'W', 'L', 'MOV', 'SOS', 'ORtg', 'DRtg', 'NRtg', 'Pace',\n",
       "       'eFG%', 'TOV%', 'ORB%', 'FT/FGA', 'eFG%.1', 'TOV%.1', 'DRB%',\n",
       "       'FT/FGA.1', 'Tm', 'Age.1', 'G', 'GS', 'MPG', 'FG', 'FGA', 'FG%', '3P',\n",
       "       '3PA', '3P%', '2P', '2PA', '2P%', 'eFG%.1.1', 'FT', 'FTA', 'FT%', 'ORB',\n",
       "       'DRB', 'TRB', 'AST', 'STL', 'BLK', 'TOV', 'PF', 'PTS', 'MP', 'PER',\n",
       "       'TS%', '3PAr', 'FTr', 'ORB%.1', 'DRB%.1', 'TRB%', 'AST%', 'STL%',\n",
       "       'BLK%', 'TOV%.1.1', 'USG%', 'OWS', 'DWS', 'WS', 'WS/48', 'OBPM', 'DBPM',\n",
       "       'BPM', 'VORP', 'year'],\n",
       "      dtype='object')"
      ]
     },
     "execution_count": 3,
     "metadata": {},
     "output_type": "execute_result"
    }
   ],
   "source": [
    "nba_data.columns"
   ]
  },
  {
   "cell_type": "code",
   "execution_count": null,
   "metadata": {},
   "outputs": [],
   "source": []
  },
  {
   "cell_type": "code",
   "execution_count": 4,
   "metadata": {},
   "outputs": [],
   "source": [
    "# nba_data.drop(columns = ['ORB%.1', 'DRB%.1', 'TOV%.1.1', 'USG%', 'WS', \n",
    "#                          'WS/48', 'OBPM', 'DBPM', 'BPM', 'VORP', 'Age.1', \n",
    "#                          'G','GS', 'eFG%.1.1', 'index', 'OWS', 'DWS', 'L', \n",
    "#                          'eFG%', 'TOV%', 'FT/FGA', '3P', '3PA', 'FT',\n",
    "#                          'FTA', 'ORB', 'DRB', 'DRB%','MOV', 'SOS', 'ORtg', \n",
    "#                          'NRtg', 'MPG', '2P', 'MP', 'FG', 'PER', 'DRtg'], inplace = True)"
   ]
  },
  {
   "cell_type": "code",
   "execution_count": 5,
   "metadata": {},
   "outputs": [
    {
     "data": {
      "text/plain": [
       "Index(['Age', 'W', 'Pace', 'ORB%', 'eFG%.1', 'TOV%.1', 'FT/FGA.1', 'Tm', 'FGA',\n",
       "       'FG%', '3P%', '2PA', '2P%', 'FT%', 'TRB', 'AST', 'STL', 'BLK', 'TOV',\n",
       "       'PF', 'PTS', 'TS%', '3PAr', 'FTr', 'TRB%', 'AST%', 'STL%', 'BLK%',\n",
       "       'year'],\n",
       "      dtype='object')"
      ]
     },
     "execution_count": 5,
     "metadata": {},
     "output_type": "execute_result"
    }
   ],
   "source": [
    "nba_data.columns"
   ]
  },
  {
   "cell_type": "code",
   "execution_count": 45,
   "metadata": {},
   "outputs": [],
   "source": [
    "nba_data.rename(columns = {'eFG%.1': 'Dfg%', 'TOV%.1': 'Dtov%', 'FT/FGA.1':'Dft/fga'}, inplace = True)"
   ]
  },
  {
   "cell_type": "code",
   "execution_count": 46,
   "metadata": {},
   "outputs": [],
   "source": [
    "nba_data['year'] = [x/10 for x in nba_data['year']]"
   ]
  },
  {
   "cell_type": "code",
   "execution_count": 47,
   "metadata": {},
   "outputs": [
    {
     "data": {
      "text/html": [
       "<div>\n",
       "<style scoped>\n",
       "    .dataframe tbody tr th:only-of-type {\n",
       "        vertical-align: middle;\n",
       "    }\n",
       "\n",
       "    .dataframe tbody tr th {\n",
       "        vertical-align: top;\n",
       "    }\n",
       "\n",
       "    .dataframe thead th {\n",
       "        text-align: right;\n",
       "    }\n",
       "</style>\n",
       "<table border=\"1\" class=\"dataframe\">\n",
       "  <thead>\n",
       "    <tr style=\"text-align: right;\">\n",
       "      <th></th>\n",
       "      <th>Age</th>\n",
       "      <th>W</th>\n",
       "      <th>Pace</th>\n",
       "      <th>eFG%</th>\n",
       "      <th>TOV%</th>\n",
       "      <th>ORB%</th>\n",
       "      <th>FT/FGA</th>\n",
       "      <th>Dfg%</th>\n",
       "      <th>Dtov%</th>\n",
       "      <th>DRB%</th>\n",
       "      <th>...</th>\n",
       "      <th>FTr</th>\n",
       "      <th>ORB%.1</th>\n",
       "      <th>DRB%.1</th>\n",
       "      <th>TRB%</th>\n",
       "      <th>AST%</th>\n",
       "      <th>STL%</th>\n",
       "      <th>BLK%</th>\n",
       "      <th>TOV%.1.1</th>\n",
       "      <th>USG%</th>\n",
       "      <th>year</th>\n",
       "    </tr>\n",
       "  </thead>\n",
       "  <tbody>\n",
       "    <tr>\n",
       "      <th>0</th>\n",
       "      <td>27.5</td>\n",
       "      <td>38</td>\n",
       "      <td>94.6</td>\n",
       "      <td>0.515</td>\n",
       "      <td>14.3</td>\n",
       "      <td>21.0</td>\n",
       "      <td>0.208</td>\n",
       "      <td>0.510</td>\n",
       "      <td>14.0</td>\n",
       "      <td>74.4</td>\n",
       "      <td>...</td>\n",
       "      <td>2.539</td>\n",
       "      <td>45.7</td>\n",
       "      <td>155.5</td>\n",
       "      <td>101.1</td>\n",
       "      <td>167.2</td>\n",
       "      <td>16.3</td>\n",
       "      <td>14.7</td>\n",
       "      <td>132.1</td>\n",
       "      <td>201.4</td>\n",
       "      <td>2014.0</td>\n",
       "    </tr>\n",
       "    <tr>\n",
       "      <th>1</th>\n",
       "      <td>25.4</td>\n",
       "      <td>25</td>\n",
       "      <td>93.3</td>\n",
       "      <td>0.477</td>\n",
       "      <td>14.2</td>\n",
       "      <td>27.4</td>\n",
       "      <td>0.193</td>\n",
       "      <td>0.505</td>\n",
       "      <td>13.4</td>\n",
       "      <td>74.2</td>\n",
       "      <td>...</td>\n",
       "      <td>2.606</td>\n",
       "      <td>54.9</td>\n",
       "      <td>145.5</td>\n",
       "      <td>99.0</td>\n",
       "      <td>151.4</td>\n",
       "      <td>16.2</td>\n",
       "      <td>12.5</td>\n",
       "      <td>146.8</td>\n",
       "      <td>196.7</td>\n",
       "      <td>2014.0</td>\n",
       "    </tr>\n",
       "    <tr>\n",
       "      <th>2</th>\n",
       "      <td>30.0</td>\n",
       "      <td>44</td>\n",
       "      <td>91.4</td>\n",
       "      <td>0.514</td>\n",
       "      <td>14.1</td>\n",
       "      <td>21.7</td>\n",
       "      <td>0.236</td>\n",
       "      <td>0.509</td>\n",
       "      <td>14.9</td>\n",
       "      <td>72.3</td>\n",
       "      <td>...</td>\n",
       "      <td>3.531</td>\n",
       "      <td>49.0</td>\n",
       "      <td>159.3</td>\n",
       "      <td>104.3</td>\n",
       "      <td>143.2</td>\n",
       "      <td>19.5</td>\n",
       "      <td>15.7</td>\n",
       "      <td>139.7</td>\n",
       "      <td>195.2</td>\n",
       "      <td>2014.0</td>\n",
       "    </tr>\n",
       "    <tr>\n",
       "      <th>3</th>\n",
       "      <td>28.6</td>\n",
       "      <td>48</td>\n",
       "      <td>90.2</td>\n",
       "      <td>0.471</td>\n",
       "      <td>14.2</td>\n",
       "      <td>27.2</td>\n",
       "      <td>0.226</td>\n",
       "      <td>0.471</td>\n",
       "      <td>13.7</td>\n",
       "      <td>75.4</td>\n",
       "      <td>...</td>\n",
       "      <td>2.860</td>\n",
       "      <td>58.2</td>\n",
       "      <td>152.9</td>\n",
       "      <td>106.3</td>\n",
       "      <td>153.5</td>\n",
       "      <td>15.6</td>\n",
       "      <td>16.8</td>\n",
       "      <td>137.1</td>\n",
       "      <td>196.1</td>\n",
       "      <td>2014.0</td>\n",
       "    </tr>\n",
       "    <tr>\n",
       "      <th>4</th>\n",
       "      <td>25.5</td>\n",
       "      <td>43</td>\n",
       "      <td>92.4</td>\n",
       "      <td>0.481</td>\n",
       "      <td>11.7</td>\n",
       "      <td>21.9</td>\n",
       "      <td>0.219</td>\n",
       "      <td>0.491</td>\n",
       "      <td>12.6</td>\n",
       "      <td>77.6</td>\n",
       "      <td>...</td>\n",
       "      <td>3.574</td>\n",
       "      <td>49.2</td>\n",
       "      <td>160.8</td>\n",
       "      <td>104.7</td>\n",
       "      <td>134.3</td>\n",
       "      <td>12.4</td>\n",
       "      <td>19.1</td>\n",
       "      <td>117.7</td>\n",
       "      <td>184.8</td>\n",
       "      <td>2014.0</td>\n",
       "    </tr>\n",
       "    <tr>\n",
       "      <th>...</th>\n",
       "      <td>...</td>\n",
       "      <td>...</td>\n",
       "      <td>...</td>\n",
       "      <td>...</td>\n",
       "      <td>...</td>\n",
       "      <td>...</td>\n",
       "      <td>...</td>\n",
       "      <td>...</td>\n",
       "      <td>...</td>\n",
       "      <td>...</td>\n",
       "      <td>...</td>\n",
       "      <td>...</td>\n",
       "      <td>...</td>\n",
       "      <td>...</td>\n",
       "      <td>...</td>\n",
       "      <td>...</td>\n",
       "      <td>...</td>\n",
       "      <td>...</td>\n",
       "      <td>...</td>\n",
       "      <td>...</td>\n",
       "      <td>...</td>\n",
       "    </tr>\n",
       "    <tr>\n",
       "      <th>175</th>\n",
       "      <td>24.8</td>\n",
       "      <td>39</td>\n",
       "      <td>103.1</td>\n",
       "      <td>0.524</td>\n",
       "      <td>11.5</td>\n",
       "      <td>23.1</td>\n",
       "      <td>0.177</td>\n",
       "      <td>0.533</td>\n",
       "      <td>13.6</td>\n",
       "      <td>75.5</td>\n",
       "      <td>...</td>\n",
       "      <td>2.312</td>\n",
       "      <td>40.9</td>\n",
       "      <td>144.2</td>\n",
       "      <td>91.4</td>\n",
       "      <td>136.9</td>\n",
       "      <td>14.9</td>\n",
       "      <td>14.3</td>\n",
       "      <td>99.9</td>\n",
       "      <td>190.8</td>\n",
       "      <td>2019.0</td>\n",
       "    </tr>\n",
       "    <tr>\n",
       "      <th>176</th>\n",
       "      <td>28.8</td>\n",
       "      <td>48</td>\n",
       "      <td>98.3</td>\n",
       "      <td>0.534</td>\n",
       "      <td>11.0</td>\n",
       "      <td>21.0</td>\n",
       "      <td>0.194</td>\n",
       "      <td>0.528</td>\n",
       "      <td>11.0</td>\n",
       "      <td>79.4</td>\n",
       "      <td>...</td>\n",
       "      <td>2.069</td>\n",
       "      <td>44.5</td>\n",
       "      <td>155.5</td>\n",
       "      <td>100.4</td>\n",
       "      <td>138.2</td>\n",
       "      <td>12.4</td>\n",
       "      <td>16.7</td>\n",
       "      <td>108.6</td>\n",
       "      <td>186.4</td>\n",
       "      <td>2019.0</td>\n",
       "    </tr>\n",
       "    <tr>\n",
       "      <th>177</th>\n",
       "      <td>27.3</td>\n",
       "      <td>58</td>\n",
       "      <td>100.2</td>\n",
       "      <td>0.543</td>\n",
       "      <td>12.4</td>\n",
       "      <td>21.9</td>\n",
       "      <td>0.198</td>\n",
       "      <td>0.509</td>\n",
       "      <td>13.1</td>\n",
       "      <td>77.1</td>\n",
       "      <td>...</td>\n",
       "      <td>2.251</td>\n",
       "      <td>39.9</td>\n",
       "      <td>149.5</td>\n",
       "      <td>96.1</td>\n",
       "      <td>159.4</td>\n",
       "      <td>17.4</td>\n",
       "      <td>17.7</td>\n",
       "      <td>120.7</td>\n",
       "      <td>193.5</td>\n",
       "      <td>2019.0</td>\n",
       "    </tr>\n",
       "    <tr>\n",
       "      <th>178</th>\n",
       "      <td>27.3</td>\n",
       "      <td>50</td>\n",
       "      <td>100.3</td>\n",
       "      <td>0.538</td>\n",
       "      <td>13.4</td>\n",
       "      <td>22.9</td>\n",
       "      <td>0.217</td>\n",
       "      <td>0.507</td>\n",
       "      <td>12.4</td>\n",
       "      <td>80.3</td>\n",
       "      <td>...</td>\n",
       "      <td>2.839</td>\n",
       "      <td>41.6</td>\n",
       "      <td>159.2</td>\n",
       "      <td>101.5</td>\n",
       "      <td>154.7</td>\n",
       "      <td>17.1</td>\n",
       "      <td>16.7</td>\n",
       "      <td>133.3</td>\n",
       "      <td>192.0</td>\n",
       "      <td>2019.0</td>\n",
       "    </tr>\n",
       "    <tr>\n",
       "      <th>179</th>\n",
       "      <td>26.5</td>\n",
       "      <td>32</td>\n",
       "      <td>101.4</td>\n",
       "      <td>0.531</td>\n",
       "      <td>12.3</td>\n",
       "      <td>21.3</td>\n",
       "      <td>0.204</td>\n",
       "      <td>0.546</td>\n",
       "      <td>13.5</td>\n",
       "      <td>74.1</td>\n",
       "      <td>...</td>\n",
       "      <td>2.487</td>\n",
       "      <td>42.9</td>\n",
       "      <td>160.0</td>\n",
       "      <td>100.6</td>\n",
       "      <td>153.3</td>\n",
       "      <td>16.3</td>\n",
       "      <td>17.4</td>\n",
       "      <td>113.5</td>\n",
       "      <td>206.8</td>\n",
       "      <td>2019.0</td>\n",
       "    </tr>\n",
       "  </tbody>\n",
       "</table>\n",
       "<p>180 rows × 46 columns</p>\n",
       "</div>"
      ],
      "text/plain": [
       "      Age   W   Pace   eFG%  TOV%  ORB%  FT/FGA   Dfg%  Dtov%  DRB%  ...  \\\n",
       "0    27.5  38   94.6  0.515  14.3  21.0   0.208  0.510   14.0  74.4  ...   \n",
       "1    25.4  25   93.3  0.477  14.2  27.4   0.193  0.505   13.4  74.2  ...   \n",
       "2    30.0  44   91.4  0.514  14.1  21.7   0.236  0.509   14.9  72.3  ...   \n",
       "3    28.6  48   90.2  0.471  14.2  27.2   0.226  0.471   13.7  75.4  ...   \n",
       "4    25.5  43   92.4  0.481  11.7  21.9   0.219  0.491   12.6  77.6  ...   \n",
       "..    ...  ..    ...    ...   ...   ...     ...    ...    ...   ...  ...   \n",
       "175  24.8  39  103.1  0.524  11.5  23.1   0.177  0.533   13.6  75.5  ...   \n",
       "176  28.8  48   98.3  0.534  11.0  21.0   0.194  0.528   11.0  79.4  ...   \n",
       "177  27.3  58  100.2  0.543  12.4  21.9   0.198  0.509   13.1  77.1  ...   \n",
       "178  27.3  50  100.3  0.538  13.4  22.9   0.217  0.507   12.4  80.3  ...   \n",
       "179  26.5  32  101.4  0.531  12.3  21.3   0.204  0.546   13.5  74.1  ...   \n",
       "\n",
       "       FTr ORB%.1  DRB%.1   TRB%   AST%  STL%  BLK%  TOV%.1.1   USG%    year  \n",
       "0    2.539   45.7   155.5  101.1  167.2  16.3  14.7     132.1  201.4  2014.0  \n",
       "1    2.606   54.9   145.5   99.0  151.4  16.2  12.5     146.8  196.7  2014.0  \n",
       "2    3.531   49.0   159.3  104.3  143.2  19.5  15.7     139.7  195.2  2014.0  \n",
       "3    2.860   58.2   152.9  106.3  153.5  15.6  16.8     137.1  196.1  2014.0  \n",
       "4    3.574   49.2   160.8  104.7  134.3  12.4  19.1     117.7  184.8  2014.0  \n",
       "..     ...    ...     ...    ...    ...   ...   ...       ...    ...     ...  \n",
       "175  2.312   40.9   144.2   91.4  136.9  14.9  14.3      99.9  190.8  2019.0  \n",
       "176  2.069   44.5   155.5  100.4  138.2  12.4  16.7     108.6  186.4  2019.0  \n",
       "177  2.251   39.9   149.5   96.1  159.4  17.4  17.7     120.7  193.5  2019.0  \n",
       "178  2.839   41.6   159.2  101.5  154.7  17.1  16.7     133.3  192.0  2019.0  \n",
       "179  2.487   42.9   160.0  100.6  153.3  16.3  17.4     113.5  206.8  2019.0  \n",
       "\n",
       "[180 rows x 46 columns]"
      ]
     },
     "execution_count": 47,
     "metadata": {},
     "output_type": "execute_result"
    }
   ],
   "source": [
    "nba_data"
   ]
  },
  {
   "cell_type": "code",
   "execution_count": 48,
   "metadata": {},
   "outputs": [],
   "source": [
    "nba_data.to_csv('nba_data_for_modeling.csv')"
   ]
  },
  {
   "cell_type": "code",
   "execution_count": null,
   "metadata": {},
   "outputs": [],
   "source": []
  }
 ],
 "metadata": {
  "kernelspec": {
   "display_name": "Python 3",
   "language": "python",
   "name": "python3"
  },
  "language_info": {
   "codemirror_mode": {
    "name": "ipython",
    "version": 3
   },
   "file_extension": ".py",
   "mimetype": "text/x-python",
   "name": "python",
   "nbconvert_exporter": "python",
   "pygments_lexer": "ipython3",
   "version": "3.7.6"
  }
 },
 "nbformat": 4,
 "nbformat_minor": 4
}
