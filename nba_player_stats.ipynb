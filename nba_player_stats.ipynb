{
 "cells": [
  {
   "cell_type": "code",
   "execution_count": 1,
   "metadata": {},
   "outputs": [],
   "source": [
    "import pandas as pd"
   ]
  },
  {
   "cell_type": "code",
   "execution_count": null,
   "metadata": {},
   "outputs": [],
   "source": []
  },
  {
   "cell_type": "markdown",
   "metadata": {},
   "source": [
    "# 2019 nba players stats"
   ]
  },
  {
   "cell_type": "code",
   "execution_count": 2,
   "metadata": {},
   "outputs": [],
   "source": [
    "nba_players_list_2019 = pd.read_html('https://www.basketball-reference.com/leagues/NBA_2019_per_game.html')"
   ]
  },
  {
   "cell_type": "code",
   "execution_count": 3,
   "metadata": {},
   "outputs": [],
   "source": [
    "nba_players_2019 = nba_players_list_2019[0]"
   ]
  },
  {
   "cell_type": "code",
   "execution_count": 4,
   "metadata": {},
   "outputs": [],
   "source": [
    "year_2019 = [2019 for x in nba_players_2019['Player']]"
   ]
  },
  {
   "cell_type": "code",
   "execution_count": 5,
   "metadata": {},
   "outputs": [],
   "source": [
    "nba_players_2019['year'] = year_2019"
   ]
  },
  {
   "cell_type": "code",
   "execution_count": 6,
   "metadata": {},
   "outputs": [],
   "source": [
    "nba_players_2019.drop(columns = 'Rk', inplace = True)"
   ]
  },
  {
   "cell_type": "code",
   "execution_count": 7,
   "metadata": {},
   "outputs": [],
   "source": [
    "nba_players_2019.rename(columns = {'MP': 'MPG'}, inplace = True)"
   ]
  },
  {
   "cell_type": "code",
   "execution_count": null,
   "metadata": {},
   "outputs": [],
   "source": []
  },
  {
   "cell_type": "code",
   "execution_count": 8,
   "metadata": {},
   "outputs": [],
   "source": [
    "nba_players_list_2019_advanced = pd.read_html('https://www.basketball-reference.com/leagues/NBA_2019_advanced.html')"
   ]
  },
  {
   "cell_type": "code",
   "execution_count": 9,
   "metadata": {},
   "outputs": [],
   "source": [
    "nba_players_2019_advanced = nba_players_list_2019_advanced[0]"
   ]
  },
  {
   "cell_type": "code",
   "execution_count": 10,
   "metadata": {},
   "outputs": [],
   "source": [
    "nba_players_2019_advanced['year'] = year_2019"
   ]
  },
  {
   "cell_type": "code",
   "execution_count": 11,
   "metadata": {},
   "outputs": [],
   "source": [
    "nba_players_2019_advanced.drop(columns = ['Rk', 'Unnamed: 19', 'Unnamed: 24', \n",
    "                                          'Player', 'Pos', 'Age', 'Tm', 'G'], inplace = True)"
   ]
  },
  {
   "cell_type": "code",
   "execution_count": null,
   "metadata": {},
   "outputs": [],
   "source": []
  },
  {
   "cell_type": "code",
   "execution_count": null,
   "metadata": {},
   "outputs": [],
   "source": []
  },
  {
   "cell_type": "markdown",
   "metadata": {},
   "source": [
    "# 2018 nba players stats"
   ]
  },
  {
   "cell_type": "code",
   "execution_count": 12,
   "metadata": {},
   "outputs": [],
   "source": [
    "nba_players_list_2018 = pd.read_html('https://www.basketball-reference.com/leagues/NBA_2018_per_game.html')"
   ]
  },
  {
   "cell_type": "code",
   "execution_count": 13,
   "metadata": {},
   "outputs": [],
   "source": [
    "nba_players_2018 = nba_players_list_2018[0]"
   ]
  },
  {
   "cell_type": "code",
   "execution_count": 14,
   "metadata": {},
   "outputs": [],
   "source": [
    "year_2018 = [2018 for x in nba_players_2018['Player']]"
   ]
  },
  {
   "cell_type": "code",
   "execution_count": 15,
   "metadata": {},
   "outputs": [],
   "source": [
    "nba_players_2018['year'] = year_2018"
   ]
  },
  {
   "cell_type": "code",
   "execution_count": 16,
   "metadata": {},
   "outputs": [],
   "source": [
    "nba_players_2018.drop(columns = 'Rk', inplace = True)"
   ]
  },
  {
   "cell_type": "code",
   "execution_count": 17,
   "metadata": {},
   "outputs": [],
   "source": [
    "nba_players_2018.rename(columns = {'MP': 'MPG'}, inplace = True)"
   ]
  },
  {
   "cell_type": "code",
   "execution_count": null,
   "metadata": {},
   "outputs": [],
   "source": []
  },
  {
   "cell_type": "code",
   "execution_count": 18,
   "metadata": {},
   "outputs": [],
   "source": [
    "nba_players_list_2018_advanced = pd.read_html('https://www.basketball-reference.com/leagues/NBA_2018_advanced.html')"
   ]
  },
  {
   "cell_type": "code",
   "execution_count": 19,
   "metadata": {},
   "outputs": [],
   "source": [
    "nba_players_2018_advanced = nba_players_list_2018_advanced[0]"
   ]
  },
  {
   "cell_type": "code",
   "execution_count": 20,
   "metadata": {},
   "outputs": [],
   "source": [
    "nba_players_2018_advanced['year'] = year_2018"
   ]
  },
  {
   "cell_type": "code",
   "execution_count": 21,
   "metadata": {},
   "outputs": [],
   "source": [
    "nba_players_2018_advanced.drop(columns = ['Rk', 'Unnamed: 19', 'Unnamed: 24', \n",
    "                                          'Player', 'Pos', 'Age', 'Tm', 'G'], inplace = True)"
   ]
  },
  {
   "cell_type": "code",
   "execution_count": null,
   "metadata": {},
   "outputs": [],
   "source": []
  },
  {
   "cell_type": "markdown",
   "metadata": {},
   "source": [
    "# 2017 nba players stats"
   ]
  },
  {
   "cell_type": "code",
   "execution_count": 22,
   "metadata": {},
   "outputs": [],
   "source": [
    "nba_players_list_2017 = pd.read_html('https://www.basketball-reference.com/leagues/NBA_2017_per_game.html')"
   ]
  },
  {
   "cell_type": "code",
   "execution_count": 23,
   "metadata": {},
   "outputs": [],
   "source": [
    "nba_players_2017 = nba_players_list_2017[0]"
   ]
  },
  {
   "cell_type": "code",
   "execution_count": 24,
   "metadata": {},
   "outputs": [],
   "source": [
    "year_2017 = [2017 for x in nba_players_2017['Player']]"
   ]
  },
  {
   "cell_type": "code",
   "execution_count": 25,
   "metadata": {},
   "outputs": [],
   "source": [
    "nba_players_2017['year'] = year_2017"
   ]
  },
  {
   "cell_type": "code",
   "execution_count": 26,
   "metadata": {},
   "outputs": [],
   "source": [
    "nba_players_2017.drop(columns = 'Rk', inplace = True)"
   ]
  },
  {
   "cell_type": "code",
   "execution_count": 27,
   "metadata": {},
   "outputs": [],
   "source": [
    "nba_players_2017.rename(columns = {'MP': 'MPG'}, inplace = True)"
   ]
  },
  {
   "cell_type": "code",
   "execution_count": null,
   "metadata": {},
   "outputs": [],
   "source": []
  },
  {
   "cell_type": "code",
   "execution_count": 28,
   "metadata": {},
   "outputs": [],
   "source": [
    "nba_players_list_2017_advanced = pd.read_html('https://www.basketball-reference.com/leagues/NBA_2017_advanced.html')"
   ]
  },
  {
   "cell_type": "code",
   "execution_count": 29,
   "metadata": {},
   "outputs": [],
   "source": [
    "nba_players_2017_advanced = nba_players_list_2017_advanced[0]"
   ]
  },
  {
   "cell_type": "code",
   "execution_count": 30,
   "metadata": {},
   "outputs": [],
   "source": [
    "nba_players_2017_advanced['year'] = year_2017"
   ]
  },
  {
   "cell_type": "code",
   "execution_count": 31,
   "metadata": {},
   "outputs": [],
   "source": [
    "nba_players_2017_advanced.drop(columns = ['Rk', 'Unnamed: 19', 'Unnamed: 24', \n",
    "                                          'Player', 'Pos', 'Age', 'Tm', 'G'], inplace = True)"
   ]
  },
  {
   "cell_type": "code",
   "execution_count": null,
   "metadata": {},
   "outputs": [],
   "source": []
  },
  {
   "cell_type": "markdown",
   "metadata": {},
   "source": [
    "# 2016 nba players stats"
   ]
  },
  {
   "cell_type": "code",
   "execution_count": 32,
   "metadata": {},
   "outputs": [],
   "source": [
    "nba_players_list_2016 = pd.read_html('https://www.basketball-reference.com/leagues/NBA_2016_per_game.html')"
   ]
  },
  {
   "cell_type": "code",
   "execution_count": 33,
   "metadata": {},
   "outputs": [],
   "source": [
    "nba_players_2016 = nba_players_list_2016[0]"
   ]
  },
  {
   "cell_type": "code",
   "execution_count": 34,
   "metadata": {},
   "outputs": [],
   "source": [
    "year_2016 = [2016 for x in nba_players_2016['Player']]"
   ]
  },
  {
   "cell_type": "code",
   "execution_count": 35,
   "metadata": {},
   "outputs": [],
   "source": [
    "nba_players_2016['year'] = year_2016"
   ]
  },
  {
   "cell_type": "code",
   "execution_count": 36,
   "metadata": {},
   "outputs": [],
   "source": [
    "nba_players_2016.drop(columns = 'Rk', inplace = True)"
   ]
  },
  {
   "cell_type": "code",
   "execution_count": 37,
   "metadata": {},
   "outputs": [],
   "source": [
    "nba_players_2016.rename(columns = {'MP': 'MPG'}, inplace = True)"
   ]
  },
  {
   "cell_type": "code",
   "execution_count": null,
   "metadata": {},
   "outputs": [],
   "source": []
  },
  {
   "cell_type": "code",
   "execution_count": 38,
   "metadata": {},
   "outputs": [],
   "source": [
    "nba_players_list_2016_advanced = pd.read_html('https://www.basketball-reference.com/leagues/NBA_2016_advanced.html')"
   ]
  },
  {
   "cell_type": "code",
   "execution_count": 39,
   "metadata": {},
   "outputs": [],
   "source": [
    "nba_players_2016_advanced = nba_players_list_2016_advanced[0]"
   ]
  },
  {
   "cell_type": "code",
   "execution_count": 40,
   "metadata": {},
   "outputs": [],
   "source": [
    "nba_players_2016_advanced['year'] = year_2016"
   ]
  },
  {
   "cell_type": "code",
   "execution_count": 41,
   "metadata": {},
   "outputs": [],
   "source": [
    "nba_players_2016_advanced.drop(columns = ['Rk', 'Unnamed: 19', 'Unnamed: 24', \n",
    "                                          'Player', 'Pos', 'Age', 'Tm', 'G'], inplace = True)"
   ]
  },
  {
   "cell_type": "code",
   "execution_count": null,
   "metadata": {},
   "outputs": [],
   "source": []
  },
  {
   "cell_type": "markdown",
   "metadata": {},
   "source": [
    "# 2015 nba players stats"
   ]
  },
  {
   "cell_type": "code",
   "execution_count": 42,
   "metadata": {},
   "outputs": [],
   "source": [
    "nba_players_list_2015 = pd.read_html('https://www.basketball-reference.com/leagues/NBA_2015_per_game.html')"
   ]
  },
  {
   "cell_type": "code",
   "execution_count": 43,
   "metadata": {},
   "outputs": [],
   "source": [
    "nba_players_2015 = nba_players_list_2015[0]"
   ]
  },
  {
   "cell_type": "code",
   "execution_count": 44,
   "metadata": {},
   "outputs": [],
   "source": [
    "year_2015 = [2015 for x in nba_players_2015['Player']]"
   ]
  },
  {
   "cell_type": "code",
   "execution_count": 45,
   "metadata": {},
   "outputs": [],
   "source": [
    "nba_players_2015['year'] = year_2015"
   ]
  },
  {
   "cell_type": "code",
   "execution_count": 46,
   "metadata": {},
   "outputs": [],
   "source": [
    "nba_players_2015.drop(columns = 'Rk', inplace = True)"
   ]
  },
  {
   "cell_type": "code",
   "execution_count": 47,
   "metadata": {},
   "outputs": [],
   "source": [
    "nba_players_2015.rename(columns = {'MP': 'MPG'}, inplace = True)"
   ]
  },
  {
   "cell_type": "code",
   "execution_count": null,
   "metadata": {},
   "outputs": [],
   "source": []
  },
  {
   "cell_type": "code",
   "execution_count": 48,
   "metadata": {},
   "outputs": [],
   "source": [
    "nba_players_list_2015_advanced = pd.read_html('https://www.basketball-reference.com/leagues/NBA_2015_advanced.html')"
   ]
  },
  {
   "cell_type": "code",
   "execution_count": 49,
   "metadata": {},
   "outputs": [],
   "source": [
    "nba_players_2015_advanced = nba_players_list_2015_advanced[0]"
   ]
  },
  {
   "cell_type": "code",
   "execution_count": 50,
   "metadata": {},
   "outputs": [],
   "source": [
    "nba_players_2015_advanced['year'] = year_2015"
   ]
  },
  {
   "cell_type": "code",
   "execution_count": 51,
   "metadata": {},
   "outputs": [],
   "source": [
    "nba_players_2015_advanced.drop(columns = ['Rk', 'Unnamed: 19', 'Unnamed: 24', \n",
    "                                          'Player', 'Pos', 'Age', 'Tm', 'G'], inplace = True)"
   ]
  },
  {
   "cell_type": "code",
   "execution_count": null,
   "metadata": {},
   "outputs": [],
   "source": []
  },
  {
   "cell_type": "markdown",
   "metadata": {},
   "source": [
    "# Concating the Per game stats with Advanced Stats and cleaning data to get all ints/floats"
   ]
  },
  {
   "cell_type": "code",
   "execution_count": 53,
   "metadata": {},
   "outputs": [],
   "source": [
    "nba_2019_players = pd.concat([nba_players_2019, nba_players_2019_advanced], axis = 1)"
   ]
  },
  {
   "cell_type": "code",
   "execution_count": 54,
   "metadata": {},
   "outputs": [],
   "source": [
    "nba_2019_players.fillna(0, inplace = True)"
   ]
  },
  {
   "cell_type": "code",
   "execution_count": 55,
   "metadata": {
    "scrolled": false
   },
   "outputs": [],
   "source": [
    "nba_2019_players = nba_2019_players[~nba_2019_players.Player.str.startswith('Player')]\n",
    "\n",
    "# returns all rows in the dataframe that dont start with Player"
   ]
  },
  {
   "cell_type": "code",
   "execution_count": 56,
   "metadata": {},
   "outputs": [],
   "source": [
    "nba_2019_players = nba_2019_players.apply(pd.to_numeric, errors = 'ignore')\n",
    "\n",
    "# applies a numeric type (float or int) to all columns that have entirely numeric values in them\n",
    "# if a column does not have a numeric value it will ignore and move on\n",
    "\n",
    "# that is why i had to first remove all the na values and turn them to 0's"
   ]
  },
  {
   "cell_type": "code",
   "execution_count": null,
   "metadata": {},
   "outputs": [],
   "source": []
  },
  {
   "cell_type": "code",
   "execution_count": 57,
   "metadata": {},
   "outputs": [],
   "source": [
    "nba_2018_players = pd.concat([nba_players_2018, nba_players_2018_advanced], axis = 1)"
   ]
  },
  {
   "cell_type": "code",
   "execution_count": 58,
   "metadata": {},
   "outputs": [],
   "source": [
    "nba_2018_players.fillna(0, inplace = True)"
   ]
  },
  {
   "cell_type": "code",
   "execution_count": 60,
   "metadata": {},
   "outputs": [],
   "source": [
    "nba_2018_players = nba_2018_players[~nba_2018_players.Player.str.startswith('Player')]"
   ]
  },
  {
   "cell_type": "code",
   "execution_count": 61,
   "metadata": {},
   "outputs": [],
   "source": [
    "nba_2018_players = nba_2018_players.apply(pd.to_numeric, errors = 'ignore')"
   ]
  },
  {
   "cell_type": "code",
   "execution_count": null,
   "metadata": {},
   "outputs": [],
   "source": []
  },
  {
   "cell_type": "code",
   "execution_count": 62,
   "metadata": {},
   "outputs": [],
   "source": [
    "nba_2017_players = pd.concat([nba_players_2017, nba_players_2017_advanced], axis = 1)"
   ]
  },
  {
   "cell_type": "code",
   "execution_count": 63,
   "metadata": {},
   "outputs": [],
   "source": [
    "nba_2017_players.fillna(0, inplace = True)"
   ]
  },
  {
   "cell_type": "code",
   "execution_count": 64,
   "metadata": {},
   "outputs": [],
   "source": [
    "nba_2017_players = nba_2017_players[~nba_2017_players.Player.str.startswith('Player')]"
   ]
  },
  {
   "cell_type": "code",
   "execution_count": 65,
   "metadata": {},
   "outputs": [],
   "source": [
    "nba_2017_players = nba_2017_players.apply(pd.to_numeric, errors = 'ignore')"
   ]
  },
  {
   "cell_type": "code",
   "execution_count": null,
   "metadata": {},
   "outputs": [],
   "source": []
  },
  {
   "cell_type": "code",
   "execution_count": 66,
   "metadata": {},
   "outputs": [],
   "source": [
    "nba_2016_players = pd.concat([nba_players_2016, nba_players_2016_advanced], axis = 1)"
   ]
  },
  {
   "cell_type": "code",
   "execution_count": 67,
   "metadata": {},
   "outputs": [],
   "source": [
    "nba_2016_players.fillna(0, inplace = True)"
   ]
  },
  {
   "cell_type": "code",
   "execution_count": 68,
   "metadata": {},
   "outputs": [],
   "source": [
    "nba_2016_players = nba_2016_players[~nba_2016_players.Player.str.startswith('Player')]"
   ]
  },
  {
   "cell_type": "code",
   "execution_count": 69,
   "metadata": {},
   "outputs": [],
   "source": [
    "nba_2016_players = nba_2016_players.apply(pd.to_numeric, errors = 'ignore')"
   ]
  },
  {
   "cell_type": "code",
   "execution_count": null,
   "metadata": {},
   "outputs": [],
   "source": []
  },
  {
   "cell_type": "code",
   "execution_count": 70,
   "metadata": {},
   "outputs": [],
   "source": [
    "nba_2015_players = pd.concat([nba_players_2015, nba_players_2015_advanced], axis = 1)"
   ]
  },
  {
   "cell_type": "code",
   "execution_count": 71,
   "metadata": {},
   "outputs": [],
   "source": [
    "nba_2015_players.fillna(0, inplace = True)"
   ]
  },
  {
   "cell_type": "code",
   "execution_count": 72,
   "metadata": {},
   "outputs": [],
   "source": [
    "nba_2015_players = nba_2015_players[~nba_2015_players.Player.str.startswith('Player')]"
   ]
  },
  {
   "cell_type": "code",
   "execution_count": 73,
   "metadata": {},
   "outputs": [],
   "source": [
    "nba_2015_players = nba_2015_players.apply(pd.to_numeric, errors = 'ignore')"
   ]
  },
  {
   "cell_type": "code",
   "execution_count": null,
   "metadata": {},
   "outputs": [],
   "source": []
  },
  {
   "cell_type": "markdown",
   "metadata": {},
   "source": [
    "# Dropping Duplicate data for players who played on multiple teams"
   ]
  },
  {
   "cell_type": "code",
   "execution_count": 74,
   "metadata": {},
   "outputs": [],
   "source": [
    "nba_2019_players.drop_duplicates(subset = ['Player'], keep = 'first', inplace = True)\n",
    "\n",
    "# dropping instances where a player played for more than 1 team by just keeping his \n",
    "# total numbers (for now) may need to change up slightly depending on whether or not \n",
    "# its necessary to keep the players teams for that season seperate"
   ]
  },
  {
   "cell_type": "code",
   "execution_count": 75,
   "metadata": {},
   "outputs": [],
   "source": [
    "nba_2018_players.drop_duplicates(subset = ['Player'], keep = 'first', inplace = True)"
   ]
  },
  {
   "cell_type": "code",
   "execution_count": 76,
   "metadata": {},
   "outputs": [],
   "source": [
    "nba_2017_players.drop_duplicates(subset = ['Player'], keep = 'first', inplace = True)"
   ]
  },
  {
   "cell_type": "code",
   "execution_count": 77,
   "metadata": {},
   "outputs": [],
   "source": [
    "nba_2016_players.drop_duplicates(subset = ['Player'], keep = 'first', inplace = True)"
   ]
  },
  {
   "cell_type": "code",
   "execution_count": 78,
   "metadata": {},
   "outputs": [],
   "source": [
    "nba_2015_players.drop_duplicates(subset = ['Player'], keep = 'first', inplace = True)"
   ]
  },
  {
   "cell_type": "code",
   "execution_count": null,
   "metadata": {},
   "outputs": [],
   "source": []
  },
  {
   "cell_type": "markdown",
   "metadata": {},
   "source": [
    "# Playing with the player data"
   ]
  },
  {
   "cell_type": "code",
   "execution_count": 95,
   "metadata": {},
   "outputs": [],
   "source": [
    "lowry = nba_2019_players[nba_2019_players['Player'] == 'Kyle Lowry']\n",
    "kawhi = nba_2019_players[nba_2019_players['Player'] == 'Kawhi Leonard']\n",
    "random_concat = pd.concat([lowry, kawhi], axis = 1, ignore_index = False)"
   ]
  },
  {
   "cell_type": "code",
   "execution_count": 92,
   "metadata": {},
   "outputs": [
    {
     "data": {
      "text/html": [
       "<div>\n",
       "<style scoped>\n",
       "    .dataframe tbody tr th:only-of-type {\n",
       "        vertical-align: middle;\n",
       "    }\n",
       "\n",
       "    .dataframe tbody tr th {\n",
       "        vertical-align: top;\n",
       "    }\n",
       "\n",
       "    .dataframe thead th {\n",
       "        text-align: right;\n",
       "    }\n",
       "</style>\n",
       "<table border=\"1\" class=\"dataframe\">\n",
       "  <thead>\n",
       "    <tr style=\"text-align: right;\">\n",
       "      <th></th>\n",
       "      <th>0</th>\n",
       "      <th>1</th>\n",
       "      <th>2</th>\n",
       "      <th>3</th>\n",
       "      <th>4</th>\n",
       "      <th>5</th>\n",
       "      <th>6</th>\n",
       "      <th>7</th>\n",
       "      <th>8</th>\n",
       "      <th>9</th>\n",
       "      <th>...</th>\n",
       "      <th>94</th>\n",
       "      <th>95</th>\n",
       "      <th>96</th>\n",
       "      <th>97</th>\n",
       "      <th>98</th>\n",
       "      <th>99</th>\n",
       "      <th>100</th>\n",
       "      <th>101</th>\n",
       "      <th>102</th>\n",
       "      <th>103</th>\n",
       "    </tr>\n",
       "  </thead>\n",
       "  <tbody>\n",
       "    <tr>\n",
       "      <th>412</th>\n",
       "      <td>NaN</td>\n",
       "      <td>NaN</td>\n",
       "      <td>NaN</td>\n",
       "      <td>NaN</td>\n",
       "      <td>NaN</td>\n",
       "      <td>NaN</td>\n",
       "      <td>NaN</td>\n",
       "      <td>NaN</td>\n",
       "      <td>NaN</td>\n",
       "      <td>NaN</td>\n",
       "      <td>...</td>\n",
       "      <td>30.3</td>\n",
       "      <td>6.1</td>\n",
       "      <td>3.4</td>\n",
       "      <td>9.5</td>\n",
       "      <td>0.224</td>\n",
       "      <td>6.1</td>\n",
       "      <td>1.1</td>\n",
       "      <td>7.2</td>\n",
       "      <td>4.7</td>\n",
       "      <td>2019.0</td>\n",
       "    </tr>\n",
       "    <tr>\n",
       "      <th>426</th>\n",
       "      <td>Kyle Lowry</td>\n",
       "      <td>PG</td>\n",
       "      <td>32.0</td>\n",
       "      <td>TOR</td>\n",
       "      <td>65.0</td>\n",
       "      <td>65.0</td>\n",
       "      <td>34.0</td>\n",
       "      <td>4.7</td>\n",
       "      <td>11.4</td>\n",
       "      <td>0.411</td>\n",
       "      <td>...</td>\n",
       "      <td>NaN</td>\n",
       "      <td>NaN</td>\n",
       "      <td>NaN</td>\n",
       "      <td>NaN</td>\n",
       "      <td>NaN</td>\n",
       "      <td>NaN</td>\n",
       "      <td>NaN</td>\n",
       "      <td>NaN</td>\n",
       "      <td>NaN</td>\n",
       "      <td>NaN</td>\n",
       "    </tr>\n",
       "  </tbody>\n",
       "</table>\n",
       "<p>2 rows × 104 columns</p>\n",
       "</div>"
      ],
      "text/plain": [
       "            0    1     2    3     4     5     6    7     8      9    ...  \\\n",
       "412         NaN  NaN   NaN  NaN   NaN   NaN   NaN  NaN   NaN    NaN  ...   \n",
       "426  Kyle Lowry   PG  32.0  TOR  65.0  65.0  34.0  4.7  11.4  0.411  ...   \n",
       "\n",
       "      94   95   96   97     98   99   100  101  102     103  \n",
       "412  30.3  6.1  3.4  9.5  0.224  6.1  1.1  7.2  4.7  2019.0  \n",
       "426   NaN  NaN  NaN  NaN    NaN  NaN  NaN  NaN  NaN     NaN  \n",
       "\n",
       "[2 rows x 104 columns]"
      ]
     },
     "execution_count": 92,
     "metadata": {},
     "output_type": "execute_result"
    }
   ],
   "source": [
    "random_concat"
   ]
  },
  {
   "cell_type": "code",
   "execution_count": null,
   "metadata": {},
   "outputs": [],
   "source": []
  },
  {
   "cell_type": "markdown",
   "metadata": {},
   "source": [
    "# Importing Team Data"
   ]
  },
  {
   "cell_type": "code",
   "execution_count": 112,
   "metadata": {},
   "outputs": [],
   "source": [
    "nba_teams_2019_csv = pd.read_csv('nba_teams_misc.csv')"
   ]
  },
  {
   "cell_type": "code",
   "execution_count": 113,
   "metadata": {},
   "outputs": [
    {
     "data": {
      "text/html": [
       "<div>\n",
       "<style scoped>\n",
       "    .dataframe tbody tr th:only-of-type {\n",
       "        vertical-align: middle;\n",
       "    }\n",
       "\n",
       "    .dataframe tbody tr th {\n",
       "        vertical-align: top;\n",
       "    }\n",
       "\n",
       "    .dataframe thead th {\n",
       "        text-align: right;\n",
       "    }\n",
       "</style>\n",
       "<table border=\"1\" class=\"dataframe\">\n",
       "  <thead>\n",
       "    <tr style=\"text-align: right;\">\n",
       "      <th></th>\n",
       "      <th>Rk,Team,Age,W,L,PW,PL,MOV,SOS,SRS,ORtg,DRtg,NRtg,Pace,FTr,3PAr,TS%,eFG%,TOV%,ORB%,FT/FGA,eFG%,TOV%,DRB%,FT/FGA,Arena,Attend.,Attend./G</th>\n",
       "    </tr>\n",
       "  </thead>\n",
       "  <tbody>\n",
       "    <tr>\n",
       "      <th>0</th>\n",
       "      <td>1,Milwaukee Bucks*,26.9,60,22,61,21,8.87,-0.82...</td>\n",
       "    </tr>\n",
       "    <tr>\n",
       "      <th>1</th>\n",
       "      <td>2,Golden State Warriors*,28.4,57,25,56,26,6.46...</td>\n",
       "    </tr>\n",
       "    <tr>\n",
       "      <th>2</th>\n",
       "      <td>3,Toronto Raptors*,27.3,58,24,56,26,6.09,-0.60...</td>\n",
       "    </tr>\n",
       "    <tr>\n",
       "      <th>3</th>\n",
       "      <td>4,Utah Jazz*,27.3,50,32,54,28,5.26,0.03,5.28,1...</td>\n",
       "    </tr>\n",
       "    <tr>\n",
       "      <th>4</th>\n",
       "      <td>5,Houston Rockets*,29.2,53,29,53,29,4.77,0.19,...</td>\n",
       "    </tr>\n",
       "    <tr>\n",
       "      <th>5</th>\n",
       "      <td>6,Portland Trail Blazers*,26.2,53,29,51,31,4.2...</td>\n",
       "    </tr>\n",
       "    <tr>\n",
       "      <th>6</th>\n",
       "      <td>7,Denver Nuggets*,24.9,54,28,51,31,3.95,0.24,4...</td>\n",
       "    </tr>\n",
       "    <tr>\n",
       "      <th>7</th>\n",
       "      <td>8,Boston Celtics*,25.7,49,33,52,30,4.44,-0.54,...</td>\n",
       "    </tr>\n",
       "    <tr>\n",
       "      <th>8</th>\n",
       "      <td>9,Oklahoma City Thunder*,25.7,49,33,50,32,3.40...</td>\n",
       "    </tr>\n",
       "    <tr>\n",
       "      <th>9</th>\n",
       "      <td>10,Indiana Pacers*,27.0,48,34,50,32,3.33,-0.57...</td>\n",
       "    </tr>\n",
       "    <tr>\n",
       "      <th>10</th>\n",
       "      <td>11,Philadelphia 76ers*,26.4,51,31,48,34,2.70,-...</td>\n",
       "    </tr>\n",
       "    <tr>\n",
       "      <th>11</th>\n",
       "      <td>12,San Antonio Spurs*,28.8,48,34,45,37,1.68,0....</td>\n",
       "    </tr>\n",
       "    <tr>\n",
       "      <th>12</th>\n",
       "      <td>13,Los Angeles Clippers*,27.2,48,34,43,39,0.85...</td>\n",
       "    </tr>\n",
       "    <tr>\n",
       "      <th>13</th>\n",
       "      <td>14,Orlando Magic*,25.7,42,40,43,39,0.71,-0.43,...</td>\n",
       "    </tr>\n",
       "    <tr>\n",
       "      <th>14</th>\n",
       "      <td>15,Brooklyn Nets*,25.4,42,40,41,41,-0.07,-0.33...</td>\n",
       "    </tr>\n",
       "    <tr>\n",
       "      <th>15</th>\n",
       "      <td>16,Miami Heat,27.0,39,43,40,42,-0.23,-0.22,-0....</td>\n",
       "    </tr>\n",
       "    <tr>\n",
       "      <th>16</th>\n",
       "      <td>17,Detroit Pistons*,26.9,41,41,40,42,-0.24,-0....</td>\n",
       "    </tr>\n",
       "    <tr>\n",
       "      <th>17</th>\n",
       "      <td>18,Sacramento Kings,24.8,39,43,38,44,-1.12,0.3...</td>\n",
       "    </tr>\n",
       "    <tr>\n",
       "      <th>18</th>\n",
       "      <td>19,Dallas Mavericks,26.9,33,49,38,44,-1.28,0.4...</td>\n",
       "    </tr>\n",
       "    <tr>\n",
       "      <th>19</th>\n",
       "      <td>20,Minnesota Timberwolves,26.2,36,46,37,45,-1....</td>\n",
       "    </tr>\n",
       "    <tr>\n",
       "      <th>20</th>\n",
       "      <td>21,New Orleans Pelicans,25.7,33,49,38,44,-1.33...</td>\n",
       "    </tr>\n",
       "    <tr>\n",
       "      <th>21</th>\n",
       "      <td>22,Charlotte Hornets,26.6,39,43,38,44,-1.10,-0...</td>\n",
       "    </tr>\n",
       "    <tr>\n",
       "      <th>22</th>\n",
       "      <td>23,Los Angeles Lakers,26.2,37,45,37,45,-1.72,0...</td>\n",
       "    </tr>\n",
       "    <tr>\n",
       "      <th>23</th>\n",
       "      <td>24,Memphis Grizzlies,27.7,33,49,34,48,-2.60,0....</td>\n",
       "    </tr>\n",
       "    <tr>\n",
       "      <th>24</th>\n",
       "      <td>25,Washington Wizards,26.5,32,50,34,48,-2.90,-...</td>\n",
       "    </tr>\n",
       "    <tr>\n",
       "      <th>25</th>\n",
       "      <td>26,Atlanta Hawks,25.1,29,53,27,55,-6.02,-0.04,...</td>\n",
       "    </tr>\n",
       "    <tr>\n",
       "      <th>26</th>\n",
       "      <td>27,Chicago Bulls,24.0,22,60,21,61,-8.41,0.10,-...</td>\n",
       "    </tr>\n",
       "    <tr>\n",
       "      <th>27</th>\n",
       "      <td>28,Phoenix Suns,24.0,19,63,19,63,-9.34,0.73,-8...</td>\n",
       "    </tr>\n",
       "    <tr>\n",
       "      <th>28</th>\n",
       "      <td>29,New York Knicks,23.4,17,65,19,63,-9.21,0.28...</td>\n",
       "    </tr>\n",
       "    <tr>\n",
       "      <th>29</th>\n",
       "      <td>30,Cleveland Cavaliers,25.2,19,63,19,63,-9.61,...</td>\n",
       "    </tr>\n",
       "  </tbody>\n",
       "</table>\n",
       "</div>"
      ],
      "text/plain": [
       "   Rk,Team,Age,W,L,PW,PL,MOV,SOS,SRS,ORtg,DRtg,NRtg,Pace,FTr,3PAr,TS%,eFG%,TOV%,ORB%,FT/FGA,eFG%,TOV%,DRB%,FT/FGA,Arena,Attend.,Attend./G\n",
       "0   1,Milwaukee Bucks*,26.9,60,22,61,21,8.87,-0.82...                                                                                    \n",
       "1   2,Golden State Warriors*,28.4,57,25,56,26,6.46...                                                                                    \n",
       "2   3,Toronto Raptors*,27.3,58,24,56,26,6.09,-0.60...                                                                                    \n",
       "3   4,Utah Jazz*,27.3,50,32,54,28,5.26,0.03,5.28,1...                                                                                    \n",
       "4   5,Houston Rockets*,29.2,53,29,53,29,4.77,0.19,...                                                                                    \n",
       "5   6,Portland Trail Blazers*,26.2,53,29,51,31,4.2...                                                                                    \n",
       "6   7,Denver Nuggets*,24.9,54,28,51,31,3.95,0.24,4...                                                                                    \n",
       "7   8,Boston Celtics*,25.7,49,33,52,30,4.44,-0.54,...                                                                                    \n",
       "8   9,Oklahoma City Thunder*,25.7,49,33,50,32,3.40...                                                                                    \n",
       "9   10,Indiana Pacers*,27.0,48,34,50,32,3.33,-0.57...                                                                                    \n",
       "10  11,Philadelphia 76ers*,26.4,51,31,48,34,2.70,-...                                                                                    \n",
       "11  12,San Antonio Spurs*,28.8,48,34,45,37,1.68,0....                                                                                    \n",
       "12  13,Los Angeles Clippers*,27.2,48,34,43,39,0.85...                                                                                    \n",
       "13  14,Orlando Magic*,25.7,42,40,43,39,0.71,-0.43,...                                                                                    \n",
       "14  15,Brooklyn Nets*,25.4,42,40,41,41,-0.07,-0.33...                                                                                    \n",
       "15  16,Miami Heat,27.0,39,43,40,42,-0.23,-0.22,-0....                                                                                    \n",
       "16  17,Detroit Pistons*,26.9,41,41,40,42,-0.24,-0....                                                                                    \n",
       "17  18,Sacramento Kings,24.8,39,43,38,44,-1.12,0.3...                                                                                    \n",
       "18  19,Dallas Mavericks,26.9,33,49,38,44,-1.28,0.4...                                                                                    \n",
       "19  20,Minnesota Timberwolves,26.2,36,46,37,45,-1....                                                                                    \n",
       "20  21,New Orleans Pelicans,25.7,33,49,38,44,-1.33...                                                                                    \n",
       "21  22,Charlotte Hornets,26.6,39,43,38,44,-1.10,-0...                                                                                    \n",
       "22  23,Los Angeles Lakers,26.2,37,45,37,45,-1.72,0...                                                                                    \n",
       "23  24,Memphis Grizzlies,27.7,33,49,34,48,-2.60,0....                                                                                    \n",
       "24  25,Washington Wizards,26.5,32,50,34,48,-2.90,-...                                                                                    \n",
       "25  26,Atlanta Hawks,25.1,29,53,27,55,-6.02,-0.04,...                                                                                    \n",
       "26  27,Chicago Bulls,24.0,22,60,21,61,-8.41,0.10,-...                                                                                    \n",
       "27  28,Phoenix Suns,24.0,19,63,19,63,-9.34,0.73,-8...                                                                                    \n",
       "28  29,New York Knicks,23.4,17,65,19,63,-9.21,0.28...                                                                                    \n",
       "29  30,Cleveland Cavaliers,25.2,19,63,19,63,-9.61,...                                                                                    "
      ]
     },
     "execution_count": 113,
     "metadata": {},
     "output_type": "execute_result"
    }
   ],
   "source": [
    "nba_teams_2019_html"
   ]
  },
  {
   "cell_type": "code",
   "execution_count": null,
   "metadata": {},
   "outputs": [],
   "source": []
  }
 ],
 "metadata": {
  "kernelspec": {
   "display_name": "Python 3",
   "language": "python",
   "name": "python3"
  },
  "language_info": {
   "codemirror_mode": {
    "name": "ipython",
    "version": 3
   },
   "file_extension": ".py",
   "mimetype": "text/x-python",
   "name": "python",
   "nbconvert_exporter": "python",
   "pygments_lexer": "ipython3",
   "version": "3.7.6"
  }
 },
 "nbformat": 4,
 "nbformat_minor": 4
}
