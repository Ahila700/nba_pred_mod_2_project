{
 "cells": [
  {
   "cell_type": "code",
   "execution_count": 142,
   "metadata": {},
   "outputs": [],
   "source": [
    "import pandas as pd\n",
    "import numpy as np"
   ]
  },
  {
   "cell_type": "code",
   "execution_count": null,
   "metadata": {},
   "outputs": [],
   "source": []
  },
  {
   "cell_type": "markdown",
   "metadata": {},
   "source": [
    "# 2019 nba players stats"
   ]
  },
  {
   "cell_type": "code",
   "execution_count": 2,
   "metadata": {},
   "outputs": [],
   "source": [
    "nba_players_list_2019 = pd.read_html('https://www.basketball-reference.com/leagues/NBA_2019_per_game.html')"
   ]
  },
  {
   "cell_type": "code",
   "execution_count": 3,
   "metadata": {},
   "outputs": [],
   "source": [
    "nba_players_2019 = nba_players_list_2019[0]"
   ]
  },
  {
   "cell_type": "code",
   "execution_count": 4,
   "metadata": {},
   "outputs": [],
   "source": [
    "year_2019 = [2019 for x in nba_players_2019['Player']]"
   ]
  },
  {
   "cell_type": "code",
   "execution_count": 5,
   "metadata": {},
   "outputs": [],
   "source": [
    "nba_players_2019.drop(columns = 'Rk', inplace = True)"
   ]
  },
  {
   "cell_type": "code",
   "execution_count": 6,
   "metadata": {},
   "outputs": [],
   "source": [
    "nba_players_2019.rename(columns = {'MP': 'MPG'}, inplace = True)"
   ]
  },
  {
   "cell_type": "code",
   "execution_count": null,
   "metadata": {},
   "outputs": [],
   "source": []
  },
  {
   "cell_type": "code",
   "execution_count": 7,
   "metadata": {},
   "outputs": [],
   "source": [
    "nba_players_list_2019_advanced = pd.read_html('https://www.basketball-reference.com/leagues/NBA_2019_advanced.html')"
   ]
  },
  {
   "cell_type": "code",
   "execution_count": 8,
   "metadata": {},
   "outputs": [],
   "source": [
    "nba_players_2019_advanced = nba_players_list_2019_advanced[0]"
   ]
  },
  {
   "cell_type": "code",
   "execution_count": 9,
   "metadata": {},
   "outputs": [],
   "source": [
    "nba_players_2019_advanced['year'] = year_2019"
   ]
  },
  {
   "cell_type": "code",
   "execution_count": 10,
   "metadata": {},
   "outputs": [],
   "source": [
    "nba_players_2019_advanced.drop(columns = ['Rk', 'Unnamed: 19', 'Unnamed: 24', \n",
    "                                          'Player', 'Pos', 'Age', 'Tm', 'G'], inplace = True)"
   ]
  },
  {
   "cell_type": "code",
   "execution_count": null,
   "metadata": {},
   "outputs": [],
   "source": []
  },
  {
   "cell_type": "code",
   "execution_count": null,
   "metadata": {},
   "outputs": [],
   "source": []
  },
  {
   "cell_type": "markdown",
   "metadata": {},
   "source": [
    "# 2018 nba players stats"
   ]
  },
  {
   "cell_type": "code",
   "execution_count": 11,
   "metadata": {},
   "outputs": [],
   "source": [
    "nba_players_list_2018 = pd.read_html('https://www.basketball-reference.com/leagues/NBA_2018_per_game.html')"
   ]
  },
  {
   "cell_type": "code",
   "execution_count": 12,
   "metadata": {},
   "outputs": [],
   "source": [
    "nba_players_2018 = nba_players_list_2018[0]"
   ]
  },
  {
   "cell_type": "code",
   "execution_count": 13,
   "metadata": {},
   "outputs": [],
   "source": [
    "year_2018 = [2018 for x in nba_players_2018['Player']]"
   ]
  },
  {
   "cell_type": "code",
   "execution_count": 14,
   "metadata": {},
   "outputs": [],
   "source": [
    "nba_players_2018.drop(columns = 'Rk', inplace = True)"
   ]
  },
  {
   "cell_type": "code",
   "execution_count": 15,
   "metadata": {},
   "outputs": [],
   "source": [
    "nba_players_2018.rename(columns = {'MP': 'MPG'}, inplace = True)"
   ]
  },
  {
   "cell_type": "code",
   "execution_count": null,
   "metadata": {},
   "outputs": [],
   "source": []
  },
  {
   "cell_type": "code",
   "execution_count": 16,
   "metadata": {},
   "outputs": [],
   "source": [
    "nba_players_list_2018_advanced = pd.read_html('https://www.basketball-reference.com/leagues/NBA_2018_advanced.html')"
   ]
  },
  {
   "cell_type": "code",
   "execution_count": 17,
   "metadata": {},
   "outputs": [],
   "source": [
    "nba_players_2018_advanced = nba_players_list_2018_advanced[0]"
   ]
  },
  {
   "cell_type": "code",
   "execution_count": 18,
   "metadata": {},
   "outputs": [],
   "source": [
    "nba_players_2018_advanced['year'] = year_2018"
   ]
  },
  {
   "cell_type": "code",
   "execution_count": 19,
   "metadata": {},
   "outputs": [],
   "source": [
    "nba_players_2018_advanced.drop(columns = ['Rk', 'Unnamed: 19', 'Unnamed: 24', \n",
    "                                          'Player', 'Pos', 'Age', 'Tm', 'G'], inplace = True)"
   ]
  },
  {
   "cell_type": "code",
   "execution_count": null,
   "metadata": {},
   "outputs": [],
   "source": []
  },
  {
   "cell_type": "markdown",
   "metadata": {},
   "source": [
    "# 2017 nba players stats"
   ]
  },
  {
   "cell_type": "code",
   "execution_count": 20,
   "metadata": {},
   "outputs": [],
   "source": [
    "nba_players_list_2017 = pd.read_html('https://www.basketball-reference.com/leagues/NBA_2017_per_game.html')"
   ]
  },
  {
   "cell_type": "code",
   "execution_count": 21,
   "metadata": {},
   "outputs": [],
   "source": [
    "nba_players_2017 = nba_players_list_2017[0]"
   ]
  },
  {
   "cell_type": "code",
   "execution_count": 22,
   "metadata": {},
   "outputs": [],
   "source": [
    "year_2017 = [2017 for x in nba_players_2017['Player']]"
   ]
  },
  {
   "cell_type": "code",
   "execution_count": 23,
   "metadata": {},
   "outputs": [],
   "source": [
    "nba_players_2017.drop(columns = 'Rk', inplace = True)"
   ]
  },
  {
   "cell_type": "code",
   "execution_count": 24,
   "metadata": {},
   "outputs": [],
   "source": [
    "nba_players_2017.rename(columns = {'MP': 'MPG'}, inplace = True)"
   ]
  },
  {
   "cell_type": "code",
   "execution_count": null,
   "metadata": {},
   "outputs": [],
   "source": []
  },
  {
   "cell_type": "code",
   "execution_count": 25,
   "metadata": {},
   "outputs": [],
   "source": [
    "nba_players_list_2017_advanced = pd.read_html('https://www.basketball-reference.com/leagues/NBA_2017_advanced.html')"
   ]
  },
  {
   "cell_type": "code",
   "execution_count": 26,
   "metadata": {},
   "outputs": [],
   "source": [
    "nba_players_2017_advanced = nba_players_list_2017_advanced[0]"
   ]
  },
  {
   "cell_type": "code",
   "execution_count": 27,
   "metadata": {},
   "outputs": [],
   "source": [
    "nba_players_2017_advanced['year'] = year_2017"
   ]
  },
  {
   "cell_type": "code",
   "execution_count": 28,
   "metadata": {},
   "outputs": [],
   "source": [
    "nba_players_2017_advanced.drop(columns = ['Rk', 'Unnamed: 19', 'Unnamed: 24', \n",
    "                                          'Player', 'Pos', 'Age', 'Tm', 'G'], inplace = True)"
   ]
  },
  {
   "cell_type": "code",
   "execution_count": null,
   "metadata": {},
   "outputs": [],
   "source": []
  },
  {
   "cell_type": "markdown",
   "metadata": {},
   "source": [
    "# 2016 nba players stats"
   ]
  },
  {
   "cell_type": "code",
   "execution_count": 29,
   "metadata": {},
   "outputs": [],
   "source": [
    "nba_players_list_2016 = pd.read_html('https://www.basketball-reference.com/leagues/NBA_2016_per_game.html')"
   ]
  },
  {
   "cell_type": "code",
   "execution_count": 30,
   "metadata": {},
   "outputs": [],
   "source": [
    "nba_players_2016 = nba_players_list_2016[0]"
   ]
  },
  {
   "cell_type": "code",
   "execution_count": 31,
   "metadata": {},
   "outputs": [],
   "source": [
    "year_2016 = [2016 for x in nba_players_2016['Player']]"
   ]
  },
  {
   "cell_type": "code",
   "execution_count": 32,
   "metadata": {},
   "outputs": [],
   "source": [
    "nba_players_2016.drop(columns = 'Rk', inplace = True)"
   ]
  },
  {
   "cell_type": "code",
   "execution_count": 33,
   "metadata": {},
   "outputs": [],
   "source": [
    "nba_players_2016.rename(columns = {'MP': 'MPG'}, inplace = True)"
   ]
  },
  {
   "cell_type": "code",
   "execution_count": null,
   "metadata": {},
   "outputs": [],
   "source": []
  },
  {
   "cell_type": "code",
   "execution_count": 34,
   "metadata": {},
   "outputs": [],
   "source": [
    "nba_players_list_2016_advanced = pd.read_html('https://www.basketball-reference.com/leagues/NBA_2016_advanced.html')"
   ]
  },
  {
   "cell_type": "code",
   "execution_count": 35,
   "metadata": {},
   "outputs": [],
   "source": [
    "nba_players_2016_advanced = nba_players_list_2016_advanced[0]"
   ]
  },
  {
   "cell_type": "code",
   "execution_count": 36,
   "metadata": {},
   "outputs": [],
   "source": [
    "nba_players_2016_advanced['year'] = year_2016"
   ]
  },
  {
   "cell_type": "code",
   "execution_count": 37,
   "metadata": {},
   "outputs": [],
   "source": [
    "nba_players_2016_advanced.drop(columns = ['Rk', 'Unnamed: 19', 'Unnamed: 24', \n",
    "                                          'Player', 'Pos', 'Age', 'Tm', 'G'], inplace = True)"
   ]
  },
  {
   "cell_type": "code",
   "execution_count": null,
   "metadata": {},
   "outputs": [],
   "source": []
  },
  {
   "cell_type": "markdown",
   "metadata": {},
   "source": [
    "# 2015 nba players stats"
   ]
  },
  {
   "cell_type": "code",
   "execution_count": 38,
   "metadata": {},
   "outputs": [],
   "source": [
    "nba_players_list_2015 = pd.read_html('https://www.basketball-reference.com/leagues/NBA_2015_per_game.html')"
   ]
  },
  {
   "cell_type": "code",
   "execution_count": 39,
   "metadata": {},
   "outputs": [],
   "source": [
    "nba_players_2015 = nba_players_list_2015[0]"
   ]
  },
  {
   "cell_type": "code",
   "execution_count": 40,
   "metadata": {},
   "outputs": [],
   "source": [
    "year_2015 = [2015 for x in nba_players_2015['Player']]"
   ]
  },
  {
   "cell_type": "code",
   "execution_count": 41,
   "metadata": {},
   "outputs": [],
   "source": [
    "nba_players_2015.drop(columns = 'Rk', inplace = True)"
   ]
  },
  {
   "cell_type": "code",
   "execution_count": 42,
   "metadata": {},
   "outputs": [],
   "source": [
    "nba_players_2015.rename(columns = {'MP': 'MPG'}, inplace = True)"
   ]
  },
  {
   "cell_type": "code",
   "execution_count": null,
   "metadata": {},
   "outputs": [],
   "source": []
  },
  {
   "cell_type": "code",
   "execution_count": 43,
   "metadata": {},
   "outputs": [],
   "source": [
    "nba_players_list_2015_advanced = pd.read_html('https://www.basketball-reference.com/leagues/NBA_2015_advanced.html')"
   ]
  },
  {
   "cell_type": "code",
   "execution_count": 44,
   "metadata": {},
   "outputs": [],
   "source": [
    "nba_players_2015_advanced = nba_players_list_2015_advanced[0]"
   ]
  },
  {
   "cell_type": "code",
   "execution_count": 45,
   "metadata": {},
   "outputs": [],
   "source": [
    "nba_players_2015_advanced['year'] = year_2015"
   ]
  },
  {
   "cell_type": "code",
   "execution_count": 46,
   "metadata": {},
   "outputs": [],
   "source": [
    "nba_players_2015_advanced.drop(columns = ['Rk', 'Unnamed: 19', 'Unnamed: 24', \n",
    "                                          'Player', 'Pos', 'Age', 'Tm', 'G'], inplace = True)"
   ]
  },
  {
   "cell_type": "code",
   "execution_count": null,
   "metadata": {},
   "outputs": [],
   "source": []
  },
  {
   "cell_type": "markdown",
   "metadata": {},
   "source": [
    "# 2014 nba players stats"
   ]
  },
  {
   "cell_type": "code",
   "execution_count": 47,
   "metadata": {},
   "outputs": [],
   "source": [
    "nba_players_list_2014 = pd.read_html('https://www.basketball-reference.com/leagues/NBA_2014_per_game.html')"
   ]
  },
  {
   "cell_type": "code",
   "execution_count": 48,
   "metadata": {},
   "outputs": [],
   "source": [
    "nba_players_2014 = nba_players_list_2014[0]"
   ]
  },
  {
   "cell_type": "code",
   "execution_count": 49,
   "metadata": {},
   "outputs": [],
   "source": [
    "year_2014 = [2014 for x in nba_players_2014['Player']]"
   ]
  },
  {
   "cell_type": "code",
   "execution_count": 50,
   "metadata": {},
   "outputs": [],
   "source": [
    "nba_players_2014.drop(columns = 'Rk', inplace = True)"
   ]
  },
  {
   "cell_type": "code",
   "execution_count": 51,
   "metadata": {},
   "outputs": [],
   "source": [
    "nba_players_2014.rename(columns = {'MP': 'MPG'}, inplace = True)"
   ]
  },
  {
   "cell_type": "code",
   "execution_count": null,
   "metadata": {},
   "outputs": [],
   "source": []
  },
  {
   "cell_type": "code",
   "execution_count": 52,
   "metadata": {},
   "outputs": [],
   "source": [
    "nba_players_list_2014_advanced = pd.read_html('https://www.basketball-reference.com/leagues/NBA_2014_advanced.html')"
   ]
  },
  {
   "cell_type": "code",
   "execution_count": 53,
   "metadata": {},
   "outputs": [],
   "source": [
    "nba_players_2014_advanced = nba_players_list_2014_advanced[0]"
   ]
  },
  {
   "cell_type": "code",
   "execution_count": 54,
   "metadata": {},
   "outputs": [],
   "source": [
    "nba_players_2014_advanced['year'] = year_2014"
   ]
  },
  {
   "cell_type": "code",
   "execution_count": 55,
   "metadata": {},
   "outputs": [],
   "source": [
    "nba_players_2014_advanced.drop(columns = ['Rk', 'Unnamed: 19', 'Unnamed: 24', \n",
    "                                          'Player', 'Pos', 'Age', 'Tm', 'G'], inplace = True)"
   ]
  },
  {
   "cell_type": "code",
   "execution_count": null,
   "metadata": {},
   "outputs": [],
   "source": []
  },
  {
   "cell_type": "code",
   "execution_count": null,
   "metadata": {},
   "outputs": [],
   "source": []
  },
  {
   "cell_type": "markdown",
   "metadata": {},
   "source": [
    "# Concating the Per game stats with Advanced Stats and cleaning data to get all ints/floats"
   ]
  },
  {
   "cell_type": "code",
   "execution_count": 56,
   "metadata": {},
   "outputs": [],
   "source": [
    "nba_2019_players = pd.concat([nba_players_2019, nba_players_2019_advanced], axis = 1)"
   ]
  },
  {
   "cell_type": "code",
   "execution_count": 57,
   "metadata": {},
   "outputs": [],
   "source": [
    "nba_2019_players.fillna(0, inplace = True)"
   ]
  },
  {
   "cell_type": "code",
   "execution_count": 58,
   "metadata": {
    "scrolled": false
   },
   "outputs": [],
   "source": [
    "nba_2019_players = nba_2019_players[~nba_2019_players.Player.str.startswith('Player')]\n",
    "\n",
    "# returns all rows in the dataframe that dont start with Player"
   ]
  },
  {
   "cell_type": "code",
   "execution_count": 59,
   "metadata": {},
   "outputs": [],
   "source": [
    "nba_2019_players = nba_2019_players.apply(pd.to_numeric, errors = 'ignore')\n",
    "\n",
    "# applies a numeric type (float or int) to all columns that have entirely numeric values in them\n",
    "# if a column does not have a numeric value it will ignore and move on\n",
    "\n",
    "# that is why i had to first remove all the na values and turn them to 0's"
   ]
  },
  {
   "cell_type": "code",
   "execution_count": null,
   "metadata": {},
   "outputs": [],
   "source": []
  },
  {
   "cell_type": "code",
   "execution_count": 60,
   "metadata": {},
   "outputs": [],
   "source": [
    "nba_2018_players = pd.concat([nba_players_2018, nba_players_2018_advanced], axis = 1)"
   ]
  },
  {
   "cell_type": "code",
   "execution_count": 61,
   "metadata": {},
   "outputs": [],
   "source": [
    "nba_2018_players.fillna(0, inplace = True)"
   ]
  },
  {
   "cell_type": "code",
   "execution_count": 62,
   "metadata": {},
   "outputs": [],
   "source": [
    "nba_2018_players = nba_2018_players[~nba_2018_players.Player.str.startswith('Player')]"
   ]
  },
  {
   "cell_type": "code",
   "execution_count": 63,
   "metadata": {},
   "outputs": [],
   "source": [
    "nba_2018_players = nba_2018_players.apply(pd.to_numeric, errors = 'ignore')"
   ]
  },
  {
   "cell_type": "code",
   "execution_count": null,
   "metadata": {},
   "outputs": [],
   "source": []
  },
  {
   "cell_type": "code",
   "execution_count": 64,
   "metadata": {},
   "outputs": [],
   "source": [
    "nba_2017_players = pd.concat([nba_players_2017, nba_players_2017_advanced], axis = 1)"
   ]
  },
  {
   "cell_type": "code",
   "execution_count": 65,
   "metadata": {},
   "outputs": [],
   "source": [
    "nba_2017_players.fillna(0, inplace = True)"
   ]
  },
  {
   "cell_type": "code",
   "execution_count": 66,
   "metadata": {},
   "outputs": [],
   "source": [
    "nba_2017_players = nba_2017_players[~nba_2017_players.Player.str.startswith('Player')]"
   ]
  },
  {
   "cell_type": "code",
   "execution_count": 67,
   "metadata": {},
   "outputs": [],
   "source": [
    "nba_2017_players = nba_2017_players.apply(pd.to_numeric, errors = 'ignore')"
   ]
  },
  {
   "cell_type": "code",
   "execution_count": null,
   "metadata": {},
   "outputs": [],
   "source": []
  },
  {
   "cell_type": "code",
   "execution_count": 68,
   "metadata": {},
   "outputs": [],
   "source": [
    "nba_2016_players = pd.concat([nba_players_2016, nba_players_2016_advanced], axis = 1)"
   ]
  },
  {
   "cell_type": "code",
   "execution_count": 69,
   "metadata": {},
   "outputs": [],
   "source": [
    "nba_2016_players.fillna(0, inplace = True)"
   ]
  },
  {
   "cell_type": "code",
   "execution_count": 70,
   "metadata": {},
   "outputs": [],
   "source": [
    "nba_2016_players = nba_2016_players[~nba_2016_players.Player.str.startswith('Player')]"
   ]
  },
  {
   "cell_type": "code",
   "execution_count": 71,
   "metadata": {},
   "outputs": [],
   "source": [
    "nba_2016_players = nba_2016_players.apply(pd.to_numeric, errors = 'ignore')"
   ]
  },
  {
   "cell_type": "code",
   "execution_count": null,
   "metadata": {},
   "outputs": [],
   "source": []
  },
  {
   "cell_type": "code",
   "execution_count": 72,
   "metadata": {},
   "outputs": [],
   "source": [
    "nba_2015_players = pd.concat([nba_players_2015, nba_players_2015_advanced], axis = 1)"
   ]
  },
  {
   "cell_type": "code",
   "execution_count": 73,
   "metadata": {},
   "outputs": [],
   "source": [
    "nba_2015_players.fillna(0, inplace = True)"
   ]
  },
  {
   "cell_type": "code",
   "execution_count": 74,
   "metadata": {},
   "outputs": [],
   "source": [
    "nba_2015_players = nba_2015_players[~nba_2015_players.Player.str.startswith('Player')]"
   ]
  },
  {
   "cell_type": "code",
   "execution_count": 75,
   "metadata": {},
   "outputs": [],
   "source": [
    "nba_2015_players = nba_2015_players.apply(pd.to_numeric, errors = 'ignore')"
   ]
  },
  {
   "cell_type": "code",
   "execution_count": null,
   "metadata": {},
   "outputs": [],
   "source": []
  },
  {
   "cell_type": "code",
   "execution_count": 76,
   "metadata": {},
   "outputs": [],
   "source": [
    "nba_2014_players = pd.concat([nba_players_2014, nba_players_2014_advanced], axis = 1)"
   ]
  },
  {
   "cell_type": "code",
   "execution_count": 77,
   "metadata": {},
   "outputs": [],
   "source": [
    "nba_2014_players.fillna(0, inplace = True)"
   ]
  },
  {
   "cell_type": "code",
   "execution_count": 78,
   "metadata": {},
   "outputs": [],
   "source": [
    "nba_2014_players = nba_2014_players[~nba_2014_players.Player.str.startswith('Player')]"
   ]
  },
  {
   "cell_type": "code",
   "execution_count": 79,
   "metadata": {},
   "outputs": [],
   "source": [
    "nba_2014_players = nba_2014_players.apply(pd.to_numeric, errors = 'ignore')"
   ]
  },
  {
   "cell_type": "code",
   "execution_count": null,
   "metadata": {},
   "outputs": [],
   "source": []
  },
  {
   "cell_type": "markdown",
   "metadata": {},
   "source": [
    "# Dropping Duplicate data for players who played on multiple teams"
   ]
  },
  {
   "cell_type": "code",
   "execution_count": 80,
   "metadata": {},
   "outputs": [],
   "source": [
    "nba_players_totals = pd.concat([nba_2014_players.drop_duplicates(subset = ['Player'], keep = 'first', ignore_index = True),\n",
    "                                nba_2015_players.drop_duplicates(subset = ['Player'], keep = 'first', ignore_index = True),\n",
    "                                 nba_2016_players.drop_duplicates(subset = ['Player'], keep = 'first', ignore_index = True),\n",
    "                                 nba_2017_players.drop_duplicates(subset = ['Player'], keep = 'first', ignore_index = True),\n",
    "                                 nba_2018_players.drop_duplicates(subset = ['Player'], keep = 'first', ignore_index = True),\n",
    "                                 nba_2019_players.drop_duplicates(subset = ['Player'], keep = 'first', ignore_index = True)], \n",
    "                                 ignore_index = True)\n",
    "\n",
    "\n",
    "# dropping instances where a player played for more than 1 team by just keeping his \n",
    "# total numbers (for now) may need to change up slightly depending on whether or not \n",
    "# its necessary to keep the players teams for that season seperate. Added all the players to\n",
    "# a single dataframe so i can groupby name and get their averages over the 5 seasons"
   ]
  },
  {
   "cell_type": "code",
   "execution_count": null,
   "metadata": {},
   "outputs": [],
   "source": []
  },
  {
   "cell_type": "code",
   "execution_count": null,
   "metadata": {},
   "outputs": [],
   "source": []
  },
  {
   "cell_type": "markdown",
   "metadata": {},
   "source": [
    "# Playing with the player data"
   ]
  },
  {
   "cell_type": "markdown",
   "metadata": {},
   "source": [
    "Looking to possibly add a weight factor to the players from each team based on their win shares for that season. Will do this for every team and sum up all the stats to get the players total stats (weighted by their value to the team). And eventually will use their win shares and follow the same formula when applying to the final season for predictions"
   ]
  },
  {
   "cell_type": "code",
   "execution_count": null,
   "metadata": {},
   "outputs": [],
   "source": []
  },
  {
   "cell_type": "code",
   "execution_count": null,
   "metadata": {},
   "outputs": [],
   "source": []
  },
  {
   "cell_type": "markdown",
   "metadata": {},
   "source": [
    "# Creating a dataframe for each team top 9 players"
   ]
  },
  {
   "cell_type": "code",
   "execution_count": 81,
   "metadata": {},
   "outputs": [],
   "source": [
    "atl_2019 = nba_2019_players[nba_2019_players['Tm'] == 'ATL'].sort_values('MP', ascending = False)[0:10]\n",
    "atl_2018 = nba_2018_players[nba_2018_players['Tm'] == 'ATL'].sort_values('MP', ascending = False)[0:10]\n",
    "atl_2017 = nba_2017_players[nba_2017_players['Tm'] == 'ATL'].sort_values('MP', ascending = False)[0:10]\n",
    "atl_2016 = nba_2016_players[nba_2016_players['Tm'] == 'ATL'].sort_values('MP', ascending = False)[0:10]\n",
    "atl_2015 = nba_2015_players[nba_2015_players['Tm'] == 'ATL'].sort_values('MP', ascending = False)[0:10]\n",
    "atl_2014 = nba_2014_players[nba_2014_players['Tm'] == 'ATL'].sort_values('MP', ascending = False)[0:10]\n"
   ]
  },
  {
   "cell_type": "code",
   "execution_count": 82,
   "metadata": {},
   "outputs": [],
   "source": [
    "bos_2019 = nba_2019_players[nba_2019_players['Tm'] == 'BOS'].sort_values('MP', ascending = False)[0:10]\n",
    "bos_2018 = nba_2018_players[nba_2018_players['Tm'] == 'BOS'].sort_values('MP', ascending = False)[0:10]\n",
    "bos_2017 = nba_2017_players[nba_2017_players['Tm'] == 'BOS'].sort_values('MP', ascending = False)[0:10]\n",
    "bos_2016 = nba_2016_players[nba_2016_players['Tm'] == 'BOS'].sort_values('MP', ascending = False)[0:10]\n",
    "bos_2015 = nba_2015_players[nba_2015_players['Tm'] == 'BOS'].sort_values('MP', ascending = False)[0:10]\n",
    "bos_2014 = nba_2014_players[nba_2014_players['Tm'] == 'BOS'].sort_values('MP', ascending = False)[0:10]\n"
   ]
  },
  {
   "cell_type": "code",
   "execution_count": 83,
   "metadata": {},
   "outputs": [],
   "source": [
    "brk_2019 = nba_2019_players[nba_2019_players['Tm'] == 'BRK'].sort_values('MP', ascending = False)[0:10]\n",
    "brk_2018 = nba_2018_players[nba_2018_players['Tm'] == 'BRK'].sort_values('MP', ascending = False)[0:10]\n",
    "brk_2017 = nba_2017_players[nba_2017_players['Tm'] == 'BRK'].sort_values('MP', ascending = False)[0:10]\n",
    "brk_2016 = nba_2016_players[nba_2016_players['Tm'] == 'BRK'].sort_values('MP', ascending = False)[0:10]\n",
    "brk_2015 = nba_2015_players[nba_2015_players['Tm'] == 'BRK'].sort_values('MP', ascending = False)[0:10]\n",
    "brk_2014 = nba_2014_players[nba_2014_players['Tm'] == 'BRK'].sort_values('MP', ascending = False)[0:10]\n"
   ]
  },
  {
   "cell_type": "code",
   "execution_count": 84,
   "metadata": {},
   "outputs": [],
   "source": [
    "chi_2019 = nba_2019_players[nba_2019_players['Tm'] == 'CHI'].sort_values('MP', ascending = False)[0:10]\n",
    "chi_2018 = nba_2018_players[nba_2018_players['Tm'] == 'CHI'].sort_values('MP', ascending = False)[0:10]\n",
    "chi_2017 = nba_2017_players[nba_2017_players['Tm'] == 'CHI'].sort_values('MP', ascending = False)[0:10]\n",
    "chi_2016 = nba_2016_players[nba_2016_players['Tm'] == 'CHI'].sort_values('MP', ascending = False)[0:10]\n",
    "chi_2015 = nba_2015_players[nba_2015_players['Tm'] == 'CHI'].sort_values('MP', ascending = False)[0:10]\n",
    "chi_2014 = nba_2014_players[nba_2014_players['Tm'] == 'CHI'].sort_values('MP', ascending = False)[0:10]\n"
   ]
  },
  {
   "cell_type": "code",
   "execution_count": 85,
   "metadata": {},
   "outputs": [],
   "source": [
    "cho_2019 = nba_2019_players[nba_2019_players['Tm'] == 'CHO'].sort_values('MP', ascending = False)[0:10]\n",
    "cho_2018 = nba_2018_players[nba_2018_players['Tm'] == 'CHO'].sort_values('MP', ascending = False)[0:10]\n",
    "cho_2017 = nba_2017_players[nba_2017_players['Tm'] == 'CHO'].sort_values('MP', ascending = False)[0:10]\n",
    "cho_2016 = nba_2016_players[nba_2016_players['Tm'] == 'CHO'].sort_values('MP', ascending = False)[0:10]\n",
    "cho_2015 = nba_2015_players[nba_2015_players['Tm'] == 'CHO'].sort_values('MP', ascending = False)[0:10]\n",
    "cho_2014 = nba_2014_players[nba_2014_players['Tm'] == 'CHO'].sort_values('MP', ascending = False)[0:10]\n"
   ]
  },
  {
   "cell_type": "code",
   "execution_count": 86,
   "metadata": {},
   "outputs": [],
   "source": [
    "cle_2019 = nba_2019_players[nba_2019_players['Tm'] == 'CLE'].sort_values('MP', ascending = False)[0:10]\n",
    "cle_2018 = nba_2018_players[nba_2018_players['Tm'] == 'CLE'].sort_values('MP', ascending = False)[0:10]\n",
    "cle_2017 = nba_2017_players[nba_2017_players['Tm'] == 'CLE'].sort_values('MP', ascending = False)[0:10]\n",
    "cle_2016 = nba_2016_players[nba_2016_players['Tm'] == 'CLE'].sort_values('MP', ascending = False)[0:10]\n",
    "cle_2015 = nba_2015_players[nba_2015_players['Tm'] == 'CLE'].sort_values('MP', ascending = False)[0:10]\n",
    "cle_2014 = nba_2014_players[nba_2014_players['Tm'] == 'CLE'].sort_values('MP', ascending = False)[0:10]\n"
   ]
  },
  {
   "cell_type": "code",
   "execution_count": 87,
   "metadata": {},
   "outputs": [],
   "source": [
    "dal_2019 = nba_2019_players[nba_2019_players['Tm'] == 'DAL'].sort_values('MP', ascending = False)[0:10]\n",
    "dal_2018 = nba_2018_players[nba_2018_players['Tm'] == 'DAL'].sort_values('MP', ascending = False)[0:10]\n",
    "dal_2017 = nba_2017_players[nba_2017_players['Tm'] == 'DAL'].sort_values('MP', ascending = False)[0:10]\n",
    "dal_2016 = nba_2016_players[nba_2016_players['Tm'] == 'DAL'].sort_values('MP', ascending = False)[0:10]\n",
    "dal_2015 = nba_2015_players[nba_2015_players['Tm'] == 'DAL'].sort_values('MP', ascending = False)[0:10]\n",
    "dal_2014 = nba_2014_players[nba_2014_players['Tm'] == 'DAL'].sort_values('MP', ascending = False)[0:10]\n"
   ]
  },
  {
   "cell_type": "code",
   "execution_count": 88,
   "metadata": {},
   "outputs": [],
   "source": [
    "den_2019 = nba_2019_players[nba_2019_players['Tm'] == 'DEN'].sort_values('MP', ascending = False)[0:10]\n",
    "den_2018 = nba_2018_players[nba_2018_players['Tm'] == 'DEN'].sort_values('MP', ascending = False)[0:10]\n",
    "den_2017 = nba_2017_players[nba_2017_players['Tm'] == 'DEN'].sort_values('MP', ascending = False)[0:10]\n",
    "den_2016 = nba_2016_players[nba_2016_players['Tm'] == 'DEN'].sort_values('MP', ascending = False)[0:10]\n",
    "den_2015 = nba_2015_players[nba_2015_players['Tm'] == 'DEN'].sort_values('MP', ascending = False)[0:10]\n",
    "den_2014 = nba_2014_players[nba_2014_players['Tm'] == 'DEN'].sort_values('MP', ascending = False)[0:10]\n"
   ]
  },
  {
   "cell_type": "code",
   "execution_count": 89,
   "metadata": {},
   "outputs": [],
   "source": [
    "det_2019 = nba_2019_players[nba_2019_players['Tm'] == 'DET'].sort_values('MP', ascending = False)[0:10]\n",
    "det_2018 = nba_2018_players[nba_2018_players['Tm'] == 'DET'].sort_values('MP', ascending = False)[0:10]\n",
    "det_2017 = nba_2017_players[nba_2017_players['Tm'] == 'DET'].sort_values('MP', ascending = False)[0:10]\n",
    "det_2016 = nba_2016_players[nba_2016_players['Tm'] == 'DET'].sort_values('MP', ascending = False)[0:10]\n",
    "det_2015 = nba_2015_players[nba_2015_players['Tm'] == 'DET'].sort_values('MP', ascending = False)[0:10]\n",
    "det_2014 = nba_2014_players[nba_2014_players['Tm'] == 'DET'].sort_values('MP', ascending = False)[0:10]\n"
   ]
  },
  {
   "cell_type": "code",
   "execution_count": 90,
   "metadata": {},
   "outputs": [],
   "source": [
    "gsw_2019 = nba_2019_players[nba_2019_players['Tm'] == 'GSW'].sort_values('MP', ascending = False)[0:10]\n",
    "gsw_2018 = nba_2018_players[nba_2018_players['Tm'] == 'GSW'].sort_values('MP', ascending = False)[0:10]\n",
    "gsw_2017 = nba_2017_players[nba_2017_players['Tm'] == 'GSW'].sort_values('MP', ascending = False)[0:10]\n",
    "gsw_2016 = nba_2016_players[nba_2016_players['Tm'] == 'GSW'].sort_values('MP', ascending = False)[0:10]\n",
    "gsw_2015 = nba_2015_players[nba_2015_players['Tm'] == 'GSW'].sort_values('MP', ascending = False)[0:10]\n",
    "gsw_2014 = nba_2014_players[nba_2014_players['Tm'] == 'GSW'].sort_values('MP', ascending = False)[0:10]\n"
   ]
  },
  {
   "cell_type": "code",
   "execution_count": 91,
   "metadata": {},
   "outputs": [],
   "source": [
    "hou_2019 = nba_2019_players[nba_2019_players['Tm'] == 'HOU'].sort_values('MP', ascending = False)[0:10]\n",
    "hou_2018 = nba_2018_players[nba_2018_players['Tm'] == 'HOU'].sort_values('MP', ascending = False)[0:10]\n",
    "hou_2017 = nba_2017_players[nba_2017_players['Tm'] == 'HOU'].sort_values('MP', ascending = False)[0:10]\n",
    "hou_2016 = nba_2016_players[nba_2016_players['Tm'] == 'HOU'].sort_values('MP', ascending = False)[0:10]\n",
    "hou_2015 = nba_2015_players[nba_2015_players['Tm'] == 'HOU'].sort_values('MP', ascending = False)[0:10]\n",
    "hou_2014 = nba_2014_players[nba_2014_players['Tm'] == 'HOU'].sort_values('MP', ascending = False)[0:10]\n"
   ]
  },
  {
   "cell_type": "code",
   "execution_count": 92,
   "metadata": {},
   "outputs": [],
   "source": [
    "ind_2019 = nba_2019_players[nba_2019_players['Tm'] == 'IND'].sort_values('MP', ascending = False)[0:10]\n",
    "ind_2018 = nba_2018_players[nba_2018_players['Tm'] == 'IND'].sort_values('MP', ascending = False)[0:10]\n",
    "ind_2017 = nba_2017_players[nba_2017_players['Tm'] == 'IND'].sort_values('MP', ascending = False)[0:10]\n",
    "ind_2016 = nba_2016_players[nba_2016_players['Tm'] == 'IND'].sort_values('MP', ascending = False)[0:10]\n",
    "ind_2015 = nba_2015_players[nba_2015_players['Tm'] == 'IND'].sort_values('MP', ascending = False)[0:10]\n",
    "ind_2014 = nba_2014_players[nba_2014_players['Tm'] == 'IND'].sort_values('MP', ascending = False)[0:10]\n"
   ]
  },
  {
   "cell_type": "code",
   "execution_count": 93,
   "metadata": {},
   "outputs": [],
   "source": [
    "lac_2019 = nba_2019_players[nba_2019_players['Tm'] == 'LAC'].sort_values('MP', ascending = False)[0:10]\n",
    "lac_2018 = nba_2018_players[nba_2018_players['Tm'] == 'LAC'].sort_values('MP', ascending = False)[0:10]\n",
    "lac_2017 = nba_2017_players[nba_2017_players['Tm'] == 'LAC'].sort_values('MP', ascending = False)[0:10]\n",
    "lac_2016 = nba_2016_players[nba_2016_players['Tm'] == 'LAC'].sort_values('MP', ascending = False)[0:10]\n",
    "lac_2015 = nba_2015_players[nba_2015_players['Tm'] == 'LAC'].sort_values('MP', ascending = False)[0:10]\n",
    "lac_2014 = nba_2014_players[nba_2014_players['Tm'] == 'LAC'].sort_values('MP', ascending = False)[0:10]\n"
   ]
  },
  {
   "cell_type": "code",
   "execution_count": 94,
   "metadata": {},
   "outputs": [],
   "source": [
    "lal_2019 = nba_2019_players[nba_2019_players['Tm'] == 'LAL'].sort_values('MP', ascending = False)[0:10]\n",
    "lal_2018 = nba_2018_players[nba_2018_players['Tm'] == 'LAL'].sort_values('MP', ascending = False)[0:10]\n",
    "lal_2017 = nba_2017_players[nba_2017_players['Tm'] == 'LAL'].sort_values('MP', ascending = False)[0:10]\n",
    "lal_2016 = nba_2016_players[nba_2016_players['Tm'] == 'LAL'].sort_values('MP', ascending = False)[0:10]\n",
    "lal_2015 = nba_2015_players[nba_2015_players['Tm'] == 'LAL'].sort_values('MP', ascending = False)[0:10]\n",
    "lal_2014 = nba_2014_players[nba_2014_players['Tm'] == 'LAL'].sort_values('MP', ascending = False)[0:10]\n"
   ]
  },
  {
   "cell_type": "code",
   "execution_count": 95,
   "metadata": {},
   "outputs": [],
   "source": [
    "mem_2019 = nba_2019_players[nba_2019_players['Tm'] == 'MEM'].sort_values('MP', ascending = False)[0:10]\n",
    "mem_2018 = nba_2018_players[nba_2018_players['Tm'] == 'MEM'].sort_values('MP', ascending = False)[0:10]\n",
    "mem_2017 = nba_2017_players[nba_2017_players['Tm'] == 'MEM'].sort_values('MP', ascending = False)[0:10]\n",
    "mem_2016 = nba_2016_players[nba_2016_players['Tm'] == 'MEM'].sort_values('MP', ascending = False)[0:10]\n",
    "mem_2015 = nba_2015_players[nba_2015_players['Tm'] == 'MEM'].sort_values('MP', ascending = False)[0:10]\n",
    "mem_2014 = nba_2014_players[nba_2014_players['Tm'] == 'MEM'].sort_values('MP', ascending = False)[0:10]\n"
   ]
  },
  {
   "cell_type": "code",
   "execution_count": 96,
   "metadata": {},
   "outputs": [],
   "source": [
    "mia_2019 = nba_2019_players[nba_2019_players['Tm'] == 'MIA'].sort_values('MP', ascending = False)[0:10]\n",
    "mia_2018 = nba_2018_players[nba_2018_players['Tm'] == 'MIA'].sort_values('MP', ascending = False)[0:10]\n",
    "mia_2017 = nba_2017_players[nba_2017_players['Tm'] == 'MIA'].sort_values('MP', ascending = False)[0:10]\n",
    "mia_2016 = nba_2016_players[nba_2016_players['Tm'] == 'MIA'].sort_values('MP', ascending = False)[0:10]\n",
    "mia_2015 = nba_2015_players[nba_2015_players['Tm'] == 'MIA'].sort_values('MP', ascending = False)[0:10]\n",
    "mia_2014 = nba_2014_players[nba_2014_players['Tm'] == 'MIA'].sort_values('MP', ascending = False)[0:10]\n"
   ]
  },
  {
   "cell_type": "code",
   "execution_count": 97,
   "metadata": {},
   "outputs": [],
   "source": [
    "mil_2019 = nba_2019_players[nba_2019_players['Tm'] == 'MIL'].sort_values('MP', ascending = False)[0:10]\n",
    "mil_2018 = nba_2018_players[nba_2018_players['Tm'] == 'MIL'].sort_values('MP', ascending = False)[0:10]\n",
    "mil_2017 = nba_2017_players[nba_2017_players['Tm'] == 'MIL'].sort_values('MP', ascending = False)[0:10]\n",
    "mil_2016 = nba_2016_players[nba_2016_players['Tm'] == 'MIL'].sort_values('MP', ascending = False)[0:10]\n",
    "mil_2015 = nba_2015_players[nba_2015_players['Tm'] == 'MIL'].sort_values('MP', ascending = False)[0:10]\n",
    "mil_2014 = nba_2014_players[nba_2014_players['Tm'] == 'MIL'].sort_values('MP', ascending = False)[0:10]\n"
   ]
  },
  {
   "cell_type": "code",
   "execution_count": 98,
   "metadata": {},
   "outputs": [],
   "source": [
    "min_2019 = nba_2019_players[nba_2019_players['Tm'] == 'MIN'].sort_values('MP', ascending = False)[0:10]\n",
    "min_2018 = nba_2018_players[nba_2018_players['Tm'] == 'MIN'].sort_values('MP', ascending = False)[0:10]\n",
    "min_2017 = nba_2017_players[nba_2017_players['Tm'] == 'MIN'].sort_values('MP', ascending = False)[0:10]\n",
    "min_2016 = nba_2016_players[nba_2016_players['Tm'] == 'MIN'].sort_values('MP', ascending = False)[0:10]\n",
    "min_2015 = nba_2015_players[nba_2015_players['Tm'] == 'MIN'].sort_values('MP', ascending = False)[0:10]\n",
    "min_2014 = nba_2014_players[nba_2014_players['Tm'] == 'BOS'].sort_values('MP', ascending = False)[0:10]\n"
   ]
  },
  {
   "cell_type": "code",
   "execution_count": 99,
   "metadata": {},
   "outputs": [],
   "source": [
    "nop_2019 = nba_2019_players[nba_2019_players['Tm'] == 'NOP'].sort_values('MP', ascending = False)[0:10]\n",
    "nop_2018 = nba_2018_players[nba_2018_players['Tm'] == 'NOP'].sort_values('MP', ascending = False)[0:10]\n",
    "nop_2017 = nba_2017_players[nba_2017_players['Tm'] == 'NOP'].sort_values('MP', ascending = False)[0:10]\n",
    "nop_2016 = nba_2016_players[nba_2016_players['Tm'] == 'NOP'].sort_values('MP', ascending = False)[0:10]\n",
    "nop_2015 = nba_2015_players[nba_2015_players['Tm'] == 'NOP'].sort_values('MP', ascending = False)[0:10]\n",
    "nop_2014 = nba_2014_players[nba_2014_players['Tm'] == 'NOP'].sort_values('MP', ascending = False)[0:10]\n"
   ]
  },
  {
   "cell_type": "code",
   "execution_count": 100,
   "metadata": {},
   "outputs": [],
   "source": [
    "nyk_2019 = nba_2019_players[nba_2019_players['Tm'] == 'NYK'].sort_values('MP', ascending = False)[0:10]\n",
    "nyk_2018 = nba_2018_players[nba_2018_players['Tm'] == 'NYK'].sort_values('MP', ascending = False)[0:10]\n",
    "nyk_2017 = nba_2017_players[nba_2017_players['Tm'] == 'NYK'].sort_values('MP', ascending = False)[0:10]\n",
    "nyk_2016 = nba_2016_players[nba_2016_players['Tm'] == 'NYK'].sort_values('MP', ascending = False)[0:10]\n",
    "nyk_2015 = nba_2015_players[nba_2015_players['Tm'] == 'NYK'].sort_values('MP', ascending = False)[0:10]\n",
    "nyk_2014 = nba_2014_players[nba_2014_players['Tm'] == 'NYK'].sort_values('MP', ascending = False)[0:10]\n"
   ]
  },
  {
   "cell_type": "code",
   "execution_count": 101,
   "metadata": {},
   "outputs": [],
   "source": [
    "okc_2019 = nba_2019_players[nba_2019_players['Tm'] == 'OKC'].sort_values('MP', ascending = False)[0:10]\n",
    "okc_2018 = nba_2018_players[nba_2018_players['Tm'] == 'OKC'].sort_values('MP', ascending = False)[0:10]\n",
    "okc_2017 = nba_2017_players[nba_2017_players['Tm'] == 'OKC'].sort_values('MP', ascending = False)[0:10]\n",
    "okc_2016 = nba_2016_players[nba_2016_players['Tm'] == 'OKC'].sort_values('MP', ascending = False)[0:10]\n",
    "okc_2015 = nba_2015_players[nba_2015_players['Tm'] == 'OKC'].sort_values('MP', ascending = False)[0:10]\n",
    "okc_2014 = nba_2014_players[nba_2014_players['Tm'] == 'OKC'].sort_values('MP', ascending = False)[0:10]\n"
   ]
  },
  {
   "cell_type": "code",
   "execution_count": 102,
   "metadata": {},
   "outputs": [],
   "source": [
    "orl_2019 = nba_2019_players[nba_2019_players['Tm'] == 'ORL'].sort_values('MP', ascending = False)[0:10]\n",
    "orl_2018 = nba_2018_players[nba_2018_players['Tm'] == 'ORL'].sort_values('MP', ascending = False)[0:10]\n",
    "orl_2017 = nba_2017_players[nba_2017_players['Tm'] == 'ORL'].sort_values('MP', ascending = False)[0:10]\n",
    "orl_2016 = nba_2016_players[nba_2016_players['Tm'] == 'ORL'].sort_values('MP', ascending = False)[0:10]\n",
    "orl_2015 = nba_2015_players[nba_2015_players['Tm'] == 'ORL'].sort_values('MP', ascending = False)[0:10]\n",
    "orl_2014 = nba_2014_players[nba_2014_players['Tm'] == 'ORL'].sort_values('MP', ascending = False)[0:10]\n"
   ]
  },
  {
   "cell_type": "code",
   "execution_count": 103,
   "metadata": {},
   "outputs": [],
   "source": [
    "phi_2019 = nba_2019_players[nba_2019_players['Tm'] == 'PHI'].sort_values('MP', ascending = False)[0:10]\n",
    "phi_2018 = nba_2018_players[nba_2018_players['Tm'] == 'PHI'].sort_values('MP', ascending = False)[0:10]\n",
    "phi_2017 = nba_2017_players[nba_2017_players['Tm'] == 'PHI'].sort_values('MP', ascending = False)[0:10]\n",
    "phi_2016 = nba_2016_players[nba_2016_players['Tm'] == 'PHI'].sort_values('MP', ascending = False)[0:10]\n",
    "phi_2015 = nba_2015_players[nba_2015_players['Tm'] == 'PHI'].sort_values('MP', ascending = False)[0:10]\n",
    "phi_2014 = nba_2014_players[nba_2014_players['Tm'] == 'PHI'].sort_values('MP', ascending = False)[0:10]\n"
   ]
  },
  {
   "cell_type": "code",
   "execution_count": 104,
   "metadata": {},
   "outputs": [],
   "source": [
    "pho_2019 = nba_2019_players[nba_2019_players['Tm'] == 'PHO'].sort_values('MP', ascending = False)[0:10]\n",
    "pho_2018 = nba_2018_players[nba_2018_players['Tm'] == 'PHO'].sort_values('MP', ascending = False)[0:10]\n",
    "pho_2017 = nba_2017_players[nba_2017_players['Tm'] == 'PHO'].sort_values('MP', ascending = False)[0:10]\n",
    "pho_2016 = nba_2016_players[nba_2016_players['Tm'] == 'PHO'].sort_values('MP', ascending = False)[0:10]\n",
    "pho_2015 = nba_2015_players[nba_2015_players['Tm'] == 'PHO'].sort_values('MP', ascending = False)[0:10]\n",
    "pho_2014 = nba_2014_players[nba_2014_players['Tm'] == 'PHO'].sort_values('MP', ascending = False)[0:10]\n"
   ]
  },
  {
   "cell_type": "code",
   "execution_count": 105,
   "metadata": {},
   "outputs": [],
   "source": [
    "por_2019 = nba_2019_players[nba_2019_players['Tm'] == 'POR'].sort_values('MP', ascending = False)[0:10]\n",
    "por_2018 = nba_2018_players[nba_2018_players['Tm'] == 'POR'].sort_values('MP', ascending = False)[0:10]\n",
    "por_2017 = nba_2017_players[nba_2017_players['Tm'] == 'POR'].sort_values('MP', ascending = False)[0:10]\n",
    "por_2016 = nba_2016_players[nba_2016_players['Tm'] == 'POR'].sort_values('MP', ascending = False)[0:10]\n",
    "por_2015 = nba_2015_players[nba_2015_players['Tm'] == 'POR'].sort_values('MP', ascending = False)[0:10]\n",
    "por_2014 = nba_2014_players[nba_2014_players['Tm'] == 'POR'].sort_values('MP', ascending = False)[0:10]\n"
   ]
  },
  {
   "cell_type": "code",
   "execution_count": 106,
   "metadata": {},
   "outputs": [],
   "source": [
    "sac_2019 = nba_2019_players[nba_2019_players['Tm'] == 'SAC'].sort_values('MP', ascending = False)[0:10]\n",
    "sac_2018 = nba_2018_players[nba_2018_players['Tm'] == 'SAC'].sort_values('MP', ascending = False)[0:10]\n",
    "sac_2017 = nba_2017_players[nba_2017_players['Tm'] == 'SAC'].sort_values('MP', ascending = False)[0:10]\n",
    "sac_2016 = nba_2016_players[nba_2016_players['Tm'] == 'SAC'].sort_values('MP', ascending = False)[0:10]\n",
    "sac_2015 = nba_2015_players[nba_2015_players['Tm'] == 'SAC'].sort_values('MP', ascending = False)[0:10]\n",
    "sac_2014 = nba_2014_players[nba_2014_players['Tm'] == 'SAC'].sort_values('MP', ascending = False)[0:10]\n"
   ]
  },
  {
   "cell_type": "code",
   "execution_count": 107,
   "metadata": {},
   "outputs": [],
   "source": [
    "sas_2019 = nba_2019_players[nba_2019_players['Tm'] == 'SAS'].sort_values('MP', ascending = False)[0:10]\n",
    "sas_2018 = nba_2018_players[nba_2018_players['Tm'] == 'SAS'].sort_values('MP', ascending = False)[0:10]\n",
    "sas_2017 = nba_2017_players[nba_2017_players['Tm'] == 'SAS'].sort_values('MP', ascending = False)[0:10]\n",
    "sas_2016 = nba_2016_players[nba_2016_players['Tm'] == 'SAS'].sort_values('MP', ascending = False)[0:10]\n",
    "sas_2015 = nba_2015_players[nba_2015_players['Tm'] == 'SAS'].sort_values('MP', ascending = False)[0:10]\n",
    "sas_2014 = nba_2014_players[nba_2014_players['Tm'] == 'SAS'].sort_values('MP', ascending = False)[0:10]\n"
   ]
  },
  {
   "cell_type": "code",
   "execution_count": 108,
   "metadata": {},
   "outputs": [],
   "source": [
    "tor_2019 = nba_2019_players[nba_2019_players['Tm'] == 'TOR'].sort_values('MP', ascending = False)[0:10]\n",
    "tor_2018 = nba_2018_players[nba_2018_players['Tm'] == 'TOR'].sort_values('MP', ascending = False)[0:10]\n",
    "tor_2017 = nba_2017_players[nba_2017_players['Tm'] == 'TOR'].sort_values('MP', ascending = False)[0:10]\n",
    "tor_2016 = nba_2016_players[nba_2016_players['Tm'] == 'TOR'].sort_values('MP', ascending = False)[0:10]\n",
    "tor_2015 = nba_2015_players[nba_2015_players['Tm'] == 'TOR'].sort_values('MP', ascending = False)[0:10]\n",
    "tor_2014 = nba_2014_players[nba_2014_players['Tm'] == 'TOR'].sort_values('MP', ascending = False)[0:10]\n"
   ]
  },
  {
   "cell_type": "code",
   "execution_count": 109,
   "metadata": {},
   "outputs": [],
   "source": [
    "uta_2019 = nba_2019_players[nba_2019_players['Tm'] == 'UTA'].sort_values('MP', ascending = False)[0:10]\n",
    "uta_2018 = nba_2018_players[nba_2018_players['Tm'] == 'UTA'].sort_values('MP', ascending = False)[0:10]\n",
    "uta_2017 = nba_2017_players[nba_2017_players['Tm'] == 'UTA'].sort_values('MP', ascending = False)[0:10]\n",
    "uta_2016 = nba_2016_players[nba_2016_players['Tm'] == 'UTA'].sort_values('MP', ascending = False)[0:10]\n",
    "uta_2015 = nba_2015_players[nba_2015_players['Tm'] == 'UTA'].sort_values('MP', ascending = False)[0:10]\n",
    "uta_2014 = nba_2014_players[nba_2014_players['Tm'] == 'UTA'].sort_values('MP', ascending = False)[0:10]\n"
   ]
  },
  {
   "cell_type": "code",
   "execution_count": 110,
   "metadata": {},
   "outputs": [],
   "source": [
    "was_2019 = nba_2019_players[nba_2019_players['Tm'] == 'WAS'].sort_values('MP', ascending = False)[0:10]\n",
    "was_2018 = nba_2018_players[nba_2018_players['Tm'] == 'WAS'].sort_values('MP', ascending = False)[0:10]\n",
    "was_2017 = nba_2017_players[nba_2017_players['Tm'] == 'WAS'].sort_values('MP', ascending = False)[0:10]\n",
    "was_2016 = nba_2016_players[nba_2016_players['Tm'] == 'WAS'].sort_values('MP', ascending = False)[0:10]\n",
    "was_2015 = nba_2015_players[nba_2015_players['Tm'] == 'WAS'].sort_values('MP', ascending = False)[0:10]\n",
    "was_2014 = nba_2014_players[nba_2014_players['Tm'] == 'WAS'].sort_values('MP', ascending = False)[0:10]\n"
   ]
  },
  {
   "cell_type": "code",
   "execution_count": null,
   "metadata": {},
   "outputs": [],
   "source": []
  },
  {
   "cell_type": "code",
   "execution_count": null,
   "metadata": {},
   "outputs": [],
   "source": [
    "# atl_2019, atl_2018, atl_2017, atl_2016, atl_2015, atl_2014, "
   ]
  },
  {
   "cell_type": "markdown",
   "metadata": {},
   "source": [
    "# Weighing players on each team by win shares"
   ]
  },
  {
   "cell_type": "markdown",
   "metadata": {},
   "source": [
    "Creating list of all teams"
   ]
  },
  {
   "cell_type": "code",
   "execution_count": 211,
   "metadata": {},
   "outputs": [],
   "source": [
    "teams_list = [bos_2019, bos_2018, bos_2017, bos_2016, bos_2015, bos_2014,\n",
    "             brk_2019, brk_2018, brk_2017, brk_2016, brk_2015, brk_2014,\n",
    "             cho_2019, cho_2018, cho_2017, cho_2016, cho_2015, cho_2014,\n",
    "             chi_2019, chi_2018, chi_2017, chi_2016, chi_2015, chi_2014,\n",
    "             cle_2019, cle_2018, cle_2017, cle_2016, cle_2015, cle_2014,\n",
    "             dal_2019, dal_2018, dal_2017, dal_2016, dal_2015, dal_2014,\n",
    "             den_2019, den_2018, den_2017, den_2016, den_2015, den_2014,\n",
    "             det_2019, det_2018, det_2017, det_2016, det_2015, det_2014,\n",
    "             gsw_2019, gsw_2018, gsw_2017, gsw_2016, gsw_2015, gsw_2014,\n",
    "             hou_2019, hou_2018, hou_2017, hou_2016, hou_2015, hou_2014,\n",
    "             ind_2019, ind_2018, ind_2017, ind_2016, ind_2015, ind_2014,\n",
    "             lac_2019, lac_2018, lac_2017, lac_2016, lac_2015, lac_2014,\n",
    "             lal_2019, lal_2018, lal_2017, lal_2016, lal_2015, lal_2014,\n",
    "             mem_2019, mem_2018, mem_2017, mem_2016, mem_2015, mem_2014,\n",
    "             mia_2019, mia_2018, mia_2017, mia_2016, mia_2015, mia_2014,\n",
    "             mil_2019, mil_2018, mil_2017, mil_2016, mil_2015, mil_2014,\n",
    "             min_2019, min_2018, min_2017, min_2016, min_2015, min_2014,\n",
    "             nop_2019, nop_2018, nop_2017, nop_2016, nop_2015, nop_2014,\n",
    "             nyk_2019, nyk_2018, nyk_2017, nyk_2016, nyk_2015, nyk_2014,\n",
    "             okc_2019, okc_2018, okc_2017, okc_2016, okc_2015, okc_2014,\n",
    "             orl_2019, orl_2018, orl_2017, orl_2016, orl_2015, orl_2014,\n",
    "             phi_2019, phi_2018, phi_2017, phi_2016, phi_2015, phi_2014,\n",
    "             pho_2019, pho_2018, pho_2017, pho_2016, pho_2015, pho_2014,\n",
    "             por_2019, por_2018, por_2017, por_2016, por_2015, por_2014,\n",
    "             sac_2019, sac_2018, sac_2017, sac_2016, sac_2015, sac_2014,\n",
    "             sas_2019, sas_2018, sas_2017, sas_2016, sas_2015, sas_2014,\n",
    "             tor_2019, tor_2018, tor_2017, tor_2016, tor_2015, tor_2014,\n",
    "             uta_2019, uta_2018, uta_2017, uta_2016, uta_2015, uta_2014,\n",
    "             was_2019, was_2018, was_2017, was_2016, was_2015, was_2014]"
   ]
  },
  {
   "cell_type": "code",
   "execution_count": null,
   "metadata": {},
   "outputs": [],
   "source": []
  },
  {
   "cell_type": "markdown",
   "metadata": {},
   "source": [
    "Creating a list of all columns that will be transformed by the weight factor of WS's"
   ]
  },
  {
   "cell_type": "code",
   "execution_count": 112,
   "metadata": {},
   "outputs": [],
   "source": [
    "# transformation_columns = []\n",
    "\n",
    "# for x in atl_2019.columns[6:50]:\n",
    "#     if x != 'WS':\n",
    "#         transformation_columns.append(x)"
   ]
  },
  {
   "cell_type": "code",
   "execution_count": null,
   "metadata": {},
   "outputs": [],
   "source": []
  },
  {
   "cell_type": "markdown",
   "metadata": {},
   "source": [
    "Creating functions for the % of win shares per player per team and applying that win share percent to the other columns "
   ]
  },
  {
   "cell_type": "code",
   "execution_count": 113,
   "metadata": {},
   "outputs": [],
   "source": [
    "# def win_share_percentage(df):\n",
    "#     df['WS'] = df['WS'] / df['WS'].sum()\n",
    "#     return df['WS']"
   ]
  },
  {
   "cell_type": "code",
   "execution_count": 114,
   "metadata": {},
   "outputs": [],
   "source": [
    "# def applying_weight_factor(df, cols):\n",
    "#     df[cols] = df[cols].apply(lambda x: x*win_share_percentage(df))\n",
    "#     return df"
   ]
  },
  {
   "cell_type": "code",
   "execution_count": null,
   "metadata": {},
   "outputs": [],
   "source": []
  },
  {
   "cell_type": "markdown",
   "metadata": {},
   "source": [
    "Applying function to all teams"
   ]
  },
  {
   "cell_type": "code",
   "execution_count": 115,
   "metadata": {},
   "outputs": [],
   "source": [
    "# for team in teams_list:\n",
    "#     applying_weight_factor(team, transformation_columns)"
   ]
  },
  {
   "cell_type": "code",
   "execution_count": null,
   "metadata": {},
   "outputs": [],
   "source": []
  },
  {
   "cell_type": "code",
   "execution_count": 190,
   "metadata": {
    "collapsed": true
   },
   "outputs": [
    {
     "data": {
      "text/html": [
       "<div>\n",
       "<style scoped>\n",
       "    .dataframe tbody tr th:only-of-type {\n",
       "        vertical-align: middle;\n",
       "    }\n",
       "\n",
       "    .dataframe tbody tr th {\n",
       "        vertical-align: top;\n",
       "    }\n",
       "\n",
       "    .dataframe thead th {\n",
       "        text-align: right;\n",
       "    }\n",
       "</style>\n",
       "<table border=\"1\" class=\"dataframe\">\n",
       "  <thead>\n",
       "    <tr style=\"text-align: right;\">\n",
       "      <th></th>\n",
       "      <th>Player</th>\n",
       "      <th>Pos</th>\n",
       "      <th>Age</th>\n",
       "      <th>Tm</th>\n",
       "      <th>G</th>\n",
       "      <th>GS</th>\n",
       "      <th>MPG</th>\n",
       "      <th>FG</th>\n",
       "      <th>FGA</th>\n",
       "      <th>FG%</th>\n",
       "      <th>...</th>\n",
       "      <th>USG%</th>\n",
       "      <th>OWS</th>\n",
       "      <th>DWS</th>\n",
       "      <th>WS</th>\n",
       "      <th>WS/48</th>\n",
       "      <th>OBPM</th>\n",
       "      <th>DBPM</th>\n",
       "      <th>BPM</th>\n",
       "      <th>VORP</th>\n",
       "      <th>year</th>\n",
       "    </tr>\n",
       "  </thead>\n",
       "  <tbody>\n",
       "    <tr>\n",
       "      <th>725</th>\n",
       "      <td>Trae Young</td>\n",
       "      <td>PG</td>\n",
       "      <td>20</td>\n",
       "      <td>ATL</td>\n",
       "      <td>81</td>\n",
       "      <td>81</td>\n",
       "      <td>30.9</td>\n",
       "      <td>6.5</td>\n",
       "      <td>15.5</td>\n",
       "      <td>0.418</td>\n",
       "      <td>...</td>\n",
       "      <td>28.4</td>\n",
       "      <td>2.5</td>\n",
       "      <td>0.7</td>\n",
       "      <td>3.3</td>\n",
       "      <td>0.062</td>\n",
       "      <td>2.3</td>\n",
       "      <td>-2.8</td>\n",
       "      <td>-0.6</td>\n",
       "      <td>0.9</td>\n",
       "      <td>2019</td>\n",
       "    </tr>\n",
       "    <tr>\n",
       "      <th>322</th>\n",
       "      <td>Kevin Huerter</td>\n",
       "      <td>SG</td>\n",
       "      <td>20</td>\n",
       "      <td>ATL</td>\n",
       "      <td>75</td>\n",
       "      <td>59</td>\n",
       "      <td>27.3</td>\n",
       "      <td>3.7</td>\n",
       "      <td>8.8</td>\n",
       "      <td>0.419</td>\n",
       "      <td>...</td>\n",
       "      <td>15.7</td>\n",
       "      <td>0.7</td>\n",
       "      <td>0.7</td>\n",
       "      <td>1.5</td>\n",
       "      <td>0.034</td>\n",
       "      <td>-1.6</td>\n",
       "      <td>-0.8</td>\n",
       "      <td>-2.4</td>\n",
       "      <td>-0.2</td>\n",
       "      <td>2019</td>\n",
       "    </tr>\n",
       "    <tr>\n",
       "      <th>54</th>\n",
       "      <td>DeAndre' Bembry</td>\n",
       "      <td>SG</td>\n",
       "      <td>24</td>\n",
       "      <td>ATL</td>\n",
       "      <td>82</td>\n",
       "      <td>15</td>\n",
       "      <td>23.5</td>\n",
       "      <td>3.4</td>\n",
       "      <td>7.5</td>\n",
       "      <td>0.446</td>\n",
       "      <td>...</td>\n",
       "      <td>17.2</td>\n",
       "      <td>-0.9</td>\n",
       "      <td>1.7</td>\n",
       "      <td>0.9</td>\n",
       "      <td>0.022</td>\n",
       "      <td>-3.3</td>\n",
       "      <td>0.8</td>\n",
       "      <td>-2.4</td>\n",
       "      <td>-0.2</td>\n",
       "      <td>2019</td>\n",
       "    </tr>\n",
       "    <tr>\n",
       "      <th>144</th>\n",
       "      <td>John Collins</td>\n",
       "      <td>PF</td>\n",
       "      <td>21</td>\n",
       "      <td>ATL</td>\n",
       "      <td>61</td>\n",
       "      <td>59</td>\n",
       "      <td>30.0</td>\n",
       "      <td>7.6</td>\n",
       "      <td>13.6</td>\n",
       "      <td>0.560</td>\n",
       "      <td>...</td>\n",
       "      <td>23.7</td>\n",
       "      <td>5.0</td>\n",
       "      <td>1.0</td>\n",
       "      <td>6.0</td>\n",
       "      <td>0.158</td>\n",
       "      <td>2.8</td>\n",
       "      <td>-1.9</td>\n",
       "      <td>0.9</td>\n",
       "      <td>1.3</td>\n",
       "      <td>2019</td>\n",
       "    </tr>\n",
       "    <tr>\n",
       "      <th>47</th>\n",
       "      <td>Kent Bazemore</td>\n",
       "      <td>SG</td>\n",
       "      <td>29</td>\n",
       "      <td>ATL</td>\n",
       "      <td>67</td>\n",
       "      <td>35</td>\n",
       "      <td>24.5</td>\n",
       "      <td>4.1</td>\n",
       "      <td>10.3</td>\n",
       "      <td>0.402</td>\n",
       "      <td>...</td>\n",
       "      <td>22.0</td>\n",
       "      <td>-0.7</td>\n",
       "      <td>1.4</td>\n",
       "      <td>0.7</td>\n",
       "      <td>0.021</td>\n",
       "      <td>-2.5</td>\n",
       "      <td>0.2</td>\n",
       "      <td>-2.3</td>\n",
       "      <td>-0.1</td>\n",
       "      <td>2019</td>\n",
       "    </tr>\n",
       "    <tr>\n",
       "      <th>171</th>\n",
       "      <td>Dewayne Dedmon</td>\n",
       "      <td>C</td>\n",
       "      <td>29</td>\n",
       "      <td>ATL</td>\n",
       "      <td>64</td>\n",
       "      <td>52</td>\n",
       "      <td>25.1</td>\n",
       "      <td>4.0</td>\n",
       "      <td>8.2</td>\n",
       "      <td>0.492</td>\n",
       "      <td>...</td>\n",
       "      <td>16.7</td>\n",
       "      <td>2.1</td>\n",
       "      <td>1.9</td>\n",
       "      <td>4.0</td>\n",
       "      <td>0.119</td>\n",
       "      <td>-0.3</td>\n",
       "      <td>0.8</td>\n",
       "      <td>0.5</td>\n",
       "      <td>1.0</td>\n",
       "      <td>2019</td>\n",
       "    </tr>\n",
       "    <tr>\n",
       "      <th>693</th>\n",
       "      <td>Taurean Prince</td>\n",
       "      <td>SF</td>\n",
       "      <td>24</td>\n",
       "      <td>ATL</td>\n",
       "      <td>55</td>\n",
       "      <td>47</td>\n",
       "      <td>28.2</td>\n",
       "      <td>4.8</td>\n",
       "      <td>10.8</td>\n",
       "      <td>0.441</td>\n",
       "      <td>...</td>\n",
       "      <td>19.5</td>\n",
       "      <td>0.8</td>\n",
       "      <td>0.7</td>\n",
       "      <td>1.5</td>\n",
       "      <td>0.047</td>\n",
       "      <td>-1.0</td>\n",
       "      <td>-1.0</td>\n",
       "      <td>-2.0</td>\n",
       "      <td>0.0</td>\n",
       "      <td>2019</td>\n",
       "    </tr>\n",
       "    <tr>\n",
       "      <th>410</th>\n",
       "      <td>Alex Len</td>\n",
       "      <td>C</td>\n",
       "      <td>25</td>\n",
       "      <td>ATL</td>\n",
       "      <td>77</td>\n",
       "      <td>31</td>\n",
       "      <td>20.1</td>\n",
       "      <td>4.2</td>\n",
       "      <td>8.4</td>\n",
       "      <td>0.494</td>\n",
       "      <td>...</td>\n",
       "      <td>22.1</td>\n",
       "      <td>2.2</td>\n",
       "      <td>1.0</td>\n",
       "      <td>3.2</td>\n",
       "      <td>0.100</td>\n",
       "      <td>0.0</td>\n",
       "      <td>-1.3</td>\n",
       "      <td>-1.2</td>\n",
       "      <td>0.3</td>\n",
       "      <td>2019</td>\n",
       "    </tr>\n",
       "    <tr>\n",
       "      <th>119</th>\n",
       "      <td>Vince Carter</td>\n",
       "      <td>PF</td>\n",
       "      <td>42</td>\n",
       "      <td>ATL</td>\n",
       "      <td>76</td>\n",
       "      <td>9</td>\n",
       "      <td>17.5</td>\n",
       "      <td>2.6</td>\n",
       "      <td>6.2</td>\n",
       "      <td>0.419</td>\n",
       "      <td>...</td>\n",
       "      <td>16.7</td>\n",
       "      <td>1.2</td>\n",
       "      <td>0.7</td>\n",
       "      <td>1.9</td>\n",
       "      <td>0.070</td>\n",
       "      <td>-0.4</td>\n",
       "      <td>-0.3</td>\n",
       "      <td>-0.7</td>\n",
       "      <td>0.5</td>\n",
       "      <td>2019</td>\n",
       "    </tr>\n",
       "    <tr>\n",
       "      <th>418</th>\n",
       "      <td>Jeremy Lin</td>\n",
       "      <td>PG</td>\n",
       "      <td>30</td>\n",
       "      <td>ATL</td>\n",
       "      <td>51</td>\n",
       "      <td>1</td>\n",
       "      <td>19.7</td>\n",
       "      <td>3.5</td>\n",
       "      <td>7.6</td>\n",
       "      <td>0.466</td>\n",
       "      <td>...</td>\n",
       "      <td>22.6</td>\n",
       "      <td>1.5</td>\n",
       "      <td>0.4</td>\n",
       "      <td>1.9</td>\n",
       "      <td>0.092</td>\n",
       "      <td>0.3</td>\n",
       "      <td>-1.0</td>\n",
       "      <td>-0.6</td>\n",
       "      <td>0.3</td>\n",
       "      <td>2019</td>\n",
       "    </tr>\n",
       "    <tr>\n",
       "      <th>652</th>\n",
       "      <td>Jayson Tatum</td>\n",
       "      <td>SF</td>\n",
       "      <td>20</td>\n",
       "      <td>BOS</td>\n",
       "      <td>79</td>\n",
       "      <td>79</td>\n",
       "      <td>31.1</td>\n",
       "      <td>5.9</td>\n",
       "      <td>13.1</td>\n",
       "      <td>0.450</td>\n",
       "      <td>...</td>\n",
       "      <td>22.1</td>\n",
       "      <td>1.6</td>\n",
       "      <td>3.4</td>\n",
       "      <td>5.0</td>\n",
       "      <td>0.097</td>\n",
       "      <td>-0.4</td>\n",
       "      <td>0.2</td>\n",
       "      <td>-0.2</td>\n",
       "      <td>1.1</td>\n",
       "      <td>2019</td>\n",
       "    </tr>\n",
       "    <tr>\n",
       "      <th>333</th>\n",
       "      <td>Kyrie Irving</td>\n",
       "      <td>PG</td>\n",
       "      <td>26</td>\n",
       "      <td>BOS</td>\n",
       "      <td>67</td>\n",
       "      <td>67</td>\n",
       "      <td>33.0</td>\n",
       "      <td>9.0</td>\n",
       "      <td>18.5</td>\n",
       "      <td>0.487</td>\n",
       "      <td>...</td>\n",
       "      <td>29.6</td>\n",
       "      <td>6.2</td>\n",
       "      <td>2.9</td>\n",
       "      <td>9.1</td>\n",
       "      <td>0.197</td>\n",
       "      <td>6.0</td>\n",
       "      <td>1.1</td>\n",
       "      <td>7.2</td>\n",
       "      <td>5.1</td>\n",
       "      <td>2019</td>\n",
       "    </tr>\n",
       "    <tr>\n",
       "      <th>626</th>\n",
       "      <td>Marcus Smart</td>\n",
       "      <td>SG</td>\n",
       "      <td>24</td>\n",
       "      <td>BOS</td>\n",
       "      <td>80</td>\n",
       "      <td>60</td>\n",
       "      <td>27.5</td>\n",
       "      <td>3.0</td>\n",
       "      <td>7.1</td>\n",
       "      <td>0.422</td>\n",
       "      <td>...</td>\n",
       "      <td>14.6</td>\n",
       "      <td>2.2</td>\n",
       "      <td>3.1</td>\n",
       "      <td>5.3</td>\n",
       "      <td>0.116</td>\n",
       "      <td>-1.2</td>\n",
       "      <td>2.0</td>\n",
       "      <td>0.8</td>\n",
       "      <td>1.5</td>\n",
       "      <td>2019</td>\n",
       "    </tr>\n",
       "    <tr>\n",
       "      <th>499</th>\n",
       "      <td>Marcus Morris</td>\n",
       "      <td>PF</td>\n",
       "      <td>29</td>\n",
       "      <td>BOS</td>\n",
       "      <td>75</td>\n",
       "      <td>53</td>\n",
       "      <td>27.9</td>\n",
       "      <td>5.0</td>\n",
       "      <td>11.3</td>\n",
       "      <td>0.447</td>\n",
       "      <td>...</td>\n",
       "      <td>20.9</td>\n",
       "      <td>2.1</td>\n",
       "      <td>2.5</td>\n",
       "      <td>4.5</td>\n",
       "      <td>0.104</td>\n",
       "      <td>-0.2</td>\n",
       "      <td>-0.7</td>\n",
       "      <td>-0.9</td>\n",
       "      <td>0.6</td>\n",
       "      <td>2019</td>\n",
       "    </tr>\n",
       "    <tr>\n",
       "      <th>319</th>\n",
       "      <td>Al Horford</td>\n",
       "      <td>C</td>\n",
       "      <td>32</td>\n",
       "      <td>BOS</td>\n",
       "      <td>68</td>\n",
       "      <td>68</td>\n",
       "      <td>29.0</td>\n",
       "      <td>5.7</td>\n",
       "      <td>10.6</td>\n",
       "      <td>0.535</td>\n",
       "      <td>...</td>\n",
       "      <td>18.9</td>\n",
       "      <td>4.5</td>\n",
       "      <td>2.9</td>\n",
       "      <td>7.5</td>\n",
       "      <td>0.181</td>\n",
       "      <td>3.3</td>\n",
       "      <td>1.9</td>\n",
       "      <td>5.1</td>\n",
       "      <td>3.6</td>\n",
       "      <td>2019</td>\n",
       "    </tr>\n",
       "    <tr>\n",
       "      <th>88</th>\n",
       "      <td>Jaylen Brown</td>\n",
       "      <td>SG</td>\n",
       "      <td>22</td>\n",
       "      <td>BOS</td>\n",
       "      <td>74</td>\n",
       "      <td>25</td>\n",
       "      <td>25.9</td>\n",
       "      <td>5.0</td>\n",
       "      <td>10.7</td>\n",
       "      <td>0.465</td>\n",
       "      <td>...</td>\n",
       "      <td>22.1</td>\n",
       "      <td>0.7</td>\n",
       "      <td>2.4</td>\n",
       "      <td>3.0</td>\n",
       "      <td>0.076</td>\n",
       "      <td>-1.6</td>\n",
       "      <td>-0.4</td>\n",
       "      <td>-2.1</td>\n",
       "      <td>0.0</td>\n",
       "      <td>2019</td>\n",
       "    </tr>\n",
       "    <tr>\n",
       "      <th>294</th>\n",
       "      <td>Gordon Hayward</td>\n",
       "      <td>PF</td>\n",
       "      <td>28</td>\n",
       "      <td>BOS</td>\n",
       "      <td>72</td>\n",
       "      <td>18</td>\n",
       "      <td>25.9</td>\n",
       "      <td>4.1</td>\n",
       "      <td>8.8</td>\n",
       "      <td>0.466</td>\n",
       "      <td>...</td>\n",
       "      <td>19.0</td>\n",
       "      <td>2.6</td>\n",
       "      <td>2.3</td>\n",
       "      <td>4.9</td>\n",
       "      <td>0.126</td>\n",
       "      <td>0.4</td>\n",
       "      <td>0.4</td>\n",
       "      <td>0.8</td>\n",
       "      <td>1.3</td>\n",
       "      <td>2019</td>\n",
       "    </tr>\n",
       "    <tr>\n",
       "      <th>592</th>\n",
       "      <td>Terry Rozier</td>\n",
       "      <td>PG</td>\n",
       "      <td>24</td>\n",
       "      <td>BOS</td>\n",
       "      <td>79</td>\n",
       "      <td>14</td>\n",
       "      <td>22.7</td>\n",
       "      <td>3.3</td>\n",
       "      <td>8.4</td>\n",
       "      <td>0.387</td>\n",
       "      <td>...</td>\n",
       "      <td>18.6</td>\n",
       "      <td>0.9</td>\n",
       "      <td>2.3</td>\n",
       "      <td>3.2</td>\n",
       "      <td>0.086</td>\n",
       "      <td>-0.7</td>\n",
       "      <td>0.5</td>\n",
       "      <td>-0.2</td>\n",
       "      <td>0.8</td>\n",
       "      <td>2019</td>\n",
       "    </tr>\n",
       "    <tr>\n",
       "      <th>662</th>\n",
       "      <td>Daniel Theis</td>\n",
       "      <td>C</td>\n",
       "      <td>26</td>\n",
       "      <td>BOS</td>\n",
       "      <td>66</td>\n",
       "      <td>2</td>\n",
       "      <td>13.8</td>\n",
       "      <td>2.2</td>\n",
       "      <td>4.0</td>\n",
       "      <td>0.549</td>\n",
       "      <td>...</td>\n",
       "      <td>15.8</td>\n",
       "      <td>2.3</td>\n",
       "      <td>1.3</td>\n",
       "      <td>3.5</td>\n",
       "      <td>0.188</td>\n",
       "      <td>-0.8</td>\n",
       "      <td>0.9</td>\n",
       "      <td>0.0</td>\n",
       "      <td>0.5</td>\n",
       "      <td>2019</td>\n",
       "    </tr>\n",
       "    <tr>\n",
       "      <th>46</th>\n",
       "      <td>Aron Baynes</td>\n",
       "      <td>C</td>\n",
       "      <td>32</td>\n",
       "      <td>BOS</td>\n",
       "      <td>51</td>\n",
       "      <td>18</td>\n",
       "      <td>16.1</td>\n",
       "      <td>2.1</td>\n",
       "      <td>4.4</td>\n",
       "      <td>0.471</td>\n",
       "      <td>...</td>\n",
       "      <td>15.2</td>\n",
       "      <td>1.3</td>\n",
       "      <td>1.1</td>\n",
       "      <td>2.4</td>\n",
       "      <td>0.139</td>\n",
       "      <td>-1.8</td>\n",
       "      <td>0.3</td>\n",
       "      <td>-1.5</td>\n",
       "      <td>0.1</td>\n",
       "      <td>2019</td>\n",
       "    </tr>\n",
       "  </tbody>\n",
       "</table>\n",
       "<p>20 rows × 51 columns</p>\n",
       "</div>"
      ],
      "text/plain": [
       "              Player Pos  Age   Tm   G  GS   MPG   FG   FGA    FG%  ...  USG%  \\\n",
       "725       Trae Young  PG   20  ATL  81  81  30.9  6.5  15.5  0.418  ...  28.4   \n",
       "322    Kevin Huerter  SG   20  ATL  75  59  27.3  3.7   8.8  0.419  ...  15.7   \n",
       "54   DeAndre' Bembry  SG   24  ATL  82  15  23.5  3.4   7.5  0.446  ...  17.2   \n",
       "144     John Collins  PF   21  ATL  61  59  30.0  7.6  13.6  0.560  ...  23.7   \n",
       "47     Kent Bazemore  SG   29  ATL  67  35  24.5  4.1  10.3  0.402  ...  22.0   \n",
       "171   Dewayne Dedmon   C   29  ATL  64  52  25.1  4.0   8.2  0.492  ...  16.7   \n",
       "693   Taurean Prince  SF   24  ATL  55  47  28.2  4.8  10.8  0.441  ...  19.5   \n",
       "410         Alex Len   C   25  ATL  77  31  20.1  4.2   8.4  0.494  ...  22.1   \n",
       "119     Vince Carter  PF   42  ATL  76   9  17.5  2.6   6.2  0.419  ...  16.7   \n",
       "418       Jeremy Lin  PG   30  ATL  51   1  19.7  3.5   7.6  0.466  ...  22.6   \n",
       "652     Jayson Tatum  SF   20  BOS  79  79  31.1  5.9  13.1  0.450  ...  22.1   \n",
       "333     Kyrie Irving  PG   26  BOS  67  67  33.0  9.0  18.5  0.487  ...  29.6   \n",
       "626     Marcus Smart  SG   24  BOS  80  60  27.5  3.0   7.1  0.422  ...  14.6   \n",
       "499    Marcus Morris  PF   29  BOS  75  53  27.9  5.0  11.3  0.447  ...  20.9   \n",
       "319       Al Horford   C   32  BOS  68  68  29.0  5.7  10.6  0.535  ...  18.9   \n",
       "88      Jaylen Brown  SG   22  BOS  74  25  25.9  5.0  10.7  0.465  ...  22.1   \n",
       "294   Gordon Hayward  PF   28  BOS  72  18  25.9  4.1   8.8  0.466  ...  19.0   \n",
       "592     Terry Rozier  PG   24  BOS  79  14  22.7  3.3   8.4  0.387  ...  18.6   \n",
       "662     Daniel Theis   C   26  BOS  66   2  13.8  2.2   4.0  0.549  ...  15.8   \n",
       "46       Aron Baynes   C   32  BOS  51  18  16.1  2.1   4.4  0.471  ...  15.2   \n",
       "\n",
       "     OWS  DWS   WS  WS/48  OBPM  DBPM  BPM  VORP  year  \n",
       "725  2.5  0.7  3.3  0.062   2.3  -2.8 -0.6   0.9  2019  \n",
       "322  0.7  0.7  1.5  0.034  -1.6  -0.8 -2.4  -0.2  2019  \n",
       "54  -0.9  1.7  0.9  0.022  -3.3   0.8 -2.4  -0.2  2019  \n",
       "144  5.0  1.0  6.0  0.158   2.8  -1.9  0.9   1.3  2019  \n",
       "47  -0.7  1.4  0.7  0.021  -2.5   0.2 -2.3  -0.1  2019  \n",
       "171  2.1  1.9  4.0  0.119  -0.3   0.8  0.5   1.0  2019  \n",
       "693  0.8  0.7  1.5  0.047  -1.0  -1.0 -2.0   0.0  2019  \n",
       "410  2.2  1.0  3.2  0.100   0.0  -1.3 -1.2   0.3  2019  \n",
       "119  1.2  0.7  1.9  0.070  -0.4  -0.3 -0.7   0.5  2019  \n",
       "418  1.5  0.4  1.9  0.092   0.3  -1.0 -0.6   0.3  2019  \n",
       "652  1.6  3.4  5.0  0.097  -0.4   0.2 -0.2   1.1  2019  \n",
       "333  6.2  2.9  9.1  0.197   6.0   1.1  7.2   5.1  2019  \n",
       "626  2.2  3.1  5.3  0.116  -1.2   2.0  0.8   1.5  2019  \n",
       "499  2.1  2.5  4.5  0.104  -0.2  -0.7 -0.9   0.6  2019  \n",
       "319  4.5  2.9  7.5  0.181   3.3   1.9  5.1   3.6  2019  \n",
       "88   0.7  2.4  3.0  0.076  -1.6  -0.4 -2.1   0.0  2019  \n",
       "294  2.6  2.3  4.9  0.126   0.4   0.4  0.8   1.3  2019  \n",
       "592  0.9  2.3  3.2  0.086  -0.7   0.5 -0.2   0.8  2019  \n",
       "662  2.3  1.3  3.5  0.188  -0.8   0.9  0.0   0.5  2019  \n",
       "46   1.3  1.1  2.4  0.139  -1.8   0.3 -1.5   0.1  2019  \n",
       "\n",
       "[20 rows x 51 columns]"
      ]
     },
     "execution_count": 190,
     "metadata": {},
     "output_type": "execute_result"
    }
   ],
   "source": [
    "atl_2019.append(bos_2019)"
   ]
  },
  {
   "cell_type": "code",
   "execution_count": 193,
   "metadata": {},
   "outputs": [],
   "source": [
    "for x in teams_list:\n",
    "    for y in x['year'][0:1]:\n",
    "        if y == 2019:\n",
    "            atl_2019 = atl_2019.append(x)\n",
    "        elif y == 2018:\n",
    "            atl_2018 = atl_2018.append(x)\n",
    "        elif y == 2017:\n",
    "            atl_2017 = atl_2017.append(x)\n",
    "        elif y == 2016:\n",
    "            atl_2016 = atl_2016.append(x)\n",
    "        elif y == 2015:\n",
    "            atl_2015 = atl_2015.append(x)\n",
    "        elif y == 2014:\n",
    "            atl_2014 = atl_2014.append(x)"
   ]
  },
  {
   "cell_type": "code",
   "execution_count": 208,
   "metadata": {},
   "outputs": [],
   "source": [
    "players_2019 = atl_2019.groupby('Tm').sum().reset_index()"
   ]
  },
  {
   "cell_type": "code",
   "execution_count": null,
   "metadata": {},
   "outputs": [],
   "source": [
    "players_2019 = atl_2019.groupby('Tm').sum().reset_index()"
   ]
  },
  {
   "cell_type": "code",
   "execution_count": null,
   "metadata": {},
   "outputs": [],
   "source": [
    "players_2019 = atl_2019.groupby('Tm').sum().reset_index()"
   ]
  },
  {
   "cell_type": "code",
   "execution_count": null,
   "metadata": {},
   "outputs": [],
   "source": [
    "players_2019 = atl_2019.groupby('Tm').sum().reset_index()"
   ]
  },
  {
   "cell_type": "code",
   "execution_count": null,
   "metadata": {},
   "outputs": [],
   "source": [
    "players_2019 = atl_2019.groupby('Tm').sum().reset_index()"
   ]
  },
  {
   "cell_type": "code",
   "execution_count": null,
   "metadata": {},
   "outputs": [],
   "source": []
  },
  {
   "cell_type": "code",
   "execution_count": null,
   "metadata": {},
   "outputs": [],
   "source": []
  },
  {
   "cell_type": "markdown",
   "metadata": {},
   "source": [
    "# Team Stats"
   ]
  },
  {
   "cell_type": "code",
   "execution_count": 206,
   "metadata": {},
   "outputs": [],
   "source": [
    "nba_2019_teams = pd.read_csv('nba_2019_teams.csv', index_col = 0).sort_values('Team', ascending = True).reset_index()"
   ]
  },
  {
   "cell_type": "code",
   "execution_count": 207,
   "metadata": {
    "collapsed": true
   },
   "outputs": [
    {
     "data": {
      "text/html": [
       "<div>\n",
       "<style scoped>\n",
       "    .dataframe tbody tr th:only-of-type {\n",
       "        vertical-align: middle;\n",
       "    }\n",
       "\n",
       "    .dataframe tbody tr th {\n",
       "        vertical-align: top;\n",
       "    }\n",
       "\n",
       "    .dataframe thead th {\n",
       "        text-align: right;\n",
       "    }\n",
       "</style>\n",
       "<table border=\"1\" class=\"dataframe\">\n",
       "  <thead>\n",
       "    <tr style=\"text-align: right;\">\n",
       "      <th></th>\n",
       "      <th>Rk</th>\n",
       "      <th>Team</th>\n",
       "      <th>Age</th>\n",
       "      <th>W</th>\n",
       "      <th>L</th>\n",
       "      <th>MOV</th>\n",
       "      <th>SOS</th>\n",
       "      <th>ORtg</th>\n",
       "      <th>DRtg</th>\n",
       "      <th>NRtg</th>\n",
       "      <th>...</th>\n",
       "      <th>USG%</th>\n",
       "      <th>OWS</th>\n",
       "      <th>DWS</th>\n",
       "      <th>WS</th>\n",
       "      <th>WS/48</th>\n",
       "      <th>OBPM</th>\n",
       "      <th>DBPM</th>\n",
       "      <th>BPM</th>\n",
       "      <th>VORP</th>\n",
       "      <th>year</th>\n",
       "    </tr>\n",
       "  </thead>\n",
       "  <tbody>\n",
       "    <tr>\n",
       "      <th>0</th>\n",
       "      <td>26</td>\n",
       "      <td>Atlanta Hawks</td>\n",
       "      <td>25.1</td>\n",
       "      <td>29</td>\n",
       "      <td>53</td>\n",
       "      <td>-6.02</td>\n",
       "      <td>-0.04</td>\n",
       "      <td>108.1</td>\n",
       "      <td>113.9</td>\n",
       "      <td>-5.8</td>\n",
       "      <td>...</td>\n",
       "      <td>204.6</td>\n",
       "      <td>14.4</td>\n",
       "      <td>10.2</td>\n",
       "      <td>24.9</td>\n",
       "      <td>0.725</td>\n",
       "      <td>-3.7</td>\n",
       "      <td>-7.300000e+00</td>\n",
       "      <td>-1.080000e+01</td>\n",
       "      <td>3.8</td>\n",
       "      <td>20190</td>\n",
       "    </tr>\n",
       "    <tr>\n",
       "      <th>1</th>\n",
       "      <td>8</td>\n",
       "      <td>Boston Celtics*</td>\n",
       "      <td>25.7</td>\n",
       "      <td>49</td>\n",
       "      <td>33</td>\n",
       "      <td>4.44</td>\n",
       "      <td>-0.54</td>\n",
       "      <td>112.2</td>\n",
       "      <td>107.8</td>\n",
       "      <td>4.4</td>\n",
       "      <td>...</td>\n",
       "      <td>196.8</td>\n",
       "      <td>24.4</td>\n",
       "      <td>24.2</td>\n",
       "      <td>48.4</td>\n",
       "      <td>1.310</td>\n",
       "      <td>3.0</td>\n",
       "      <td>6.200000e+00</td>\n",
       "      <td>9.000000e+00</td>\n",
       "      <td>14.6</td>\n",
       "      <td>20190</td>\n",
       "    </tr>\n",
       "    <tr>\n",
       "      <th>2</th>\n",
       "      <td>15</td>\n",
       "      <td>Brooklyn Nets*</td>\n",
       "      <td>25.4</td>\n",
       "      <td>42</td>\n",
       "      <td>40</td>\n",
       "      <td>-0.07</td>\n",
       "      <td>-0.33</td>\n",
       "      <td>109.6</td>\n",
       "      <td>109.7</td>\n",
       "      <td>-0.1</td>\n",
       "      <td>...</td>\n",
       "      <td>187.8</td>\n",
       "      <td>18.9</td>\n",
       "      <td>18.5</td>\n",
       "      <td>37.1</td>\n",
       "      <td>0.999</td>\n",
       "      <td>-6.3</td>\n",
       "      <td>1.200000e+00</td>\n",
       "      <td>-5.200000e+00</td>\n",
       "      <td>8.4</td>\n",
       "      <td>20190</td>\n",
       "    </tr>\n",
       "    <tr>\n",
       "      <th>3</th>\n",
       "      <td>22</td>\n",
       "      <td>Charlotte Hornets</td>\n",
       "      <td>26.6</td>\n",
       "      <td>39</td>\n",
       "      <td>43</td>\n",
       "      <td>-1.10</td>\n",
       "      <td>-0.22</td>\n",
       "      <td>111.4</td>\n",
       "      <td>112.5</td>\n",
       "      <td>-1.1</td>\n",
       "      <td>...</td>\n",
       "      <td>199.8</td>\n",
       "      <td>7.1</td>\n",
       "      <td>10.4</td>\n",
       "      <td>17.2</td>\n",
       "      <td>0.513</td>\n",
       "      <td>-13.0</td>\n",
       "      <td>-3.900000e+00</td>\n",
       "      <td>-1.710000e+01</td>\n",
       "      <td>2.0</td>\n",
       "      <td>20190</td>\n",
       "    </tr>\n",
       "    <tr>\n",
       "      <th>4</th>\n",
       "      <td>27</td>\n",
       "      <td>Chicago Bulls</td>\n",
       "      <td>24.0</td>\n",
       "      <td>22</td>\n",
       "      <td>60</td>\n",
       "      <td>-8.41</td>\n",
       "      <td>0.10</td>\n",
       "      <td>104.8</td>\n",
       "      <td>113.2</td>\n",
       "      <td>-8.4</td>\n",
       "      <td>...</td>\n",
       "      <td>201.4</td>\n",
       "      <td>20.2</td>\n",
       "      <td>13.0</td>\n",
       "      <td>33.3</td>\n",
       "      <td>0.940</td>\n",
       "      <td>1.0</td>\n",
       "      <td>-4.800000e+00</td>\n",
       "      <td>-4.000000e+00</td>\n",
       "      <td>9.2</td>\n",
       "      <td>20190</td>\n",
       "    </tr>\n",
       "    <tr>\n",
       "      <th>5</th>\n",
       "      <td>30</td>\n",
       "      <td>Cleveland Cavaliers</td>\n",
       "      <td>25.2</td>\n",
       "      <td>19</td>\n",
       "      <td>63</td>\n",
       "      <td>-9.61</td>\n",
       "      <td>0.22</td>\n",
       "      <td>107.7</td>\n",
       "      <td>117.6</td>\n",
       "      <td>-9.9</td>\n",
       "      <td>...</td>\n",
       "      <td>194.1</td>\n",
       "      <td>13.8</td>\n",
       "      <td>2.5</td>\n",
       "      <td>16.4</td>\n",
       "      <td>0.576</td>\n",
       "      <td>-3.8</td>\n",
       "      <td>-1.590000e+01</td>\n",
       "      <td>-1.980000e+01</td>\n",
       "      <td>0.0</td>\n",
       "      <td>20190</td>\n",
       "    </tr>\n",
       "    <tr>\n",
       "      <th>6</th>\n",
       "      <td>19</td>\n",
       "      <td>Dallas Mavericks</td>\n",
       "      <td>26.9</td>\n",
       "      <td>33</td>\n",
       "      <td>49</td>\n",
       "      <td>-1.28</td>\n",
       "      <td>0.42</td>\n",
       "      <td>109.4</td>\n",
       "      <td>110.7</td>\n",
       "      <td>-1.3</td>\n",
       "      <td>...</td>\n",
       "      <td>193.1</td>\n",
       "      <td>16.4</td>\n",
       "      <td>15.7</td>\n",
       "      <td>32.5</td>\n",
       "      <td>0.948</td>\n",
       "      <td>-3.3</td>\n",
       "      <td>2.300000e+00</td>\n",
       "      <td>-1.000000e+00</td>\n",
       "      <td>8.6</td>\n",
       "      <td>20190</td>\n",
       "    </tr>\n",
       "    <tr>\n",
       "      <th>7</th>\n",
       "      <td>7</td>\n",
       "      <td>Denver Nuggets*</td>\n",
       "      <td>24.9</td>\n",
       "      <td>54</td>\n",
       "      <td>28</td>\n",
       "      <td>3.95</td>\n",
       "      <td>0.24</td>\n",
       "      <td>113.0</td>\n",
       "      <td>108.9</td>\n",
       "      <td>4.1</td>\n",
       "      <td>...</td>\n",
       "      <td>188.5</td>\n",
       "      <td>27.9</td>\n",
       "      <td>21.5</td>\n",
       "      <td>49.3</td>\n",
       "      <td>1.233</td>\n",
       "      <td>4.5</td>\n",
       "      <td>4.100000e+00</td>\n",
       "      <td>8.700000e+00</td>\n",
       "      <td>15.4</td>\n",
       "      <td>20190</td>\n",
       "    </tr>\n",
       "    <tr>\n",
       "      <th>8</th>\n",
       "      <td>17</td>\n",
       "      <td>Detroit Pistons*</td>\n",
       "      <td>26.9</td>\n",
       "      <td>41</td>\n",
       "      <td>41</td>\n",
       "      <td>-0.24</td>\n",
       "      <td>-0.31</td>\n",
       "      <td>109.0</td>\n",
       "      <td>109.2</td>\n",
       "      <td>-0.2</td>\n",
       "      <td>...</td>\n",
       "      <td>194.0</td>\n",
       "      <td>17.9</td>\n",
       "      <td>19.7</td>\n",
       "      <td>37.5</td>\n",
       "      <td>0.970</td>\n",
       "      <td>-5.6</td>\n",
       "      <td>2.000000e+00</td>\n",
       "      <td>-3.700000e+00</td>\n",
       "      <td>9.6</td>\n",
       "      <td>20190</td>\n",
       "    </tr>\n",
       "    <tr>\n",
       "      <th>9</th>\n",
       "      <td>2</td>\n",
       "      <td>Golden State Warriors*</td>\n",
       "      <td>28.4</td>\n",
       "      <td>57</td>\n",
       "      <td>25</td>\n",
       "      <td>6.46</td>\n",
       "      <td>-0.04</td>\n",
       "      <td>115.9</td>\n",
       "      <td>109.5</td>\n",
       "      <td>6.4</td>\n",
       "      <td>...</td>\n",
       "      <td>182.6</td>\n",
       "      <td>31.9</td>\n",
       "      <td>18.3</td>\n",
       "      <td>50.2</td>\n",
       "      <td>1.334</td>\n",
       "      <td>7.8</td>\n",
       "      <td>4.000000e-01</td>\n",
       "      <td>8.200000e+00</td>\n",
       "      <td>15.8</td>\n",
       "      <td>20190</td>\n",
       "    </tr>\n",
       "    <tr>\n",
       "      <th>10</th>\n",
       "      <td>5</td>\n",
       "      <td>Houston Rockets*</td>\n",
       "      <td>29.2</td>\n",
       "      <td>53</td>\n",
       "      <td>29</td>\n",
       "      <td>4.77</td>\n",
       "      <td>0.19</td>\n",
       "      <td>115.5</td>\n",
       "      <td>110.7</td>\n",
       "      <td>4.8</td>\n",
       "      <td>...</td>\n",
       "      <td>183.0</td>\n",
       "      <td>32.3</td>\n",
       "      <td>16.8</td>\n",
       "      <td>49.0</td>\n",
       "      <td>1.208</td>\n",
       "      <td>9.2</td>\n",
       "      <td>-8.000000e-01</td>\n",
       "      <td>8.400000e+00</td>\n",
       "      <td>16.7</td>\n",
       "      <td>20190</td>\n",
       "    </tr>\n",
       "    <tr>\n",
       "      <th>11</th>\n",
       "      <td>10</td>\n",
       "      <td>Indiana Pacers*</td>\n",
       "      <td>27.0</td>\n",
       "      <td>48</td>\n",
       "      <td>34</td>\n",
       "      <td>3.33</td>\n",
       "      <td>-0.57</td>\n",
       "      <td>109.9</td>\n",
       "      <td>106.5</td>\n",
       "      <td>3.4</td>\n",
       "      <td>...</td>\n",
       "      <td>201.7</td>\n",
       "      <td>18.3</td>\n",
       "      <td>25.9</td>\n",
       "      <td>44.4</td>\n",
       "      <td>1.111</td>\n",
       "      <td>-0.8</td>\n",
       "      <td>6.500000e+00</td>\n",
       "      <td>5.600000e+00</td>\n",
       "      <td>13.0</td>\n",
       "      <td>20190</td>\n",
       "    </tr>\n",
       "    <tr>\n",
       "      <th>12</th>\n",
       "      <td>13</td>\n",
       "      <td>Los Angeles Clippers*</td>\n",
       "      <td>27.2</td>\n",
       "      <td>48</td>\n",
       "      <td>34</td>\n",
       "      <td>0.85</td>\n",
       "      <td>0.23</td>\n",
       "      <td>112.4</td>\n",
       "      <td>111.5</td>\n",
       "      <td>0.9</td>\n",
       "      <td>...</td>\n",
       "      <td>192.2</td>\n",
       "      <td>24.7</td>\n",
       "      <td>13.7</td>\n",
       "      <td>38.5</td>\n",
       "      <td>1.043</td>\n",
       "      <td>6.8</td>\n",
       "      <td>-2.600000e+00</td>\n",
       "      <td>4.000000e+00</td>\n",
       "      <td>12.0</td>\n",
       "      <td>20190</td>\n",
       "    </tr>\n",
       "    <tr>\n",
       "      <th>13</th>\n",
       "      <td>23</td>\n",
       "      <td>Los Angeles Lakers</td>\n",
       "      <td>26.2</td>\n",
       "      <td>37</td>\n",
       "      <td>45</td>\n",
       "      <td>-1.72</td>\n",
       "      <td>0.39</td>\n",
       "      <td>107.8</td>\n",
       "      <td>109.5</td>\n",
       "      <td>-1.7</td>\n",
       "      <td>...</td>\n",
       "      <td>193.0</td>\n",
       "      <td>12.4</td>\n",
       "      <td>18.0</td>\n",
       "      <td>30.2</td>\n",
       "      <td>0.889</td>\n",
       "      <td>-5.0</td>\n",
       "      <td>4.400000e+00</td>\n",
       "      <td>-9.000000e-01</td>\n",
       "      <td>8.7</td>\n",
       "      <td>20190</td>\n",
       "    </tr>\n",
       "    <tr>\n",
       "      <th>14</th>\n",
       "      <td>24</td>\n",
       "      <td>Memphis Grizzlies</td>\n",
       "      <td>27.7</td>\n",
       "      <td>33</td>\n",
       "      <td>49</td>\n",
       "      <td>-2.60</td>\n",
       "      <td>0.51</td>\n",
       "      <td>106.1</td>\n",
       "      <td>108.8</td>\n",
       "      <td>-2.7</td>\n",
       "      <td>...</td>\n",
       "      <td>188.7</td>\n",
       "      <td>10.2</td>\n",
       "      <td>16.4</td>\n",
       "      <td>26.7</td>\n",
       "      <td>0.900</td>\n",
       "      <td>-8.7</td>\n",
       "      <td>6.900000e+00</td>\n",
       "      <td>-1.900000e+00</td>\n",
       "      <td>7.8</td>\n",
       "      <td>20190</td>\n",
       "    </tr>\n",
       "    <tr>\n",
       "      <th>15</th>\n",
       "      <td>16</td>\n",
       "      <td>Miami Heat</td>\n",
       "      <td>27.0</td>\n",
       "      <td>39</td>\n",
       "      <td>43</td>\n",
       "      <td>-0.23</td>\n",
       "      <td>-0.22</td>\n",
       "      <td>107.3</td>\n",
       "      <td>107.6</td>\n",
       "      <td>-0.3</td>\n",
       "      <td>...</td>\n",
       "      <td>195.9</td>\n",
       "      <td>13.0</td>\n",
       "      <td>23.3</td>\n",
       "      <td>36.1</td>\n",
       "      <td>1.005</td>\n",
       "      <td>-6.5</td>\n",
       "      <td>6.400000e+00</td>\n",
       "      <td>-2.220446e-16</td>\n",
       "      <td>9.0</td>\n",
       "      <td>20190</td>\n",
       "    </tr>\n",
       "    <tr>\n",
       "      <th>16</th>\n",
       "      <td>1</td>\n",
       "      <td>Milwaukee Bucks*</td>\n",
       "      <td>26.9</td>\n",
       "      <td>60</td>\n",
       "      <td>22</td>\n",
       "      <td>8.87</td>\n",
       "      <td>-0.82</td>\n",
       "      <td>113.8</td>\n",
       "      <td>105.2</td>\n",
       "      <td>8.6</td>\n",
       "      <td>...</td>\n",
       "      <td>189.2</td>\n",
       "      <td>28.8</td>\n",
       "      <td>27.6</td>\n",
       "      <td>56.4</td>\n",
       "      <td>1.497</td>\n",
       "      <td>4.1</td>\n",
       "      <td>9.900000e+00</td>\n",
       "      <td>1.420000e+01</td>\n",
       "      <td>17.9</td>\n",
       "      <td>20190</td>\n",
       "    </tr>\n",
       "    <tr>\n",
       "      <th>17</th>\n",
       "      <td>20</td>\n",
       "      <td>Minnesota Timberwolves</td>\n",
       "      <td>26.2</td>\n",
       "      <td>36</td>\n",
       "      <td>46</td>\n",
       "      <td>-1.50</td>\n",
       "      <td>0.48</td>\n",
       "      <td>111.4</td>\n",
       "      <td>112.9</td>\n",
       "      <td>-1.5</td>\n",
       "      <td>...</td>\n",
       "      <td>196.5</td>\n",
       "      <td>21.1</td>\n",
       "      <td>11.7</td>\n",
       "      <td>32.8</td>\n",
       "      <td>0.948</td>\n",
       "      <td>2.5</td>\n",
       "      <td>-4.900000e+00</td>\n",
       "      <td>-2.400000e+00</td>\n",
       "      <td>8.2</td>\n",
       "      <td>20190</td>\n",
       "    </tr>\n",
       "    <tr>\n",
       "      <th>18</th>\n",
       "      <td>21</td>\n",
       "      <td>New Orleans Pelicans</td>\n",
       "      <td>25.7</td>\n",
       "      <td>33</td>\n",
       "      <td>49</td>\n",
       "      <td>-1.33</td>\n",
       "      <td>0.23</td>\n",
       "      <td>111.4</td>\n",
       "      <td>112.6</td>\n",
       "      <td>-1.2</td>\n",
       "      <td>...</td>\n",
       "      <td>201.7</td>\n",
       "      <td>18.4</td>\n",
       "      <td>11.3</td>\n",
       "      <td>29.5</td>\n",
       "      <td>0.827</td>\n",
       "      <td>-0.8</td>\n",
       "      <td>-5.000000e+00</td>\n",
       "      <td>-5.800000e+00</td>\n",
       "      <td>8.6</td>\n",
       "      <td>20190</td>\n",
       "    </tr>\n",
       "    <tr>\n",
       "      <th>19</th>\n",
       "      <td>29</td>\n",
       "      <td>New York Knicks</td>\n",
       "      <td>23.4</td>\n",
       "      <td>17</td>\n",
       "      <td>65</td>\n",
       "      <td>-9.21</td>\n",
       "      <td>0.28</td>\n",
       "      <td>104.5</td>\n",
       "      <td>113.7</td>\n",
       "      <td>-9.2</td>\n",
       "      <td>...</td>\n",
       "      <td>200.3</td>\n",
       "      <td>5.5</td>\n",
       "      <td>9.8</td>\n",
       "      <td>15.2</td>\n",
       "      <td>0.510</td>\n",
       "      <td>-13.8</td>\n",
       "      <td>-8.200000e+00</td>\n",
       "      <td>-2.220000e+01</td>\n",
       "      <td>-0.9</td>\n",
       "      <td>20190</td>\n",
       "    </tr>\n",
       "    <tr>\n",
       "      <th>20</th>\n",
       "      <td>9</td>\n",
       "      <td>Oklahoma City Thunder*</td>\n",
       "      <td>25.7</td>\n",
       "      <td>49</td>\n",
       "      <td>33</td>\n",
       "      <td>3.40</td>\n",
       "      <td>0.15</td>\n",
       "      <td>110.3</td>\n",
       "      <td>107.0</td>\n",
       "      <td>3.3</td>\n",
       "      <td>...</td>\n",
       "      <td>180.1</td>\n",
       "      <td>21.7</td>\n",
       "      <td>26.1</td>\n",
       "      <td>47.7</td>\n",
       "      <td>1.129</td>\n",
       "      <td>-7.0</td>\n",
       "      <td>8.000000e+00</td>\n",
       "      <td>1.000000e+00</td>\n",
       "      <td>14.6</td>\n",
       "      <td>20190</td>\n",
       "    </tr>\n",
       "    <tr>\n",
       "      <th>21</th>\n",
       "      <td>14</td>\n",
       "      <td>Orlando Magic*</td>\n",
       "      <td>25.7</td>\n",
       "      <td>42</td>\n",
       "      <td>40</td>\n",
       "      <td>0.71</td>\n",
       "      <td>-0.43</td>\n",
       "      <td>108.9</td>\n",
       "      <td>108.1</td>\n",
       "      <td>0.8</td>\n",
       "      <td>...</td>\n",
       "      <td>192.6</td>\n",
       "      <td>15.9</td>\n",
       "      <td>22.8</td>\n",
       "      <td>38.7</td>\n",
       "      <td>0.938</td>\n",
       "      <td>-9.8</td>\n",
       "      <td>4.200000e+00</td>\n",
       "      <td>-5.700000e+00</td>\n",
       "      <td>9.7</td>\n",
       "      <td>20190</td>\n",
       "    </tr>\n",
       "    <tr>\n",
       "      <th>22</th>\n",
       "      <td>11</td>\n",
       "      <td>Philadelphia 76ers*</td>\n",
       "      <td>26.4</td>\n",
       "      <td>51</td>\n",
       "      <td>31</td>\n",
       "      <td>2.70</td>\n",
       "      <td>-0.44</td>\n",
       "      <td>112.6</td>\n",
       "      <td>110.0</td>\n",
       "      <td>2.6</td>\n",
       "      <td>...</td>\n",
       "      <td>194.1</td>\n",
       "      <td>24.4</td>\n",
       "      <td>16.5</td>\n",
       "      <td>41.1</td>\n",
       "      <td>1.165</td>\n",
       "      <td>4.7</td>\n",
       "      <td>-1.100000e+00</td>\n",
       "      <td>3.600000e+00</td>\n",
       "      <td>12.3</td>\n",
       "      <td>20190</td>\n",
       "    </tr>\n",
       "    <tr>\n",
       "      <th>23</th>\n",
       "      <td>28</td>\n",
       "      <td>Phoenix Suns</td>\n",
       "      <td>24.0</td>\n",
       "      <td>19</td>\n",
       "      <td>63</td>\n",
       "      <td>-9.34</td>\n",
       "      <td>0.73</td>\n",
       "      <td>105.9</td>\n",
       "      <td>115.1</td>\n",
       "      <td>-9.2</td>\n",
       "      <td>...</td>\n",
       "      <td>208.3</td>\n",
       "      <td>10.1</td>\n",
       "      <td>7.7</td>\n",
       "      <td>17.9</td>\n",
       "      <td>0.504</td>\n",
       "      <td>-8.4</td>\n",
       "      <td>-8.800000e+00</td>\n",
       "      <td>-1.730000e+01</td>\n",
       "      <td>2.1</td>\n",
       "      <td>20190</td>\n",
       "    </tr>\n",
       "    <tr>\n",
       "      <th>24</th>\n",
       "      <td>6</td>\n",
       "      <td>Portland Trail Blazers*</td>\n",
       "      <td>26.2</td>\n",
       "      <td>53</td>\n",
       "      <td>29</td>\n",
       "      <td>4.20</td>\n",
       "      <td>0.24</td>\n",
       "      <td>114.7</td>\n",
       "      <td>110.5</td>\n",
       "      <td>4.2</td>\n",
       "      <td>...</td>\n",
       "      <td>186.9</td>\n",
       "      <td>30.0</td>\n",
       "      <td>18.1</td>\n",
       "      <td>48.1</td>\n",
       "      <td>1.264</td>\n",
       "      <td>7.6</td>\n",
       "      <td>2.800000e+00</td>\n",
       "      <td>1.030000e+01</td>\n",
       "      <td>15.3</td>\n",
       "      <td>20190</td>\n",
       "    </tr>\n",
       "    <tr>\n",
       "      <th>25</th>\n",
       "      <td>18</td>\n",
       "      <td>Sacramento Kings</td>\n",
       "      <td>24.8</td>\n",
       "      <td>39</td>\n",
       "      <td>43</td>\n",
       "      <td>-1.12</td>\n",
       "      <td>0.31</td>\n",
       "      <td>110.4</td>\n",
       "      <td>111.5</td>\n",
       "      <td>-1.1</td>\n",
       "      <td>...</td>\n",
       "      <td>190.8</td>\n",
       "      <td>21.0</td>\n",
       "      <td>14.5</td>\n",
       "      <td>35.4</td>\n",
       "      <td>0.956</td>\n",
       "      <td>1.1</td>\n",
       "      <td>-3.200000e+00</td>\n",
       "      <td>-2.200000e+00</td>\n",
       "      <td>9.7</td>\n",
       "      <td>20190</td>\n",
       "    </tr>\n",
       "    <tr>\n",
       "      <th>26</th>\n",
       "      <td>12</td>\n",
       "      <td>San Antonio Spurs*</td>\n",
       "      <td>28.8</td>\n",
       "      <td>48</td>\n",
       "      <td>34</td>\n",
       "      <td>1.68</td>\n",
       "      <td>0.12</td>\n",
       "      <td>112.9</td>\n",
       "      <td>111.2</td>\n",
       "      <td>1.7</td>\n",
       "      <td>...</td>\n",
       "      <td>186.4</td>\n",
       "      <td>27.1</td>\n",
       "      <td>17.2</td>\n",
       "      <td>44.4</td>\n",
       "      <td>1.134</td>\n",
       "      <td>4.5</td>\n",
       "      <td>1.110223e-16</td>\n",
       "      <td>4.700000e+00</td>\n",
       "      <td>12.1</td>\n",
       "      <td>20190</td>\n",
       "    </tr>\n",
       "    <tr>\n",
       "      <th>27</th>\n",
       "      <td>3</td>\n",
       "      <td>Toronto Raptors*</td>\n",
       "      <td>27.3</td>\n",
       "      <td>58</td>\n",
       "      <td>24</td>\n",
       "      <td>6.09</td>\n",
       "      <td>-0.60</td>\n",
       "      <td>113.1</td>\n",
       "      <td>107.1</td>\n",
       "      <td>6.0</td>\n",
       "      <td>...</td>\n",
       "      <td>193.5</td>\n",
       "      <td>26.8</td>\n",
       "      <td>23.7</td>\n",
       "      <td>50.5</td>\n",
       "      <td>1.386</td>\n",
       "      <td>8.0</td>\n",
       "      <td>8.200000e+00</td>\n",
       "      <td>1.610000e+01</td>\n",
       "      <td>16.3</td>\n",
       "      <td>20190</td>\n",
       "    </tr>\n",
       "    <tr>\n",
       "      <th>28</th>\n",
       "      <td>4</td>\n",
       "      <td>Utah Jazz*</td>\n",
       "      <td>27.3</td>\n",
       "      <td>50</td>\n",
       "      <td>32</td>\n",
       "      <td>5.26</td>\n",
       "      <td>0.03</td>\n",
       "      <td>110.9</td>\n",
       "      <td>105.7</td>\n",
       "      <td>5.2</td>\n",
       "      <td>...</td>\n",
       "      <td>192.0</td>\n",
       "      <td>21.0</td>\n",
       "      <td>28.1</td>\n",
       "      <td>49.2</td>\n",
       "      <td>1.249</td>\n",
       "      <td>-1.6</td>\n",
       "      <td>1.170000e+01</td>\n",
       "      <td>1.000000e+01</td>\n",
       "      <td>15.2</td>\n",
       "      <td>20190</td>\n",
       "    </tr>\n",
       "    <tr>\n",
       "      <th>29</th>\n",
       "      <td>25</td>\n",
       "      <td>Washington Wizards</td>\n",
       "      <td>26.5</td>\n",
       "      <td>32</td>\n",
       "      <td>50</td>\n",
       "      <td>-2.90</td>\n",
       "      <td>-0.40</td>\n",
       "      <td>111.1</td>\n",
       "      <td>113.9</td>\n",
       "      <td>-2.8</td>\n",
       "      <td>...</td>\n",
       "      <td>206.8</td>\n",
       "      <td>20.3</td>\n",
       "      <td>9.0</td>\n",
       "      <td>29.3</td>\n",
       "      <td>0.845</td>\n",
       "      <td>3.6</td>\n",
       "      <td>-9.100000e+00</td>\n",
       "      <td>-5.500000e+00</td>\n",
       "      <td>7.4</td>\n",
       "      <td>20190</td>\n",
       "    </tr>\n",
       "  </tbody>\n",
       "</table>\n",
       "<p>30 rows × 68 columns</p>\n",
       "</div>"
      ],
      "text/plain": [
       "    Rk                     Team   Age   W   L   MOV   SOS   ORtg   DRtg  NRtg  \\\n",
       "0   26            Atlanta Hawks  25.1  29  53 -6.02 -0.04  108.1  113.9  -5.8   \n",
       "1    8          Boston Celtics*  25.7  49  33  4.44 -0.54  112.2  107.8   4.4   \n",
       "2   15           Brooklyn Nets*  25.4  42  40 -0.07 -0.33  109.6  109.7  -0.1   \n",
       "3   22        Charlotte Hornets  26.6  39  43 -1.10 -0.22  111.4  112.5  -1.1   \n",
       "4   27            Chicago Bulls  24.0  22  60 -8.41  0.10  104.8  113.2  -8.4   \n",
       "5   30      Cleveland Cavaliers  25.2  19  63 -9.61  0.22  107.7  117.6  -9.9   \n",
       "6   19         Dallas Mavericks  26.9  33  49 -1.28  0.42  109.4  110.7  -1.3   \n",
       "7    7          Denver Nuggets*  24.9  54  28  3.95  0.24  113.0  108.9   4.1   \n",
       "8   17         Detroit Pistons*  26.9  41  41 -0.24 -0.31  109.0  109.2  -0.2   \n",
       "9    2   Golden State Warriors*  28.4  57  25  6.46 -0.04  115.9  109.5   6.4   \n",
       "10   5         Houston Rockets*  29.2  53  29  4.77  0.19  115.5  110.7   4.8   \n",
       "11  10          Indiana Pacers*  27.0  48  34  3.33 -0.57  109.9  106.5   3.4   \n",
       "12  13    Los Angeles Clippers*  27.2  48  34  0.85  0.23  112.4  111.5   0.9   \n",
       "13  23       Los Angeles Lakers  26.2  37  45 -1.72  0.39  107.8  109.5  -1.7   \n",
       "14  24        Memphis Grizzlies  27.7  33  49 -2.60  0.51  106.1  108.8  -2.7   \n",
       "15  16               Miami Heat  27.0  39  43 -0.23 -0.22  107.3  107.6  -0.3   \n",
       "16   1         Milwaukee Bucks*  26.9  60  22  8.87 -0.82  113.8  105.2   8.6   \n",
       "17  20   Minnesota Timberwolves  26.2  36  46 -1.50  0.48  111.4  112.9  -1.5   \n",
       "18  21     New Orleans Pelicans  25.7  33  49 -1.33  0.23  111.4  112.6  -1.2   \n",
       "19  29          New York Knicks  23.4  17  65 -9.21  0.28  104.5  113.7  -9.2   \n",
       "20   9   Oklahoma City Thunder*  25.7  49  33  3.40  0.15  110.3  107.0   3.3   \n",
       "21  14           Orlando Magic*  25.7  42  40  0.71 -0.43  108.9  108.1   0.8   \n",
       "22  11      Philadelphia 76ers*  26.4  51  31  2.70 -0.44  112.6  110.0   2.6   \n",
       "23  28             Phoenix Suns  24.0  19  63 -9.34  0.73  105.9  115.1  -9.2   \n",
       "24   6  Portland Trail Blazers*  26.2  53  29  4.20  0.24  114.7  110.5   4.2   \n",
       "25  18         Sacramento Kings  24.8  39  43 -1.12  0.31  110.4  111.5  -1.1   \n",
       "26  12       San Antonio Spurs*  28.8  48  34  1.68  0.12  112.9  111.2   1.7   \n",
       "27   3         Toronto Raptors*  27.3  58  24  6.09 -0.60  113.1  107.1   6.0   \n",
       "28   4               Utah Jazz*  27.3  50  32  5.26  0.03  110.9  105.7   5.2   \n",
       "29  25       Washington Wizards  26.5  32  50 -2.90 -0.40  111.1  113.9  -2.8   \n",
       "\n",
       "    ...   USG%   OWS   DWS    WS  WS/48  OBPM          DBPM           BPM  \\\n",
       "0   ...  204.6  14.4  10.2  24.9  0.725  -3.7 -7.300000e+00 -1.080000e+01   \n",
       "1   ...  196.8  24.4  24.2  48.4  1.310   3.0  6.200000e+00  9.000000e+00   \n",
       "2   ...  187.8  18.9  18.5  37.1  0.999  -6.3  1.200000e+00 -5.200000e+00   \n",
       "3   ...  199.8   7.1  10.4  17.2  0.513 -13.0 -3.900000e+00 -1.710000e+01   \n",
       "4   ...  201.4  20.2  13.0  33.3  0.940   1.0 -4.800000e+00 -4.000000e+00   \n",
       "5   ...  194.1  13.8   2.5  16.4  0.576  -3.8 -1.590000e+01 -1.980000e+01   \n",
       "6   ...  193.1  16.4  15.7  32.5  0.948  -3.3  2.300000e+00 -1.000000e+00   \n",
       "7   ...  188.5  27.9  21.5  49.3  1.233   4.5  4.100000e+00  8.700000e+00   \n",
       "8   ...  194.0  17.9  19.7  37.5  0.970  -5.6  2.000000e+00 -3.700000e+00   \n",
       "9   ...  182.6  31.9  18.3  50.2  1.334   7.8  4.000000e-01  8.200000e+00   \n",
       "10  ...  183.0  32.3  16.8  49.0  1.208   9.2 -8.000000e-01  8.400000e+00   \n",
       "11  ...  201.7  18.3  25.9  44.4  1.111  -0.8  6.500000e+00  5.600000e+00   \n",
       "12  ...  192.2  24.7  13.7  38.5  1.043   6.8 -2.600000e+00  4.000000e+00   \n",
       "13  ...  193.0  12.4  18.0  30.2  0.889  -5.0  4.400000e+00 -9.000000e-01   \n",
       "14  ...  188.7  10.2  16.4  26.7  0.900  -8.7  6.900000e+00 -1.900000e+00   \n",
       "15  ...  195.9  13.0  23.3  36.1  1.005  -6.5  6.400000e+00 -2.220446e-16   \n",
       "16  ...  189.2  28.8  27.6  56.4  1.497   4.1  9.900000e+00  1.420000e+01   \n",
       "17  ...  196.5  21.1  11.7  32.8  0.948   2.5 -4.900000e+00 -2.400000e+00   \n",
       "18  ...  201.7  18.4  11.3  29.5  0.827  -0.8 -5.000000e+00 -5.800000e+00   \n",
       "19  ...  200.3   5.5   9.8  15.2  0.510 -13.8 -8.200000e+00 -2.220000e+01   \n",
       "20  ...  180.1  21.7  26.1  47.7  1.129  -7.0  8.000000e+00  1.000000e+00   \n",
       "21  ...  192.6  15.9  22.8  38.7  0.938  -9.8  4.200000e+00 -5.700000e+00   \n",
       "22  ...  194.1  24.4  16.5  41.1  1.165   4.7 -1.100000e+00  3.600000e+00   \n",
       "23  ...  208.3  10.1   7.7  17.9  0.504  -8.4 -8.800000e+00 -1.730000e+01   \n",
       "24  ...  186.9  30.0  18.1  48.1  1.264   7.6  2.800000e+00  1.030000e+01   \n",
       "25  ...  190.8  21.0  14.5  35.4  0.956   1.1 -3.200000e+00 -2.200000e+00   \n",
       "26  ...  186.4  27.1  17.2  44.4  1.134   4.5  1.110223e-16  4.700000e+00   \n",
       "27  ...  193.5  26.8  23.7  50.5  1.386   8.0  8.200000e+00  1.610000e+01   \n",
       "28  ...  192.0  21.0  28.1  49.2  1.249  -1.6  1.170000e+01  1.000000e+01   \n",
       "29  ...  206.8  20.3   9.0  29.3  0.845   3.6 -9.100000e+00 -5.500000e+00   \n",
       "\n",
       "    VORP   year  \n",
       "0    3.8  20190  \n",
       "1   14.6  20190  \n",
       "2    8.4  20190  \n",
       "3    2.0  20190  \n",
       "4    9.2  20190  \n",
       "5    0.0  20190  \n",
       "6    8.6  20190  \n",
       "7   15.4  20190  \n",
       "8    9.6  20190  \n",
       "9   15.8  20190  \n",
       "10  16.7  20190  \n",
       "11  13.0  20190  \n",
       "12  12.0  20190  \n",
       "13   8.7  20190  \n",
       "14   7.8  20190  \n",
       "15   9.0  20190  \n",
       "16  17.9  20190  \n",
       "17   8.2  20190  \n",
       "18   8.6  20190  \n",
       "19  -0.9  20190  \n",
       "20  14.6  20190  \n",
       "21   9.7  20190  \n",
       "22  12.3  20190  \n",
       "23   2.1  20190  \n",
       "24  15.3  20190  \n",
       "25   9.7  20190  \n",
       "26  12.1  20190  \n",
       "27  16.3  20190  \n",
       "28  15.2  20190  \n",
       "29   7.4  20190  \n",
       "\n",
       "[30 rows x 68 columns]"
      ]
     },
     "execution_count": 207,
     "metadata": {},
     "output_type": "execute_result"
    }
   ],
   "source": [
    "pd.concat([nba_2019_teams, players_2019], axis = 1)"
   ]
  },
  {
   "cell_type": "code",
   "execution_count": null,
   "metadata": {},
   "outputs": [],
   "source": []
  },
  {
   "cell_type": "code",
   "execution_count": 152,
   "metadata": {},
   "outputs": [],
   "source": [
    "nba_2018_teams = pd.read_csv('nba_2018_teams.csv', index_col = 0).sort_values('Team', ascending = True)"
   ]
  },
  {
   "cell_type": "code",
   "execution_count": null,
   "metadata": {},
   "outputs": [],
   "source": [
    "pd.concat([nba_2018_teams, players_2018], axis = 1)"
   ]
  },
  {
   "cell_type": "code",
   "execution_count": null,
   "metadata": {},
   "outputs": [],
   "source": []
  },
  {
   "cell_type": "code",
   "execution_count": 153,
   "metadata": {},
   "outputs": [],
   "source": [
    "nba_2017_teams = pd.read_csv('nba_2017_teams.csv', index_col = 0).sort_values('Team', ascending = True)"
   ]
  },
  {
   "cell_type": "code",
   "execution_count": null,
   "metadata": {},
   "outputs": [],
   "source": [
    "pd.concat([nba_2017_teams, players_2017], axis = 1)"
   ]
  },
  {
   "cell_type": "code",
   "execution_count": null,
   "metadata": {},
   "outputs": [],
   "source": []
  },
  {
   "cell_type": "code",
   "execution_count": 154,
   "metadata": {},
   "outputs": [],
   "source": [
    "nba_2016_teams = pd.read_csv('nba_2016_teams.csv', index_col = 0).sort_values('Team', ascending = True)"
   ]
  },
  {
   "cell_type": "code",
   "execution_count": null,
   "metadata": {},
   "outputs": [],
   "source": [
    "pd.concat([nba_2016_teams, players_2016], axis = 1)"
   ]
  },
  {
   "cell_type": "code",
   "execution_count": null,
   "metadata": {},
   "outputs": [],
   "source": []
  },
  {
   "cell_type": "code",
   "execution_count": 155,
   "metadata": {},
   "outputs": [],
   "source": [
    "nba_2015_teams = pd.read_csv('nba_2015_teams.csv', index_col = 0).sort_values('Team', ascending = True)"
   ]
  },
  {
   "cell_type": "code",
   "execution_count": null,
   "metadata": {},
   "outputs": [],
   "source": [
    "pd.concat([nba_2015_teams, players_2015], axis = 1)"
   ]
  },
  {
   "cell_type": "code",
   "execution_count": null,
   "metadata": {},
   "outputs": [],
   "source": []
  },
  {
   "cell_type": "code",
   "execution_count": 156,
   "metadata": {},
   "outputs": [],
   "source": [
    "nba_2014_teams = pd.read_csv('nba_2014_teams.csv', index_col = 0).sort_values('Team', ascending = True)"
   ]
  },
  {
   "cell_type": "code",
   "execution_count": null,
   "metadata": {},
   "outputs": [],
   "source": [
    "pd.concat([nba_2014_teams, players_2014], axis = 1)"
   ]
  },
  {
   "cell_type": "code",
   "execution_count": null,
   "metadata": {},
   "outputs": [],
   "source": []
  },
  {
   "cell_type": "code",
   "execution_count": null,
   "metadata": {},
   "outputs": [],
   "source": []
  },
  {
   "cell_type": "code",
   "execution_count": null,
   "metadata": {},
   "outputs": [],
   "source": []
  },
  {
   "cell_type": "code",
   "execution_count": null,
   "metadata": {},
   "outputs": [],
   "source": []
  },
  {
   "cell_type": "code",
   "execution_count": null,
   "metadata": {},
   "outputs": [],
   "source": []
  },
  {
   "cell_type": "code",
   "execution_count": null,
   "metadata": {},
   "outputs": [],
   "source": []
  },
  {
   "cell_type": "code",
   "execution_count": null,
   "metadata": {},
   "outputs": [],
   "source": []
  },
  {
   "cell_type": "markdown",
   "metadata": {},
   "source": [
    "# Attempt at adding Coaches"
   ]
  },
  {
   "cell_type": "markdown",
   "metadata": {},
   "source": [
    " Coaches record up to and including 2018-19 season"
   ]
  },
  {
   "cell_type": "code",
   "execution_count": 116,
   "metadata": {},
   "outputs": [],
   "source": [
    "nba_coaches_2019 = pd.read_html('https://www.basketball-reference.com/leagues/NBA_2019_coaches.html')"
   ]
  },
  {
   "cell_type": "code",
   "execution_count": 117,
   "metadata": {},
   "outputs": [],
   "source": [
    "nba_2019_coaches = nba_coaches_2019[0]"
   ]
  },
  {
   "cell_type": "code",
   "execution_count": 118,
   "metadata": {},
   "outputs": [],
   "source": [
    "nba_2019_coaches.columns = nba_2019_coaches.columns.droplevel()\n",
    "nba_2019_coaches.columns = nba_2019_coaches.columns.droplevel()"
   ]
  },
  {
   "cell_type": "code",
   "execution_count": 119,
   "metadata": {},
   "outputs": [],
   "source": [
    "nba_2019_coaches = nba_2019_coaches[['Coach', 'Tm','W%']]"
   ]
  },
  {
   "cell_type": "code",
   "execution_count": null,
   "metadata": {},
   "outputs": [],
   "source": []
  },
  {
   "cell_type": "markdown",
   "metadata": {},
   "source": [
    " Coaches record up to and including 2017-18 season"
   ]
  },
  {
   "cell_type": "code",
   "execution_count": 120,
   "metadata": {},
   "outputs": [],
   "source": [
    "nba_coaches_2018 = pd.read_html('https://www.basketball-reference.com/leagues/NBA_2018_coaches.html')"
   ]
  },
  {
   "cell_type": "code",
   "execution_count": 121,
   "metadata": {},
   "outputs": [],
   "source": [
    "nba_2018_coaches = nba_coaches_2018[0]"
   ]
  },
  {
   "cell_type": "code",
   "execution_count": 122,
   "metadata": {},
   "outputs": [],
   "source": [
    "nba_2018_coaches.columns = nba_2018_coaches.columns.droplevel()\n",
    "nba_2018_coaches.columns = nba_2018_coaches.columns.droplevel()"
   ]
  },
  {
   "cell_type": "code",
   "execution_count": 123,
   "metadata": {},
   "outputs": [],
   "source": [
    "nba_2018_coaches = nba_2018_coaches[['Coach', 'Tm','W%']]"
   ]
  },
  {
   "cell_type": "code",
   "execution_count": null,
   "metadata": {},
   "outputs": [],
   "source": []
  },
  {
   "cell_type": "markdown",
   "metadata": {},
   "source": [
    " Coaches record up to and including 2016-17 season"
   ]
  },
  {
   "cell_type": "code",
   "execution_count": 124,
   "metadata": {},
   "outputs": [],
   "source": [
    "nba_coaches_2017 = pd.read_html('https://www.basketball-reference.com/leagues/NBA_2017_coaches.html')"
   ]
  },
  {
   "cell_type": "code",
   "execution_count": 125,
   "metadata": {},
   "outputs": [],
   "source": [
    "nba_2017_coaches = nba_coaches_2017[0]"
   ]
  },
  {
   "cell_type": "code",
   "execution_count": 126,
   "metadata": {},
   "outputs": [],
   "source": [
    "nba_2017_coaches.columns = nba_2017_coaches.columns.droplevel()\n",
    "nba_2017_coaches.columns = nba_2017_coaches.columns.droplevel()"
   ]
  },
  {
   "cell_type": "code",
   "execution_count": 127,
   "metadata": {},
   "outputs": [],
   "source": [
    "nba_2017_coaches = nba_2017_coaches[['Coach', 'Tm','W%']]"
   ]
  },
  {
   "cell_type": "code",
   "execution_count": null,
   "metadata": {},
   "outputs": [],
   "source": []
  },
  {
   "cell_type": "code",
   "execution_count": null,
   "metadata": {},
   "outputs": [],
   "source": []
  },
  {
   "cell_type": "markdown",
   "metadata": {},
   "source": [
    "Coaches record up to and including 2015-16 season"
   ]
  },
  {
   "cell_type": "code",
   "execution_count": 128,
   "metadata": {},
   "outputs": [],
   "source": [
    "nba_coaches_2016 = pd.read_html('https://www.basketball-reference.com/leagues/NBA_2016_coaches.html')"
   ]
  },
  {
   "cell_type": "code",
   "execution_count": 129,
   "metadata": {},
   "outputs": [],
   "source": [
    "nba_2016_coaches = nba_coaches_2016[0]"
   ]
  },
  {
   "cell_type": "code",
   "execution_count": 130,
   "metadata": {},
   "outputs": [],
   "source": [
    "nba_2016_coaches.columns = nba_2016_coaches.columns.droplevel()\n",
    "nba_2016_coaches.columns = nba_2016_coaches.columns.droplevel()"
   ]
  },
  {
   "cell_type": "code",
   "execution_count": 131,
   "metadata": {},
   "outputs": [],
   "source": [
    "nba_2016_coaches = nba_2016_coaches[['Coach', 'Tm','W%']]"
   ]
  },
  {
   "cell_type": "code",
   "execution_count": null,
   "metadata": {},
   "outputs": [],
   "source": []
  },
  {
   "cell_type": "markdown",
   "metadata": {},
   "source": [
    " Coaches record up to and including 2014-15 season"
   ]
  },
  {
   "cell_type": "code",
   "execution_count": 132,
   "metadata": {},
   "outputs": [],
   "source": [
    "nba_coaches_2015 = pd.read_html('https://www.basketball-reference.com/leagues/NBA_2015_coaches.html')"
   ]
  },
  {
   "cell_type": "code",
   "execution_count": 133,
   "metadata": {},
   "outputs": [],
   "source": [
    "nba_2015_coaches = nba_coaches_2015[0]"
   ]
  },
  {
   "cell_type": "code",
   "execution_count": 134,
   "metadata": {},
   "outputs": [],
   "source": [
    "nba_2015_coaches.columns = nba_2015_coaches.columns.droplevel()\n",
    "nba_2015_coaches.columns = nba_2015_coaches.columns.droplevel()"
   ]
  },
  {
   "cell_type": "code",
   "execution_count": 135,
   "metadata": {},
   "outputs": [],
   "source": [
    "nba_2015_coaches = nba_2015_coaches[['Coach', 'Tm','W%']]"
   ]
  },
  {
   "cell_type": "code",
   "execution_count": null,
   "metadata": {},
   "outputs": [],
   "source": []
  },
  {
   "cell_type": "markdown",
   "metadata": {},
   "source": [
    " Coaches record up to and including 2013-14 season"
   ]
  },
  {
   "cell_type": "code",
   "execution_count": 136,
   "metadata": {},
   "outputs": [],
   "source": [
    "nba_coaches_2014 = pd.read_html('https://www.basketball-reference.com/leagues/NBA_2014_coaches.html')"
   ]
  },
  {
   "cell_type": "code",
   "execution_count": 137,
   "metadata": {},
   "outputs": [],
   "source": [
    "nba_2014_coaches = nba_coaches_2014[0]"
   ]
  },
  {
   "cell_type": "code",
   "execution_count": 138,
   "metadata": {},
   "outputs": [],
   "source": [
    "nba_2014_coaches.columns = nba_2014_coaches.columns.droplevel()\n",
    "nba_2014_coaches.columns = nba_2014_coaches.columns.droplevel()"
   ]
  },
  {
   "cell_type": "code",
   "execution_count": 139,
   "metadata": {},
   "outputs": [],
   "source": [
    "nba_2014_coaches = nba_2014_coaches[['Coach', 'Tm','W%']]"
   ]
  },
  {
   "cell_type": "code",
   "execution_count": null,
   "metadata": {},
   "outputs": [],
   "source": []
  }
 ],
 "metadata": {
  "kernelspec": {
   "display_name": "Python 3",
   "language": "python",
   "name": "python3"
  },
  "language_info": {
   "codemirror_mode": {
    "name": "ipython",
    "version": 3
   },
   "file_extension": ".py",
   "mimetype": "text/x-python",
   "name": "python",
   "nbconvert_exporter": "python",
   "pygments_lexer": "ipython3",
   "version": "3.7.6"
  }
 },
 "nbformat": 4,
 "nbformat_minor": 4
}
