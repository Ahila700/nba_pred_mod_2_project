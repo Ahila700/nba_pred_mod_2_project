{
 "cells": [
  {
   "cell_type": "code",
   "execution_count": 182,
   "metadata": {},
   "outputs": [],
   "source": [
    "import pandas as pd\n",
    "import numpy as np\n",
    "\n",
    "import statsmodels.api as sm\n",
    "from statsmodels.formula.api import ols\n",
    "\n",
    "from matplotlib import pyplot as plt\n",
    "\n",
    "from sklearn import linear_model\n",
    "from sklearn.linear_model import LinearRegression\n",
    "\n",
    "from sklearn.model_selection import train_test_split\n",
    "from sklearn import metrics\n",
    "from sklearn.preprocessing import PolynomialFeatures\n",
    "from sklearn.preprocessing import StandardScaler\n",
    "\n",
    "import seaborn as sns\n",
    "\n",
    "import pickle"
   ]
  },
  {
   "cell_type": "code",
   "execution_count": 183,
   "metadata": {},
   "outputs": [],
   "source": [
    "nba_data = pd.read_csv('Finalized_nba_data_for_modeling.csv', index_col = 0)"
   ]
  },
  {
   "cell_type": "code",
   "execution_count": 3,
   "metadata": {},
   "outputs": [],
   "source": [
    "nba_data['TS%'] = [x/10 for x in nba_data['TS%']]"
   ]
  },
  {
   "cell_type": "code",
   "execution_count": null,
   "metadata": {},
   "outputs": [],
   "source": []
  },
  {
   "cell_type": "markdown",
   "metadata": {},
   "source": [
    "# Creating Target and Feature Variables after EDA"
   ]
  },
  {
   "cell_type": "code",
   "execution_count": 160,
   "metadata": {},
   "outputs": [],
   "source": [
    "target = nba_data['W']"
   ]
  },
  {
   "cell_type": "code",
   "execution_count": 161,
   "metadata": {},
   "outputs": [],
   "source": [
    "features_list = []"
   ]
  },
  {
   "cell_type": "code",
   "execution_count": 162,
   "metadata": {},
   "outputs": [],
   "source": [
    "for x in nba_data.columns:\n",
    "    if (x == 'W') or (x == 'Tm') or (x == 'year') or (x == 'Pace'):\n",
    "        pass\n",
    "    else:\n",
    "        features_list.append(x)"
   ]
  },
  {
   "cell_type": "code",
   "execution_count": 163,
   "metadata": {},
   "outputs": [],
   "source": [
    "features = nba_data[features_list]"
   ]
  },
  {
   "cell_type": "code",
   "execution_count": null,
   "metadata": {},
   "outputs": [],
   "source": []
  },
  {
   "cell_type": "markdown",
   "metadata": {},
   "source": [
    "# Running first model with simplified data (no interactions)"
   ]
  },
  {
   "cell_type": "code",
   "execution_count": 164,
   "metadata": {},
   "outputs": [],
   "source": [
    "X_train, X_test, y_train, y_test = train_test_split(features, target, random_state=23,test_size=0.2)  "
   ]
  },
  {
   "cell_type": "code",
   "execution_count": null,
   "metadata": {},
   "outputs": [],
   "source": []
  },
  {
   "cell_type": "markdown",
   "metadata": {},
   "source": [
    "# Creating a Scalar"
   ]
  },
  {
   "cell_type": "code",
   "execution_count": 165,
   "metadata": {},
   "outputs": [],
   "source": [
    "scaler = StandardScaler()\n",
    "final_scaler = scaler.fit(X_train)\n",
    "X_train =pd.DataFrame(data=scaler.transform(X_train), columns=features_list)\n",
    "X_test =pd.DataFrame(data=scaler.transform(X_test), columns=features_list)"
   ]
  },
  {
   "cell_type": "code",
   "execution_count": null,
   "metadata": {},
   "outputs": [],
   "source": []
  },
  {
   "cell_type": "markdown",
   "metadata": {},
   "source": [
    "# Standard Regression Model"
   ]
  },
  {
   "cell_type": "code",
   "execution_count": 166,
   "metadata": {},
   "outputs": [
    {
     "name": "stdout",
     "output_type": "stream",
     "text": [
      "Training Root Mean Squared Error: 7.204760665770511\n",
      "Testing Root Mean Squared Error: 9.145229541758328\n",
      "Training:  7.204760665770511 vs. Testing:  9.145229541758328\n"
     ]
    }
   ],
   "source": [
    "#instantiate a linear regression object\n",
    "lm = LinearRegression()\n",
    "\n",
    "#fit the linear regression to the data\n",
    "lm = lm.fit(X_train, y_train)\n",
    "\n",
    "y_train_pred = lm.predict(X_train)\n",
    "\n",
    "train_rmse = np.sqrt(metrics.mean_squared_error((y_train), y_train_pred))\n",
    "\n",
    "\n",
    "print('Training Root Mean Squared Error:' , train_rmse)\n",
    "\n",
    "y_pred = lm.predict(X_test)\n",
    "\n",
    "test_rmse = np.sqrt(metrics.mean_squared_error((y_test), y_pred))\n",
    "\n",
    "print('Testing Root Mean Squared Error:' , test_rmse)\n",
    "\n",
    "\n",
    "print('Training: ', float(train_rmse), \"vs. Testing: \", float(test_rmse))"
   ]
  },
  {
   "cell_type": "code",
   "execution_count": null,
   "metadata": {},
   "outputs": [],
   "source": []
  },
  {
   "cell_type": "code",
   "execution_count": 11,
   "metadata": {},
   "outputs": [
    {
     "data": {
      "text/plain": [
       "<matplotlib.axes._subplots.AxesSubplot at 0x1a245f9dd0>"
      ]
     },
     "execution_count": 11,
     "metadata": {},
     "output_type": "execute_result"
    },
    {
     "data": {
      "image/png": "[encoded data removed]",
      "text/plain": [
       "<Figure size 432x288 with 1 Axes>"
      ]
     },
     "metadata": {
      "needs_background": "light"
     },
     "output_type": "display_data"
    }
   ],
   "source": [
    "sns.residplot(y_train, y_train_pred,lowess=True, color=\"g\")"
   ]
  },
  {
   "cell_type": "code",
   "execution_count": null,
   "metadata": {},
   "outputs": [],
   "source": []
  },
  {
   "cell_type": "markdown",
   "metadata": {},
   "source": [
    "# Recurvise Elimination Feature"
   ]
  },
  {
   "cell_type": "code",
   "execution_count": 12,
   "metadata": {},
   "outputs": [],
   "source": [
    "from sklearn.feature_selection import RFECV"
   ]
  },
  {
   "cell_type": "code",
   "execution_count": 13,
   "metadata": {},
   "outputs": [],
   "source": [
    "ols = linear_model.LinearRegression()"
   ]
  },
  {
   "cell_type": "code",
   "execution_count": 14,
   "metadata": {},
   "outputs": [
    {
     "data": {
      "text/plain": [
       "RFECV(cv=10,\n",
       "      estimator=LinearRegression(copy_X=True, fit_intercept=True, n_jobs=None,\n",
       "                                 normalize=False),\n",
       "      min_features_to_select=1, n_jobs=None, scoring='neg_mean_squared_error',\n",
       "      step=1, verbose=0)"
      ]
     },
     "execution_count": 14,
     "metadata": {},
     "output_type": "execute_result"
    }
   ],
   "source": [
    "# Create recursive feature eliminator that scores features by mean squared errors\n",
    "selector = RFECV(estimator=ols, step=1, cv=10, scoring='neg_mean_squared_error')\n",
    "\n",
    "# Fit recursive feature eliminator \n",
    "selector.fit(X_train, y_train)"
   ]
  },
  {
   "cell_type": "code",
   "execution_count": 15,
   "metadata": {},
   "outputs": [],
   "source": [
    "selected_rfe = X_train.columns[selector.support_]\n",
    "removed_rfe = X_train.columns[~selector.support_]"
   ]
  },
  {
   "cell_type": "code",
   "execution_count": 16,
   "metadata": {},
   "outputs": [
    {
     "data": {
      "text/plain": [
       "['3P%', '3PAr', 'FTr']"
      ]
     },
     "execution_count": 16,
     "metadata": {},
     "output_type": "execute_result"
    }
   ],
   "source": [
    "list(removed_rfe)"
   ]
  },
  {
   "cell_type": "code",
   "execution_count": 17,
   "metadata": {},
   "outputs": [
    {
     "data": {
      "text/plain": [
       "10"
      ]
     },
     "execution_count": 17,
     "metadata": {},
     "output_type": "execute_result"
    }
   ],
   "source": [
    "len(selected_rfe)"
   ]
  },
  {
   "cell_type": "code",
   "execution_count": 18,
   "metadata": {},
   "outputs": [
    {
     "name": "stdout",
     "output_type": "stream",
     "text": [
      "Training Root Mean Squared Error: 7.214710999838885\n",
      "Testing Root Mean Squared Error: 9.273919835681493\n",
      "vs. Testing:  9.14522954175832 vs. Testing rfe:  9.273919835681493\n"
     ]
    }
   ],
   "source": [
    "#instantiate a linear regression object\n",
    "lm_rfe = LinearRegression()\n",
    "\n",
    "#fit the linear regression to the data\n",
    "lm_rfe = lm_rfe.fit(X_train[selected_rfe], y_train)\n",
    "\n",
    "y_train_pred_rfe = lm_rfe.predict(X_train[selected_rfe])\n",
    "\n",
    "train_rmse_rfe = np.sqrt(metrics.mean_squared_error((y_train), y_train_pred_rfe))\n",
    "\n",
    "\n",
    "print('Training Root Mean Squared Error:' , train_rmse_rfe)\n",
    "\n",
    "y_pred_rfe = lm_rfe.predict(X_test[selected_rfe])\n",
    "\n",
    "test_rmse_rfe = np.sqrt(metrics.mean_squared_error((y_test), y_pred_rfe))\n",
    "\n",
    "print('Testing Root Mean Squared Error:' , test_rmse_rfe)\n",
    "\n",
    "\n",
    "print(\"vs. Testing: \", float(test_rmse), \n",
    "      \"vs. Testing rfe: \", float(test_rmse_rfe))"
   ]
  },
  {
   "cell_type": "code",
   "execution_count": null,
   "metadata": {},
   "outputs": [],
   "source": []
  },
  {
   "cell_type": "markdown",
   "metadata": {},
   "source": [
    "# KBest Selection"
   ]
  },
  {
   "cell_type": "code",
   "execution_count": 19,
   "metadata": {},
   "outputs": [
    {
     "data": {
      "text/plain": [
       "SelectKBest(k=10, score_func=<function f_regression at 0x1a25028cb0>)"
      ]
     },
     "execution_count": 19,
     "metadata": {},
     "output_type": "execute_result"
    }
   ],
   "source": [
    "from sklearn.feature_selection import SelectKBest, f_regression,mutual_info_regression\n",
    "\n",
    "selector = SelectKBest(f_regression, k=10)\n",
    "\n",
    "selector.fit(X_train, y_train)"
   ]
  },
  {
   "cell_type": "code",
   "execution_count": 20,
   "metadata": {},
   "outputs": [],
   "source": [
    "selected_ftest = X_train.columns[selector.get_support()]\n",
    "removed_ftest = X_train.columns[~selector.get_support()]"
   ]
  },
  {
   "cell_type": "code",
   "execution_count": 21,
   "metadata": {},
   "outputs": [
    {
     "data": {
      "text/plain": [
       "['ORB%', 'FT%', 'AST%']"
      ]
     },
     "execution_count": 21,
     "metadata": {},
     "output_type": "execute_result"
    }
   ],
   "source": [
    "list(removed_ftest)"
   ]
  },
  {
   "cell_type": "code",
   "execution_count": 22,
   "metadata": {},
   "outputs": [
    {
     "data": {
      "text/plain": [
       "10"
      ]
     },
     "execution_count": 22,
     "metadata": {},
     "output_type": "execute_result"
    }
   ],
   "source": [
    "len(selected_ftest)"
   ]
  },
  {
   "cell_type": "code",
   "execution_count": 23,
   "metadata": {},
   "outputs": [
    {
     "name": "stdout",
     "output_type": "stream",
     "text": [
      "Training Root Mean Squared Error: 8.031757583830958\n",
      "Testing Root Mean Squared Error: 10.546659080792182\n",
      "vs. Testing:  9.14522954175832 vs. Testing rfe:  9.273919835681493 vs. Testing ftest:  10.546659080792182\n"
     ]
    }
   ],
   "source": [
    "#instantiate a linear regression object\n",
    "lm_ftest = LinearRegression()\n",
    "\n",
    "#fit the linear regression to the data\n",
    "lm_ftest = lm_ftest.fit(X_train[selected_ftest], y_train)\n",
    "\n",
    "y_train_pred_ftest = lm_ftest.predict((X_train[selected_ftest]))\n",
    "\n",
    "train_rmse_ftest = np.sqrt(metrics.mean_squared_error((y_train), y_train_pred_ftest))\n",
    "\n",
    "\n",
    "print('Training Root Mean Squared Error:' , train_rmse_ftest)\n",
    "\n",
    "y_pred_ftest = lm_ftest.predict((X_test[selected_ftest]))\n",
    "\n",
    "test_rmse_ftest = np.sqrt(metrics.mean_squared_error((y_test), y_pred_ftest))\n",
    "\n",
    "print('Testing Root Mean Squared Error:' , test_rmse_ftest)\n",
    "\n",
    "\n",
    "print(\"vs. Testing: \", float(test_rmse), \n",
    "      \"vs. Testing rfe: \", float(test_rmse_rfe),\n",
    "      \"vs. Testing ftest: \", float(test_rmse_ftest))"
   ]
  },
  {
   "cell_type": "code",
   "execution_count": null,
   "metadata": {},
   "outputs": [],
   "source": []
  },
  {
   "cell_type": "markdown",
   "metadata": {},
   "source": [
    "# Applying VIF "
   ]
  },
  {
   "cell_type": "code",
   "execution_count": 24,
   "metadata": {},
   "outputs": [],
   "source": [
    "from statsmodels.stats.outliers_influence import variance_inflation_factor"
   ]
  },
  {
   "cell_type": "code",
   "execution_count": 25,
   "metadata": {},
   "outputs": [
    {
     "data": {
      "text/html": [
       "<div>\n",
       "<style scoped>\n",
       "    .dataframe tbody tr th:only-of-type {\n",
       "        vertical-align: middle;\n",
       "    }\n",
       "\n",
       "    .dataframe tbody tr th {\n",
       "        vertical-align: top;\n",
       "    }\n",
       "\n",
       "    .dataframe thead th {\n",
       "        text-align: right;\n",
       "    }\n",
       "</style>\n",
       "<table border=\"1\" class=\"dataframe\">\n",
       "  <thead>\n",
       "    <tr style=\"text-align: right;\">\n",
       "      <th></th>\n",
       "      <th>VIF Factor</th>\n",
       "      <th>features</th>\n",
       "    </tr>\n",
       "  </thead>\n",
       "  <tbody>\n",
       "    <tr>\n",
       "      <th>0</th>\n",
       "      <td>1.50865</td>\n",
       "      <td>Age</td>\n",
       "    </tr>\n",
       "    <tr>\n",
       "      <th>1</th>\n",
       "      <td>1.65504</td>\n",
       "      <td>ORB%</td>\n",
       "    </tr>\n",
       "    <tr>\n",
       "      <th>2</th>\n",
       "      <td>1.84654</td>\n",
       "      <td>3P%</td>\n",
       "    </tr>\n",
       "    <tr>\n",
       "      <th>3</th>\n",
       "      <td>1.68216</td>\n",
       "      <td>FT%</td>\n",
       "    </tr>\n",
       "    <tr>\n",
       "      <th>4</th>\n",
       "      <td>1.79176</td>\n",
       "      <td>TOV</td>\n",
       "    </tr>\n",
       "    <tr>\n",
       "      <th>5</th>\n",
       "      <td>1.95845</td>\n",
       "      <td>PTS</td>\n",
       "    </tr>\n",
       "    <tr>\n",
       "      <th>6</th>\n",
       "      <td>2.45823</td>\n",
       "      <td>TS%</td>\n",
       "    </tr>\n",
       "    <tr>\n",
       "      <th>7</th>\n",
       "      <td>2.29741</td>\n",
       "      <td>3PAr</td>\n",
       "    </tr>\n",
       "    <tr>\n",
       "      <th>8</th>\n",
       "      <td>1.31267</td>\n",
       "      <td>FTr</td>\n",
       "    </tr>\n",
       "    <tr>\n",
       "      <th>9</th>\n",
       "      <td>1.82156</td>\n",
       "      <td>TRB%</td>\n",
       "    </tr>\n",
       "    <tr>\n",
       "      <th>10</th>\n",
       "      <td>1.38271</td>\n",
       "      <td>AST%</td>\n",
       "    </tr>\n",
       "    <tr>\n",
       "      <th>11</th>\n",
       "      <td>1.52399</td>\n",
       "      <td>STL%</td>\n",
       "    </tr>\n",
       "    <tr>\n",
       "      <th>12</th>\n",
       "      <td>1.36190</td>\n",
       "      <td>BLK%</td>\n",
       "    </tr>\n",
       "  </tbody>\n",
       "</table>\n",
       "</div>"
      ],
      "text/plain": [
       "    VIF Factor features\n",
       "0      1.50865      Age\n",
       "1      1.65504     ORB%\n",
       "2      1.84654      3P%\n",
       "3      1.68216      FT%\n",
       "4      1.79176      TOV\n",
       "5      1.95845      PTS\n",
       "6      2.45823      TS%\n",
       "7      2.29741     3PAr\n",
       "8      1.31267      FTr\n",
       "9      1.82156     TRB%\n",
       "10     1.38271     AST%\n",
       "11     1.52399     STL%\n",
       "12     1.36190     BLK%"
      ]
     },
     "execution_count": 25,
     "metadata": {},
     "output_type": "execute_result"
    }
   ],
   "source": [
    "vif = pd.DataFrame()\n",
    "vif[\"VIF Factor\"] = [variance_inflation_factor(X_train.values, i) for i in range(X_train.shape[1])]\n",
    "vif[\"features\"] = X_train.columns\n",
    "vif.round(5)"
   ]
  },
  {
   "cell_type": "code",
   "execution_count": null,
   "metadata": {},
   "outputs": [],
   "source": []
  },
  {
   "cell_type": "markdown",
   "metadata": {},
   "source": [
    "# Lasso Method"
   ]
  },
  {
   "cell_type": "code",
   "execution_count": 26,
   "metadata": {},
   "outputs": [],
   "source": [
    "from sklearn.linear_model import Lasso"
   ]
  },
  {
   "cell_type": "code",
   "execution_count": 27,
   "metadata": {},
   "outputs": [
    {
     "name": "stdout",
     "output_type": "stream",
     "text": [
      "Training Error: 5.6928723119656475\n",
      "Testing Error: 9.154810777411988\n"
     ]
    }
   ],
   "source": [
    "lasso = Lasso(alpha=0.01, max_iter = 5000, normalize=False)\n",
    "\n",
    "final_lasso = lasso.fit(X_train,y_train)\n",
    "\n",
    "y_train_pred_lasso = lasso.predict(X_train)\n",
    "y_pred_lasso = lasso.predict(X_test)\n",
    "\n",
    "train_rmse = metrics.mean_absolute_error(y_train, y_train_pred_lasso)\n",
    "test_rmse = np.sqrt(metrics.mean_squared_error(y_test, y_pred_lasso))\n",
    "print('Training Error: '+ str(train_rmse))\n",
    "print('Testing Error: '+ str(test_rmse))"
   ]
  },
  {
   "cell_type": "code",
   "execution_count": null,
   "metadata": {},
   "outputs": [],
   "source": []
  },
  {
   "cell_type": "code",
   "execution_count": 28,
   "metadata": {},
   "outputs": [
    {
     "data": {
      "text/plain": [
       "<matplotlib.axes._subplots.AxesSubplot at 0x1a23c86c50>"
      ]
     },
     "execution_count": 28,
     "metadata": {},
     "output_type": "execute_result"
    },
    {
     "data": {
      "image/png": "[encoded data removed]",
      "text/plain": [
       "<Figure size 1152x576 with 1 Axes>"
      ]
     },
     "metadata": {
      "needs_background": "light"
     },
     "output_type": "display_data"
    }
   ],
   "source": [
    "lasso_coef01 = pd.DataFrame(data=lasso.coef_).T\n",
    "lasso_coef01.columns = X_train.columns\n",
    "lasso_coef01 = lasso_coef01.T.sort_values(by=0).T\n",
    "lasso_coef01.plot(kind='bar', title='Modal Coefficients', legend=False, figsize=(16,8))"
   ]
  },
  {
   "cell_type": "code",
   "execution_count": 29,
   "metadata": {},
   "outputs": [
    {
     "data": {
      "text/html": [
       "<div>\n",
       "<style scoped>\n",
       "    .dataframe tbody tr th:only-of-type {\n",
       "        vertical-align: middle;\n",
       "    }\n",
       "\n",
       "    .dataframe tbody tr th {\n",
       "        vertical-align: top;\n",
       "    }\n",
       "\n",
       "    .dataframe thead th {\n",
       "        text-align: right;\n",
       "    }\n",
       "</style>\n",
       "<table border=\"1\" class=\"dataframe\">\n",
       "  <thead>\n",
       "    <tr style=\"text-align: right;\">\n",
       "      <th></th>\n",
       "      <th>0</th>\n",
       "    </tr>\n",
       "  </thead>\n",
       "  <tbody>\n",
       "    <tr>\n",
       "      <th>TOV</th>\n",
       "      <td>-3.437336</td>\n",
       "    </tr>\n",
       "    <tr>\n",
       "      <th>FT%</th>\n",
       "      <td>-1.450160</td>\n",
       "    </tr>\n",
       "    <tr>\n",
       "      <th>FTr</th>\n",
       "      <td>-0.379354</td>\n",
       "    </tr>\n",
       "    <tr>\n",
       "      <th>3P%</th>\n",
       "      <td>0.008787</td>\n",
       "    </tr>\n",
       "    <tr>\n",
       "      <th>3PAr</th>\n",
       "      <td>0.083243</td>\n",
       "    </tr>\n",
       "    <tr>\n",
       "      <th>BLK%</th>\n",
       "      <td>0.830888</td>\n",
       "    </tr>\n",
       "    <tr>\n",
       "      <th>AST%</th>\n",
       "      <td>1.089062</td>\n",
       "    </tr>\n",
       "    <tr>\n",
       "      <th>STL%</th>\n",
       "      <td>1.514579</td>\n",
       "    </tr>\n",
       "    <tr>\n",
       "      <th>TRB%</th>\n",
       "      <td>1.601759</td>\n",
       "    </tr>\n",
       "    <tr>\n",
       "      <th>PTS</th>\n",
       "      <td>2.655245</td>\n",
       "    </tr>\n",
       "    <tr>\n",
       "      <th>Age</th>\n",
       "      <td>3.633547</td>\n",
       "    </tr>\n",
       "    <tr>\n",
       "      <th>ORB%</th>\n",
       "      <td>3.987717</td>\n",
       "    </tr>\n",
       "    <tr>\n",
       "      <th>TS%</th>\n",
       "      <td>5.336838</td>\n",
       "    </tr>\n",
       "  </tbody>\n",
       "</table>\n",
       "</div>"
      ],
      "text/plain": [
       "             0\n",
       "TOV  -3.437336\n",
       "FT%  -1.450160\n",
       "FTr  -0.379354\n",
       "3P%   0.008787\n",
       "3PAr  0.083243\n",
       "BLK%  0.830888\n",
       "AST%  1.089062\n",
       "STL%  1.514579\n",
       "TRB%  1.601759\n",
       "PTS   2.655245\n",
       "Age   3.633547\n",
       "ORB%  3.987717\n",
       "TS%   5.336838"
      ]
     },
     "execution_count": 29,
     "metadata": {},
     "output_type": "execute_result"
    }
   ],
   "source": [
    "lasso_coef01.T"
   ]
  },
  {
   "cell_type": "code",
   "execution_count": null,
   "metadata": {},
   "outputs": [],
   "source": []
  },
  {
   "cell_type": "code",
   "execution_count": 30,
   "metadata": {},
   "outputs": [
    {
     "data": {
      "text/plain": [
       "<matplotlib.axes._subplots.AxesSubplot at 0x1a25832890>"
      ]
     },
     "execution_count": 30,
     "metadata": {},
     "output_type": "execute_result"
    },
    {
     "data": {
      "image/png": "[encoded data removed]",
      "text/plain": [
       "<Figure size 432x288 with 1 Axes>"
      ]
     },
     "metadata": {
      "needs_background": "light"
     },
     "output_type": "display_data"
    }
   ],
   "source": [
    "sns.residplot( y_train, y_train_pred_lasso,lowess=True, color=\"g\")"
   ]
  },
  {
   "cell_type": "code",
   "execution_count": null,
   "metadata": {},
   "outputs": [],
   "source": []
  },
  {
   "cell_type": "markdown",
   "metadata": {},
   "source": [
    "# Statsmodels to get *R^2* value"
   ]
  },
  {
   "cell_type": "code",
   "execution_count": 31,
   "metadata": {},
   "outputs": [],
   "source": [
    "X_endog = sm.add_constant(X_test)"
   ]
  },
  {
   "cell_type": "code",
   "execution_count": 32,
   "metadata": {},
   "outputs": [],
   "source": [
    "res = sm.OLS(list(y_test), X_endog)"
   ]
  },
  {
   "cell_type": "code",
   "execution_count": 33,
   "metadata": {
    "scrolled": true
   },
   "outputs": [
    {
     "data": {
      "text/html": [
       "<table class=\"simpletable\">\n",
       "<caption>OLS Regression Results</caption>\n",
       "<tr>\n",
       "  <th>Dep. Variable:</th>            <td>y</td>        <th>  R-squared:         </th> <td>   0.763</td>\n",
       "</tr>\n",
       "<tr>\n",
       "  <th>Model:</th>                   <td>OLS</td>       <th>  Adj. R-squared:    </th> <td>   0.623</td>\n",
       "</tr>\n",
       "<tr>\n",
       "  <th>Method:</th>             <td>Least Squares</td>  <th>  F-statistic:       </th> <td>   5.441</td>\n",
       "</tr>\n",
       "<tr>\n",
       "  <th>Date:</th>             <td>Wed, 06 May 2020</td> <th>  Prob (F-statistic):</th> <td>0.000261</td>\n",
       "</tr>\n",
       "<tr>\n",
       "  <th>Time:</th>                 <td>20:02:32</td>     <th>  Log-Likelihood:    </th> <td> -119.54</td>\n",
       "</tr>\n",
       "<tr>\n",
       "  <th>No. Observations:</th>      <td>    36</td>      <th>  AIC:               </th> <td>   267.1</td>\n",
       "</tr>\n",
       "<tr>\n",
       "  <th>Df Residuals:</th>          <td>    22</td>      <th>  BIC:               </th> <td>   289.2</td>\n",
       "</tr>\n",
       "<tr>\n",
       "  <th>Df Model:</th>              <td>    13</td>      <th>                     </th>     <td> </td>   \n",
       "</tr>\n",
       "<tr>\n",
       "  <th>Covariance Type:</th>      <td>nonrobust</td>    <th>                     </th>     <td> </td>   \n",
       "</tr>\n",
       "</table>\n",
       "<table class=\"simpletable\">\n",
       "<tr>\n",
       "    <td></td>       <th>coef</th>     <th>std err</th>      <th>t</th>      <th>P>|t|</th>  <th>[0.025</th>    <th>0.975]</th>  \n",
       "</tr>\n",
       "<tr>\n",
       "  <th>const</th> <td>   40.6967</td> <td>    1.757</td> <td>   23.158</td> <td> 0.000</td> <td>   37.052</td> <td>   44.341</td>\n",
       "</tr>\n",
       "<tr>\n",
       "  <th>Age</th>   <td>    5.4829</td> <td>    2.519</td> <td>    2.176</td> <td> 0.041</td> <td>    0.258</td> <td>   10.708</td>\n",
       "</tr>\n",
       "<tr>\n",
       "  <th>ORB%</th>  <td>    3.4481</td> <td>    2.504</td> <td>    1.377</td> <td> 0.182</td> <td>   -1.744</td> <td>    8.640</td>\n",
       "</tr>\n",
       "<tr>\n",
       "  <th>3P%</th>   <td>    2.4901</td> <td>    1.582</td> <td>    1.574</td> <td> 0.130</td> <td>   -0.792</td> <td>    5.772</td>\n",
       "</tr>\n",
       "<tr>\n",
       "  <th>FT%</th>   <td>   -2.9466</td> <td>    2.095</td> <td>   -1.406</td> <td> 0.174</td> <td>   -7.292</td> <td>    1.399</td>\n",
       "</tr>\n",
       "<tr>\n",
       "  <th>TOV</th>   <td>   -3.8222</td> <td>    2.816</td> <td>   -1.357</td> <td> 0.188</td> <td>   -9.662</td> <td>    2.018</td>\n",
       "</tr>\n",
       "<tr>\n",
       "  <th>PTS</th>   <td>   -1.3577</td> <td>    1.753</td> <td>   -0.774</td> <td> 0.447</td> <td>   -4.993</td> <td>    2.278</td>\n",
       "</tr>\n",
       "<tr>\n",
       "  <th>TS%</th>   <td>    5.0278</td> <td>    2.713</td> <td>    1.853</td> <td> 0.077</td> <td>   -0.598</td> <td>   10.654</td>\n",
       "</tr>\n",
       "<tr>\n",
       "  <th>3PAr</th>  <td>   -0.4729</td> <td>    2.480</td> <td>   -0.191</td> <td> 0.851</td> <td>   -5.617</td> <td>    4.671</td>\n",
       "</tr>\n",
       "<tr>\n",
       "  <th>FTr</th>   <td>    0.0624</td> <td>    1.988</td> <td>    0.031</td> <td> 0.975</td> <td>   -4.060</td> <td>    4.185</td>\n",
       "</tr>\n",
       "<tr>\n",
       "  <th>TRB%</th>  <td>    1.7466</td> <td>    2.160</td> <td>    0.809</td> <td> 0.427</td> <td>   -2.733</td> <td>    6.226</td>\n",
       "</tr>\n",
       "<tr>\n",
       "  <th>AST%</th>  <td>    2.8673</td> <td>    2.101</td> <td>    1.365</td> <td> 0.186</td> <td>   -1.490</td> <td>    7.224</td>\n",
       "</tr>\n",
       "<tr>\n",
       "  <th>STL%</th>  <td>    1.2525</td> <td>    1.818</td> <td>    0.689</td> <td> 0.498</td> <td>   -2.518</td> <td>    5.023</td>\n",
       "</tr>\n",
       "<tr>\n",
       "  <th>BLK%</th>  <td>    0.6938</td> <td>    1.772</td> <td>    0.391</td> <td> 0.699</td> <td>   -2.982</td> <td>    4.369</td>\n",
       "</tr>\n",
       "</table>\n",
       "<table class=\"simpletable\">\n",
       "<tr>\n",
       "  <th>Omnibus:</th>       <td> 0.214</td> <th>  Durbin-Watson:     </th> <td>   1.814</td>\n",
       "</tr>\n",
       "<tr>\n",
       "  <th>Prob(Omnibus):</th> <td> 0.898</td> <th>  Jarque-Bera (JB):  </th> <td>   0.220</td>\n",
       "</tr>\n",
       "<tr>\n",
       "  <th>Skew:</th>          <td>-0.158</td> <th>  Prob(JB):          </th> <td>   0.896</td>\n",
       "</tr>\n",
       "<tr>\n",
       "  <th>Kurtosis:</th>      <td> 2.782</td> <th>  Cond. No.          </th> <td>    5.56</td>\n",
       "</tr>\n",
       "</table><br/><br/>Warnings:<br/>[1] Standard Errors assume that the covariance matrix of the errors is correctly specified."
      ],
      "text/plain": [
       "<class 'statsmodels.iolib.summary.Summary'>\n",
       "\"\"\"\n",
       "                            OLS Regression Results                            \n",
       "==============================================================================\n",
       "Dep. Variable:                      y   R-squared:                       0.763\n",
       "Model:                            OLS   Adj. R-squared:                  0.623\n",
       "Method:                 Least Squares   F-statistic:                     5.441\n",
       "Date:                Wed, 06 May 2020   Prob (F-statistic):           0.000261\n",
       "Time:                        20:02:32   Log-Likelihood:                -119.54\n",
       "No. Observations:                  36   AIC:                             267.1\n",
       "Df Residuals:                      22   BIC:                             289.2\n",
       "Df Model:                          13                                         \n",
       "Covariance Type:            nonrobust                                         \n",
       "==============================================================================\n",
       "                 coef    std err          t      P>|t|      [0.025      0.975]\n",
       "------------------------------------------------------------------------------\n",
       "const         40.6967      1.757     23.158      0.000      37.052      44.341\n",
       "Age            5.4829      2.519      2.176      0.041       0.258      10.708\n",
       "ORB%           3.4481      2.504      1.377      0.182      -1.744       8.640\n",
       "3P%            2.4901      1.582      1.574      0.130      -0.792       5.772\n",
       "FT%           -2.9466      2.095     -1.406      0.174      -7.292       1.399\n",
       "TOV           -3.8222      2.816     -1.357      0.188      -9.662       2.018\n",
       "PTS           -1.3577      1.753     -0.774      0.447      -4.993       2.278\n",
       "TS%            5.0278      2.713      1.853      0.077      -0.598      10.654\n",
       "3PAr          -0.4729      2.480     -0.191      0.851      -5.617       4.671\n",
       "FTr            0.0624      1.988      0.031      0.975      -4.060       4.185\n",
       "TRB%           1.7466      2.160      0.809      0.427      -2.733       6.226\n",
       "AST%           2.8673      2.101      1.365      0.186      -1.490       7.224\n",
       "STL%           1.2525      1.818      0.689      0.498      -2.518       5.023\n",
       "BLK%           0.6938      1.772      0.391      0.699      -2.982       4.369\n",
       "==============================================================================\n",
       "Omnibus:                        0.214   Durbin-Watson:                   1.814\n",
       "Prob(Omnibus):                  0.898   Jarque-Bera (JB):                0.220\n",
       "Skew:                          -0.158   Prob(JB):                        0.896\n",
       "Kurtosis:                       2.782   Cond. No.                         5.56\n",
       "==============================================================================\n",
       "\n",
       "Warnings:\n",
       "[1] Standard Errors assume that the covariance matrix of the errors is correctly specified.\n",
       "\"\"\""
      ]
     },
     "execution_count": 33,
     "metadata": {},
     "output_type": "execute_result"
    }
   ],
   "source": [
    "res.fit().summary()"
   ]
  },
  {
   "cell_type": "code",
   "execution_count": 34,
   "metadata": {},
   "outputs": [
    {
     "data": {
      "text/plain": [
       "('3PAr', 'FTr', 'BLK', 'STL')"
      ]
     },
     "execution_count": 34,
     "metadata": {},
     "output_type": "execute_result"
    }
   ],
   "source": [
    "'3PAr', 'FTr', 'BLK', 'STL'"
   ]
  },
  {
   "cell_type": "code",
   "execution_count": null,
   "metadata": {},
   "outputs": [],
   "source": []
  },
  {
   "cell_type": "markdown",
   "metadata": {},
   "source": [
    "The first model had everything included after removing from EDA analysis. After running multiple (different types of models i found that there were multiple features that could be removed, either because they had some collinearity (VIF) or because they did not have enough of an impact on the results (Lasso/Ftest/RFE)"
   ]
  },
  {
   "cell_type": "code",
   "execution_count": null,
   "metadata": {},
   "outputs": [],
   "source": []
  },
  {
   "cell_type": "code",
   "execution_count": null,
   "metadata": {},
   "outputs": [],
   "source": []
  },
  {
   "cell_type": "code",
   "execution_count": null,
   "metadata": {},
   "outputs": [],
   "source": []
  },
  {
   "cell_type": "code",
   "execution_count": null,
   "metadata": {},
   "outputs": [],
   "source": []
  },
  {
   "cell_type": "code",
   "execution_count": null,
   "metadata": {},
   "outputs": [],
   "source": []
  },
  {
   "cell_type": "code",
   "execution_count": null,
   "metadata": {},
   "outputs": [],
   "source": []
  },
  {
   "cell_type": "code",
   "execution_count": null,
   "metadata": {},
   "outputs": [],
   "source": []
  },
  {
   "cell_type": "markdown",
   "metadata": {},
   "source": [
    "# Test 2: \n",
    "\n",
    "# Removing additional features that did not do well in the first run"
   ]
  },
  {
   "cell_type": "code",
   "execution_count": 35,
   "metadata": {},
   "outputs": [
    {
     "data": {
      "text/plain": [
       "Index(['Age', 'W', 'Pace', 'ORB%', 'Tm', '3P%', 'FT%', 'TOV', 'PTS', 'TS%',\n",
       "       '3PAr', 'FTr', 'TRB%', 'AST%', 'STL%', 'BLK%', 'year'],\n",
       "      dtype='object')"
      ]
     },
     "execution_count": 35,
     "metadata": {},
     "output_type": "execute_result"
    }
   ],
   "source": [
    "nba_data.columns"
   ]
  },
  {
   "cell_type": "code",
   "execution_count": 36,
   "metadata": {},
   "outputs": [],
   "source": [
    "nba_data_2 = nba_data.drop(columns = ['3PAr', 'FTr', 'FT%'])"
   ]
  },
  {
   "cell_type": "code",
   "execution_count": null,
   "metadata": {},
   "outputs": [],
   "source": []
  },
  {
   "cell_type": "markdown",
   "metadata": {},
   "source": [
    "# Creating Features and Target"
   ]
  },
  {
   "cell_type": "code",
   "execution_count": 37,
   "metadata": {},
   "outputs": [],
   "source": [
    "target = nba_data_2['W']"
   ]
  },
  {
   "cell_type": "code",
   "execution_count": 38,
   "metadata": {},
   "outputs": [],
   "source": [
    "features_list_2 = []"
   ]
  },
  {
   "cell_type": "code",
   "execution_count": 39,
   "metadata": {},
   "outputs": [],
   "source": [
    "for x in nba_data_2.columns:\n",
    "    if (x == 'W') or (x == 'Tm') or (x == 'year') or (x == 'Pace'):\n",
    "        pass\n",
    "    else:\n",
    "        features_list_2.append(x)"
   ]
  },
  {
   "cell_type": "code",
   "execution_count": 40,
   "metadata": {},
   "outputs": [],
   "source": [
    "features_2 = nba_data[features_list_2]"
   ]
  },
  {
   "cell_type": "code",
   "execution_count": null,
   "metadata": {},
   "outputs": [],
   "source": []
  },
  {
   "cell_type": "markdown",
   "metadata": {},
   "source": [
    "# Train test split test 2"
   ]
  },
  {
   "cell_type": "code",
   "execution_count": 41,
   "metadata": {},
   "outputs": [],
   "source": [
    "X_train_2, X_test_2, y_train_2, y_test_2 = train_test_split(features_2, target, random_state=23,test_size=0.2)  "
   ]
  },
  {
   "cell_type": "code",
   "execution_count": null,
   "metadata": {},
   "outputs": [],
   "source": []
  },
  {
   "cell_type": "markdown",
   "metadata": {},
   "source": [
    "# Scaling the Data 2"
   ]
  },
  {
   "cell_type": "code",
   "execution_count": 42,
   "metadata": {},
   "outputs": [],
   "source": [
    "scaler = StandardScaler()\n",
    "scaler.fit(X_train_2)\n",
    "X_train_2 =pd.DataFrame(data=scaler.transform(X_train_2), columns=features_list_2)\n",
    "X_test_2 =pd.DataFrame(data=scaler.transform(X_test_2), columns=features_list_2)"
   ]
  },
  {
   "cell_type": "code",
   "execution_count": null,
   "metadata": {},
   "outputs": [],
   "source": []
  },
  {
   "cell_type": "markdown",
   "metadata": {},
   "source": [
    "# Statsmodel Testing"
   ]
  },
  {
   "cell_type": "code",
   "execution_count": 43,
   "metadata": {},
   "outputs": [],
   "source": [
    "X_endog_2 = sm.add_constant(X_test_2)"
   ]
  },
  {
   "cell_type": "code",
   "execution_count": 44,
   "metadata": {
    "scrolled": true
   },
   "outputs": [],
   "source": [
    "res_2 = sm.OLS(list(y_test_2), X_endog_2)"
   ]
  },
  {
   "cell_type": "code",
   "execution_count": 45,
   "metadata": {},
   "outputs": [
    {
     "data": {
      "text/html": [
       "<table class=\"simpletable\">\n",
       "<caption>OLS Regression Results</caption>\n",
       "<tr>\n",
       "  <th>Dep. Variable:</th>            <td>y</td>        <th>  R-squared:         </th> <td>   0.741</td>\n",
       "</tr>\n",
       "<tr>\n",
       "  <th>Model:</th>                   <td>OLS</td>       <th>  Adj. R-squared:    </th> <td>   0.637</td>\n",
       "</tr>\n",
       "<tr>\n",
       "  <th>Method:</th>             <td>Least Squares</td>  <th>  F-statistic:       </th> <td>   7.148</td>\n",
       "</tr>\n",
       "<tr>\n",
       "  <th>Date:</th>             <td>Wed, 06 May 2020</td> <th>  Prob (F-statistic):</th> <td>3.26e-05</td>\n",
       "</tr>\n",
       "<tr>\n",
       "  <th>Time:</th>                 <td>20:02:33</td>     <th>  Log-Likelihood:    </th> <td> -121.13</td>\n",
       "</tr>\n",
       "<tr>\n",
       "  <th>No. Observations:</th>      <td>    36</td>      <th>  AIC:               </th> <td>   264.3</td>\n",
       "</tr>\n",
       "<tr>\n",
       "  <th>Df Residuals:</th>          <td>    25</td>      <th>  BIC:               </th> <td>   281.7</td>\n",
       "</tr>\n",
       "<tr>\n",
       "  <th>Df Model:</th>              <td>    10</td>      <th>                     </th>     <td> </td>   \n",
       "</tr>\n",
       "<tr>\n",
       "  <th>Covariance Type:</th>      <td>nonrobust</td>    <th>                     </th>     <td> </td>   \n",
       "</tr>\n",
       "</table>\n",
       "<table class=\"simpletable\">\n",
       "<tr>\n",
       "    <td></td>       <th>coef</th>     <th>std err</th>      <th>t</th>      <th>P>|t|</th>  <th>[0.025</th>    <th>0.975]</th>  \n",
       "</tr>\n",
       "<tr>\n",
       "  <th>const</th> <td>   40.6918</td> <td>    1.637</td> <td>   24.863</td> <td> 0.000</td> <td>   37.321</td> <td>   44.063</td>\n",
       "</tr>\n",
       "<tr>\n",
       "  <th>Age</th>   <td>    6.2485</td> <td>    2.141</td> <td>    2.919</td> <td> 0.007</td> <td>    1.839</td> <td>   10.658</td>\n",
       "</tr>\n",
       "<tr>\n",
       "  <th>ORB%</th>  <td>    3.3756</td> <td>    1.999</td> <td>    1.689</td> <td> 0.104</td> <td>   -0.740</td> <td>    7.492</td>\n",
       "</tr>\n",
       "<tr>\n",
       "  <th>3P%</th>   <td>    2.5809</td> <td>    1.539</td> <td>    1.677</td> <td> 0.106</td> <td>   -0.588</td> <td>    5.750</td>\n",
       "</tr>\n",
       "<tr>\n",
       "  <th>TOV</th>   <td>   -1.6666</td> <td>    2.302</td> <td>   -0.724</td> <td> 0.476</td> <td>   -6.408</td> <td>    3.074</td>\n",
       "</tr>\n",
       "<tr>\n",
       "  <th>PTS</th>   <td>   -2.1869</td> <td>    1.618</td> <td>   -1.351</td> <td> 0.189</td> <td>   -5.520</td> <td>    1.146</td>\n",
       "</tr>\n",
       "<tr>\n",
       "  <th>TS%</th>   <td>    5.2086</td> <td>    2.158</td> <td>    2.414</td> <td> 0.023</td> <td>    0.764</td> <td>    9.653</td>\n",
       "</tr>\n",
       "<tr>\n",
       "  <th>TRB%</th>  <td>    1.9447</td> <td>    1.915</td> <td>    1.015</td> <td> 0.320</td> <td>   -1.999</td> <td>    5.889</td>\n",
       "</tr>\n",
       "<tr>\n",
       "  <th>AST%</th>  <td>    1.7092</td> <td>    1.862</td> <td>    0.918</td> <td> 0.368</td> <td>   -2.126</td> <td>    5.545</td>\n",
       "</tr>\n",
       "<tr>\n",
       "  <th>STL%</th>  <td>    1.1170</td> <td>    1.565</td> <td>    0.714</td> <td> 0.482</td> <td>   -2.106</td> <td>    4.340</td>\n",
       "</tr>\n",
       "<tr>\n",
       "  <th>BLK%</th>  <td>    1.2240</td> <td>    1.474</td> <td>    0.830</td> <td> 0.414</td> <td>   -1.813</td> <td>    4.260</td>\n",
       "</tr>\n",
       "</table>\n",
       "<table class=\"simpletable\">\n",
       "<tr>\n",
       "  <th>Omnibus:</th>       <td> 0.894</td> <th>  Durbin-Watson:     </th> <td>   1.786</td>\n",
       "</tr>\n",
       "<tr>\n",
       "  <th>Prob(Omnibus):</th> <td> 0.640</td> <th>  Jarque-Bera (JB):  </th> <td>   0.721</td>\n",
       "</tr>\n",
       "<tr>\n",
       "  <th>Skew:</th>          <td>-0.334</td> <th>  Prob(JB):          </th> <td>   0.697</td>\n",
       "</tr>\n",
       "<tr>\n",
       "  <th>Kurtosis:</th>      <td> 2.816</td> <th>  Cond. No.          </th> <td>    4.02</td>\n",
       "</tr>\n",
       "</table><br/><br/>Warnings:<br/>[1] Standard Errors assume that the covariance matrix of the errors is correctly specified."
      ],
      "text/plain": [
       "<class 'statsmodels.iolib.summary.Summary'>\n",
       "\"\"\"\n",
       "                            OLS Regression Results                            \n",
       "==============================================================================\n",
       "Dep. Variable:                      y   R-squared:                       0.741\n",
       "Model:                            OLS   Adj. R-squared:                  0.637\n",
       "Method:                 Least Squares   F-statistic:                     7.148\n",
       "Date:                Wed, 06 May 2020   Prob (F-statistic):           3.26e-05\n",
       "Time:                        20:02:33   Log-Likelihood:                -121.13\n",
       "No. Observations:                  36   AIC:                             264.3\n",
       "Df Residuals:                      25   BIC:                             281.7\n",
       "Df Model:                          10                                         \n",
       "Covariance Type:            nonrobust                                         \n",
       "==============================================================================\n",
       "                 coef    std err          t      P>|t|      [0.025      0.975]\n",
       "------------------------------------------------------------------------------\n",
       "const         40.6918      1.637     24.863      0.000      37.321      44.063\n",
       "Age            6.2485      2.141      2.919      0.007       1.839      10.658\n",
       "ORB%           3.3756      1.999      1.689      0.104      -0.740       7.492\n",
       "3P%            2.5809      1.539      1.677      0.106      -0.588       5.750\n",
       "TOV           -1.6666      2.302     -0.724      0.476      -6.408       3.074\n",
       "PTS           -2.1869      1.618     -1.351      0.189      -5.520       1.146\n",
       "TS%            5.2086      2.158      2.414      0.023       0.764       9.653\n",
       "TRB%           1.9447      1.915      1.015      0.320      -1.999       5.889\n",
       "AST%           1.7092      1.862      0.918      0.368      -2.126       5.545\n",
       "STL%           1.1170      1.565      0.714      0.482      -2.106       4.340\n",
       "BLK%           1.2240      1.474      0.830      0.414      -1.813       4.260\n",
       "==============================================================================\n",
       "Omnibus:                        0.894   Durbin-Watson:                   1.786\n",
       "Prob(Omnibus):                  0.640   Jarque-Bera (JB):                0.721\n",
       "Skew:                          -0.334   Prob(JB):                        0.697\n",
       "Kurtosis:                       2.816   Cond. No.                         4.02\n",
       "==============================================================================\n",
       "\n",
       "Warnings:\n",
       "[1] Standard Errors assume that the covariance matrix of the errors is correctly specified.\n",
       "\"\"\""
      ]
     },
     "execution_count": 45,
     "metadata": {},
     "output_type": "execute_result"
    }
   ],
   "source": [
    "res_2.fit().summary()"
   ]
  },
  {
   "cell_type": "code",
   "execution_count": null,
   "metadata": {},
   "outputs": [],
   "source": []
  },
  {
   "cell_type": "markdown",
   "metadata": {},
   "source": [
    "# VIF Factor"
   ]
  },
  {
   "cell_type": "code",
   "execution_count": 46,
   "metadata": {},
   "outputs": [],
   "source": [
    "from statsmodels.stats.outliers_influence import variance_inflation_factor"
   ]
  },
  {
   "cell_type": "code",
   "execution_count": 47,
   "metadata": {},
   "outputs": [
    {
     "data": {
      "text/html": [
       "<div>\n",
       "<style scoped>\n",
       "    .dataframe tbody tr th:only-of-type {\n",
       "        vertical-align: middle;\n",
       "    }\n",
       "\n",
       "    .dataframe tbody tr th {\n",
       "        vertical-align: top;\n",
       "    }\n",
       "\n",
       "    .dataframe thead th {\n",
       "        text-align: right;\n",
       "    }\n",
       "</style>\n",
       "<table border=\"1\" class=\"dataframe\">\n",
       "  <thead>\n",
       "    <tr style=\"text-align: right;\">\n",
       "      <th></th>\n",
       "      <th>VIF Factor</th>\n",
       "      <th>features</th>\n",
       "    </tr>\n",
       "  </thead>\n",
       "  <tbody>\n",
       "    <tr>\n",
       "      <th>0</th>\n",
       "      <td>1.46944</td>\n",
       "      <td>Age</td>\n",
       "    </tr>\n",
       "    <tr>\n",
       "      <th>1</th>\n",
       "      <td>1.59109</td>\n",
       "      <td>ORB%</td>\n",
       "    </tr>\n",
       "    <tr>\n",
       "      <th>2</th>\n",
       "      <td>1.57069</td>\n",
       "      <td>3P%</td>\n",
       "    </tr>\n",
       "    <tr>\n",
       "      <th>3</th>\n",
       "      <td>1.67132</td>\n",
       "      <td>TOV</td>\n",
       "    </tr>\n",
       "    <tr>\n",
       "      <th>4</th>\n",
       "      <td>1.84286</td>\n",
       "      <td>PTS</td>\n",
       "    </tr>\n",
       "    <tr>\n",
       "      <th>5</th>\n",
       "      <td>2.20995</td>\n",
       "      <td>TS%</td>\n",
       "    </tr>\n",
       "    <tr>\n",
       "      <th>6</th>\n",
       "      <td>1.56582</td>\n",
       "      <td>TRB%</td>\n",
       "    </tr>\n",
       "    <tr>\n",
       "      <th>7</th>\n",
       "      <td>1.31801</td>\n",
       "      <td>AST%</td>\n",
       "    </tr>\n",
       "    <tr>\n",
       "      <th>8</th>\n",
       "      <td>1.41050</td>\n",
       "      <td>STL%</td>\n",
       "    </tr>\n",
       "    <tr>\n",
       "      <th>9</th>\n",
       "      <td>1.33261</td>\n",
       "      <td>BLK%</td>\n",
       "    </tr>\n",
       "  </tbody>\n",
       "</table>\n",
       "</div>"
      ],
      "text/plain": [
       "   VIF Factor features\n",
       "0     1.46944      Age\n",
       "1     1.59109     ORB%\n",
       "2     1.57069      3P%\n",
       "3     1.67132      TOV\n",
       "4     1.84286      PTS\n",
       "5     2.20995      TS%\n",
       "6     1.56582     TRB%\n",
       "7     1.31801     AST%\n",
       "8     1.41050     STL%\n",
       "9     1.33261     BLK%"
      ]
     },
     "execution_count": 47,
     "metadata": {},
     "output_type": "execute_result"
    }
   ],
   "source": [
    "vif = pd.DataFrame()\n",
    "vif[\"VIF Factor\"] = [variance_inflation_factor(X_train_2.values, i) for i in range(X_train_2.shape[1])]\n",
    "vif[\"features\"] = X_train_2.columns\n",
    "vif.round(5)"
   ]
  },
  {
   "cell_type": "code",
   "execution_count": null,
   "metadata": {},
   "outputs": [],
   "source": []
  },
  {
   "cell_type": "markdown",
   "metadata": {},
   "source": [
    "# Lasso Method"
   ]
  },
  {
   "cell_type": "code",
   "execution_count": 48,
   "metadata": {},
   "outputs": [],
   "source": [
    "from sklearn.linear_model import Lasso"
   ]
  },
  {
   "cell_type": "code",
   "execution_count": 49,
   "metadata": {},
   "outputs": [
    {
     "name": "stdout",
     "output_type": "stream",
     "text": [
      "Training Error: 5.805580391996181\n",
      "Testing Error: 9.508223863268663\n"
     ]
    }
   ],
   "source": [
    "lasso_2 = Lasso(alpha=0.01, max_iter = 5000, normalize=False)\n",
    "\n",
    "lasso_2.fit(X_train_2,y_train_2)\n",
    "\n",
    "y_train_pred_lasso_2 = lasso_2.predict(X_train_2)\n",
    "y_pred_lasso_2 = lasso_2.predict(X_test_2)\n",
    "\n",
    "train_rmse_2 = metrics.mean_absolute_error(y_train_2, y_train_pred_lasso_2)\n",
    "test_rmse_2 = np.sqrt(metrics.mean_squared_error(y_test_2, y_pred_lasso_2))\n",
    "print('Training Error: '+ str(train_rmse_2))\n",
    "print('Testing Error: '+ str(test_rmse_2))"
   ]
  },
  {
   "cell_type": "code",
   "execution_count": 50,
   "metadata": {
    "scrolled": true
   },
   "outputs": [
    {
     "data": {
      "text/plain": [
       "<matplotlib.axes._subplots.AxesSubplot at 0x1a25df9a50>"
      ]
     },
     "execution_count": 50,
     "metadata": {},
     "output_type": "execute_result"
    },
    {
     "data": {
      "image/png": "[encoded data removed]",
      "text/plain": [
       "<Figure size 1152x576 with 1 Axes>"
      ]
     },
     "metadata": {
      "needs_background": "light"
     },
     "output_type": "display_data"
    }
   ],
   "source": [
    "lasso_coef02 = pd.DataFrame(data=lasso_2.coef_).T\n",
    "lasso_coef02.columns = X_train_2.columns\n",
    "lasso_coef02 = lasso_coef02.T.sort_values(by=0).T\n",
    "lasso_coef02.plot(kind='bar', title='Modal Coefficients', legend=False, figsize=(16,8))"
   ]
  },
  {
   "cell_type": "code",
   "execution_count": 51,
   "metadata": {},
   "outputs": [
    {
     "data": {
      "text/html": [
       "<div>\n",
       "<style scoped>\n",
       "    .dataframe tbody tr th:only-of-type {\n",
       "        vertical-align: middle;\n",
       "    }\n",
       "\n",
       "    .dataframe tbody tr th {\n",
       "        vertical-align: top;\n",
       "    }\n",
       "\n",
       "    .dataframe thead th {\n",
       "        text-align: right;\n",
       "    }\n",
       "</style>\n",
       "<table border=\"1\" class=\"dataframe\">\n",
       "  <thead>\n",
       "    <tr style=\"text-align: right;\">\n",
       "      <th></th>\n",
       "      <th>0</th>\n",
       "    </tr>\n",
       "  </thead>\n",
       "  <tbody>\n",
       "    <tr>\n",
       "      <th>TOV</th>\n",
       "      <td>-3.140466</td>\n",
       "    </tr>\n",
       "    <tr>\n",
       "      <th>3P%</th>\n",
       "      <td>0.039590</td>\n",
       "    </tr>\n",
       "    <tr>\n",
       "      <th>AST%</th>\n",
       "      <td>0.857514</td>\n",
       "    </tr>\n",
       "    <tr>\n",
       "      <th>BLK%</th>\n",
       "      <td>0.984312</td>\n",
       "    </tr>\n",
       "    <tr>\n",
       "      <th>TRB%</th>\n",
       "      <td>1.767940</td>\n",
       "    </tr>\n",
       "    <tr>\n",
       "      <th>STL%</th>\n",
       "      <td>1.815884</td>\n",
       "    </tr>\n",
       "    <tr>\n",
       "      <th>PTS</th>\n",
       "      <td>2.737111</td>\n",
       "    </tr>\n",
       "    <tr>\n",
       "      <th>Age</th>\n",
       "      <td>3.563983</td>\n",
       "    </tr>\n",
       "    <tr>\n",
       "      <th>ORB%</th>\n",
       "      <td>4.195918</td>\n",
       "    </tr>\n",
       "    <tr>\n",
       "      <th>TS%</th>\n",
       "      <td>5.171794</td>\n",
       "    </tr>\n",
       "  </tbody>\n",
       "</table>\n",
       "</div>"
      ],
      "text/plain": [
       "             0\n",
       "TOV  -3.140466\n",
       "3P%   0.039590\n",
       "AST%  0.857514\n",
       "BLK%  0.984312\n",
       "TRB%  1.767940\n",
       "STL%  1.815884\n",
       "PTS   2.737111\n",
       "Age   3.563983\n",
       "ORB%  4.195918\n",
       "TS%   5.171794"
      ]
     },
     "execution_count": 51,
     "metadata": {},
     "output_type": "execute_result"
    }
   ],
   "source": [
    "lasso_coef02.T"
   ]
  },
  {
   "cell_type": "code",
   "execution_count": 52,
   "metadata": {},
   "outputs": [
    {
     "data": {
      "text/plain": [
       "<matplotlib.axes._subplots.AxesSubplot at 0x1a25e68dd0>"
      ]
     },
     "execution_count": 52,
     "metadata": {},
     "output_type": "execute_result"
    },
    {
     "data": {
      "image/png": "[encoded data removed]",
      "text/plain": [
       "<Figure size 432x288 with 1 Axes>"
      ]
     },
     "metadata": {
      "needs_background": "light"
     },
     "output_type": "display_data"
    }
   ],
   "source": [
    "sns.residplot(y_train_2, y_train_pred_lasso_2,lowess=True, color=\"g\")"
   ]
  },
  {
   "cell_type": "code",
   "execution_count": null,
   "metadata": {},
   "outputs": [],
   "source": []
  },
  {
   "cell_type": "code",
   "execution_count": 53,
   "metadata": {
    "scrolled": true
   },
   "outputs": [
    {
     "data": {
      "text/plain": [
       "<matplotlib.axes._subplots.AxesSubplot at 0x1a26091410>"
      ]
     },
     "execution_count": 53,
     "metadata": {},
     "output_type": "execute_result"
    },
    {
     "data": {
      "image/png": "[encoded data removed]",
      "text/plain": [
       "<Figure size 792x648 with 2 Axes>"
      ]
     },
     "metadata": {},
     "output_type": "display_data"
    }
   ],
   "source": [
    "sns.set(style=\"white\")\n",
    "\n",
    "\n",
    "# Compute the correlation matrix\n",
    "corr = np.abs(X_train_2.corr())\n",
    "\n",
    "# Generate a mask for the upper triangle\n",
    "mask = np.zeros_like(corr, dtype=np.bool)\n",
    "mask[np.triu_indices_from(mask)] = True\n",
    "\n",
    "# Set up the matplotlib figure\n",
    "f, ax = plt.subplots(figsize=(11, 9))\n",
    "\n",
    "# Generate a custom diverging colormap\n",
    "cmap = sns.diverging_palette(220, 10, as_cmap=True)\n",
    "\n",
    "# Draw the heatmap with the mask and correct aspect ratio\n",
    "sns.heatmap(corr, mask=mask, cmap=cmap, vmax=1, center=0,\n",
    "            square=True, linewidths=.5, cbar_kws={\"shrink\": .5})"
   ]
  },
  {
   "cell_type": "code",
   "execution_count": 54,
   "metadata": {
    "scrolled": false
   },
   "outputs": [
    {
     "data": {
      "text/html": [
       "<div>\n",
       "<style scoped>\n",
       "    .dataframe tbody tr th:only-of-type {\n",
       "        vertical-align: middle;\n",
       "    }\n",
       "\n",
       "    .dataframe tbody tr th {\n",
       "        vertical-align: top;\n",
       "    }\n",
       "\n",
       "    .dataframe thead th {\n",
       "        text-align: right;\n",
       "    }\n",
       "</style>\n",
       "<table border=\"1\" class=\"dataframe\">\n",
       "  <thead>\n",
       "    <tr style=\"text-align: right;\">\n",
       "      <th></th>\n",
       "      <th>Age</th>\n",
       "      <th>ORB%</th>\n",
       "      <th>3P%</th>\n",
       "      <th>TOV</th>\n",
       "      <th>PTS</th>\n",
       "      <th>TS%</th>\n",
       "      <th>TRB%</th>\n",
       "      <th>AST%</th>\n",
       "      <th>STL%</th>\n",
       "      <th>BLK%</th>\n",
       "    </tr>\n",
       "  </thead>\n",
       "  <tbody>\n",
       "    <tr>\n",
       "      <th>Age</th>\n",
       "      <td>NaN</td>\n",
       "      <td>0.271364</td>\n",
       "      <td>0.053916</td>\n",
       "      <td>0.254811</td>\n",
       "      <td>0.000604</td>\n",
       "      <td>0.347336</td>\n",
       "      <td>0.137644</td>\n",
       "      <td>0.211632</td>\n",
       "      <td>0.251010</td>\n",
       "      <td>0.009606</td>\n",
       "    </tr>\n",
       "    <tr>\n",
       "      <th>ORB%</th>\n",
       "      <td>NaN</td>\n",
       "      <td>NaN</td>\n",
       "      <td>0.385869</td>\n",
       "      <td>0.266518</td>\n",
       "      <td>0.021138</td>\n",
       "      <td>0.372124</td>\n",
       "      <td>0.309542</td>\n",
       "      <td>0.293840</td>\n",
       "      <td>0.005958</td>\n",
       "      <td>0.057916</td>\n",
       "    </tr>\n",
       "    <tr>\n",
       "      <th>3P%</th>\n",
       "      <td>NaN</td>\n",
       "      <td>NaN</td>\n",
       "      <td>NaN</td>\n",
       "      <td>0.160948</td>\n",
       "      <td>0.320172</td>\n",
       "      <td>0.441005</td>\n",
       "      <td>0.273558</td>\n",
       "      <td>0.186827</td>\n",
       "      <td>0.052032</td>\n",
       "      <td>0.125608</td>\n",
       "    </tr>\n",
       "    <tr>\n",
       "      <th>TOV</th>\n",
       "      <td>NaN</td>\n",
       "      <td>NaN</td>\n",
       "      <td>NaN</td>\n",
       "      <td>NaN</td>\n",
       "      <td>0.279120</td>\n",
       "      <td>0.175093</td>\n",
       "      <td>0.042942</td>\n",
       "      <td>0.147468</td>\n",
       "      <td>0.259844</td>\n",
       "      <td>0.008999</td>\n",
       "    </tr>\n",
       "    <tr>\n",
       "      <th>PTS</th>\n",
       "      <td>NaN</td>\n",
       "      <td>NaN</td>\n",
       "      <td>NaN</td>\n",
       "      <td>NaN</td>\n",
       "      <td>NaN</td>\n",
       "      <td>0.487256</td>\n",
       "      <td>0.103822</td>\n",
       "      <td>0.076054</td>\n",
       "      <td>0.019040</td>\n",
       "      <td>0.070252</td>\n",
       "    </tr>\n",
       "    <tr>\n",
       "      <th>TS%</th>\n",
       "      <td>NaN</td>\n",
       "      <td>NaN</td>\n",
       "      <td>NaN</td>\n",
       "      <td>NaN</td>\n",
       "      <td>NaN</td>\n",
       "      <td>NaN</td>\n",
       "      <td>0.014641</td>\n",
       "      <td>0.104371</td>\n",
       "      <td>0.081845</td>\n",
       "      <td>0.247779</td>\n",
       "    </tr>\n",
       "    <tr>\n",
       "      <th>TRB%</th>\n",
       "      <td>NaN</td>\n",
       "      <td>NaN</td>\n",
       "      <td>NaN</td>\n",
       "      <td>NaN</td>\n",
       "      <td>NaN</td>\n",
       "      <td>NaN</td>\n",
       "      <td>NaN</td>\n",
       "      <td>0.315760</td>\n",
       "      <td>0.203882</td>\n",
       "      <td>0.318281</td>\n",
       "    </tr>\n",
       "    <tr>\n",
       "      <th>AST%</th>\n",
       "      <td>NaN</td>\n",
       "      <td>NaN</td>\n",
       "      <td>NaN</td>\n",
       "      <td>NaN</td>\n",
       "      <td>NaN</td>\n",
       "      <td>NaN</td>\n",
       "      <td>NaN</td>\n",
       "      <td>NaN</td>\n",
       "      <td>0.204649</td>\n",
       "      <td>0.124974</td>\n",
       "    </tr>\n",
       "    <tr>\n",
       "      <th>STL%</th>\n",
       "      <td>NaN</td>\n",
       "      <td>NaN</td>\n",
       "      <td>NaN</td>\n",
       "      <td>NaN</td>\n",
       "      <td>NaN</td>\n",
       "      <td>NaN</td>\n",
       "      <td>NaN</td>\n",
       "      <td>NaN</td>\n",
       "      <td>NaN</td>\n",
       "      <td>0.156627</td>\n",
       "    </tr>\n",
       "    <tr>\n",
       "      <th>BLK%</th>\n",
       "      <td>NaN</td>\n",
       "      <td>NaN</td>\n",
       "      <td>NaN</td>\n",
       "      <td>NaN</td>\n",
       "      <td>NaN</td>\n",
       "      <td>NaN</td>\n",
       "      <td>NaN</td>\n",
       "      <td>NaN</td>\n",
       "      <td>NaN</td>\n",
       "      <td>NaN</td>\n",
       "    </tr>\n",
       "  </tbody>\n",
       "</table>\n",
       "</div>"
      ],
      "text/plain": [
       "      Age      ORB%       3P%       TOV       PTS       TS%      TRB%  \\\n",
       "Age   NaN  0.271364  0.053916  0.254811  0.000604  0.347336  0.137644   \n",
       "ORB%  NaN       NaN  0.385869  0.266518  0.021138  0.372124  0.309542   \n",
       "3P%   NaN       NaN       NaN  0.160948  0.320172  0.441005  0.273558   \n",
       "TOV   NaN       NaN       NaN       NaN  0.279120  0.175093  0.042942   \n",
       "PTS   NaN       NaN       NaN       NaN       NaN  0.487256  0.103822   \n",
       "TS%   NaN       NaN       NaN       NaN       NaN       NaN  0.014641   \n",
       "TRB%  NaN       NaN       NaN       NaN       NaN       NaN       NaN   \n",
       "AST%  NaN       NaN       NaN       NaN       NaN       NaN       NaN   \n",
       "STL%  NaN       NaN       NaN       NaN       NaN       NaN       NaN   \n",
       "BLK%  NaN       NaN       NaN       NaN       NaN       NaN       NaN   \n",
       "\n",
       "          AST%      STL%      BLK%  \n",
       "Age   0.211632  0.251010  0.009606  \n",
       "ORB%  0.293840  0.005958  0.057916  \n",
       "3P%   0.186827  0.052032  0.125608  \n",
       "TOV   0.147468  0.259844  0.008999  \n",
       "PTS   0.076054  0.019040  0.070252  \n",
       "TS%   0.104371  0.081845  0.247779  \n",
       "TRB%  0.315760  0.203882  0.318281  \n",
       "AST%       NaN  0.204649  0.124974  \n",
       "STL%       NaN       NaN  0.156627  \n",
       "BLK%       NaN       NaN       NaN  "
      ]
     },
     "execution_count": 54,
     "metadata": {},
     "output_type": "execute_result"
    }
   ],
   "source": [
    "# Create correlation matrix\n",
    "corr_matrix = X_train_2.corr().abs()\n",
    "\n",
    "# Select upper triangle of correlation matrix\n",
    "upper = corr_matrix.where(np.triu(np.ones(corr_matrix.shape), k=1).astype(np.bool))\n",
    "upper"
   ]
  },
  {
   "cell_type": "code",
   "execution_count": null,
   "metadata": {},
   "outputs": [],
   "source": []
  },
  {
   "cell_type": "markdown",
   "metadata": {},
   "source": [
    "# Checking Recursive method to see what values it may still remove"
   ]
  },
  {
   "cell_type": "code",
   "execution_count": 55,
   "metadata": {},
   "outputs": [],
   "source": [
    "from sklearn.feature_selection import RFECV"
   ]
  },
  {
   "cell_type": "code",
   "execution_count": 56,
   "metadata": {},
   "outputs": [],
   "source": [
    "ols = linear_model.LinearRegression()"
   ]
  },
  {
   "cell_type": "code",
   "execution_count": 57,
   "metadata": {},
   "outputs": [
    {
     "data": {
      "text/plain": [
       "RFECV(cv=10,\n",
       "      estimator=LinearRegression(copy_X=True, fit_intercept=True, n_jobs=None,\n",
       "                                 normalize=False),\n",
       "      min_features_to_select=1, n_jobs=None, scoring='neg_mean_squared_error',\n",
       "      step=1, verbose=0)"
      ]
     },
     "execution_count": 57,
     "metadata": {},
     "output_type": "execute_result"
    }
   ],
   "source": [
    "# Create recursive feature eliminator that scores features by mean squared errors\n",
    "selector = RFECV(estimator=ols, step=1, cv=10, scoring='neg_mean_squared_error')\n",
    "\n",
    "# Fit recursive feature eliminator \n",
    "selector.fit(X_train_2, y_train_2)"
   ]
  },
  {
   "cell_type": "code",
   "execution_count": 58,
   "metadata": {},
   "outputs": [],
   "source": [
    "selected_rfe_2 = X_train_2.columns[selector.support_]\n",
    "removed_rfe_2 = X_train_2.columns[~selector.support_]"
   ]
  },
  {
   "cell_type": "code",
   "execution_count": 59,
   "metadata": {},
   "outputs": [
    {
     "data": {
      "text/plain": [
       "['3P%', 'AST%', 'BLK%']"
      ]
     },
     "execution_count": 59,
     "metadata": {},
     "output_type": "execute_result"
    }
   ],
   "source": [
    "list(removed_rfe_2)"
   ]
  },
  {
   "cell_type": "code",
   "execution_count": 61,
   "metadata": {
    "collapsed": true
   },
   "outputs": [
    {
     "ename": "KeyError",
     "evalue": "\"['FT%'] not in index\"",
     "output_type": "error",
     "traceback": [
      "\u001b[0;31m---------------------------------------------------------------------------\u001b[0m",
      "\u001b[0;31mKeyError\u001b[0m                                  Traceback (most recent call last)",
      "\u001b[0;32m<ipython-input-61-7bf367d0d774>\u001b[0m in \u001b[0;36m<module>\u001b[0;34m\u001b[0m\n\u001b[1;32m      3\u001b[0m \u001b[0;34m\u001b[0m\u001b[0m\n\u001b[1;32m      4\u001b[0m \u001b[0;31m#fit the linear regression to the data\u001b[0m\u001b[0;34m\u001b[0m\u001b[0;34m\u001b[0m\u001b[0;34m\u001b[0m\u001b[0m\n\u001b[0;32m----> 5\u001b[0;31m \u001b[0mlm_rfe\u001b[0m\u001b[0;34m.\u001b[0m\u001b[0mfit\u001b[0m\u001b[0;34m(\u001b[0m\u001b[0mX_train_2\u001b[0m\u001b[0;34m[\u001b[0m\u001b[0mselected_rfe\u001b[0m\u001b[0;34m]\u001b[0m\u001b[0;34m,\u001b[0m \u001b[0my_train_2\u001b[0m\u001b[0;34m)\u001b[0m\u001b[0;34m\u001b[0m\u001b[0;34m\u001b[0m\u001b[0m\n\u001b[0m\u001b[1;32m      6\u001b[0m \u001b[0;34m\u001b[0m\u001b[0m\n\u001b[1;32m      7\u001b[0m \u001b[0my_train_pred_rfe_2\u001b[0m \u001b[0;34m=\u001b[0m \u001b[0mlm_rfe\u001b[0m\u001b[0;34m.\u001b[0m\u001b[0mpredict\u001b[0m\u001b[0;34m(\u001b[0m\u001b[0mX_train_2\u001b[0m\u001b[0;34m[\u001b[0m\u001b[0mselected_rfe\u001b[0m\u001b[0;34m]\u001b[0m\u001b[0;34m)\u001b[0m\u001b[0;34m\u001b[0m\u001b[0;34m\u001b[0m\u001b[0m\n",
      "\u001b[0;32m~/opt/anaconda3/lib/python3.7/site-packages/pandas/core/frame.py\u001b[0m in \u001b[0;36m__getitem__\u001b[0;34m(self, key)\u001b[0m\n\u001b[1;32m   2804\u001b[0m             \u001b[0;32mif\u001b[0m \u001b[0mis_iterator\u001b[0m\u001b[0;34m(\u001b[0m\u001b[0mkey\u001b[0m\u001b[0;34m)\u001b[0m\u001b[0;34m:\u001b[0m\u001b[0;34m\u001b[0m\u001b[0;34m\u001b[0m\u001b[0m\n\u001b[1;32m   2805\u001b[0m                 \u001b[0mkey\u001b[0m \u001b[0;34m=\u001b[0m \u001b[0mlist\u001b[0m\u001b[0;34m(\u001b[0m\u001b[0mkey\u001b[0m\u001b[0;34m)\u001b[0m\u001b[0;34m\u001b[0m\u001b[0;34m\u001b[0m\u001b[0m\n\u001b[0;32m-> 2806\u001b[0;31m             \u001b[0mindexer\u001b[0m \u001b[0;34m=\u001b[0m \u001b[0mself\u001b[0m\u001b[0;34m.\u001b[0m\u001b[0mloc\u001b[0m\u001b[0;34m.\u001b[0m\u001b[0m_get_listlike_indexer\u001b[0m\u001b[0;34m(\u001b[0m\u001b[0mkey\u001b[0m\u001b[0;34m,\u001b[0m \u001b[0maxis\u001b[0m\u001b[0;34m=\u001b[0m\u001b[0;36m1\u001b[0m\u001b[0;34m,\u001b[0m \u001b[0mraise_missing\u001b[0m\u001b[0;34m=\u001b[0m\u001b[0;32mTrue\u001b[0m\u001b[0;34m)\u001b[0m\u001b[0;34m[\u001b[0m\u001b[0;36m1\u001b[0m\u001b[0;34m]\u001b[0m\u001b[0;34m\u001b[0m\u001b[0;34m\u001b[0m\u001b[0m\n\u001b[0m\u001b[1;32m   2807\u001b[0m \u001b[0;34m\u001b[0m\u001b[0m\n\u001b[1;32m   2808\u001b[0m         \u001b[0;31m# take() does not accept boolean indexers\u001b[0m\u001b[0;34m\u001b[0m\u001b[0;34m\u001b[0m\u001b[0;34m\u001b[0m\u001b[0m\n",
      "\u001b[0;32m~/opt/anaconda3/lib/python3.7/site-packages/pandas/core/indexing.py\u001b[0m in \u001b[0;36m_get_listlike_indexer\u001b[0;34m(self, key, axis, raise_missing)\u001b[0m\n\u001b[1;32m   1550\u001b[0m \u001b[0;34m\u001b[0m\u001b[0m\n\u001b[1;32m   1551\u001b[0m         self._validate_read_indexer(\n\u001b[0;32m-> 1552\u001b[0;31m             \u001b[0mkeyarr\u001b[0m\u001b[0;34m,\u001b[0m \u001b[0mindexer\u001b[0m\u001b[0;34m,\u001b[0m \u001b[0mo\u001b[0m\u001b[0;34m.\u001b[0m\u001b[0m_get_axis_number\u001b[0m\u001b[0;34m(\u001b[0m\u001b[0maxis\u001b[0m\u001b[0;34m)\u001b[0m\u001b[0;34m,\u001b[0m \u001b[0mraise_missing\u001b[0m\u001b[0;34m=\u001b[0m\u001b[0mraise_missing\u001b[0m\u001b[0;34m\u001b[0m\u001b[0;34m\u001b[0m\u001b[0m\n\u001b[0m\u001b[1;32m   1553\u001b[0m         )\n\u001b[1;32m   1554\u001b[0m         \u001b[0;32mreturn\u001b[0m \u001b[0mkeyarr\u001b[0m\u001b[0;34m,\u001b[0m \u001b[0mindexer\u001b[0m\u001b[0;34m\u001b[0m\u001b[0;34m\u001b[0m\u001b[0m\n",
      "\u001b[0;32m~/opt/anaconda3/lib/python3.7/site-packages/pandas/core/indexing.py\u001b[0m in \u001b[0;36m_validate_read_indexer\u001b[0;34m(self, key, indexer, axis, raise_missing)\u001b[0m\n\u001b[1;32m   1643\u001b[0m             \u001b[0;32mif\u001b[0m \u001b[0;32mnot\u001b[0m \u001b[0;34m(\u001b[0m\u001b[0mself\u001b[0m\u001b[0;34m.\u001b[0m\u001b[0mname\u001b[0m \u001b[0;34m==\u001b[0m \u001b[0;34m\"loc\"\u001b[0m \u001b[0;32mand\u001b[0m \u001b[0;32mnot\u001b[0m \u001b[0mraise_missing\u001b[0m\u001b[0;34m)\u001b[0m\u001b[0;34m:\u001b[0m\u001b[0;34m\u001b[0m\u001b[0;34m\u001b[0m\u001b[0m\n\u001b[1;32m   1644\u001b[0m                 \u001b[0mnot_found\u001b[0m \u001b[0;34m=\u001b[0m \u001b[0mlist\u001b[0m\u001b[0;34m(\u001b[0m\u001b[0mset\u001b[0m\u001b[0;34m(\u001b[0m\u001b[0mkey\u001b[0m\u001b[0;34m)\u001b[0m \u001b[0;34m-\u001b[0m \u001b[0mset\u001b[0m\u001b[0;34m(\u001b[0m\u001b[0max\u001b[0m\u001b[0;34m)\u001b[0m\u001b[0;34m)\u001b[0m\u001b[0;34m\u001b[0m\u001b[0;34m\u001b[0m\u001b[0m\n\u001b[0;32m-> 1645\u001b[0;31m                 \u001b[0;32mraise\u001b[0m \u001b[0mKeyError\u001b[0m\u001b[0;34m(\u001b[0m\u001b[0;34mf\"{not_found} not in index\"\u001b[0m\u001b[0;34m)\u001b[0m\u001b[0;34m\u001b[0m\u001b[0;34m\u001b[0m\u001b[0m\n\u001b[0m\u001b[1;32m   1646\u001b[0m \u001b[0;34m\u001b[0m\u001b[0m\n\u001b[1;32m   1647\u001b[0m             \u001b[0;31m# we skip the warning on Categorical/Interval\u001b[0m\u001b[0;34m\u001b[0m\u001b[0;34m\u001b[0m\u001b[0;34m\u001b[0m\u001b[0m\n",
      "\u001b[0;31mKeyError\u001b[0m: \"['FT%'] not in index\""
     ]
    }
   ],
   "source": [
    "#instantiate a linear regression object\n",
    "lm_rfe = LinearRegression()\n",
    "\n",
    "#fit the linear regression to the data\n",
    "lm_rfe.fit(X_train_2[selected_rfe], y_train_2)\n",
    "\n",
    "y_train_pred_rfe_2 = lm_rfe.predict(X_train_2[selected_rfe])\n",
    "\n",
    "train_rmse_rfe_2 = np.sqrt(metrics.mean_squared_error((y_train_2), y_train_pred_rfe_2))\n",
    "\n",
    "\n",
    "print('Training Root Mean Squared Error:' , train_rmse_rfe_2)\n",
    "\n",
    "y_pred_rfe_2 = lm_rfe.predict(X_test_2[selected_rfe])\n",
    "\n",
    "test_rmse_rfe_2 = np.sqrt(metrics.mean_squared_error((y_test_2), y_pred_rfe_2))\n",
    "\n",
    "print('Testing Root Mean Squared Error:' , test_rmse_rfe_2)\n",
    "\n",
    "\n",
    "print(\"vs. Testing: \", float(test_rmse_2), \n",
    "      \"vs. Testing rfe: \", float(test_rmse_rfe_2))"
   ]
  },
  {
   "cell_type": "code",
   "execution_count": null,
   "metadata": {},
   "outputs": [],
   "source": []
  },
  {
   "cell_type": "code",
   "execution_count": 62,
   "metadata": {
    "collapsed": true
   },
   "outputs": [
    {
     "ename": "NameError",
     "evalue": "name 'y_train_pred_rfe_2' is not defined",
     "output_type": "error",
     "traceback": [
      "\u001b[0;31m---------------------------------------------------------------------------\u001b[0m",
      "\u001b[0;31mNameError\u001b[0m                                 Traceback (most recent call last)",
      "\u001b[0;32m<ipython-input-62-ae32cde7f806>\u001b[0m in \u001b[0;36m<module>\u001b[0;34m\u001b[0m\n\u001b[0;32m----> 1\u001b[0;31m \u001b[0msns\u001b[0m\u001b[0;34m.\u001b[0m\u001b[0mresidplot\u001b[0m\u001b[0;34m(\u001b[0m\u001b[0my_train_2\u001b[0m\u001b[0;34m,\u001b[0m \u001b[0my_train_pred_rfe_2\u001b[0m\u001b[0;34m,\u001b[0m\u001b[0mlowess\u001b[0m\u001b[0;34m=\u001b[0m\u001b[0;32mTrue\u001b[0m\u001b[0;34m,\u001b[0m \u001b[0mcolor\u001b[0m\u001b[0;34m=\u001b[0m\u001b[0;34m\"g\"\u001b[0m\u001b[0;34m)\u001b[0m\u001b[0;34m\u001b[0m\u001b[0;34m\u001b[0m\u001b[0m\n\u001b[0m",
      "\u001b[0;31mNameError\u001b[0m: name 'y_train_pred_rfe_2' is not defined"
     ]
    }
   ],
   "source": [
    "sns.residplot(y_train_2, y_train_pred_rfe_2,lowess=True, color=\"g\")"
   ]
  },
  {
   "cell_type": "code",
   "execution_count": null,
   "metadata": {},
   "outputs": [],
   "source": []
  },
  {
   "cell_type": "code",
   "execution_count": null,
   "metadata": {},
   "outputs": [],
   "source": []
  },
  {
   "cell_type": "code",
   "execution_count": null,
   "metadata": {},
   "outputs": [],
   "source": []
  },
  {
   "cell_type": "code",
   "execution_count": null,
   "metadata": {},
   "outputs": [],
   "source": []
  },
  {
   "cell_type": "code",
   "execution_count": null,
   "metadata": {},
   "outputs": [],
   "source": []
  },
  {
   "cell_type": "markdown",
   "metadata": {},
   "source": [
    "# Test 3 - \n",
    "\n",
    "# Taking all the original data from the first test and trying to create some interactions"
   ]
  },
  {
   "cell_type": "code",
   "execution_count": 121,
   "metadata": {},
   "outputs": [],
   "source": [
    "nba_data_3 = nba_data"
   ]
  },
  {
   "cell_type": "code",
   "execution_count": 122,
   "metadata": {},
   "outputs": [],
   "source": [
    "nba_data_3['TS_Ast'] = [nba_data_3['TS%'][i]*nba_data_3['AST%'][i] for i in range(len(nba_data_3['TS%']))]"
   ]
  },
  {
   "cell_type": "code",
   "execution_count": 123,
   "metadata": {},
   "outputs": [],
   "source": [
    "nba_data_3['TS_ORB'] = [nba_data_3['TS%'][i]*nba_data_3['ORB%'][i] for i in range(len(nba_data_3['TS%']))]"
   ]
  },
  {
   "cell_type": "code",
   "execution_count": 124,
   "metadata": {},
   "outputs": [],
   "source": [
    "nba_data_3['TS_Pts'] = [nba_data_3['TS%'][i]*nba_data_3['PTS'][i] for i in range(len(nba_data_3['TS%']))]"
   ]
  },
  {
   "cell_type": "code",
   "execution_count": 125,
   "metadata": {},
   "outputs": [],
   "source": [
    "nba_data_3['TS%'] = [x/10 for x in nba_data_3['TS%']]"
   ]
  },
  {
   "cell_type": "code",
   "execution_count": null,
   "metadata": {},
   "outputs": [],
   "source": []
  },
  {
   "cell_type": "markdown",
   "metadata": {},
   "source": [
    "# Target and features for 3rd test"
   ]
  },
  {
   "cell_type": "code",
   "execution_count": 67,
   "metadata": {},
   "outputs": [],
   "source": [
    "target = nba_data_3['W']"
   ]
  },
  {
   "cell_type": "code",
   "execution_count": 68,
   "metadata": {},
   "outputs": [],
   "source": [
    "features_list_3 = []"
   ]
  },
  {
   "cell_type": "code",
   "execution_count": 69,
   "metadata": {},
   "outputs": [],
   "source": [
    "for x in nba_data_3.columns:\n",
    "    if (x == 'W') or (x == 'Tm') or (x == 'year') or (x == 'Pace'):\n",
    "        pass\n",
    "    else:\n",
    "        features_list_3.append(x)"
   ]
  },
  {
   "cell_type": "code",
   "execution_count": 70,
   "metadata": {},
   "outputs": [],
   "source": [
    "features_3 = nba_data_3[features_list_3]"
   ]
  },
  {
   "cell_type": "code",
   "execution_count": null,
   "metadata": {},
   "outputs": [],
   "source": []
  },
  {
   "cell_type": "code",
   "execution_count": 71,
   "metadata": {},
   "outputs": [],
   "source": [
    "X_train_3, X_test_3, y_train_3, y_test_3= train_test_split(features_3, target, random_state=23,test_size=0.2)  "
   ]
  },
  {
   "cell_type": "code",
   "execution_count": null,
   "metadata": {},
   "outputs": [],
   "source": []
  },
  {
   "cell_type": "code",
   "execution_count": 72,
   "metadata": {},
   "outputs": [],
   "source": [
    "scaler = StandardScaler()\n",
    "final_scaler = scaler.fit(X_train_3)\n",
    "X_train_3 =pd.DataFrame(data=scaler.transform(X_train_3), columns=features_list_3)\n",
    "X_test_3 =pd.DataFrame(data=scaler.transform(X_test_3), columns=features_list_3)"
   ]
  },
  {
   "cell_type": "code",
   "execution_count": null,
   "metadata": {},
   "outputs": [],
   "source": []
  },
  {
   "cell_type": "markdown",
   "metadata": {},
   "source": [
    "# Recursive method 3"
   ]
  },
  {
   "cell_type": "code",
   "execution_count": 73,
   "metadata": {},
   "outputs": [],
   "source": [
    "from sklearn.feature_selection import RFECV"
   ]
  },
  {
   "cell_type": "code",
   "execution_count": 74,
   "metadata": {},
   "outputs": [],
   "source": [
    "ols = linear_model.LinearRegression()"
   ]
  },
  {
   "cell_type": "code",
   "execution_count": 75,
   "metadata": {},
   "outputs": [
    {
     "data": {
      "text/plain": [
       "RFECV(cv=10,\n",
       "      estimator=LinearRegression(copy_X=True, fit_intercept=True, n_jobs=None,\n",
       "                                 normalize=False),\n",
       "      min_features_to_select=1, n_jobs=None, scoring='neg_mean_squared_error',\n",
       "      step=1, verbose=0)"
      ]
     },
     "execution_count": 75,
     "metadata": {},
     "output_type": "execute_result"
    }
   ],
   "source": [
    "# Create recursive feature eliminator that scores features by mean squared errors\n",
    "selector_3 = RFECV(estimator=ols, step=1, cv=10, scoring='neg_mean_squared_error')\n",
    "\n",
    "# Fit recursive feature eliminator \n",
    "selector_3.fit(X_train_3, y_train_3)"
   ]
  },
  {
   "cell_type": "code",
   "execution_count": 76,
   "metadata": {},
   "outputs": [],
   "source": [
    "selected_rfe_3 = X_train_3.columns[selector_3.support_]\n",
    "removed_rfe_3 = X_train_3.columns[~selector_3.support_]"
   ]
  },
  {
   "cell_type": "code",
   "execution_count": 77,
   "metadata": {},
   "outputs": [
    {
     "data": {
      "text/plain": [
       "['3P%', '3PAr', 'FTr']"
      ]
     },
     "execution_count": 77,
     "metadata": {},
     "output_type": "execute_result"
    }
   ],
   "source": [
    "list(removed_rfe_3)"
   ]
  },
  {
   "cell_type": "code",
   "execution_count": 78,
   "metadata": {},
   "outputs": [
    {
     "name": "stdout",
     "output_type": "stream",
     "text": [
      "Training Root Mean Squared Error: 7.214710999838886\n",
      "Testing Root Mean Squared Error: 9.273919835681488\n",
      "vs. Testing:  9.508223863268663 vs. Testing rfe:  9.273919835681488\n"
     ]
    }
   ],
   "source": [
    "#instantiate a linear regression object\n",
    "lm_rfe = LinearRegression()\n",
    "\n",
    "#fit the linear regression to the data\n",
    "lm_rfe.fit(X_train_3[selected_rfe], y_train_3)\n",
    "\n",
    "y_train_pred_rfe_3 = lm_rfe.predict(X_train_3[selected_rfe])\n",
    "\n",
    "train_rmse_rfe_3 = np.sqrt(metrics.mean_squared_error((y_train_3), y_train_pred_rfe_3))\n",
    "\n",
    "\n",
    "print('Training Root Mean Squared Error:' , train_rmse_rfe_3)\n",
    "\n",
    "y_pred_rfe_3 = lm_rfe.predict(X_test_3[selected_rfe])\n",
    "\n",
    "test_rmse_rfe_3 = np.sqrt(metrics.mean_squared_error((y_test_3), y_pred_rfe_3))\n",
    "\n",
    "print('Testing Root Mean Squared Error:' , test_rmse_rfe_3)\n",
    "\n",
    "\n",
    "print(\"vs. Testing: \", float(test_rmse_2), \n",
    "      \"vs. Testing rfe: \", float(test_rmse_rfe_3))"
   ]
  },
  {
   "cell_type": "code",
   "execution_count": null,
   "metadata": {},
   "outputs": [],
   "source": []
  },
  {
   "cell_type": "markdown",
   "metadata": {},
   "source": [
    "# VIF Test 3"
   ]
  },
  {
   "cell_type": "code",
   "execution_count": 142,
   "metadata": {},
   "outputs": [
    {
     "data": {
      "text/html": [
       "<div>\n",
       "<style scoped>\n",
       "    .dataframe tbody tr th:only-of-type {\n",
       "        vertical-align: middle;\n",
       "    }\n",
       "\n",
       "    .dataframe tbody tr th {\n",
       "        vertical-align: top;\n",
       "    }\n",
       "\n",
       "    .dataframe thead th {\n",
       "        text-align: right;\n",
       "    }\n",
       "</style>\n",
       "<table border=\"1\" class=\"dataframe\">\n",
       "  <thead>\n",
       "    <tr style=\"text-align: right;\">\n",
       "      <th></th>\n",
       "      <th>VIF Factor</th>\n",
       "      <th>features</th>\n",
       "    </tr>\n",
       "  </thead>\n",
       "  <tbody>\n",
       "    <tr>\n",
       "      <th>0</th>\n",
       "      <td>1.53796</td>\n",
       "      <td>Age</td>\n",
       "    </tr>\n",
       "    <tr>\n",
       "      <th>1</th>\n",
       "      <td>1282.75952</td>\n",
       "      <td>ORB%</td>\n",
       "    </tr>\n",
       "    <tr>\n",
       "      <th>2</th>\n",
       "      <td>1.88482</td>\n",
       "      <td>3P%</td>\n",
       "    </tr>\n",
       "    <tr>\n",
       "      <th>3</th>\n",
       "      <td>1.70425</td>\n",
       "      <td>FT%</td>\n",
       "    </tr>\n",
       "    <tr>\n",
       "      <th>4</th>\n",
       "      <td>1.81487</td>\n",
       "      <td>TOV</td>\n",
       "    </tr>\n",
       "    <tr>\n",
       "      <th>5</th>\n",
       "      <td>1.97102</td>\n",
       "      <td>PTS</td>\n",
       "    </tr>\n",
       "    <tr>\n",
       "      <th>6</th>\n",
       "      <td>316.22918</td>\n",
       "      <td>TS%</td>\n",
       "    </tr>\n",
       "    <tr>\n",
       "      <th>7</th>\n",
       "      <td>2.45396</td>\n",
       "      <td>3PAr</td>\n",
       "    </tr>\n",
       "    <tr>\n",
       "      <th>8</th>\n",
       "      <td>1.32591</td>\n",
       "      <td>FTr</td>\n",
       "    </tr>\n",
       "    <tr>\n",
       "      <th>9</th>\n",
       "      <td>1.82445</td>\n",
       "      <td>TRB%</td>\n",
       "    </tr>\n",
       "    <tr>\n",
       "      <th>10</th>\n",
       "      <td>943.30565</td>\n",
       "      <td>AST%</td>\n",
       "    </tr>\n",
       "    <tr>\n",
       "      <th>11</th>\n",
       "      <td>1.54945</td>\n",
       "      <td>STL%</td>\n",
       "    </tr>\n",
       "    <tr>\n",
       "      <th>12</th>\n",
       "      <td>1.37716</td>\n",
       "      <td>BLK%</td>\n",
       "    </tr>\n",
       "    <tr>\n",
       "      <th>13</th>\n",
       "      <td>1148.86404</td>\n",
       "      <td>TS_Ast</td>\n",
       "    </tr>\n",
       "    <tr>\n",
       "      <th>14</th>\n",
       "      <td>1112.89599</td>\n",
       "      <td>TS_ORB</td>\n",
       "    </tr>\n",
       "  </tbody>\n",
       "</table>\n",
       "</div>"
      ],
      "text/plain": [
       "    VIF Factor features\n",
       "0      1.53796      Age\n",
       "1   1282.75952     ORB%\n",
       "2      1.88482      3P%\n",
       "3      1.70425      FT%\n",
       "4      1.81487      TOV\n",
       "5      1.97102      PTS\n",
       "6    316.22918      TS%\n",
       "7      2.45396     3PAr\n",
       "8      1.32591      FTr\n",
       "9      1.82445     TRB%\n",
       "10   943.30565     AST%\n",
       "11     1.54945     STL%\n",
       "12     1.37716     BLK%\n",
       "13  1148.86404   TS_Ast\n",
       "14  1112.89599   TS_ORB"
      ]
     },
     "execution_count": 142,
     "metadata": {},
     "output_type": "execute_result"
    }
   ],
   "source": [
    "vif = pd.DataFrame()\n",
    "vif[\"VIF Factor\"] = [variance_inflation_factor(X_train_3.values, i) for i in range(X_train_3.shape[1])]\n",
    "vif[\"features\"] = X_train_3.columns\n",
    "vif.round(5)"
   ]
  },
  {
   "cell_type": "code",
   "execution_count": null,
   "metadata": {},
   "outputs": [],
   "source": []
  },
  {
   "cell_type": "code",
   "execution_count": 80,
   "metadata": {
    "collapsed": true
   },
   "outputs": [
    {
     "data": {
      "text/html": [
       "<table class=\"simpletable\">\n",
       "<caption>OLS Regression Results</caption>\n",
       "<tr>\n",
       "  <th>Dep. Variable:</th>            <td>y</td>        <th>  R-squared:         </th> <td>   0.769</td>\n",
       "</tr>\n",
       "<tr>\n",
       "  <th>Model:</th>                   <td>OLS</td>       <th>  Adj. R-squared:    </th> <td>   0.596</td>\n",
       "</tr>\n",
       "<tr>\n",
       "  <th>Method:</th>             <td>Least Squares</td>  <th>  F-statistic:       </th> <td>   4.436</td>\n",
       "</tr>\n",
       "<tr>\n",
       "  <th>Date:</th>             <td>Wed, 06 May 2020</td> <th>  Prob (F-statistic):</th>  <td>0.00120</td>\n",
       "</tr>\n",
       "<tr>\n",
       "  <th>Time:</th>                 <td>20:04:48</td>     <th>  Log-Likelihood:    </th> <td> -119.07</td>\n",
       "</tr>\n",
       "<tr>\n",
       "  <th>No. Observations:</th>      <td>    36</td>      <th>  AIC:               </th> <td>   270.1</td>\n",
       "</tr>\n",
       "<tr>\n",
       "  <th>Df Residuals:</th>          <td>    20</td>      <th>  BIC:               </th> <td>   295.5</td>\n",
       "</tr>\n",
       "<tr>\n",
       "  <th>Df Model:</th>              <td>    15</td>      <th>                     </th>     <td> </td>   \n",
       "</tr>\n",
       "<tr>\n",
       "  <th>Covariance Type:</th>      <td>nonrobust</td>    <th>                     </th>     <td> </td>   \n",
       "</tr>\n",
       "</table>\n",
       "<table class=\"simpletable\">\n",
       "<tr>\n",
       "     <td></td>       <th>coef</th>     <th>std err</th>      <th>t</th>      <th>P>|t|</th>  <th>[0.025</th>    <th>0.975]</th>  \n",
       "</tr>\n",
       "<tr>\n",
       "  <th>const</th>  <td>   40.5995</td> <td>    1.827</td> <td>   22.227</td> <td> 0.000</td> <td>   36.789</td> <td>   44.410</td>\n",
       "</tr>\n",
       "<tr>\n",
       "  <th>Age</th>    <td>    6.2953</td> <td>    3.074</td> <td>    2.048</td> <td> 0.054</td> <td>   -0.117</td> <td>   12.708</td>\n",
       "</tr>\n",
       "<tr>\n",
       "  <th>ORB%</th>   <td>  -46.0690</td> <td>   67.916</td> <td>   -0.678</td> <td> 0.505</td> <td> -187.739</td> <td>   95.601</td>\n",
       "</tr>\n",
       "<tr>\n",
       "  <th>3P%</th>    <td>    2.4294</td> <td>    1.642</td> <td>    1.480</td> <td> 0.155</td> <td>   -0.995</td> <td>    5.854</td>\n",
       "</tr>\n",
       "<tr>\n",
       "  <th>FT%</th>    <td>   -2.4603</td> <td>    2.383</td> <td>   -1.032</td> <td> 0.314</td> <td>   -7.432</td> <td>    2.511</td>\n",
       "</tr>\n",
       "<tr>\n",
       "  <th>TOV</th>    <td>   -3.3825</td> <td>    3.076</td> <td>   -1.100</td> <td> 0.284</td> <td>   -9.798</td> <td>    3.033</td>\n",
       "</tr>\n",
       "<tr>\n",
       "  <th>PTS</th>    <td>   -1.2705</td> <td>    1.829</td> <td>   -0.695</td> <td> 0.495</td> <td>   -5.086</td> <td>    2.545</td>\n",
       "</tr>\n",
       "<tr>\n",
       "  <th>TS%</th>    <td>  -14.7847</td> <td>   41.287</td> <td>   -0.358</td> <td> 0.724</td> <td> -100.907</td> <td>   71.338</td>\n",
       "</tr>\n",
       "<tr>\n",
       "  <th>3PAr</th>   <td>   -0.8293</td> <td>    3.081</td> <td>   -0.269</td> <td> 0.791</td> <td>   -7.257</td> <td>    5.598</td>\n",
       "</tr>\n",
       "<tr>\n",
       "  <th>FTr</th>    <td>    0.3409</td> <td>    2.454</td> <td>    0.139</td> <td> 0.891</td> <td>   -4.777</td> <td>    5.459</td>\n",
       "</tr>\n",
       "<tr>\n",
       "  <th>TRB%</th>   <td>    1.3793</td> <td>    2.411</td> <td>    0.572</td> <td> 0.574</td> <td>   -3.650</td> <td>    6.409</td>\n",
       "</tr>\n",
       "<tr>\n",
       "  <th>AST%</th>   <td>   -6.8406</td> <td>   79.169</td> <td>   -0.086</td> <td> 0.932</td> <td> -171.984</td> <td>  158.303</td>\n",
       "</tr>\n",
       "<tr>\n",
       "  <th>STL%</th>   <td>    1.0483</td> <td>    1.904</td> <td>    0.551</td> <td> 0.588</td> <td>   -2.924</td> <td>    5.020</td>\n",
       "</tr>\n",
       "<tr>\n",
       "  <th>BLK%</th>   <td>    0.5453</td> <td>    1.967</td> <td>    0.277</td> <td> 0.784</td> <td>   -3.557</td> <td>    4.648</td>\n",
       "</tr>\n",
       "<tr>\n",
       "  <th>TS_Ast</th> <td>   10.7901</td> <td>   87.607</td> <td>    0.123</td> <td> 0.903</td> <td> -171.956</td> <td>  193.536</td>\n",
       "</tr>\n",
       "<tr>\n",
       "  <th>TS_ORB</th> <td>   45.9149</td> <td>   62.949</td> <td>    0.729</td> <td> 0.474</td> <td>  -85.394</td> <td>  177.224</td>\n",
       "</tr>\n",
       "</table>\n",
       "<table class=\"simpletable\">\n",
       "<tr>\n",
       "  <th>Omnibus:</th>       <td> 0.356</td> <th>  Durbin-Watson:     </th> <td>   1.852</td>\n",
       "</tr>\n",
       "<tr>\n",
       "  <th>Prob(Omnibus):</th> <td> 0.837</td> <th>  Jarque-Bera (JB):  </th> <td>   0.476</td>\n",
       "</tr>\n",
       "<tr>\n",
       "  <th>Skew:</th>          <td>-0.204</td> <th>  Prob(JB):          </th> <td>   0.788</td>\n",
       "</tr>\n",
       "<tr>\n",
       "  <th>Kurtosis:</th>      <td> 2.612</td> <th>  Cond. No.          </th> <td>    182.</td>\n",
       "</tr>\n",
       "</table><br/><br/>Warnings:<br/>[1] Standard Errors assume that the covariance matrix of the errors is correctly specified."
      ],
      "text/plain": [
       "<class 'statsmodels.iolib.summary.Summary'>\n",
       "\"\"\"\n",
       "                            OLS Regression Results                            \n",
       "==============================================================================\n",
       "Dep. Variable:                      y   R-squared:                       0.769\n",
       "Model:                            OLS   Adj. R-squared:                  0.596\n",
       "Method:                 Least Squares   F-statistic:                     4.436\n",
       "Date:                Wed, 06 May 2020   Prob (F-statistic):            0.00120\n",
       "Time:                        20:04:48   Log-Likelihood:                -119.07\n",
       "No. Observations:                  36   AIC:                             270.1\n",
       "Df Residuals:                      20   BIC:                             295.5\n",
       "Df Model:                          15                                         \n",
       "Covariance Type:            nonrobust                                         \n",
       "==============================================================================\n",
       "                 coef    std err          t      P>|t|      [0.025      0.975]\n",
       "------------------------------------------------------------------------------\n",
       "const         40.5995      1.827     22.227      0.000      36.789      44.410\n",
       "Age            6.2953      3.074      2.048      0.054      -0.117      12.708\n",
       "ORB%         -46.0690     67.916     -0.678      0.505    -187.739      95.601\n",
       "3P%            2.4294      1.642      1.480      0.155      -0.995       5.854\n",
       "FT%           -2.4603      2.383     -1.032      0.314      -7.432       2.511\n",
       "TOV           -3.3825      3.076     -1.100      0.284      -9.798       3.033\n",
       "PTS           -1.2705      1.829     -0.695      0.495      -5.086       2.545\n",
       "TS%          -14.7847     41.287     -0.358      0.724    -100.907      71.338\n",
       "3PAr          -0.8293      3.081     -0.269      0.791      -7.257       5.598\n",
       "FTr            0.3409      2.454      0.139      0.891      -4.777       5.459\n",
       "TRB%           1.3793      2.411      0.572      0.574      -3.650       6.409\n",
       "AST%          -6.8406     79.169     -0.086      0.932    -171.984     158.303\n",
       "STL%           1.0483      1.904      0.551      0.588      -2.924       5.020\n",
       "BLK%           0.5453      1.967      0.277      0.784      -3.557       4.648\n",
       "TS_Ast        10.7901     87.607      0.123      0.903    -171.956     193.536\n",
       "TS_ORB        45.9149     62.949      0.729      0.474     -85.394     177.224\n",
       "==============================================================================\n",
       "Omnibus:                        0.356   Durbin-Watson:                   1.852\n",
       "Prob(Omnibus):                  0.837   Jarque-Bera (JB):                0.476\n",
       "Skew:                          -0.204   Prob(JB):                        0.788\n",
       "Kurtosis:                       2.612   Cond. No.                         182.\n",
       "==============================================================================\n",
       "\n",
       "Warnings:\n",
       "[1] Standard Errors assume that the covariance matrix of the errors is correctly specified.\n",
       "\"\"\""
      ]
     },
     "execution_count": 80,
     "metadata": {},
     "output_type": "execute_result"
    }
   ],
   "source": [
    "X_endog_3 = sm.add_constant(X_test_3)\n",
    "res_3 = sm.OLS(list(y_test_3), X_endog_3)\n",
    "res_3.fit().summary()"
   ]
  },
  {
   "cell_type": "code",
   "execution_count": null,
   "metadata": {},
   "outputs": [],
   "source": []
  },
  {
   "cell_type": "markdown",
   "metadata": {},
   "source": [
    "Model 3 was to test with all of the new features added on taking into account true shooting for assists, orb and pts. This gave the values more correlation but new model is necessary to remove excess features that are now too collinear."
   ]
  },
  {
   "cell_type": "code",
   "execution_count": null,
   "metadata": {},
   "outputs": [],
   "source": []
  },
  {
   "cell_type": "code",
   "execution_count": null,
   "metadata": {},
   "outputs": [],
   "source": []
  },
  {
   "cell_type": "code",
   "execution_count": null,
   "metadata": {},
   "outputs": [],
   "source": []
  },
  {
   "cell_type": "code",
   "execution_count": null,
   "metadata": {},
   "outputs": [],
   "source": []
  },
  {
   "cell_type": "code",
   "execution_count": null,
   "metadata": {},
   "outputs": [],
   "source": []
  },
  {
   "cell_type": "markdown",
   "metadata": {},
   "source": [
    "# Test 4 \n",
    "\n",
    "# Looking for relations after removing variables that correlate too strongly to eachother and the variables that have a weak affect on the data"
   ]
  },
  {
   "cell_type": "code",
   "execution_count": null,
   "metadata": {},
   "outputs": [],
   "source": []
  },
  {
   "cell_type": "code",
   "execution_count": 143,
   "metadata": {},
   "outputs": [],
   "source": [
    "nba_data_4 = nba_data.drop(columns = ['ORB%', '3PAr', 'FTr', 'AST%', '3P%', \n",
    "                                      'STL%', 'BLK%', 'PTS'])"
   ]
  },
  {
   "cell_type": "code",
   "execution_count": null,
   "metadata": {},
   "outputs": [],
   "source": []
  },
  {
   "cell_type": "code",
   "execution_count": 144,
   "metadata": {},
   "outputs": [],
   "source": [
    "features_list_4 = []"
   ]
  },
  {
   "cell_type": "code",
   "execution_count": 145,
   "metadata": {},
   "outputs": [],
   "source": [
    "for x in nba_data_4:\n",
    "    if (x == 'W') or (x == 'Tm') or (x == 'year') or (x == 'Pace'):\n",
    "        pass\n",
    "    else:\n",
    "        features_list_4.append(x)"
   ]
  },
  {
   "cell_type": "code",
   "execution_count": 146,
   "metadata": {},
   "outputs": [],
   "source": [
    "features_4 = nba_data_4[features_list_4]"
   ]
  },
  {
   "cell_type": "code",
   "execution_count": null,
   "metadata": {},
   "outputs": [],
   "source": []
  },
  {
   "cell_type": "markdown",
   "metadata": {},
   "source": [
    "Train test split"
   ]
  },
  {
   "cell_type": "code",
   "execution_count": 147,
   "metadata": {},
   "outputs": [],
   "source": [
    "X_train_4, X_test_4, y_train_4, y_test_4= train_test_split(features_4, target, random_state=23,test_size=0.2)  "
   ]
  },
  {
   "cell_type": "code",
   "execution_count": null,
   "metadata": {},
   "outputs": [],
   "source": []
  },
  {
   "cell_type": "markdown",
   "metadata": {},
   "source": [
    "Scaler"
   ]
  },
  {
   "cell_type": "code",
   "execution_count": 148,
   "metadata": {},
   "outputs": [],
   "source": [
    "scaler = StandardScaler()\n",
    "final_scaler = scaler.fit(X_train_4)\n",
    "X_train_4 =pd.DataFrame(data=scaler.transform(X_train_4), columns=features_list_4)\n",
    "X_test_4 =pd.DataFrame(data=scaler.transform(X_test_4), columns=features_list_4)"
   ]
  },
  {
   "cell_type": "code",
   "execution_count": null,
   "metadata": {},
   "outputs": [],
   "source": []
  },
  {
   "cell_type": "markdown",
   "metadata": {},
   "source": [
    "Quick look at the data"
   ]
  },
  {
   "cell_type": "code",
   "execution_count": 149,
   "metadata": {
    "scrolled": true
   },
   "outputs": [
    {
     "data": {
      "text/html": [
       "<table class=\"simpletable\">\n",
       "<caption>OLS Regression Results</caption>\n",
       "<tr>\n",
       "  <th>Dep. Variable:</th>            <td>y</td>        <th>  R-squared:         </th> <td>   0.727</td>\n",
       "</tr>\n",
       "<tr>\n",
       "  <th>Model:</th>                   <td>OLS</td>       <th>  Adj. R-squared:    </th> <td>   0.646</td>\n",
       "</tr>\n",
       "<tr>\n",
       "  <th>Method:</th>             <td>Least Squares</td>  <th>  F-statistic:       </th> <td>   8.976</td>\n",
       "</tr>\n",
       "<tr>\n",
       "  <th>Date:</th>             <td>Wed, 06 May 2020</td> <th>  Prob (F-statistic):</th> <td>6.35e-06</td>\n",
       "</tr>\n",
       "<tr>\n",
       "  <th>Time:</th>                 <td>20:26:33</td>     <th>  Log-Likelihood:    </th> <td> -122.08</td>\n",
       "</tr>\n",
       "<tr>\n",
       "  <th>No. Observations:</th>      <td>    36</td>      <th>  AIC:               </th> <td>   262.2</td>\n",
       "</tr>\n",
       "<tr>\n",
       "  <th>Df Residuals:</th>          <td>    27</td>      <th>  BIC:               </th> <td>   276.4</td>\n",
       "</tr>\n",
       "<tr>\n",
       "  <th>Df Model:</th>              <td>     8</td>      <th>                     </th>     <td> </td>   \n",
       "</tr>\n",
       "<tr>\n",
       "  <th>Covariance Type:</th>      <td>nonrobust</td>    <th>                     </th>     <td> </td>   \n",
       "</tr>\n",
       "</table>\n",
       "<table class=\"simpletable\">\n",
       "<tr>\n",
       "     <td></td>       <th>coef</th>     <th>std err</th>      <th>t</th>      <th>P>|t|</th>  <th>[0.025</th>    <th>0.975]</th>  \n",
       "</tr>\n",
       "<tr>\n",
       "  <th>const</th>  <td>   40.6508</td> <td>    1.587</td> <td>   25.616</td> <td> 0.000</td> <td>   37.395</td> <td>   43.907</td>\n",
       "</tr>\n",
       "<tr>\n",
       "  <th>Age</th>    <td>    5.4905</td> <td>    2.112</td> <td>    2.600</td> <td> 0.015</td> <td>    1.158</td> <td>    9.824</td>\n",
       "</tr>\n",
       "<tr>\n",
       "  <th>FT%</th>    <td>   -2.9024</td> <td>    1.947</td> <td>   -1.491</td> <td> 0.148</td> <td>   -6.897</td> <td>    1.092</td>\n",
       "</tr>\n",
       "<tr>\n",
       "  <th>TOV</th>    <td>   -4.0121</td> <td>    2.551</td> <td>   -1.573</td> <td> 0.127</td> <td>   -9.247</td> <td>    1.223</td>\n",
       "</tr>\n",
       "<tr>\n",
       "  <th>TS%</th>    <td>    3.6298</td> <td>    2.878</td> <td>    1.261</td> <td> 0.218</td> <td>   -2.276</td> <td>    9.535</td>\n",
       "</tr>\n",
       "<tr>\n",
       "  <th>TRB%</th>   <td>    1.5630</td> <td>    1.758</td> <td>    0.889</td> <td> 0.382</td> <td>   -2.044</td> <td>    5.170</td>\n",
       "</tr>\n",
       "<tr>\n",
       "  <th>TS_Ast</th> <td>    4.6367</td> <td>    2.064</td> <td>    2.247</td> <td> 0.033</td> <td>    0.402</td> <td>    8.872</td>\n",
       "</tr>\n",
       "<tr>\n",
       "  <th>TS_ORB</th> <td>    2.9109</td> <td>    1.721</td> <td>    1.691</td> <td> 0.102</td> <td>   -0.621</td> <td>    6.443</td>\n",
       "</tr>\n",
       "<tr>\n",
       "  <th>TS_Pts</th> <td>   -1.7225</td> <td>    2.124</td> <td>   -0.811</td> <td> 0.424</td> <td>   -6.080</td> <td>    2.635</td>\n",
       "</tr>\n",
       "</table>\n",
       "<table class=\"simpletable\">\n",
       "<tr>\n",
       "  <th>Omnibus:</th>       <td> 0.149</td> <th>  Durbin-Watson:     </th> <td>   1.963</td>\n",
       "</tr>\n",
       "<tr>\n",
       "  <th>Prob(Omnibus):</th> <td> 0.928</td> <th>  Jarque-Bera (JB):  </th> <td>   0.339</td>\n",
       "</tr>\n",
       "<tr>\n",
       "  <th>Skew:</th>          <td> 0.105</td> <th>  Prob(JB):          </th> <td>   0.844</td>\n",
       "</tr>\n",
       "<tr>\n",
       "  <th>Kurtosis:</th>      <td> 2.573</td> <th>  Cond. No.          </th> <td>    4.95</td>\n",
       "</tr>\n",
       "</table><br/><br/>Warnings:<br/>[1] Standard Errors assume that the covariance matrix of the errors is correctly specified."
      ],
      "text/plain": [
       "<class 'statsmodels.iolib.summary.Summary'>\n",
       "\"\"\"\n",
       "                            OLS Regression Results                            \n",
       "==============================================================================\n",
       "Dep. Variable:                      y   R-squared:                       0.727\n",
       "Model:                            OLS   Adj. R-squared:                  0.646\n",
       "Method:                 Least Squares   F-statistic:                     8.976\n",
       "Date:                Wed, 06 May 2020   Prob (F-statistic):           6.35e-06\n",
       "Time:                        20:26:33   Log-Likelihood:                -122.08\n",
       "No. Observations:                  36   AIC:                             262.2\n",
       "Df Residuals:                      27   BIC:                             276.4\n",
       "Df Model:                           8                                         \n",
       "Covariance Type:            nonrobust                                         \n",
       "==============================================================================\n",
       "                 coef    std err          t      P>|t|      [0.025      0.975]\n",
       "------------------------------------------------------------------------------\n",
       "const         40.6508      1.587     25.616      0.000      37.395      43.907\n",
       "Age            5.4905      2.112      2.600      0.015       1.158       9.824\n",
       "FT%           -2.9024      1.947     -1.491      0.148      -6.897       1.092\n",
       "TOV           -4.0121      2.551     -1.573      0.127      -9.247       1.223\n",
       "TS%            3.6298      2.878      1.261      0.218      -2.276       9.535\n",
       "TRB%           1.5630      1.758      0.889      0.382      -2.044       5.170\n",
       "TS_Ast         4.6367      2.064      2.247      0.033       0.402       8.872\n",
       "TS_ORB         2.9109      1.721      1.691      0.102      -0.621       6.443\n",
       "TS_Pts        -1.7225      2.124     -0.811      0.424      -6.080       2.635\n",
       "==============================================================================\n",
       "Omnibus:                        0.149   Durbin-Watson:                   1.963\n",
       "Prob(Omnibus):                  0.928   Jarque-Bera (JB):                0.339\n",
       "Skew:                           0.105   Prob(JB):                        0.844\n",
       "Kurtosis:                       2.573   Cond. No.                         4.95\n",
       "==============================================================================\n",
       "\n",
       "Warnings:\n",
       "[1] Standard Errors assume that the covariance matrix of the errors is correctly specified.\n",
       "\"\"\""
      ]
     },
     "execution_count": 149,
     "metadata": {},
     "output_type": "execute_result"
    }
   ],
   "source": [
    "X_endog_4 = sm.add_constant(X_test_4)\n",
    "res_4 = sm.OLS(list(y_test_4), X_endog_4)\n",
    "res_4.fit().summary()"
   ]
  },
  {
   "cell_type": "code",
   "execution_count": null,
   "metadata": {},
   "outputs": [],
   "source": []
  },
  {
   "cell_type": "markdown",
   "metadata": {},
   "source": [
    "RFE Check to see if there are any features it would remove"
   ]
  },
  {
   "cell_type": "code",
   "execution_count": 150,
   "metadata": {},
   "outputs": [
    {
     "data": {
      "text/plain": [
       "RFECV(cv=10,\n",
       "      estimator=LinearRegression(copy_X=True, fit_intercept=True, n_jobs=None,\n",
       "                                 normalize=False),\n",
       "      min_features_to_select=1, n_jobs=None, scoring='neg_mean_squared_error',\n",
       "      step=1, verbose=0)"
      ]
     },
     "execution_count": 150,
     "metadata": {},
     "output_type": "execute_result"
    }
   ],
   "source": [
    "# Create recursive feature eliminator that scores features by mean squared errors\n",
    "selector_4 = RFECV(estimator=ols, step=1, cv=10, scoring='neg_mean_squared_error')\n",
    "\n",
    "# Fit recursive feature eliminator \n",
    "selector_4.fit(X_train_4, y_train_4)"
   ]
  },
  {
   "cell_type": "code",
   "execution_count": 151,
   "metadata": {},
   "outputs": [],
   "source": [
    "selected_rfe_4 = X_train_4.columns[selector_4.support_]\n",
    "removed_rfe_4 = X_train_4.columns[~selector_4.support_]"
   ]
  },
  {
   "cell_type": "code",
   "execution_count": null,
   "metadata": {},
   "outputs": [],
   "source": []
  },
  {
   "cell_type": "markdown",
   "metadata": {},
   "source": [
    "Lasso test to check the value"
   ]
  },
  {
   "cell_type": "code",
   "execution_count": 153,
   "metadata": {},
   "outputs": [
    {
     "name": "stdout",
     "output_type": "stream",
     "text": [
      "Training Error: 5.924537623679086\n",
      "Testing Error: 9.541099761257497\n"
     ]
    }
   ],
   "source": [
    "lasso_4 = Lasso(alpha=0.01, max_iter = 5000, normalize=False)\n",
    "\n",
    "lasso_4.fit(X_train_4,y_train_4)\n",
    "\n",
    "y_train_pred_lasso_4 = lasso_4.predict(X_train_4)\n",
    "y_pred_lasso_4 = lasso_4.predict(X_test_4)\n",
    "\n",
    "train_rmse_4 = metrics.mean_absolute_error(y_train_4, y_train_pred_lasso_4)\n",
    "test_rmse_4 = np.sqrt(metrics.mean_squared_error(y_test_4, y_pred_lasso_4))\n",
    "print('Training Error: '+ str(train_rmse_4))\n",
    "print('Testing Error: '+ str(test_rmse_4))"
   ]
  },
  {
   "cell_type": "code",
   "execution_count": null,
   "metadata": {},
   "outputs": [],
   "source": []
  },
  {
   "cell_type": "markdown",
   "metadata": {},
   "source": [
    "Ran this model to check how the new features would run with the older features it came from being removed. Only kept true shooting % as it is one of the most valuable features to the final data"
   ]
  },
  {
   "cell_type": "code",
   "execution_count": null,
   "metadata": {},
   "outputs": [],
   "source": []
  },
  {
   "cell_type": "code",
   "execution_count": null,
   "metadata": {},
   "outputs": [],
   "source": []
  }
 ],
 "metadata": {
  "kernelspec": {
   "display_name": "Python 3",
   "language": "python",
   "name": "python3"
  },
  "language_info": {
   "codemirror_mode": {
    "name": "ipython",
    "version": 3
   },
   "file_extension": ".py",
   "mimetype": "text/x-python",
   "name": "python",
   "nbconvert_exporter": "python",
   "pygments_lexer": "ipython3",
   "version": "3.7.6"
  }
 },
 "nbformat": 4,
 "nbformat_minor": 4
}
