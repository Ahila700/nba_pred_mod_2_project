{
 "cells": [
  {
   "cell_type": "code",
   "execution_count": 70,
   "metadata": {},
   "outputs": [],
   "source": [
    "import pandas as pd\n",
    "import numpy as np\n",
    "\n",
    "import statsmodels.api as sm\n",
    "from statsmodels.formula.api import ols\n",
    "\n",
    "from matplotlib import pyplot as plt\n",
    "\n",
    "from sklearn import linear_model\n",
    "from sklearn.linear_model import LinearRegression\n",
    "\n",
    "from sklearn.model_selection import train_test_split\n",
    "from sklearn import metrics\n",
    "from sklearn.preprocessing import PolynomialFeatures\n",
    "from sklearn.preprocessing import StandardScaler\n",
    "\n",
    "import seaborn as sns\n",
    "\n",
    "import pickle"
   ]
  },
  {
   "cell_type": "code",
   "execution_count": 71,
   "metadata": {},
   "outputs": [],
   "source": [
    "nba_data = pd.read_csv('Finalized_nba_data_for_modeling.csv', index_col = 0)"
   ]
  },
  {
   "cell_type": "code",
   "execution_count": 72,
   "metadata": {},
   "outputs": [],
   "source": [
    "nba_data['TS%'] = [x/10 for x in nba_data['TS%']]"
   ]
  },
  {
   "cell_type": "code",
   "execution_count": null,
   "metadata": {},
   "outputs": [],
   "source": []
  },
  {
   "cell_type": "markdown",
   "metadata": {},
   "source": [
    "# Creating Target and Feature Variables after EDA"
   ]
  },
  {
   "cell_type": "code",
   "execution_count": 73,
   "metadata": {},
   "outputs": [],
   "source": [
    "target = nba_data['W']"
   ]
  },
  {
   "cell_type": "code",
   "execution_count": 74,
   "metadata": {},
   "outputs": [],
   "source": [
    "features_list = []"
   ]
  },
  {
   "cell_type": "code",
   "execution_count": 75,
   "metadata": {},
   "outputs": [],
   "source": [
    "for x in nba_data.columns:\n",
    "    if (x == 'W') or (x == 'Tm') or (x == 'year') or (x == 'Pace'):\n",
    "        pass\n",
    "    else:\n",
    "        features_list.append(x)"
   ]
  },
  {
   "cell_type": "code",
   "execution_count": 76,
   "metadata": {},
   "outputs": [],
   "source": [
    "features = nba_data[features_list]"
   ]
  },
  {
   "cell_type": "code",
   "execution_count": 78,
   "metadata": {},
   "outputs": [
    {
     "data": {
      "text/plain": [
       "17"
      ]
     },
     "execution_count": 78,
     "metadata": {},
     "output_type": "execute_result"
    }
   ],
   "source": [
    "len(features_list)"
   ]
  },
  {
   "cell_type": "markdown",
   "metadata": {},
   "source": [
    "# Running first model with simplified data (no interactions)"
   ]
  },
  {
   "cell_type": "code",
   "execution_count": 79,
   "metadata": {},
   "outputs": [],
   "source": [
    "X_train, X_test, y_train, y_test = train_test_split(features, target, random_state=23,test_size=0.2)  "
   ]
  },
  {
   "cell_type": "code",
   "execution_count": null,
   "metadata": {},
   "outputs": [],
   "source": []
  },
  {
   "cell_type": "markdown",
   "metadata": {},
   "source": [
    "# Creating a Scalar"
   ]
  },
  {
   "cell_type": "code",
   "execution_count": 80,
   "metadata": {},
   "outputs": [],
   "source": [
    "scaler = StandardScaler()\n",
    "final_scaler = scaler.fit(X_train)\n",
    "X_train =pd.DataFrame(data=scaler.transform(X_train), columns=features_list)\n",
    "X_test =pd.DataFrame(data=scaler.transform(X_test), columns=features_list)"
   ]
  },
  {
   "cell_type": "code",
   "execution_count": null,
   "metadata": {},
   "outputs": [],
   "source": []
  },
  {
   "cell_type": "markdown",
   "metadata": {},
   "source": [
    "# Standard Regression Model"
   ]
  },
  {
   "cell_type": "code",
   "execution_count": 81,
   "metadata": {},
   "outputs": [
    {
     "name": "stdout",
     "output_type": "stream",
     "text": [
      "Training Root Mean Squared Error: 4.0919493409603644\n",
      "Testing Root Mean Squared Error: 5.151116850998439\n",
      "Training:  4.0919493409603644 vs. Testing:  5.151116850998439\n"
     ]
    }
   ],
   "source": [
    "#instantiate a linear regression object\n",
    "lm = LinearRegression()\n",
    "\n",
    "#fit the linear regression to the data\n",
    "lm = lm.fit(X_train, y_train)\n",
    "\n",
    "y_train_pred = lm.predict(X_train)\n",
    "\n",
    "train_rmse = np.sqrt(metrics.mean_squared_error((y_train), y_train_pred))\n",
    "\n",
    "\n",
    "print('Training Root Mean Squared Error:' , train_rmse)\n",
    "\n",
    "y_pred = lm.predict(X_test)\n",
    "\n",
    "test_rmse = np.sqrt(metrics.mean_squared_error((y_test), y_pred))\n",
    "\n",
    "print('Testing Root Mean Squared Error:' , test_rmse)\n",
    "\n",
    "\n",
    "print('Training: ', float(train_rmse), \"vs. Testing: \", float(test_rmse))"
   ]
  },
  {
   "cell_type": "code",
   "execution_count": null,
   "metadata": {},
   "outputs": [],
   "source": []
  },
  {
   "cell_type": "code",
   "execution_count": 82,
   "metadata": {},
   "outputs": [
    {
     "data": {
      "text/plain": [
       "<matplotlib.axes._subplots.AxesSubplot at 0x1a21dc8f50>"
      ]
     },
     "execution_count": 82,
     "metadata": {},
     "output_type": "execute_result"
    },
    {
     "data": {
      "image/png": "[encoded data removed]",
      "text/plain": [
       "<Figure size 432x288 with 1 Axes>"
      ]
     },
     "metadata": {},
     "output_type": "display_data"
    }
   ],
   "source": [
    "sns.residplot(y_train, y_train_pred,lowess=True, color=\"g\")"
   ]
  },
  {
   "cell_type": "code",
   "execution_count": null,
   "metadata": {},
   "outputs": [],
   "source": []
  },
  {
   "cell_type": "markdown",
   "metadata": {},
   "source": [
    "# Recurvise Elimination Feature"
   ]
  },
  {
   "cell_type": "code",
   "execution_count": 83,
   "metadata": {},
   "outputs": [],
   "source": [
    "from sklearn.feature_selection import RFECV"
   ]
  },
  {
   "cell_type": "code",
   "execution_count": 84,
   "metadata": {},
   "outputs": [],
   "source": [
    "ols = linear_model.LinearRegression()"
   ]
  },
  {
   "cell_type": "code",
   "execution_count": 85,
   "metadata": {},
   "outputs": [
    {
     "data": {
      "text/plain": [
       "RFECV(cv=10,\n",
       "      estimator=LinearRegression(copy_X=True, fit_intercept=True, n_jobs=None,\n",
       "                                 normalize=False),\n",
       "      min_features_to_select=1, n_jobs=None, scoring='neg_mean_squared_error',\n",
       "      step=1, verbose=0)"
      ]
     },
     "execution_count": 85,
     "metadata": {},
     "output_type": "execute_result"
    }
   ],
   "source": [
    "# Create recursive feature eliminator that scores features by mean squared errors\n",
    "selector = RFECV(estimator=ols, step=1, cv=10, scoring='neg_mean_squared_error')\n",
    "\n",
    "# Fit recursive feature eliminator \n",
    "selector.fit(X_train, y_train)"
   ]
  },
  {
   "cell_type": "code",
   "execution_count": 86,
   "metadata": {},
   "outputs": [],
   "source": [
    "selected_rfe = X_train.columns[selector.support_]\n",
    "removed_rfe = X_train.columns[~selector.support_]"
   ]
  },
  {
   "cell_type": "code",
   "execution_count": 87,
   "metadata": {},
   "outputs": [
    {
     "data": {
      "text/plain": [
       "['3P%', '2P', 'FT%', 'DRB', '3PAr', 'FTr', 'TRB%', 'AST%', 'BLK%']"
      ]
     },
     "execution_count": 87,
     "metadata": {},
     "output_type": "execute_result"
    }
   ],
   "source": [
    "list(removed_rfe)"
   ]
  },
  {
   "cell_type": "code",
   "execution_count": 88,
   "metadata": {},
   "outputs": [
    {
     "data": {
      "text/plain": [
       "8"
      ]
     },
     "execution_count": 88,
     "metadata": {},
     "output_type": "execute_result"
    }
   ],
   "source": [
    "len(selected_rfe)"
   ]
  },
  {
   "cell_type": "code",
   "execution_count": 89,
   "metadata": {},
   "outputs": [
    {
     "name": "stdout",
     "output_type": "stream",
     "text": [
      "Training Root Mean Squared Error: 4.352046193081825\n",
      "Testing Root Mean Squared Error: 5.676818305956155\n",
      "vs. Testing:  5.151116850998439 vs. Testing rfe:  5.676818305956155\n"
     ]
    }
   ],
   "source": [
    "#instantiate a linear regression object\n",
    "lm_rfe = LinearRegression()\n",
    "\n",
    "#fit the linear regression to the data\n",
    "lm_rfe = lm_rfe.fit(X_train[selected_rfe], y_train)\n",
    "\n",
    "y_train_pred_rfe = lm_rfe.predict(X_train[selected_rfe])\n",
    "\n",
    "train_rmse_rfe = np.sqrt(metrics.mean_squared_error((y_train), y_train_pred_rfe))\n",
    "\n",
    "\n",
    "print('Training Root Mean Squared Error:' , train_rmse_rfe)\n",
    "\n",
    "y_pred_rfe = lm_rfe.predict(X_test[selected_rfe])\n",
    "\n",
    "test_rmse_rfe = np.sqrt(metrics.mean_squared_error((y_test), y_pred_rfe))\n",
    "\n",
    "print('Testing Root Mean Squared Error:' , test_rmse_rfe)\n",
    "\n",
    "\n",
    "print(\"vs. Testing: \", float(test_rmse), \n",
    "      \"vs. Testing rfe: \", float(test_rmse_rfe))"
   ]
  },
  {
   "cell_type": "code",
   "execution_count": null,
   "metadata": {},
   "outputs": [],
   "source": []
  },
  {
   "cell_type": "markdown",
   "metadata": {},
   "source": [
    "# KBest Selection"
   ]
  },
  {
   "cell_type": "code",
   "execution_count": 90,
   "metadata": {},
   "outputs": [
    {
     "data": {
      "text/plain": [
       "SelectKBest(k=10, score_func=<function f_regression at 0x1a1f151560>)"
      ]
     },
     "execution_count": 90,
     "metadata": {},
     "output_type": "execute_result"
    }
   ],
   "source": [
    "from sklearn.feature_selection import SelectKBest, f_regression,mutual_info_regression\n",
    "\n",
    "selector = SelectKBest(f_regression, k=10)\n",
    "\n",
    "selector.fit(X_train, y_train)"
   ]
  },
  {
   "cell_type": "code",
   "execution_count": 91,
   "metadata": {},
   "outputs": [],
   "source": [
    "selected_ftest = X_train.columns[selector.get_support()]\n",
    "removed_ftest = X_train.columns[~selector.get_support()]"
   ]
  },
  {
   "cell_type": "code",
   "execution_count": 92,
   "metadata": {},
   "outputs": [
    {
     "data": {
      "text/plain": [
       "['ORB%', 'DRB%', '2P', 'FT%', 'FTr', 'TRB%', 'AST%']"
      ]
     },
     "execution_count": 92,
     "metadata": {},
     "output_type": "execute_result"
    }
   ],
   "source": [
    "list(removed_ftest)"
   ]
  },
  {
   "cell_type": "code",
   "execution_count": 93,
   "metadata": {},
   "outputs": [
    {
     "data": {
      "text/plain": [
       "10"
      ]
     },
     "execution_count": 93,
     "metadata": {},
     "output_type": "execute_result"
    }
   ],
   "source": [
    "len(selected_ftest)"
   ]
  },
  {
   "cell_type": "code",
   "execution_count": 94,
   "metadata": {},
   "outputs": [
    {
     "name": "stdout",
     "output_type": "stream",
     "text": [
      "Training Root Mean Squared Error: 5.183889426910179\n",
      "Testing Root Mean Squared Error: 6.587124406298224\n",
      "vs. Testing:  5.151116850998439 vs. Testing rfe:  5.676818305956155 vs. Testing ftest:  6.587124406298224\n"
     ]
    }
   ],
   "source": [
    "#instantiate a linear regression object\n",
    "lm_ftest = LinearRegression()\n",
    "\n",
    "#fit the linear regression to the data\n",
    "lm_ftest = lm_ftest.fit(X_train[selected_ftest], y_train)\n",
    "\n",
    "y_train_pred_ftest = lm_ftest.predict((X_train[selected_ftest]))\n",
    "\n",
    "train_rmse_ftest = np.sqrt(metrics.mean_squared_error((y_train), y_train_pred_ftest))\n",
    "\n",
    "\n",
    "print('Training Root Mean Squared Error:' , train_rmse_ftest)\n",
    "\n",
    "y_pred_ftest = lm_ftest.predict((X_test[selected_ftest]))\n",
    "\n",
    "test_rmse_ftest = np.sqrt(metrics.mean_squared_error((y_test), y_pred_ftest))\n",
    "\n",
    "print('Testing Root Mean Squared Error:' , test_rmse_ftest)\n",
    "\n",
    "\n",
    "print(\"vs. Testing: \", float(test_rmse), \n",
    "      \"vs. Testing rfe: \", float(test_rmse_rfe),\n",
    "      \"vs. Testing ftest: \", float(test_rmse_ftest))"
   ]
  },
  {
   "cell_type": "code",
   "execution_count": null,
   "metadata": {},
   "outputs": [],
   "source": []
  },
  {
   "cell_type": "markdown",
   "metadata": {},
   "source": [
    "# Applying VIF "
   ]
  },
  {
   "cell_type": "code",
   "execution_count": 95,
   "metadata": {},
   "outputs": [],
   "source": [
    "from statsmodels.stats.outliers_influence import variance_inflation_factor"
   ]
  },
  {
   "cell_type": "code",
   "execution_count": 96,
   "metadata": {},
   "outputs": [
    {
     "data": {
      "text/html": [
       "<div>\n",
       "<style scoped>\n",
       "    .dataframe tbody tr th:only-of-type {\n",
       "        vertical-align: middle;\n",
       "    }\n",
       "\n",
       "    .dataframe tbody tr th {\n",
       "        vertical-align: top;\n",
       "    }\n",
       "\n",
       "    .dataframe thead th {\n",
       "        text-align: right;\n",
       "    }\n",
       "</style>\n",
       "<table border=\"1\" class=\"dataframe\">\n",
       "  <thead>\n",
       "    <tr style=\"text-align: right;\">\n",
       "      <th></th>\n",
       "      <th>VIF Factor</th>\n",
       "      <th>features</th>\n",
       "    </tr>\n",
       "  </thead>\n",
       "  <tbody>\n",
       "    <tr>\n",
       "      <th>0</th>\n",
       "      <td>1.70127</td>\n",
       "      <td>Age</td>\n",
       "    </tr>\n",
       "    <tr>\n",
       "      <th>1</th>\n",
       "      <td>1.50160</td>\n",
       "      <td>TOV%</td>\n",
       "    </tr>\n",
       "    <tr>\n",
       "      <th>2</th>\n",
       "      <td>2.51551</td>\n",
       "      <td>ORB%</td>\n",
       "    </tr>\n",
       "    <tr>\n",
       "      <th>3</th>\n",
       "      <td>1.86759</td>\n",
       "      <td>Dfg%</td>\n",
       "    </tr>\n",
       "    <tr>\n",
       "      <th>4</th>\n",
       "      <td>2.13008</td>\n",
       "      <td>DRB%</td>\n",
       "    </tr>\n",
       "    <tr>\n",
       "      <th>5</th>\n",
       "      <td>2.00758</td>\n",
       "      <td>3P%</td>\n",
       "    </tr>\n",
       "    <tr>\n",
       "      <th>6</th>\n",
       "      <td>5.49633</td>\n",
       "      <td>2P</td>\n",
       "    </tr>\n",
       "    <tr>\n",
       "      <th>7</th>\n",
       "      <td>1.81949</td>\n",
       "      <td>FT%</td>\n",
       "    </tr>\n",
       "    <tr>\n",
       "      <th>8</th>\n",
       "      <td>6.56101</td>\n",
       "      <td>DRB</td>\n",
       "    </tr>\n",
       "    <tr>\n",
       "      <th>9</th>\n",
       "      <td>6.45102</td>\n",
       "      <td>PTS</td>\n",
       "    </tr>\n",
       "    <tr>\n",
       "      <th>10</th>\n",
       "      <td>3.33434</td>\n",
       "      <td>TS%</td>\n",
       "    </tr>\n",
       "    <tr>\n",
       "      <th>11</th>\n",
       "      <td>8.53698</td>\n",
       "      <td>3PAr</td>\n",
       "    </tr>\n",
       "    <tr>\n",
       "      <th>12</th>\n",
       "      <td>1.67373</td>\n",
       "      <td>FTr</td>\n",
       "    </tr>\n",
       "    <tr>\n",
       "      <th>13</th>\n",
       "      <td>3.38123</td>\n",
       "      <td>TRB%</td>\n",
       "    </tr>\n",
       "    <tr>\n",
       "      <th>14</th>\n",
       "      <td>1.37696</td>\n",
       "      <td>AST%</td>\n",
       "    </tr>\n",
       "    <tr>\n",
       "      <th>15</th>\n",
       "      <td>1.76185</td>\n",
       "      <td>STL%</td>\n",
       "    </tr>\n",
       "    <tr>\n",
       "      <th>16</th>\n",
       "      <td>1.43890</td>\n",
       "      <td>BLK%</td>\n",
       "    </tr>\n",
       "  </tbody>\n",
       "</table>\n",
       "</div>"
      ],
      "text/plain": [
       "    VIF Factor features\n",
       "0      1.70127      Age\n",
       "1      1.50160     TOV%\n",
       "2      2.51551     ORB%\n",
       "3      1.86759     Dfg%\n",
       "4      2.13008     DRB%\n",
       "5      2.00758      3P%\n",
       "6      5.49633       2P\n",
       "7      1.81949      FT%\n",
       "8      6.56101      DRB\n",
       "9      6.45102      PTS\n",
       "10     3.33434      TS%\n",
       "11     8.53698     3PAr\n",
       "12     1.67373      FTr\n",
       "13     3.38123     TRB%\n",
       "14     1.37696     AST%\n",
       "15     1.76185     STL%\n",
       "16     1.43890     BLK%"
      ]
     },
     "execution_count": 96,
     "metadata": {},
     "output_type": "execute_result"
    }
   ],
   "source": [
    "vif = pd.DataFrame()\n",
    "vif[\"VIF Factor\"] = [variance_inflation_factor(X_train.values, i) for i in range(X_train.shape[1])]\n",
    "vif[\"features\"] = X_train.columns\n",
    "vif.round(5)"
   ]
  },
  {
   "cell_type": "code",
   "execution_count": null,
   "metadata": {},
   "outputs": [],
   "source": []
  },
  {
   "cell_type": "markdown",
   "metadata": {},
   "source": [
    "# Lasso Method"
   ]
  },
  {
   "cell_type": "code",
   "execution_count": 97,
   "metadata": {},
   "outputs": [],
   "source": [
    "from sklearn.linear_model import Lasso"
   ]
  },
  {
   "cell_type": "code",
   "execution_count": 98,
   "metadata": {},
   "outputs": [
    {
     "name": "stdout",
     "output_type": "stream",
     "text": [
      "Training Error: 3.2369260317271142\n",
      "Testing Error: 5.161862243226851\n"
     ]
    }
   ],
   "source": [
    "lasso = Lasso(alpha=0.01, max_iter = 5000, normalize=False)\n",
    "\n",
    "final_lasso = lasso.fit(X_train,y_train)\n",
    "\n",
    "y_train_pred_lasso = lasso.predict(X_train)\n",
    "y_pred_lasso = lasso.predict(X_test)\n",
    "\n",
    "train_rmse = metrics.mean_absolute_error(y_train, y_train_pred_lasso)\n",
    "test_rmse = np.sqrt(metrics.mean_squared_error(y_test, y_pred_lasso))\n",
    "print('Training Error: '+ str(train_rmse))\n",
    "print('Testing Error: '+ str(test_rmse))"
   ]
  },
  {
   "cell_type": "code",
   "execution_count": null,
   "metadata": {},
   "outputs": [],
   "source": []
  },
  {
   "cell_type": "code",
   "execution_count": 28,
   "metadata": {},
   "outputs": [
    {
     "data": {
      "text/plain": [
       "<matplotlib.axes._subplots.AxesSubplot at 0x1a2045ebd0>"
      ]
     },
     "execution_count": 28,
     "metadata": {},
     "output_type": "execute_result"
    },
    {
     "data": {
      "image/png": "[encoded data removed]",
      "text/plain": [
       "<Figure size 1152x576 with 1 Axes>"
      ]
     },
     "metadata": {
      "needs_background": "light"
     },
     "output_type": "display_data"
    }
   ],
   "source": [
    "lasso_coef01 = pd.DataFrame(data=lasso.coef_).T\n",
    "lasso_coef01.columns = X_train.columns\n",
    "lasso_coef01 = lasso_coef01.T.sort_values(by=0).T\n",
    "lasso_coef01.plot(kind='bar', title='Modal Coefficients', legend=False, figsize=(16,8))"
   ]
  },
  {
   "cell_type": "code",
   "execution_count": 29,
   "metadata": {},
   "outputs": [
    {
     "data": {
      "text/html": [
       "<div>\n",
       "<style scoped>\n",
       "    .dataframe tbody tr th:only-of-type {\n",
       "        vertical-align: middle;\n",
       "    }\n",
       "\n",
       "    .dataframe tbody tr th {\n",
       "        vertical-align: top;\n",
       "    }\n",
       "\n",
       "    .dataframe thead th {\n",
       "        text-align: right;\n",
       "    }\n",
       "</style>\n",
       "<table border=\"1\" class=\"dataframe\">\n",
       "  <thead>\n",
       "    <tr style=\"text-align: right;\">\n",
       "      <th></th>\n",
       "      <th>0</th>\n",
       "    </tr>\n",
       "  </thead>\n",
       "  <tbody>\n",
       "    <tr>\n",
       "      <th>Dfg%</th>\n",
       "      <td>-6.623592</td>\n",
       "    </tr>\n",
       "    <tr>\n",
       "      <th>TOV</th>\n",
       "      <td>-3.695383</td>\n",
       "    </tr>\n",
       "    <tr>\n",
       "      <th>FTr</th>\n",
       "      <td>-0.758077</td>\n",
       "    </tr>\n",
       "    <tr>\n",
       "      <th>FT%</th>\n",
       "      <td>-0.743552</td>\n",
       "    </tr>\n",
       "    <tr>\n",
       "      <th>BLK%</th>\n",
       "      <td>-0.568578</td>\n",
       "    </tr>\n",
       "    <tr>\n",
       "      <th>AST%</th>\n",
       "      <td>0.090475</td>\n",
       "    </tr>\n",
       "    <tr>\n",
       "      <th>3P%</th>\n",
       "      <td>0.767200</td>\n",
       "    </tr>\n",
       "    <tr>\n",
       "      <th>3PAr</th>\n",
       "      <td>1.158684</td>\n",
       "    </tr>\n",
       "    <tr>\n",
       "      <th>Age</th>\n",
       "      <td>1.383195</td>\n",
       "    </tr>\n",
       "    <tr>\n",
       "      <th>TRB%</th>\n",
       "      <td>1.572320</td>\n",
       "    </tr>\n",
       "    <tr>\n",
       "      <th>ORB%</th>\n",
       "      <td>2.288512</td>\n",
       "    </tr>\n",
       "    <tr>\n",
       "      <th>STL%</th>\n",
       "      <td>2.413686</td>\n",
       "    </tr>\n",
       "    <tr>\n",
       "      <th>PTS</th>\n",
       "      <td>2.689858</td>\n",
       "    </tr>\n",
       "    <tr>\n",
       "      <th>TS%</th>\n",
       "      <td>5.274160</td>\n",
       "    </tr>\n",
       "  </tbody>\n",
       "</table>\n",
       "</div>"
      ],
      "text/plain": [
       "             0\n",
       "Dfg% -6.623592\n",
       "TOV  -3.695383\n",
       "FTr  -0.758077\n",
       "FT%  -0.743552\n",
       "BLK% -0.568578\n",
       "AST%  0.090475\n",
       "3P%   0.767200\n",
       "3PAr  1.158684\n",
       "Age   1.383195\n",
       "TRB%  1.572320\n",
       "ORB%  2.288512\n",
       "STL%  2.413686\n",
       "PTS   2.689858\n",
       "TS%   5.274160"
      ]
     },
     "execution_count": 29,
     "metadata": {},
     "output_type": "execute_result"
    }
   ],
   "source": [
    "lasso_coef01.T"
   ]
  },
  {
   "cell_type": "code",
   "execution_count": null,
   "metadata": {},
   "outputs": [],
   "source": []
  },
  {
   "cell_type": "code",
   "execution_count": 30,
   "metadata": {},
   "outputs": [
    {
     "data": {
      "text/plain": [
       "<matplotlib.axes._subplots.AxesSubplot at 0x1a204f80d0>"
      ]
     },
     "execution_count": 30,
     "metadata": {},
     "output_type": "execute_result"
    },
    {
     "data": {
      "image/png": "[encoded data removed]",
      "text/plain": [
       "<Figure size 432x288 with 1 Axes>"
      ]
     },
     "metadata": {
      "needs_background": "light"
     },
     "output_type": "display_data"
    }
   ],
   "source": [
    "sns.residplot( y_train, y_train_pred_lasso,lowess=True, color=\"g\")"
   ]
  },
  {
   "cell_type": "code",
   "execution_count": null,
   "metadata": {},
   "outputs": [],
   "source": []
  },
  {
   "cell_type": "markdown",
   "metadata": {},
   "source": [
    "# Statsmodels to get *R^2* value"
   ]
  },
  {
   "cell_type": "code",
   "execution_count": 31,
   "metadata": {},
   "outputs": [],
   "source": [
    "X_endog = sm.add_constant(X_test)"
   ]
  },
  {
   "cell_type": "code",
   "execution_count": 32,
   "metadata": {},
   "outputs": [],
   "source": [
    "res = sm.OLS(list(y_test), X_endog)"
   ]
  },
  {
   "cell_type": "code",
   "execution_count": 33,
   "metadata": {
    "scrolled": true
   },
   "outputs": [
    {
     "data": {
      "text/html": [
       "<table class=\"simpletable\">\n",
       "<caption>OLS Regression Results</caption>\n",
       "<tr>\n",
       "  <th>Dep. Variable:</th>            <td>y</td>        <th>  R-squared:         </th> <td>   0.931</td>\n",
       "</tr>\n",
       "<tr>\n",
       "  <th>Model:</th>                   <td>OLS</td>       <th>  Adj. R-squared:    </th> <td>   0.885</td>\n",
       "</tr>\n",
       "<tr>\n",
       "  <th>Method:</th>             <td>Least Squares</td>  <th>  F-statistic:       </th> <td>   20.15</td>\n",
       "</tr>\n",
       "<tr>\n",
       "  <th>Date:</th>             <td>Thu, 07 May 2020</td> <th>  Prob (F-statistic):</th> <td>4.54e-09</td>\n",
       "</tr>\n",
       "<tr>\n",
       "  <th>Time:</th>                 <td>09:22:34</td>     <th>  Log-Likelihood:    </th> <td> -97.385</td>\n",
       "</tr>\n",
       "<tr>\n",
       "  <th>No. Observations:</th>      <td>    36</td>      <th>  AIC:               </th> <td>   224.8</td>\n",
       "</tr>\n",
       "<tr>\n",
       "  <th>Df Residuals:</th>          <td>    21</td>      <th>  BIC:               </th> <td>   248.5</td>\n",
       "</tr>\n",
       "<tr>\n",
       "  <th>Df Model:</th>              <td>    14</td>      <th>                     </th>     <td> </td>   \n",
       "</tr>\n",
       "<tr>\n",
       "  <th>Covariance Type:</th>      <td>nonrobust</td>    <th>                     </th>     <td> </td>   \n",
       "</tr>\n",
       "</table>\n",
       "<table class=\"simpletable\">\n",
       "<tr>\n",
       "    <td></td>       <th>coef</th>     <th>std err</th>      <th>t</th>      <th>P>|t|</th>  <th>[0.025</th>    <th>0.975]</th>  \n",
       "</tr>\n",
       "<tr>\n",
       "  <th>const</th> <td>   41.1310</td> <td>    0.974</td> <td>   42.229</td> <td> 0.000</td> <td>   39.105</td> <td>   43.157</td>\n",
       "</tr>\n",
       "<tr>\n",
       "  <th>Age</th>   <td>   -1.0839</td> <td>    1.670</td> <td>   -0.649</td> <td> 0.523</td> <td>   -4.557</td> <td>    2.389</td>\n",
       "</tr>\n",
       "<tr>\n",
       "  <th>ORB%</th>  <td>    3.0919</td> <td>    1.386</td> <td>    2.231</td> <td> 0.037</td> <td>    0.210</td> <td>    5.974</td>\n",
       "</tr>\n",
       "<tr>\n",
       "  <th>Dfg%</th>  <td>  -11.1310</td> <td>    1.560</td> <td>   -7.134</td> <td> 0.000</td> <td>  -14.376</td> <td>   -7.886</td>\n",
       "</tr>\n",
       "<tr>\n",
       "  <th>3P%</th>   <td>   -0.4116</td> <td>    0.965</td> <td>   -0.426</td> <td> 0.674</td> <td>   -2.419</td> <td>    1.596</td>\n",
       "</tr>\n",
       "<tr>\n",
       "  <th>FT%</th>   <td>   -1.3494</td> <td>    1.180</td> <td>   -1.143</td> <td> 0.266</td> <td>   -3.804</td> <td>    1.106</td>\n",
       "</tr>\n",
       "<tr>\n",
       "  <th>TOV</th>   <td>   -7.1892</td> <td>    1.628</td> <td>   -4.417</td> <td> 0.000</td> <td>  -10.574</td> <td>   -3.804</td>\n",
       "</tr>\n",
       "<tr>\n",
       "  <th>PTS</th>   <td>    4.8263</td> <td>    1.301</td> <td>    3.711</td> <td> 0.001</td> <td>    2.121</td> <td>    7.531</td>\n",
       "</tr>\n",
       "<tr>\n",
       "  <th>TS%</th>   <td>    4.9864</td> <td>    1.501</td> <td>    3.323</td> <td> 0.003</td> <td>    1.866</td> <td>    8.107</td>\n",
       "</tr>\n",
       "<tr>\n",
       "  <th>3PAr</th>  <td>    1.3405</td> <td>    1.395</td> <td>    0.961</td> <td> 0.348</td> <td>   -1.561</td> <td>    4.242</td>\n",
       "</tr>\n",
       "<tr>\n",
       "  <th>FTr</th>   <td>   -0.6913</td> <td>    1.105</td> <td>   -0.626</td> <td> 0.538</td> <td>   -2.989</td> <td>    1.606</td>\n",
       "</tr>\n",
       "<tr>\n",
       "  <th>TRB%</th>  <td>    0.7827</td> <td>    1.202</td> <td>    0.651</td> <td> 0.522</td> <td>   -1.718</td> <td>    3.283</td>\n",
       "</tr>\n",
       "<tr>\n",
       "  <th>AST%</th>  <td>    1.9092</td> <td>    1.170</td> <td>    1.632</td> <td> 0.118</td> <td>   -0.524</td> <td>    4.342</td>\n",
       "</tr>\n",
       "<tr>\n",
       "  <th>STL%</th>  <td>    2.6827</td> <td>    1.026</td> <td>    2.616</td> <td> 0.016</td> <td>    0.550</td> <td>    4.815</td>\n",
       "</tr>\n",
       "<tr>\n",
       "  <th>BLK%</th>  <td>   -1.5246</td> <td>    1.028</td> <td>   -1.482</td> <td> 0.153</td> <td>   -3.663</td> <td>    0.614</td>\n",
       "</tr>\n",
       "</table>\n",
       "<table class=\"simpletable\">\n",
       "<tr>\n",
       "  <th>Omnibus:</th>       <td> 4.385</td> <th>  Durbin-Watson:     </th> <td>   2.179</td>\n",
       "</tr>\n",
       "<tr>\n",
       "  <th>Prob(Omnibus):</th> <td> 0.112</td> <th>  Jarque-Bera (JB):  </th> <td>   2.963</td>\n",
       "</tr>\n",
       "<tr>\n",
       "  <th>Skew:</th>          <td>-0.600</td> <th>  Prob(JB):          </th> <td>   0.227</td>\n",
       "</tr>\n",
       "<tr>\n",
       "  <th>Kurtosis:</th>      <td> 3.732</td> <th>  Cond. No.          </th> <td>    6.70</td>\n",
       "</tr>\n",
       "</table><br/><br/>Warnings:<br/>[1] Standard Errors assume that the covariance matrix of the errors is correctly specified."
      ],
      "text/plain": [
       "<class 'statsmodels.iolib.summary.Summary'>\n",
       "\"\"\"\n",
       "                            OLS Regression Results                            \n",
       "==============================================================================\n",
       "Dep. Variable:                      y   R-squared:                       0.931\n",
       "Model:                            OLS   Adj. R-squared:                  0.885\n",
       "Method:                 Least Squares   F-statistic:                     20.15\n",
       "Date:                Thu, 07 May 2020   Prob (F-statistic):           4.54e-09\n",
       "Time:                        09:22:34   Log-Likelihood:                -97.385\n",
       "No. Observations:                  36   AIC:                             224.8\n",
       "Df Residuals:                      21   BIC:                             248.5\n",
       "Df Model:                          14                                         \n",
       "Covariance Type:            nonrobust                                         \n",
       "==============================================================================\n",
       "                 coef    std err          t      P>|t|      [0.025      0.975]\n",
       "------------------------------------------------------------------------------\n",
       "const         41.1310      0.974     42.229      0.000      39.105      43.157\n",
       "Age           -1.0839      1.670     -0.649      0.523      -4.557       2.389\n",
       "ORB%           3.0919      1.386      2.231      0.037       0.210       5.974\n",
       "Dfg%         -11.1310      1.560     -7.134      0.000     -14.376      -7.886\n",
       "3P%           -0.4116      0.965     -0.426      0.674      -2.419       1.596\n",
       "FT%           -1.3494      1.180     -1.143      0.266      -3.804       1.106\n",
       "TOV           -7.1892      1.628     -4.417      0.000     -10.574      -3.804\n",
       "PTS            4.8263      1.301      3.711      0.001       2.121       7.531\n",
       "TS%            4.9864      1.501      3.323      0.003       1.866       8.107\n",
       "3PAr           1.3405      1.395      0.961      0.348      -1.561       4.242\n",
       "FTr           -0.6913      1.105     -0.626      0.538      -2.989       1.606\n",
       "TRB%           0.7827      1.202      0.651      0.522      -1.718       3.283\n",
       "AST%           1.9092      1.170      1.632      0.118      -0.524       4.342\n",
       "STL%           2.6827      1.026      2.616      0.016       0.550       4.815\n",
       "BLK%          -1.5246      1.028     -1.482      0.153      -3.663       0.614\n",
       "==============================================================================\n",
       "Omnibus:                        4.385   Durbin-Watson:                   2.179\n",
       "Prob(Omnibus):                  0.112   Jarque-Bera (JB):                2.963\n",
       "Skew:                          -0.600   Prob(JB):                        0.227\n",
       "Kurtosis:                       3.732   Cond. No.                         6.70\n",
       "==============================================================================\n",
       "\n",
       "Warnings:\n",
       "[1] Standard Errors assume that the covariance matrix of the errors is correctly specified.\n",
       "\"\"\""
      ]
     },
     "execution_count": 33,
     "metadata": {},
     "output_type": "execute_result"
    }
   ],
   "source": [
    "res.fit().summary()"
   ]
  },
  {
   "cell_type": "code",
   "execution_count": 34,
   "metadata": {},
   "outputs": [
    {
     "data": {
      "text/plain": [
       "('3PAr', 'FTr', 'BLK', 'STL')"
      ]
     },
     "execution_count": 34,
     "metadata": {},
     "output_type": "execute_result"
    }
   ],
   "source": [
    "'3PAr', 'FTr', 'BLK', 'STL'"
   ]
  },
  {
   "cell_type": "code",
   "execution_count": null,
   "metadata": {},
   "outputs": [],
   "source": []
  },
  {
   "cell_type": "markdown",
   "metadata": {},
   "source": [
    "The first model had everything included after removing from EDA analysis. After running multiple (different types of models i found that there were multiple features that could be removed, either because they had some collinearity (VIF) or because they did not have enough of an impact on the results (Lasso/Ftest/RFE)"
   ]
  },
  {
   "cell_type": "code",
   "execution_count": null,
   "metadata": {},
   "outputs": [],
   "source": []
  },
  {
   "cell_type": "code",
   "execution_count": null,
   "metadata": {},
   "outputs": [],
   "source": []
  },
  {
   "cell_type": "code",
   "execution_count": null,
   "metadata": {},
   "outputs": [],
   "source": []
  },
  {
   "cell_type": "code",
   "execution_count": null,
   "metadata": {},
   "outputs": [],
   "source": []
  },
  {
   "cell_type": "code",
   "execution_count": null,
   "metadata": {},
   "outputs": [],
   "source": []
  },
  {
   "cell_type": "code",
   "execution_count": null,
   "metadata": {},
   "outputs": [],
   "source": []
  },
  {
   "cell_type": "code",
   "execution_count": null,
   "metadata": {},
   "outputs": [],
   "source": []
  },
  {
   "cell_type": "markdown",
   "metadata": {},
   "source": [
    "# Test 2: \n",
    "\n",
    "# Removing additional features that did not do well in the first run"
   ]
  },
  {
   "cell_type": "code",
   "execution_count": 35,
   "metadata": {},
   "outputs": [
    {
     "data": {
      "text/plain": [
       "Index(['Age', 'W', 'ORB%', 'Dfg%', 'Tm', '3P%', 'FT%', 'TOV', 'PTS', 'TS%',\n",
       "       '3PAr', 'FTr', 'TRB%', 'AST%', 'STL%', 'BLK%', 'year'],\n",
       "      dtype='object')"
      ]
     },
     "execution_count": 35,
     "metadata": {},
     "output_type": "execute_result"
    }
   ],
   "source": [
    "nba_data.columns"
   ]
  },
  {
   "cell_type": "code",
   "execution_count": 36,
   "metadata": {},
   "outputs": [],
   "source": [
    "nba_data_2 = nba_data.drop(columns = ['3PAr', 'FTr', 'FT%'])"
   ]
  },
  {
   "cell_type": "code",
   "execution_count": null,
   "metadata": {},
   "outputs": [],
   "source": []
  },
  {
   "cell_type": "markdown",
   "metadata": {},
   "source": [
    "# Creating Features and Target"
   ]
  },
  {
   "cell_type": "code",
   "execution_count": 37,
   "metadata": {},
   "outputs": [],
   "source": [
    "target = nba_data_2['W']"
   ]
  },
  {
   "cell_type": "code",
   "execution_count": 38,
   "metadata": {},
   "outputs": [],
   "source": [
    "features_list_2 = []"
   ]
  },
  {
   "cell_type": "code",
   "execution_count": 39,
   "metadata": {},
   "outputs": [],
   "source": [
    "for x in nba_data_2.columns:\n",
    "    if (x == 'W') or (x == 'Tm') or (x == 'year') or (x == 'Pace'):\n",
    "        pass\n",
    "    else:\n",
    "        features_list_2.append(x)"
   ]
  },
  {
   "cell_type": "code",
   "execution_count": 40,
   "metadata": {},
   "outputs": [],
   "source": [
    "features_2 = nba_data[features_list_2]"
   ]
  },
  {
   "cell_type": "code",
   "execution_count": null,
   "metadata": {},
   "outputs": [],
   "source": []
  },
  {
   "cell_type": "markdown",
   "metadata": {},
   "source": [
    "# Train test split test 2"
   ]
  },
  {
   "cell_type": "code",
   "execution_count": 41,
   "metadata": {},
   "outputs": [],
   "source": [
    "X_train_2, X_test_2, y_train_2, y_test_2 = train_test_split(features_2, target, random_state=23,test_size=0.2)  "
   ]
  },
  {
   "cell_type": "code",
   "execution_count": null,
   "metadata": {},
   "outputs": [],
   "source": []
  },
  {
   "cell_type": "markdown",
   "metadata": {},
   "source": [
    "# Scaling the Data 2"
   ]
  },
  {
   "cell_type": "code",
   "execution_count": 42,
   "metadata": {},
   "outputs": [],
   "source": [
    "scaler = StandardScaler()\n",
    "scaler.fit(X_train_2)\n",
    "X_train_2 =pd.DataFrame(data=scaler.transform(X_train_2), columns=features_list_2)\n",
    "X_test_2 =pd.DataFrame(data=scaler.transform(X_test_2), columns=features_list_2)"
   ]
  },
  {
   "cell_type": "code",
   "execution_count": null,
   "metadata": {},
   "outputs": [],
   "source": []
  },
  {
   "cell_type": "markdown",
   "metadata": {},
   "source": [
    "# Statsmodel Testing"
   ]
  },
  {
   "cell_type": "code",
   "execution_count": 43,
   "metadata": {},
   "outputs": [],
   "source": [
    "X_endog_2 = sm.add_constant(X_test_2)"
   ]
  },
  {
   "cell_type": "code",
   "execution_count": 44,
   "metadata": {
    "scrolled": true
   },
   "outputs": [],
   "source": [
    "res_2 = sm.OLS(list(y_test_2), X_endog_2)"
   ]
  },
  {
   "cell_type": "code",
   "execution_count": 45,
   "metadata": {},
   "outputs": [
    {
     "data": {
      "text/html": [
       "<table class=\"simpletable\">\n",
       "<caption>OLS Regression Results</caption>\n",
       "<tr>\n",
       "  <th>Dep. Variable:</th>            <td>y</td>        <th>  R-squared:         </th> <td>   0.922</td>\n",
       "</tr>\n",
       "<tr>\n",
       "  <th>Model:</th>                   <td>OLS</td>       <th>  Adj. R-squared:    </th> <td>   0.886</td>\n",
       "</tr>\n",
       "<tr>\n",
       "  <th>Method:</th>             <td>Least Squares</td>  <th>  F-statistic:       </th> <td>   25.69</td>\n",
       "</tr>\n",
       "<tr>\n",
       "  <th>Date:</th>             <td>Thu, 07 May 2020</td> <th>  Prob (F-statistic):</th> <td>1.29e-10</td>\n",
       "</tr>\n",
       "<tr>\n",
       "  <th>Time:</th>                 <td>09:22:41</td>     <th>  Log-Likelihood:    </th> <td> -99.577</td>\n",
       "</tr>\n",
       "<tr>\n",
       "  <th>No. Observations:</th>      <td>    36</td>      <th>  AIC:               </th> <td>   223.2</td>\n",
       "</tr>\n",
       "<tr>\n",
       "  <th>Df Residuals:</th>          <td>    24</td>      <th>  BIC:               </th> <td>   242.2</td>\n",
       "</tr>\n",
       "<tr>\n",
       "  <th>Df Model:</th>              <td>    11</td>      <th>                     </th>     <td> </td>   \n",
       "</tr>\n",
       "<tr>\n",
       "  <th>Covariance Type:</th>      <td>nonrobust</td>    <th>                     </th>     <td> </td>   \n",
       "</tr>\n",
       "</table>\n",
       "<table class=\"simpletable\">\n",
       "<tr>\n",
       "    <td></td>       <th>coef</th>     <th>std err</th>      <th>t</th>      <th>P>|t|</th>  <th>[0.025</th>    <th>0.975]</th>  \n",
       "</tr>\n",
       "<tr>\n",
       "  <th>const</th> <td>   41.1531</td> <td>    0.920</td> <td>   44.727</td> <td> 0.000</td> <td>   39.254</td> <td>   43.052</td>\n",
       "</tr>\n",
       "<tr>\n",
       "  <th>Age</th>   <td>   -0.4024</td> <td>    1.497</td> <td>   -0.269</td> <td> 0.790</td> <td>   -3.491</td> <td>    2.686</td>\n",
       "</tr>\n",
       "<tr>\n",
       "  <th>ORB%</th>  <td>    2.1569</td> <td>    1.133</td> <td>    1.904</td> <td> 0.069</td> <td>   -0.181</td> <td>    4.495</td>\n",
       "</tr>\n",
       "<tr>\n",
       "  <th>Dfg%</th>  <td>  -11.1237</td> <td>    1.494</td> <td>   -7.447</td> <td> 0.000</td> <td>  -14.207</td> <td>   -8.041</td>\n",
       "</tr>\n",
       "<tr>\n",
       "  <th>3P%</th>   <td>   -0.2819</td> <td>    0.945</td> <td>   -0.298</td> <td> 0.768</td> <td>   -2.232</td> <td>    1.668</td>\n",
       "</tr>\n",
       "<tr>\n",
       "  <th>TOV</th>   <td>   -6.1158</td> <td>    1.423</td> <td>   -4.299</td> <td> 0.000</td> <td>   -9.052</td> <td>   -3.179</td>\n",
       "</tr>\n",
       "<tr>\n",
       "  <th>PTS</th>   <td>    4.4362</td> <td>    1.271</td> <td>    3.491</td> <td> 0.002</td> <td>    1.813</td> <td>    7.059</td>\n",
       "</tr>\n",
       "<tr>\n",
       "  <th>TS%</th>   <td>    5.5797</td> <td>    1.211</td> <td>    4.606</td> <td> 0.000</td> <td>    3.079</td> <td>    8.080</td>\n",
       "</tr>\n",
       "<tr>\n",
       "  <th>TRB%</th>  <td>    0.4117</td> <td>    1.094</td> <td>    0.376</td> <td> 0.710</td> <td>   -1.846</td> <td>    2.669</td>\n",
       "</tr>\n",
       "<tr>\n",
       "  <th>AST%</th>  <td>    1.4532</td> <td>    1.045</td> <td>    1.390</td> <td> 0.177</td> <td>   -0.704</td> <td>    3.610</td>\n",
       "</tr>\n",
       "<tr>\n",
       "  <th>STL%</th>  <td>    2.0159</td> <td>    0.886</td> <td>    2.275</td> <td> 0.032</td> <td>    0.187</td> <td>    3.844</td>\n",
       "</tr>\n",
       "<tr>\n",
       "  <th>BLK%</th>  <td>   -1.3610</td> <td>    0.897</td> <td>   -1.517</td> <td> 0.142</td> <td>   -3.212</td> <td>    0.490</td>\n",
       "</tr>\n",
       "</table>\n",
       "<table class=\"simpletable\">\n",
       "<tr>\n",
       "  <th>Omnibus:</th>       <td> 0.004</td> <th>  Durbin-Watson:     </th> <td>   2.058</td>\n",
       "</tr>\n",
       "<tr>\n",
       "  <th>Prob(Omnibus):</th> <td> 0.998</td> <th>  Jarque-Bera (JB):  </th> <td>   0.164</td>\n",
       "</tr>\n",
       "<tr>\n",
       "  <th>Skew:</th>          <td> 0.004</td> <th>  Prob(JB):          </th> <td>   0.921</td>\n",
       "</tr>\n",
       "<tr>\n",
       "  <th>Kurtosis:</th>      <td> 2.669</td> <th>  Cond. No.          </th> <td>    5.65</td>\n",
       "</tr>\n",
       "</table><br/><br/>Warnings:<br/>[1] Standard Errors assume that the covariance matrix of the errors is correctly specified."
      ],
      "text/plain": [
       "<class 'statsmodels.iolib.summary.Summary'>\n",
       "\"\"\"\n",
       "                            OLS Regression Results                            \n",
       "==============================================================================\n",
       "Dep. Variable:                      y   R-squared:                       0.922\n",
       "Model:                            OLS   Adj. R-squared:                  0.886\n",
       "Method:                 Least Squares   F-statistic:                     25.69\n",
       "Date:                Thu, 07 May 2020   Prob (F-statistic):           1.29e-10\n",
       "Time:                        09:22:41   Log-Likelihood:                -99.577\n",
       "No. Observations:                  36   AIC:                             223.2\n",
       "Df Residuals:                      24   BIC:                             242.2\n",
       "Df Model:                          11                                         \n",
       "Covariance Type:            nonrobust                                         \n",
       "==============================================================================\n",
       "                 coef    std err          t      P>|t|      [0.025      0.975]\n",
       "------------------------------------------------------------------------------\n",
       "const         41.1531      0.920     44.727      0.000      39.254      43.052\n",
       "Age           -0.4024      1.497     -0.269      0.790      -3.491       2.686\n",
       "ORB%           2.1569      1.133      1.904      0.069      -0.181       4.495\n",
       "Dfg%         -11.1237      1.494     -7.447      0.000     -14.207      -8.041\n",
       "3P%           -0.2819      0.945     -0.298      0.768      -2.232       1.668\n",
       "TOV           -6.1158      1.423     -4.299      0.000      -9.052      -3.179\n",
       "PTS            4.4362      1.271      3.491      0.002       1.813       7.059\n",
       "TS%            5.5797      1.211      4.606      0.000       3.079       8.080\n",
       "TRB%           0.4117      1.094      0.376      0.710      -1.846       2.669\n",
       "AST%           1.4532      1.045      1.390      0.177      -0.704       3.610\n",
       "STL%           2.0159      0.886      2.275      0.032       0.187       3.844\n",
       "BLK%          -1.3610      0.897     -1.517      0.142      -3.212       0.490\n",
       "==============================================================================\n",
       "Omnibus:                        0.004   Durbin-Watson:                   2.058\n",
       "Prob(Omnibus):                  0.998   Jarque-Bera (JB):                0.164\n",
       "Skew:                           0.004   Prob(JB):                        0.921\n",
       "Kurtosis:                       2.669   Cond. No.                         5.65\n",
       "==============================================================================\n",
       "\n",
       "Warnings:\n",
       "[1] Standard Errors assume that the covariance matrix of the errors is correctly specified.\n",
       "\"\"\""
      ]
     },
     "execution_count": 45,
     "metadata": {},
     "output_type": "execute_result"
    }
   ],
   "source": [
    "res_2.fit().summary()"
   ]
  },
  {
   "cell_type": "code",
   "execution_count": null,
   "metadata": {},
   "outputs": [],
   "source": []
  },
  {
   "cell_type": "markdown",
   "metadata": {},
   "source": [
    "# VIF Factor"
   ]
  },
  {
   "cell_type": "code",
   "execution_count": 46,
   "metadata": {},
   "outputs": [],
   "source": [
    "from statsmodels.stats.outliers_influence import variance_inflation_factor"
   ]
  },
  {
   "cell_type": "code",
   "execution_count": 47,
   "metadata": {},
   "outputs": [
    {
     "data": {
      "text/html": [
       "<div>\n",
       "<style scoped>\n",
       "    .dataframe tbody tr th:only-of-type {\n",
       "        vertical-align: middle;\n",
       "    }\n",
       "\n",
       "    .dataframe tbody tr th {\n",
       "        vertical-align: top;\n",
       "    }\n",
       "\n",
       "    .dataframe thead th {\n",
       "        text-align: right;\n",
       "    }\n",
       "</style>\n",
       "<table border=\"1\" class=\"dataframe\">\n",
       "  <thead>\n",
       "    <tr style=\"text-align: right;\">\n",
       "      <th></th>\n",
       "      <th>VIF Factor</th>\n",
       "      <th>features</th>\n",
       "    </tr>\n",
       "  </thead>\n",
       "  <tbody>\n",
       "    <tr>\n",
       "      <th>0</th>\n",
       "      <td>1.63534</td>\n",
       "      <td>Age</td>\n",
       "    </tr>\n",
       "    <tr>\n",
       "      <th>1</th>\n",
       "      <td>1.70490</td>\n",
       "      <td>ORB%</td>\n",
       "    </tr>\n",
       "    <tr>\n",
       "      <th>2</th>\n",
       "      <td>1.36488</td>\n",
       "      <td>Dfg%</td>\n",
       "    </tr>\n",
       "    <tr>\n",
       "      <th>3</th>\n",
       "      <td>1.61798</td>\n",
       "      <td>3P%</td>\n",
       "    </tr>\n",
       "    <tr>\n",
       "      <th>4</th>\n",
       "      <td>1.67862</td>\n",
       "      <td>TOV</td>\n",
       "    </tr>\n",
       "    <tr>\n",
       "      <th>5</th>\n",
       "      <td>1.84596</td>\n",
       "      <td>PTS</td>\n",
       "    </tr>\n",
       "    <tr>\n",
       "      <th>6</th>\n",
       "      <td>2.21320</td>\n",
       "      <td>TS%</td>\n",
       "    </tr>\n",
       "    <tr>\n",
       "      <th>7</th>\n",
       "      <td>1.57038</td>\n",
       "      <td>TRB%</td>\n",
       "    </tr>\n",
       "    <tr>\n",
       "      <th>8</th>\n",
       "      <td>1.34710</td>\n",
       "      <td>AST%</td>\n",
       "    </tr>\n",
       "    <tr>\n",
       "      <th>9</th>\n",
       "      <td>1.42414</td>\n",
       "      <td>STL%</td>\n",
       "    </tr>\n",
       "    <tr>\n",
       "      <th>10</th>\n",
       "      <td>1.39497</td>\n",
       "      <td>BLK%</td>\n",
       "    </tr>\n",
       "  </tbody>\n",
       "</table>\n",
       "</div>"
      ],
      "text/plain": [
       "    VIF Factor features\n",
       "0      1.63534      Age\n",
       "1      1.70490     ORB%\n",
       "2      1.36488     Dfg%\n",
       "3      1.61798      3P%\n",
       "4      1.67862      TOV\n",
       "5      1.84596      PTS\n",
       "6      2.21320      TS%\n",
       "7      1.57038     TRB%\n",
       "8      1.34710     AST%\n",
       "9      1.42414     STL%\n",
       "10     1.39497     BLK%"
      ]
     },
     "execution_count": 47,
     "metadata": {},
     "output_type": "execute_result"
    }
   ],
   "source": [
    "vif = pd.DataFrame()\n",
    "vif[\"VIF Factor\"] = [variance_inflation_factor(X_train_2.values, i) for i in range(X_train_2.shape[1])]\n",
    "vif[\"features\"] = X_train_2.columns\n",
    "vif.round(5)"
   ]
  },
  {
   "cell_type": "code",
   "execution_count": null,
   "metadata": {},
   "outputs": [],
   "source": []
  },
  {
   "cell_type": "markdown",
   "metadata": {},
   "source": [
    "# Lasso Method"
   ]
  },
  {
   "cell_type": "code",
   "execution_count": 48,
   "metadata": {},
   "outputs": [],
   "source": [
    "from sklearn.linear_model import Lasso"
   ]
  },
  {
   "cell_type": "code",
   "execution_count": 49,
   "metadata": {},
   "outputs": [
    {
     "name": "stdout",
     "output_type": "stream",
     "text": [
      "Training Error: 3.7935091438152195\n",
      "Testing Error: 5.415136142446015\n"
     ]
    }
   ],
   "source": [
    "lasso_2 = Lasso(alpha=0.01, max_iter = 5000, normalize=False)\n",
    "\n",
    "lasso_2.fit(X_train_2,y_train_2)\n",
    "\n",
    "y_train_pred_lasso_2 = lasso_2.predict(X_train_2)\n",
    "y_pred_lasso_2 = lasso_2.predict(X_test_2)\n",
    "\n",
    "train_rmse_2 = metrics.mean_absolute_error(y_train_2, y_train_pred_lasso_2)\n",
    "test_rmse_2 = np.sqrt(metrics.mean_squared_error(y_test_2, y_pred_lasso_2))\n",
    "print('Training Error: '+ str(train_rmse_2))\n",
    "print('Testing Error: '+ str(test_rmse_2))"
   ]
  },
  {
   "cell_type": "code",
   "execution_count": 50,
   "metadata": {
    "scrolled": true
   },
   "outputs": [
    {
     "data": {
      "text/plain": [
       "<matplotlib.axes._subplots.AxesSubplot at 0x1a20ec3a90>"
      ]
     },
     "execution_count": 50,
     "metadata": {},
     "output_type": "execute_result"
    },
    {
     "data": {
      "image/png": "[encoded data removed]",
      "text/plain": [
       "<Figure size 1152x576 with 1 Axes>"
      ]
     },
     "metadata": {
      "needs_background": "light"
     },
     "output_type": "display_data"
    }
   ],
   "source": [
    "lasso_coef02 = pd.DataFrame(data=lasso_2.coef_).T\n",
    "lasso_coef02.columns = X_train_2.columns\n",
    "lasso_coef02 = lasso_coef02.T.sort_values(by=0).T\n",
    "lasso_coef02.plot(kind='bar', title='Modal Coefficients', legend=False, figsize=(16,8))"
   ]
  },
  {
   "cell_type": "code",
   "execution_count": 51,
   "metadata": {},
   "outputs": [
    {
     "data": {
      "text/html": [
       "<div>\n",
       "<style scoped>\n",
       "    .dataframe tbody tr th:only-of-type {\n",
       "        vertical-align: middle;\n",
       "    }\n",
       "\n",
       "    .dataframe tbody tr th {\n",
       "        vertical-align: top;\n",
       "    }\n",
       "\n",
       "    .dataframe thead th {\n",
       "        text-align: right;\n",
       "    }\n",
       "</style>\n",
       "<table border=\"1\" class=\"dataframe\">\n",
       "  <thead>\n",
       "    <tr style=\"text-align: right;\">\n",
       "      <th></th>\n",
       "      <th>0</th>\n",
       "    </tr>\n",
       "  </thead>\n",
       "  <tbody>\n",
       "    <tr>\n",
       "      <th>Dfg%</th>\n",
       "      <td>-6.496142</td>\n",
       "    </tr>\n",
       "    <tr>\n",
       "      <th>TOV</th>\n",
       "      <td>-3.623073</td>\n",
       "    </tr>\n",
       "    <tr>\n",
       "      <th>BLK%</th>\n",
       "      <td>-0.374645</td>\n",
       "    </tr>\n",
       "    <tr>\n",
       "      <th>AST%</th>\n",
       "      <td>-0.061405</td>\n",
       "    </tr>\n",
       "    <tr>\n",
       "      <th>3P%</th>\n",
       "      <td>1.242247</td>\n",
       "    </tr>\n",
       "    <tr>\n",
       "      <th>Age</th>\n",
       "      <td>1.297250</td>\n",
       "    </tr>\n",
       "    <tr>\n",
       "      <th>TRB%</th>\n",
       "      <td>1.385943</td>\n",
       "    </tr>\n",
       "    <tr>\n",
       "      <th>ORB%</th>\n",
       "      <td>2.329456</td>\n",
       "    </tr>\n",
       "    <tr>\n",
       "      <th>STL%</th>\n",
       "      <td>2.456598</td>\n",
       "    </tr>\n",
       "    <tr>\n",
       "      <th>PTS</th>\n",
       "      <td>3.048622</td>\n",
       "    </tr>\n",
       "    <tr>\n",
       "      <th>TS%</th>\n",
       "      <td>5.483881</td>\n",
       "    </tr>\n",
       "  </tbody>\n",
       "</table>\n",
       "</div>"
      ],
      "text/plain": [
       "             0\n",
       "Dfg% -6.496142\n",
       "TOV  -3.623073\n",
       "BLK% -0.374645\n",
       "AST% -0.061405\n",
       "3P%   1.242247\n",
       "Age   1.297250\n",
       "TRB%  1.385943\n",
       "ORB%  2.329456\n",
       "STL%  2.456598\n",
       "PTS   3.048622\n",
       "TS%   5.483881"
      ]
     },
     "execution_count": 51,
     "metadata": {},
     "output_type": "execute_result"
    }
   ],
   "source": [
    "lasso_coef02.T"
   ]
  },
  {
   "cell_type": "code",
   "execution_count": 52,
   "metadata": {},
   "outputs": [
    {
     "data": {
      "text/plain": [
       "<matplotlib.axes._subplots.AxesSubplot at 0x1a2178af10>"
      ]
     },
     "execution_count": 52,
     "metadata": {},
     "output_type": "execute_result"
    },
    {
     "data": {
      "image/png": "[encoded data removed]",
      "text/plain": [
       "<Figure size 432x288 with 1 Axes>"
      ]
     },
     "metadata": {
      "needs_background": "light"
     },
     "output_type": "display_data"
    }
   ],
   "source": [
    "sns.residplot(y_train_2, y_train_pred_lasso_2,lowess=True, color=\"g\")"
   ]
  },
  {
   "cell_type": "code",
   "execution_count": null,
   "metadata": {},
   "outputs": [],
   "source": []
  },
  {
   "cell_type": "code",
   "execution_count": 53,
   "metadata": {
    "scrolled": true
   },
   "outputs": [
    {
     "data": {
      "text/plain": [
       "<matplotlib.axes._subplots.AxesSubplot at 0x1a219b31d0>"
      ]
     },
     "execution_count": 53,
     "metadata": {},
     "output_type": "execute_result"
    },
    {
     "data": {
      "image/png": "[encoded data removed]",
      "text/plain": [
       "<Figure size 792x648 with 2 Axes>"
      ]
     },
     "metadata": {},
     "output_type": "display_data"
    }
   ],
   "source": [
    "sns.set(style=\"white\")\n",
    "\n",
    "\n",
    "# Compute the correlation matrix\n",
    "corr = np.abs(X_train_2.corr())\n",
    "\n",
    "# Generate a mask for the upper triangle\n",
    "mask = np.zeros_like(corr, dtype=np.bool)\n",
    "mask[np.triu_indices_from(mask)] = True\n",
    "\n",
    "# Set up the matplotlib figure\n",
    "f, ax = plt.subplots(figsize=(11, 9))\n",
    "\n",
    "# Generate a custom diverging colormap\n",
    "cmap = sns.diverging_palette(220, 10, as_cmap=True)\n",
    "\n",
    "# Draw the heatmap with the mask and correct aspect ratio\n",
    "sns.heatmap(corr, mask=mask, cmap=cmap, vmax=1, center=0,\n",
    "            square=True, linewidths=.5, cbar_kws={\"shrink\": .5})"
   ]
  },
  {
   "cell_type": "code",
   "execution_count": 54,
   "metadata": {
    "scrolled": false
   },
   "outputs": [
    {
     "data": {
      "text/html": [
       "<div>\n",
       "<style scoped>\n",
       "    .dataframe tbody tr th:only-of-type {\n",
       "        vertical-align: middle;\n",
       "    }\n",
       "\n",
       "    .dataframe tbody tr th {\n",
       "        vertical-align: top;\n",
       "    }\n",
       "\n",
       "    .dataframe thead th {\n",
       "        text-align: right;\n",
       "    }\n",
       "</style>\n",
       "<table border=\"1\" class=\"dataframe\">\n",
       "  <thead>\n",
       "    <tr style=\"text-align: right;\">\n",
       "      <th></th>\n",
       "      <th>Age</th>\n",
       "      <th>ORB%</th>\n",
       "      <th>Dfg%</th>\n",
       "      <th>3P%</th>\n",
       "      <th>TOV</th>\n",
       "      <th>PTS</th>\n",
       "      <th>TS%</th>\n",
       "      <th>TRB%</th>\n",
       "      <th>AST%</th>\n",
       "      <th>STL%</th>\n",
       "      <th>BLK%</th>\n",
       "    </tr>\n",
       "  </thead>\n",
       "  <tbody>\n",
       "    <tr>\n",
       "      <th>Age</th>\n",
       "      <td>NaN</td>\n",
       "      <td>0.271364</td>\n",
       "      <td>0.220461</td>\n",
       "      <td>0.053916</td>\n",
       "      <td>0.254811</td>\n",
       "      <td>0.000604</td>\n",
       "      <td>0.347336</td>\n",
       "      <td>0.137644</td>\n",
       "      <td>0.211632</td>\n",
       "      <td>0.251010</td>\n",
       "      <td>0.009606</td>\n",
       "    </tr>\n",
       "    <tr>\n",
       "      <th>ORB%</th>\n",
       "      <td>NaN</td>\n",
       "      <td>NaN</td>\n",
       "      <td>0.267864</td>\n",
       "      <td>0.385869</td>\n",
       "      <td>0.266518</td>\n",
       "      <td>0.021138</td>\n",
       "      <td>0.372124</td>\n",
       "      <td>0.309542</td>\n",
       "      <td>0.293840</td>\n",
       "      <td>0.005958</td>\n",
       "      <td>0.057916</td>\n",
       "    </tr>\n",
       "    <tr>\n",
       "      <th>Dfg%</th>\n",
       "      <td>NaN</td>\n",
       "      <td>NaN</td>\n",
       "      <td>NaN</td>\n",
       "      <td>0.294204</td>\n",
       "      <td>0.086411</td>\n",
       "      <td>0.098712</td>\n",
       "      <td>0.094116</td>\n",
       "      <td>0.201259</td>\n",
       "      <td>0.036762</td>\n",
       "      <td>0.041797</td>\n",
       "      <td>0.140013</td>\n",
       "    </tr>\n",
       "    <tr>\n",
       "      <th>3P%</th>\n",
       "      <td>NaN</td>\n",
       "      <td>NaN</td>\n",
       "      <td>NaN</td>\n",
       "      <td>NaN</td>\n",
       "      <td>0.160948</td>\n",
       "      <td>0.320172</td>\n",
       "      <td>0.441005</td>\n",
       "      <td>0.273558</td>\n",
       "      <td>0.186827</td>\n",
       "      <td>0.052032</td>\n",
       "      <td>0.125608</td>\n",
       "    </tr>\n",
       "    <tr>\n",
       "      <th>TOV</th>\n",
       "      <td>NaN</td>\n",
       "      <td>NaN</td>\n",
       "      <td>NaN</td>\n",
       "      <td>NaN</td>\n",
       "      <td>NaN</td>\n",
       "      <td>0.279120</td>\n",
       "      <td>0.175093</td>\n",
       "      <td>0.042942</td>\n",
       "      <td>0.147468</td>\n",
       "      <td>0.259844</td>\n",
       "      <td>0.008999</td>\n",
       "    </tr>\n",
       "    <tr>\n",
       "      <th>PTS</th>\n",
       "      <td>NaN</td>\n",
       "      <td>NaN</td>\n",
       "      <td>NaN</td>\n",
       "      <td>NaN</td>\n",
       "      <td>NaN</td>\n",
       "      <td>NaN</td>\n",
       "      <td>0.487256</td>\n",
       "      <td>0.103822</td>\n",
       "      <td>0.076054</td>\n",
       "      <td>0.019040</td>\n",
       "      <td>0.070252</td>\n",
       "    </tr>\n",
       "    <tr>\n",
       "      <th>TS%</th>\n",
       "      <td>NaN</td>\n",
       "      <td>NaN</td>\n",
       "      <td>NaN</td>\n",
       "      <td>NaN</td>\n",
       "      <td>NaN</td>\n",
       "      <td>NaN</td>\n",
       "      <td>NaN</td>\n",
       "      <td>0.014641</td>\n",
       "      <td>0.104371</td>\n",
       "      <td>0.081845</td>\n",
       "      <td>0.247779</td>\n",
       "    </tr>\n",
       "    <tr>\n",
       "      <th>TRB%</th>\n",
       "      <td>NaN</td>\n",
       "      <td>NaN</td>\n",
       "      <td>NaN</td>\n",
       "      <td>NaN</td>\n",
       "      <td>NaN</td>\n",
       "      <td>NaN</td>\n",
       "      <td>NaN</td>\n",
       "      <td>NaN</td>\n",
       "      <td>0.315760</td>\n",
       "      <td>0.203882</td>\n",
       "      <td>0.318281</td>\n",
       "    </tr>\n",
       "    <tr>\n",
       "      <th>AST%</th>\n",
       "      <td>NaN</td>\n",
       "      <td>NaN</td>\n",
       "      <td>NaN</td>\n",
       "      <td>NaN</td>\n",
       "      <td>NaN</td>\n",
       "      <td>NaN</td>\n",
       "      <td>NaN</td>\n",
       "      <td>NaN</td>\n",
       "      <td>NaN</td>\n",
       "      <td>0.204649</td>\n",
       "      <td>0.124974</td>\n",
       "    </tr>\n",
       "    <tr>\n",
       "      <th>STL%</th>\n",
       "      <td>NaN</td>\n",
       "      <td>NaN</td>\n",
       "      <td>NaN</td>\n",
       "      <td>NaN</td>\n",
       "      <td>NaN</td>\n",
       "      <td>NaN</td>\n",
       "      <td>NaN</td>\n",
       "      <td>NaN</td>\n",
       "      <td>NaN</td>\n",
       "      <td>NaN</td>\n",
       "      <td>0.156627</td>\n",
       "    </tr>\n",
       "    <tr>\n",
       "      <th>BLK%</th>\n",
       "      <td>NaN</td>\n",
       "      <td>NaN</td>\n",
       "      <td>NaN</td>\n",
       "      <td>NaN</td>\n",
       "      <td>NaN</td>\n",
       "      <td>NaN</td>\n",
       "      <td>NaN</td>\n",
       "      <td>NaN</td>\n",
       "      <td>NaN</td>\n",
       "      <td>NaN</td>\n",
       "      <td>NaN</td>\n",
       "    </tr>\n",
       "  </tbody>\n",
       "</table>\n",
       "</div>"
      ],
      "text/plain": [
       "      Age      ORB%      Dfg%       3P%       TOV       PTS       TS%  \\\n",
       "Age   NaN  0.271364  0.220461  0.053916  0.254811  0.000604  0.347336   \n",
       "ORB%  NaN       NaN  0.267864  0.385869  0.266518  0.021138  0.372124   \n",
       "Dfg%  NaN       NaN       NaN  0.294204  0.086411  0.098712  0.094116   \n",
       "3P%   NaN       NaN       NaN       NaN  0.160948  0.320172  0.441005   \n",
       "TOV   NaN       NaN       NaN       NaN       NaN  0.279120  0.175093   \n",
       "PTS   NaN       NaN       NaN       NaN       NaN       NaN  0.487256   \n",
       "TS%   NaN       NaN       NaN       NaN       NaN       NaN       NaN   \n",
       "TRB%  NaN       NaN       NaN       NaN       NaN       NaN       NaN   \n",
       "AST%  NaN       NaN       NaN       NaN       NaN       NaN       NaN   \n",
       "STL%  NaN       NaN       NaN       NaN       NaN       NaN       NaN   \n",
       "BLK%  NaN       NaN       NaN       NaN       NaN       NaN       NaN   \n",
       "\n",
       "          TRB%      AST%      STL%      BLK%  \n",
       "Age   0.137644  0.211632  0.251010  0.009606  \n",
       "ORB%  0.309542  0.293840  0.005958  0.057916  \n",
       "Dfg%  0.201259  0.036762  0.041797  0.140013  \n",
       "3P%   0.273558  0.186827  0.052032  0.125608  \n",
       "TOV   0.042942  0.147468  0.259844  0.008999  \n",
       "PTS   0.103822  0.076054  0.019040  0.070252  \n",
       "TS%   0.014641  0.104371  0.081845  0.247779  \n",
       "TRB%       NaN  0.315760  0.203882  0.318281  \n",
       "AST%       NaN       NaN  0.204649  0.124974  \n",
       "STL%       NaN       NaN       NaN  0.156627  \n",
       "BLK%       NaN       NaN       NaN       NaN  "
      ]
     },
     "execution_count": 54,
     "metadata": {},
     "output_type": "execute_result"
    }
   ],
   "source": [
    "# Create correlation matrix\n",
    "corr_matrix = X_train_2.corr().abs()\n",
    "\n",
    "# Select upper triangle of correlation matrix\n",
    "upper = corr_matrix.where(np.triu(np.ones(corr_matrix.shape), k=1).astype(np.bool))\n",
    "upper"
   ]
  },
  {
   "cell_type": "code",
   "execution_count": null,
   "metadata": {},
   "outputs": [],
   "source": []
  },
  {
   "cell_type": "markdown",
   "metadata": {},
   "source": [
    "# Checking Recursive method to see what values it may still remove"
   ]
  },
  {
   "cell_type": "code",
   "execution_count": 55,
   "metadata": {},
   "outputs": [],
   "source": [
    "from sklearn.feature_selection import RFECV"
   ]
  },
  {
   "cell_type": "code",
   "execution_count": 56,
   "metadata": {},
   "outputs": [],
   "source": [
    "ols = linear_model.LinearRegression()"
   ]
  },
  {
   "cell_type": "code",
   "execution_count": 57,
   "metadata": {},
   "outputs": [
    {
     "data": {
      "text/plain": [
       "RFECV(cv=10,\n",
       "      estimator=LinearRegression(copy_X=True, fit_intercept=True, n_jobs=None,\n",
       "                                 normalize=False),\n",
       "      min_features_to_select=1, n_jobs=None, scoring='neg_mean_squared_error',\n",
       "      step=1, verbose=0)"
      ]
     },
     "execution_count": 57,
     "metadata": {},
     "output_type": "execute_result"
    }
   ],
   "source": [
    "# Create recursive feature eliminator that scores features by mean squared errors\n",
    "selector = RFECV(estimator=ols, step=1, cv=10, scoring='neg_mean_squared_error')\n",
    "\n",
    "# Fit recursive feature eliminator \n",
    "selector.fit(X_train_2, y_train_2)"
   ]
  },
  {
   "cell_type": "code",
   "execution_count": 58,
   "metadata": {},
   "outputs": [],
   "source": [
    "selected_rfe_2 = X_train_2.columns[selector.support_]\n",
    "removed_rfe_2 = X_train_2.columns[~selector.support_]"
   ]
  },
  {
   "cell_type": "code",
   "execution_count": 59,
   "metadata": {},
   "outputs": [
    {
     "data": {
      "text/plain": [
       "['AST%', 'BLK%']"
      ]
     },
     "execution_count": 59,
     "metadata": {},
     "output_type": "execute_result"
    }
   ],
   "source": [
    "list(removed_rfe_2)"
   ]
  },
  {
   "cell_type": "code",
   "execution_count": 60,
   "metadata": {
    "scrolled": true
   },
   "outputs": [
    {
     "ename": "KeyError",
     "evalue": "\"['3PAr', 'FTr', 'FT%'] not in index\"",
     "output_type": "error",
     "traceback": [
      "\u001b[0;31m---------------------------------------------------------------------------\u001b[0m",
      "\u001b[0;31mKeyError\u001b[0m                                  Traceback (most recent call last)",
      "\u001b[0;32m<ipython-input-60-7bf367d0d774>\u001b[0m in \u001b[0;36m<module>\u001b[0;34m\u001b[0m\n\u001b[1;32m      3\u001b[0m \u001b[0;34m\u001b[0m\u001b[0m\n\u001b[1;32m      4\u001b[0m \u001b[0;31m#fit the linear regression to the data\u001b[0m\u001b[0;34m\u001b[0m\u001b[0;34m\u001b[0m\u001b[0;34m\u001b[0m\u001b[0m\n\u001b[0;32m----> 5\u001b[0;31m \u001b[0mlm_rfe\u001b[0m\u001b[0;34m.\u001b[0m\u001b[0mfit\u001b[0m\u001b[0;34m(\u001b[0m\u001b[0mX_train_2\u001b[0m\u001b[0;34m[\u001b[0m\u001b[0mselected_rfe\u001b[0m\u001b[0;34m]\u001b[0m\u001b[0;34m,\u001b[0m \u001b[0my_train_2\u001b[0m\u001b[0;34m)\u001b[0m\u001b[0;34m\u001b[0m\u001b[0;34m\u001b[0m\u001b[0m\n\u001b[0m\u001b[1;32m      6\u001b[0m \u001b[0;34m\u001b[0m\u001b[0m\n\u001b[1;32m      7\u001b[0m \u001b[0my_train_pred_rfe_2\u001b[0m \u001b[0;34m=\u001b[0m \u001b[0mlm_rfe\u001b[0m\u001b[0;34m.\u001b[0m\u001b[0mpredict\u001b[0m\u001b[0;34m(\u001b[0m\u001b[0mX_train_2\u001b[0m\u001b[0;34m[\u001b[0m\u001b[0mselected_rfe\u001b[0m\u001b[0;34m]\u001b[0m\u001b[0;34m)\u001b[0m\u001b[0;34m\u001b[0m\u001b[0;34m\u001b[0m\u001b[0m\n",
      "\u001b[0;32m~/opt/anaconda3/lib/python3.7/site-packages/pandas/core/frame.py\u001b[0m in \u001b[0;36m__getitem__\u001b[0;34m(self, key)\u001b[0m\n\u001b[1;32m   2804\u001b[0m             \u001b[0;32mif\u001b[0m \u001b[0mis_iterator\u001b[0m\u001b[0;34m(\u001b[0m\u001b[0mkey\u001b[0m\u001b[0;34m)\u001b[0m\u001b[0;34m:\u001b[0m\u001b[0;34m\u001b[0m\u001b[0;34m\u001b[0m\u001b[0m\n\u001b[1;32m   2805\u001b[0m                 \u001b[0mkey\u001b[0m \u001b[0;34m=\u001b[0m \u001b[0mlist\u001b[0m\u001b[0;34m(\u001b[0m\u001b[0mkey\u001b[0m\u001b[0;34m)\u001b[0m\u001b[0;34m\u001b[0m\u001b[0;34m\u001b[0m\u001b[0m\n\u001b[0;32m-> 2806\u001b[0;31m             \u001b[0mindexer\u001b[0m \u001b[0;34m=\u001b[0m \u001b[0mself\u001b[0m\u001b[0;34m.\u001b[0m\u001b[0mloc\u001b[0m\u001b[0;34m.\u001b[0m\u001b[0m_get_listlike_indexer\u001b[0m\u001b[0;34m(\u001b[0m\u001b[0mkey\u001b[0m\u001b[0;34m,\u001b[0m \u001b[0maxis\u001b[0m\u001b[0;34m=\u001b[0m\u001b[0;36m1\u001b[0m\u001b[0;34m,\u001b[0m \u001b[0mraise_missing\u001b[0m\u001b[0;34m=\u001b[0m\u001b[0;32mTrue\u001b[0m\u001b[0;34m)\u001b[0m\u001b[0;34m[\u001b[0m\u001b[0;36m1\u001b[0m\u001b[0;34m]\u001b[0m\u001b[0;34m\u001b[0m\u001b[0;34m\u001b[0m\u001b[0m\n\u001b[0m\u001b[1;32m   2807\u001b[0m \u001b[0;34m\u001b[0m\u001b[0m\n\u001b[1;32m   2808\u001b[0m         \u001b[0;31m# take() does not accept boolean indexers\u001b[0m\u001b[0;34m\u001b[0m\u001b[0;34m\u001b[0m\u001b[0;34m\u001b[0m\u001b[0m\n",
      "\u001b[0;32m~/opt/anaconda3/lib/python3.7/site-packages/pandas/core/indexing.py\u001b[0m in \u001b[0;36m_get_listlike_indexer\u001b[0;34m(self, key, axis, raise_missing)\u001b[0m\n\u001b[1;32m   1550\u001b[0m \u001b[0;34m\u001b[0m\u001b[0m\n\u001b[1;32m   1551\u001b[0m         self._validate_read_indexer(\n\u001b[0;32m-> 1552\u001b[0;31m             \u001b[0mkeyarr\u001b[0m\u001b[0;34m,\u001b[0m \u001b[0mindexer\u001b[0m\u001b[0;34m,\u001b[0m \u001b[0mo\u001b[0m\u001b[0;34m.\u001b[0m\u001b[0m_get_axis_number\u001b[0m\u001b[0;34m(\u001b[0m\u001b[0maxis\u001b[0m\u001b[0;34m)\u001b[0m\u001b[0;34m,\u001b[0m \u001b[0mraise_missing\u001b[0m\u001b[0;34m=\u001b[0m\u001b[0mraise_missing\u001b[0m\u001b[0;34m\u001b[0m\u001b[0;34m\u001b[0m\u001b[0m\n\u001b[0m\u001b[1;32m   1553\u001b[0m         )\n\u001b[1;32m   1554\u001b[0m         \u001b[0;32mreturn\u001b[0m \u001b[0mkeyarr\u001b[0m\u001b[0;34m,\u001b[0m \u001b[0mindexer\u001b[0m\u001b[0;34m\u001b[0m\u001b[0;34m\u001b[0m\u001b[0m\n",
      "\u001b[0;32m~/opt/anaconda3/lib/python3.7/site-packages/pandas/core/indexing.py\u001b[0m in \u001b[0;36m_validate_read_indexer\u001b[0;34m(self, key, indexer, axis, raise_missing)\u001b[0m\n\u001b[1;32m   1643\u001b[0m             \u001b[0;32mif\u001b[0m \u001b[0;32mnot\u001b[0m \u001b[0;34m(\u001b[0m\u001b[0mself\u001b[0m\u001b[0;34m.\u001b[0m\u001b[0mname\u001b[0m \u001b[0;34m==\u001b[0m \u001b[0;34m\"loc\"\u001b[0m \u001b[0;32mand\u001b[0m \u001b[0;32mnot\u001b[0m \u001b[0mraise_missing\u001b[0m\u001b[0;34m)\u001b[0m\u001b[0;34m:\u001b[0m\u001b[0;34m\u001b[0m\u001b[0;34m\u001b[0m\u001b[0m\n\u001b[1;32m   1644\u001b[0m                 \u001b[0mnot_found\u001b[0m \u001b[0;34m=\u001b[0m \u001b[0mlist\u001b[0m\u001b[0;34m(\u001b[0m\u001b[0mset\u001b[0m\u001b[0;34m(\u001b[0m\u001b[0mkey\u001b[0m\u001b[0;34m)\u001b[0m \u001b[0;34m-\u001b[0m \u001b[0mset\u001b[0m\u001b[0;34m(\u001b[0m\u001b[0max\u001b[0m\u001b[0;34m)\u001b[0m\u001b[0;34m)\u001b[0m\u001b[0;34m\u001b[0m\u001b[0;34m\u001b[0m\u001b[0m\n\u001b[0;32m-> 1645\u001b[0;31m                 \u001b[0;32mraise\u001b[0m \u001b[0mKeyError\u001b[0m\u001b[0;34m(\u001b[0m\u001b[0;34mf\"{not_found} not in index\"\u001b[0m\u001b[0;34m)\u001b[0m\u001b[0;34m\u001b[0m\u001b[0;34m\u001b[0m\u001b[0m\n\u001b[0m\u001b[1;32m   1646\u001b[0m \u001b[0;34m\u001b[0m\u001b[0m\n\u001b[1;32m   1647\u001b[0m             \u001b[0;31m# we skip the warning on Categorical/Interval\u001b[0m\u001b[0;34m\u001b[0m\u001b[0;34m\u001b[0m\u001b[0;34m\u001b[0m\u001b[0m\n",
      "\u001b[0;31mKeyError\u001b[0m: \"['3PAr', 'FTr', 'FT%'] not in index\""
     ]
    }
   ],
   "source": [
    "#instantiate a linear regression object\n",
    "lm_rfe = LinearRegression()\n",
    "\n",
    "#fit the linear regression to the data\n",
    "lm_rfe.fit(X_train_2[selected_rfe], y_train_2)\n",
    "\n",
    "y_train_pred_rfe_2 = lm_rfe.predict(X_train_2[selected_rfe])\n",
    "\n",
    "train_rmse_rfe_2 = np.sqrt(metrics.mean_squared_error((y_train_2), y_train_pred_rfe_2))\n",
    "\n",
    "\n",
    "print('Training Root Mean Squared Error:' , train_rmse_rfe_2)\n",
    "\n",
    "y_pred_rfe_2 = lm_rfe.predict(X_test_2[selected_rfe])\n",
    "\n",
    "test_rmse_rfe_2 = np.sqrt(metrics.mean_squared_error((y_test_2), y_pred_rfe_2))\n",
    "\n",
    "print('Testing Root Mean Squared Error:' , test_rmse_rfe_2)\n",
    "\n",
    "\n",
    "print(\"vs. Testing: \", float(test_rmse_2), \n",
    "      \"vs. Testing rfe: \", float(test_rmse_rfe_2))"
   ]
  },
  {
   "cell_type": "code",
   "execution_count": null,
   "metadata": {},
   "outputs": [],
   "source": []
  },
  {
   "cell_type": "code",
   "execution_count": 61,
   "metadata": {
    "collapsed": true
   },
   "outputs": [
    {
     "ename": "NameError",
     "evalue": "name 'y_train_pred_rfe_2' is not defined",
     "output_type": "error",
     "traceback": [
      "\u001b[0;31m---------------------------------------------------------------------------\u001b[0m",
      "\u001b[0;31mNameError\u001b[0m                                 Traceback (most recent call last)",
      "\u001b[0;32m<ipython-input-61-ae32cde7f806>\u001b[0m in \u001b[0;36m<module>\u001b[0;34m\u001b[0m\n\u001b[0;32m----> 1\u001b[0;31m \u001b[0msns\u001b[0m\u001b[0;34m.\u001b[0m\u001b[0mresidplot\u001b[0m\u001b[0;34m(\u001b[0m\u001b[0my_train_2\u001b[0m\u001b[0;34m,\u001b[0m \u001b[0my_train_pred_rfe_2\u001b[0m\u001b[0;34m,\u001b[0m\u001b[0mlowess\u001b[0m\u001b[0;34m=\u001b[0m\u001b[0;32mTrue\u001b[0m\u001b[0;34m,\u001b[0m \u001b[0mcolor\u001b[0m\u001b[0;34m=\u001b[0m\u001b[0;34m\"g\"\u001b[0m\u001b[0;34m)\u001b[0m\u001b[0;34m\u001b[0m\u001b[0;34m\u001b[0m\u001b[0m\n\u001b[0m",
      "\u001b[0;31mNameError\u001b[0m: name 'y_train_pred_rfe_2' is not defined"
     ]
    }
   ],
   "source": [
    "sns.residplot(y_train_2, y_train_pred_rfe_2,lowess=True, color=\"g\")"
   ]
  },
  {
   "cell_type": "code",
   "execution_count": null,
   "metadata": {},
   "outputs": [],
   "source": []
  },
  {
   "cell_type": "code",
   "execution_count": null,
   "metadata": {},
   "outputs": [],
   "source": []
  },
  {
   "cell_type": "code",
   "execution_count": null,
   "metadata": {},
   "outputs": [],
   "source": []
  },
  {
   "cell_type": "code",
   "execution_count": null,
   "metadata": {},
   "outputs": [],
   "source": []
  },
  {
   "cell_type": "code",
   "execution_count": null,
   "metadata": {},
   "outputs": [],
   "source": []
  },
  {
   "cell_type": "markdown",
   "metadata": {},
   "source": [
    "# Test 3 - \n",
    "\n",
    "# Taking all the original data from the first test and trying to create some interactions"
   ]
  },
  {
   "cell_type": "code",
   "execution_count": 103,
   "metadata": {},
   "outputs": [],
   "source": [
    "nba_data_3 = nba_data"
   ]
  },
  {
   "cell_type": "code",
   "execution_count": 104,
   "metadata": {},
   "outputs": [],
   "source": [
    "nba_data_3['TS_Ast'] = [nba_data_3['TS%'][i]*nba_data_3['AST%'][i] for i in range(len(nba_data_3['TS%']))]"
   ]
  },
  {
   "cell_type": "code",
   "execution_count": 105,
   "metadata": {},
   "outputs": [],
   "source": [
    "nba_data_3['TS_ORB'] = [nba_data_3['TS%'][i]*nba_data_3['ORB%'][i] for i in range(len(nba_data_3['TS%']))]"
   ]
  },
  {
   "cell_type": "code",
   "execution_count": 106,
   "metadata": {},
   "outputs": [],
   "source": [
    "nba_data_3['TS_Pts'] = [nba_data_3['TS%'][i]*nba_data_3['PTS'][i] for i in range(len(nba_data_3['TS%']))]"
   ]
  },
  {
   "cell_type": "code",
   "execution_count": 107,
   "metadata": {},
   "outputs": [],
   "source": [
    "nba_data_3['TS%'] = [x/10 for x in nba_data_3['TS%']]"
   ]
  },
  {
   "cell_type": "code",
   "execution_count": null,
   "metadata": {},
   "outputs": [],
   "source": []
  },
  {
   "cell_type": "markdown",
   "metadata": {},
   "source": [
    "# Target and features for 3rd test"
   ]
  },
  {
   "cell_type": "code",
   "execution_count": 108,
   "metadata": {},
   "outputs": [],
   "source": [
    "target = nba_data_3['W']"
   ]
  },
  {
   "cell_type": "code",
   "execution_count": 109,
   "metadata": {},
   "outputs": [],
   "source": [
    "features_list_3 = []"
   ]
  },
  {
   "cell_type": "code",
   "execution_count": 110,
   "metadata": {},
   "outputs": [],
   "source": [
    "for x in nba_data_3.columns:\n",
    "    if (x == 'W') or (x == 'Tm') or (x == 'year') or (x == 'Pace'):\n",
    "        pass\n",
    "    else:\n",
    "        features_list_3.append(x)"
   ]
  },
  {
   "cell_type": "code",
   "execution_count": 111,
   "metadata": {},
   "outputs": [],
   "source": [
    "features_3 = nba_data_3[features_list_3]"
   ]
  },
  {
   "cell_type": "code",
   "execution_count": null,
   "metadata": {},
   "outputs": [],
   "source": []
  },
  {
   "cell_type": "code",
   "execution_count": 112,
   "metadata": {},
   "outputs": [],
   "source": [
    "X_train_3, X_test_3, y_train_3, y_test_3= train_test_split(features_3, target, random_state=23,test_size=0.2)  "
   ]
  },
  {
   "cell_type": "code",
   "execution_count": null,
   "metadata": {},
   "outputs": [],
   "source": []
  },
  {
   "cell_type": "code",
   "execution_count": 113,
   "metadata": {},
   "outputs": [],
   "source": [
    "scaler = StandardScaler()\n",
    "final_scaler = scaler.fit(X_train_3)\n",
    "X_train_3 =pd.DataFrame(data=scaler.transform(X_train_3), columns=features_list_3)\n",
    "X_test_3 =pd.DataFrame(data=scaler.transform(X_test_3), columns=features_list_3)"
   ]
  },
  {
   "cell_type": "code",
   "execution_count": null,
   "metadata": {},
   "outputs": [],
   "source": []
  },
  {
   "cell_type": "markdown",
   "metadata": {},
   "source": [
    "# Recursive method 3"
   ]
  },
  {
   "cell_type": "code",
   "execution_count": 114,
   "metadata": {},
   "outputs": [],
   "source": [
    "from sklearn.feature_selection import RFECV"
   ]
  },
  {
   "cell_type": "code",
   "execution_count": 115,
   "metadata": {},
   "outputs": [],
   "source": [
    "ols = linear_model.LinearRegression()"
   ]
  },
  {
   "cell_type": "code",
   "execution_count": 116,
   "metadata": {},
   "outputs": [
    {
     "data": {
      "text/plain": [
       "RFECV(cv=10,\n",
       "      estimator=LinearRegression(copy_X=True, fit_intercept=True, n_jobs=None,\n",
       "                                 normalize=False),\n",
       "      min_features_to_select=1, n_jobs=None, scoring='neg_mean_squared_error',\n",
       "      step=1, verbose=0)"
      ]
     },
     "execution_count": 116,
     "metadata": {},
     "output_type": "execute_result"
    }
   ],
   "source": [
    "# Create recursive feature eliminator that scores features by mean squared errors\n",
    "selector_3 = RFECV(estimator=ols, step=1, cv=10, scoring='neg_mean_squared_error')\n",
    "\n",
    "# Fit recursive feature eliminator \n",
    "selector_3.fit(X_train_3, y_train_3)"
   ]
  },
  {
   "cell_type": "code",
   "execution_count": 117,
   "metadata": {},
   "outputs": [],
   "source": [
    "selected_rfe_3 = X_train_3.columns[selector_3.support_]\n",
    "removed_rfe_3 = X_train_3.columns[~selector_3.support_]"
   ]
  },
  {
   "cell_type": "code",
   "execution_count": 118,
   "metadata": {},
   "outputs": [
    {
     "data": {
      "text/plain": [
       "['2P', 'FT%', 'DRB', 'PTS', 'TS%', '3PAr', 'FTr', 'TRB%', 'BLK%']"
      ]
     },
     "execution_count": 118,
     "metadata": {},
     "output_type": "execute_result"
    }
   ],
   "source": [
    "list(removed_rfe_3)"
   ]
  },
  {
   "cell_type": "code",
   "execution_count": 78,
   "metadata": {},
   "outputs": [
    {
     "name": "stdout",
     "output_type": "stream",
     "text": [
      "Training Root Mean Squared Error: 7.214710999838886\n",
      "Testing Root Mean Squared Error: 9.273919835681488\n",
      "vs. Testing:  9.508223863268663 vs. Testing rfe:  9.273919835681488\n"
     ]
    }
   ],
   "source": [
    "#instantiate a linear regression object\n",
    "lm_rfe = LinearRegression()\n",
    "\n",
    "#fit the linear regression to the data\n",
    "lm_rfe.fit(X_train_3[selected_rfe], y_train_3)\n",
    "\n",
    "y_train_pred_rfe_3 = lm_rfe.predict(X_train_3[selected_rfe])\n",
    "\n",
    "train_rmse_rfe_3 = np.sqrt(metrics.mean_squared_error((y_train_3), y_train_pred_rfe_3))\n",
    "\n",
    "\n",
    "print('Training Root Mean Squared Error:' , train_rmse_rfe_3)\n",
    "\n",
    "y_pred_rfe_3 = lm_rfe.predict(X_test_3[selected_rfe])\n",
    "\n",
    "test_rmse_rfe_3 = np.sqrt(metrics.mean_squared_error((y_test_3), y_pred_rfe_3))\n",
    "\n",
    "print('Testing Root Mean Squared Error:' , test_rmse_rfe_3)\n",
    "\n",
    "\n",
    "print(\"vs. Testing: \", float(test_rmse_2), \n",
    "      \"vs. Testing rfe: \", float(test_rmse_rfe_3))"
   ]
  },
  {
   "cell_type": "code",
   "execution_count": null,
   "metadata": {},
   "outputs": [],
   "source": []
  },
  {
   "cell_type": "markdown",
   "metadata": {},
   "source": [
    "# VIF Test 3"
   ]
  },
  {
   "cell_type": "code",
   "execution_count": 142,
   "metadata": {},
   "outputs": [
    {
     "data": {
      "text/html": [
       "<div>\n",
       "<style scoped>\n",
       "    .dataframe tbody tr th:only-of-type {\n",
       "        vertical-align: middle;\n",
       "    }\n",
       "\n",
       "    .dataframe tbody tr th {\n",
       "        vertical-align: top;\n",
       "    }\n",
       "\n",
       "    .dataframe thead th {\n",
       "        text-align: right;\n",
       "    }\n",
       "</style>\n",
       "<table border=\"1\" class=\"dataframe\">\n",
       "  <thead>\n",
       "    <tr style=\"text-align: right;\">\n",
       "      <th></th>\n",
       "      <th>VIF Factor</th>\n",
       "      <th>features</th>\n",
       "    </tr>\n",
       "  </thead>\n",
       "  <tbody>\n",
       "    <tr>\n",
       "      <th>0</th>\n",
       "      <td>1.53796</td>\n",
       "      <td>Age</td>\n",
       "    </tr>\n",
       "    <tr>\n",
       "      <th>1</th>\n",
       "      <td>1282.75952</td>\n",
       "      <td>ORB%</td>\n",
       "    </tr>\n",
       "    <tr>\n",
       "      <th>2</th>\n",
       "      <td>1.88482</td>\n",
       "      <td>3P%</td>\n",
       "    </tr>\n",
       "    <tr>\n",
       "      <th>3</th>\n",
       "      <td>1.70425</td>\n",
       "      <td>FT%</td>\n",
       "    </tr>\n",
       "    <tr>\n",
       "      <th>4</th>\n",
       "      <td>1.81487</td>\n",
       "      <td>TOV</td>\n",
       "    </tr>\n",
       "    <tr>\n",
       "      <th>5</th>\n",
       "      <td>1.97102</td>\n",
       "      <td>PTS</td>\n",
       "    </tr>\n",
       "    <tr>\n",
       "      <th>6</th>\n",
       "      <td>316.22918</td>\n",
       "      <td>TS%</td>\n",
       "    </tr>\n",
       "    <tr>\n",
       "      <th>7</th>\n",
       "      <td>2.45396</td>\n",
       "      <td>3PAr</td>\n",
       "    </tr>\n",
       "    <tr>\n",
       "      <th>8</th>\n",
       "      <td>1.32591</td>\n",
       "      <td>FTr</td>\n",
       "    </tr>\n",
       "    <tr>\n",
       "      <th>9</th>\n",
       "      <td>1.82445</td>\n",
       "      <td>TRB%</td>\n",
       "    </tr>\n",
       "    <tr>\n",
       "      <th>10</th>\n",
       "      <td>943.30565</td>\n",
       "      <td>AST%</td>\n",
       "    </tr>\n",
       "    <tr>\n",
       "      <th>11</th>\n",
       "      <td>1.54945</td>\n",
       "      <td>STL%</td>\n",
       "    </tr>\n",
       "    <tr>\n",
       "      <th>12</th>\n",
       "      <td>1.37716</td>\n",
       "      <td>BLK%</td>\n",
       "    </tr>\n",
       "    <tr>\n",
       "      <th>13</th>\n",
       "      <td>1148.86404</td>\n",
       "      <td>TS_Ast</td>\n",
       "    </tr>\n",
       "    <tr>\n",
       "      <th>14</th>\n",
       "      <td>1112.89599</td>\n",
       "      <td>TS_ORB</td>\n",
       "    </tr>\n",
       "  </tbody>\n",
       "</table>\n",
       "</div>"
      ],
      "text/plain": [
       "    VIF Factor features\n",
       "0      1.53796      Age\n",
       "1   1282.75952     ORB%\n",
       "2      1.88482      3P%\n",
       "3      1.70425      FT%\n",
       "4      1.81487      TOV\n",
       "5      1.97102      PTS\n",
       "6    316.22918      TS%\n",
       "7      2.45396     3PAr\n",
       "8      1.32591      FTr\n",
       "9      1.82445     TRB%\n",
       "10   943.30565     AST%\n",
       "11     1.54945     STL%\n",
       "12     1.37716     BLK%\n",
       "13  1148.86404   TS_Ast\n",
       "14  1112.89599   TS_ORB"
      ]
     },
     "execution_count": 142,
     "metadata": {},
     "output_type": "execute_result"
    }
   ],
   "source": [
    "vif = pd.DataFrame()\n",
    "vif[\"VIF Factor\"] = [variance_inflation_factor(X_train_3.values, i) for i in range(X_train_3.shape[1])]\n",
    "vif[\"features\"] = X_train_3.columns\n",
    "vif.round(5)"
   ]
  },
  {
   "cell_type": "markdown",
   "metadata": {},
   "source": [
    "This VIF showed that the features that came from the interactions had a very high collinearity to the interactions"
   ]
  },
  {
   "cell_type": "code",
   "execution_count": null,
   "metadata": {},
   "outputs": [],
   "source": []
  },
  {
   "cell_type": "code",
   "execution_count": null,
   "metadata": {},
   "outputs": [],
   "source": []
  },
  {
   "cell_type": "code",
   "execution_count": 80,
   "metadata": {
    "collapsed": true
   },
   "outputs": [
    {
     "data": {
      "text/html": [
       "<table class=\"simpletable\">\n",
       "<caption>OLS Regression Results</caption>\n",
       "<tr>\n",
       "  <th>Dep. Variable:</th>            <td>y</td>        <th>  R-squared:         </th> <td>   0.769</td>\n",
       "</tr>\n",
       "<tr>\n",
       "  <th>Model:</th>                   <td>OLS</td>       <th>  Adj. R-squared:    </th> <td>   0.596</td>\n",
       "</tr>\n",
       "<tr>\n",
       "  <th>Method:</th>             <td>Least Squares</td>  <th>  F-statistic:       </th> <td>   4.436</td>\n",
       "</tr>\n",
       "<tr>\n",
       "  <th>Date:</th>             <td>Wed, 06 May 2020</td> <th>  Prob (F-statistic):</th>  <td>0.00120</td>\n",
       "</tr>\n",
       "<tr>\n",
       "  <th>Time:</th>                 <td>20:04:48</td>     <th>  Log-Likelihood:    </th> <td> -119.07</td>\n",
       "</tr>\n",
       "<tr>\n",
       "  <th>No. Observations:</th>      <td>    36</td>      <th>  AIC:               </th> <td>   270.1</td>\n",
       "</tr>\n",
       "<tr>\n",
       "  <th>Df Residuals:</th>          <td>    20</td>      <th>  BIC:               </th> <td>   295.5</td>\n",
       "</tr>\n",
       "<tr>\n",
       "  <th>Df Model:</th>              <td>    15</td>      <th>                     </th>     <td> </td>   \n",
       "</tr>\n",
       "<tr>\n",
       "  <th>Covariance Type:</th>      <td>nonrobust</td>    <th>                     </th>     <td> </td>   \n",
       "</tr>\n",
       "</table>\n",
       "<table class=\"simpletable\">\n",
       "<tr>\n",
       "     <td></td>       <th>coef</th>     <th>std err</th>      <th>t</th>      <th>P>|t|</th>  <th>[0.025</th>    <th>0.975]</th>  \n",
       "</tr>\n",
       "<tr>\n",
       "  <th>const</th>  <td>   40.5995</td> <td>    1.827</td> <td>   22.227</td> <td> 0.000</td> <td>   36.789</td> <td>   44.410</td>\n",
       "</tr>\n",
       "<tr>\n",
       "  <th>Age</th>    <td>    6.2953</td> <td>    3.074</td> <td>    2.048</td> <td> 0.054</td> <td>   -0.117</td> <td>   12.708</td>\n",
       "</tr>\n",
       "<tr>\n",
       "  <th>ORB%</th>   <td>  -46.0690</td> <td>   67.916</td> <td>   -0.678</td> <td> 0.505</td> <td> -187.739</td> <td>   95.601</td>\n",
       "</tr>\n",
       "<tr>\n",
       "  <th>3P%</th>    <td>    2.4294</td> <td>    1.642</td> <td>    1.480</td> <td> 0.155</td> <td>   -0.995</td> <td>    5.854</td>\n",
       "</tr>\n",
       "<tr>\n",
       "  <th>FT%</th>    <td>   -2.4603</td> <td>    2.383</td> <td>   -1.032</td> <td> 0.314</td> <td>   -7.432</td> <td>    2.511</td>\n",
       "</tr>\n",
       "<tr>\n",
       "  <th>TOV</th>    <td>   -3.3825</td> <td>    3.076</td> <td>   -1.100</td> <td> 0.284</td> <td>   -9.798</td> <td>    3.033</td>\n",
       "</tr>\n",
       "<tr>\n",
       "  <th>PTS</th>    <td>   -1.2705</td> <td>    1.829</td> <td>   -0.695</td> <td> 0.495</td> <td>   -5.086</td> <td>    2.545</td>\n",
       "</tr>\n",
       "<tr>\n",
       "  <th>TS%</th>    <td>  -14.7847</td> <td>   41.287</td> <td>   -0.358</td> <td> 0.724</td> <td> -100.907</td> <td>   71.338</td>\n",
       "</tr>\n",
       "<tr>\n",
       "  <th>3PAr</th>   <td>   -0.8293</td> <td>    3.081</td> <td>   -0.269</td> <td> 0.791</td> <td>   -7.257</td> <td>    5.598</td>\n",
       "</tr>\n",
       "<tr>\n",
       "  <th>FTr</th>    <td>    0.3409</td> <td>    2.454</td> <td>    0.139</td> <td> 0.891</td> <td>   -4.777</td> <td>    5.459</td>\n",
       "</tr>\n",
       "<tr>\n",
       "  <th>TRB%</th>   <td>    1.3793</td> <td>    2.411</td> <td>    0.572</td> <td> 0.574</td> <td>   -3.650</td> <td>    6.409</td>\n",
       "</tr>\n",
       "<tr>\n",
       "  <th>AST%</th>   <td>   -6.8406</td> <td>   79.169</td> <td>   -0.086</td> <td> 0.932</td> <td> -171.984</td> <td>  158.303</td>\n",
       "</tr>\n",
       "<tr>\n",
       "  <th>STL%</th>   <td>    1.0483</td> <td>    1.904</td> <td>    0.551</td> <td> 0.588</td> <td>   -2.924</td> <td>    5.020</td>\n",
       "</tr>\n",
       "<tr>\n",
       "  <th>BLK%</th>   <td>    0.5453</td> <td>    1.967</td> <td>    0.277</td> <td> 0.784</td> <td>   -3.557</td> <td>    4.648</td>\n",
       "</tr>\n",
       "<tr>\n",
       "  <th>TS_Ast</th> <td>   10.7901</td> <td>   87.607</td> <td>    0.123</td> <td> 0.903</td> <td> -171.956</td> <td>  193.536</td>\n",
       "</tr>\n",
       "<tr>\n",
       "  <th>TS_ORB</th> <td>   45.9149</td> <td>   62.949</td> <td>    0.729</td> <td> 0.474</td> <td>  -85.394</td> <td>  177.224</td>\n",
       "</tr>\n",
       "</table>\n",
       "<table class=\"simpletable\">\n",
       "<tr>\n",
       "  <th>Omnibus:</th>       <td> 0.356</td> <th>  Durbin-Watson:     </th> <td>   1.852</td>\n",
       "</tr>\n",
       "<tr>\n",
       "  <th>Prob(Omnibus):</th> <td> 0.837</td> <th>  Jarque-Bera (JB):  </th> <td>   0.476</td>\n",
       "</tr>\n",
       "<tr>\n",
       "  <th>Skew:</th>          <td>-0.204</td> <th>  Prob(JB):          </th> <td>   0.788</td>\n",
       "</tr>\n",
       "<tr>\n",
       "  <th>Kurtosis:</th>      <td> 2.612</td> <th>  Cond. No.          </th> <td>    182.</td>\n",
       "</tr>\n",
       "</table><br/><br/>Warnings:<br/>[1] Standard Errors assume that the covariance matrix of the errors is correctly specified."
      ],
      "text/plain": [
       "<class 'statsmodels.iolib.summary.Summary'>\n",
       "\"\"\"\n",
       "                            OLS Regression Results                            \n",
       "==============================================================================\n",
       "Dep. Variable:                      y   R-squared:                       0.769\n",
       "Model:                            OLS   Adj. R-squared:                  0.596\n",
       "Method:                 Least Squares   F-statistic:                     4.436\n",
       "Date:                Wed, 06 May 2020   Prob (F-statistic):            0.00120\n",
       "Time:                        20:04:48   Log-Likelihood:                -119.07\n",
       "No. Observations:                  36   AIC:                             270.1\n",
       "Df Residuals:                      20   BIC:                             295.5\n",
       "Df Model:                          15                                         \n",
       "Covariance Type:            nonrobust                                         \n",
       "==============================================================================\n",
       "                 coef    std err          t      P>|t|      [0.025      0.975]\n",
       "------------------------------------------------------------------------------\n",
       "const         40.5995      1.827     22.227      0.000      36.789      44.410\n",
       "Age            6.2953      3.074      2.048      0.054      -0.117      12.708\n",
       "ORB%         -46.0690     67.916     -0.678      0.505    -187.739      95.601\n",
       "3P%            2.4294      1.642      1.480      0.155      -0.995       5.854\n",
       "FT%           -2.4603      2.383     -1.032      0.314      -7.432       2.511\n",
       "TOV           -3.3825      3.076     -1.100      0.284      -9.798       3.033\n",
       "PTS           -1.2705      1.829     -0.695      0.495      -5.086       2.545\n",
       "TS%          -14.7847     41.287     -0.358      0.724    -100.907      71.338\n",
       "3PAr          -0.8293      3.081     -0.269      0.791      -7.257       5.598\n",
       "FTr            0.3409      2.454      0.139      0.891      -4.777       5.459\n",
       "TRB%           1.3793      2.411      0.572      0.574      -3.650       6.409\n",
       "AST%          -6.8406     79.169     -0.086      0.932    -171.984     158.303\n",
       "STL%           1.0483      1.904      0.551      0.588      -2.924       5.020\n",
       "BLK%           0.5453      1.967      0.277      0.784      -3.557       4.648\n",
       "TS_Ast        10.7901     87.607      0.123      0.903    -171.956     193.536\n",
       "TS_ORB        45.9149     62.949      0.729      0.474     -85.394     177.224\n",
       "==============================================================================\n",
       "Omnibus:                        0.356   Durbin-Watson:                   1.852\n",
       "Prob(Omnibus):                  0.837   Jarque-Bera (JB):                0.476\n",
       "Skew:                          -0.204   Prob(JB):                        0.788\n",
       "Kurtosis:                       2.612   Cond. No.                         182.\n",
       "==============================================================================\n",
       "\n",
       "Warnings:\n",
       "[1] Standard Errors assume that the covariance matrix of the errors is correctly specified.\n",
       "\"\"\""
      ]
     },
     "execution_count": 80,
     "metadata": {},
     "output_type": "execute_result"
    }
   ],
   "source": [
    "X_endog_3 = sm.add_constant(X_test_3)\n",
    "res_3 = sm.OLS(list(y_test_3), X_endog_3)\n",
    "res_3.fit().summary()"
   ]
  },
  {
   "cell_type": "code",
   "execution_count": null,
   "metadata": {},
   "outputs": [],
   "source": []
  },
  {
   "cell_type": "markdown",
   "metadata": {},
   "source": [
    "Model 3 was to test with all of the new features added on taking into account true shooting for assists, orb and pts. This gave the values more correlation but new model is necessary to remove excess features that are now too collinear."
   ]
  },
  {
   "cell_type": "code",
   "execution_count": null,
   "metadata": {},
   "outputs": [],
   "source": []
  },
  {
   "cell_type": "code",
   "execution_count": null,
   "metadata": {},
   "outputs": [],
   "source": []
  },
  {
   "cell_type": "code",
   "execution_count": null,
   "metadata": {},
   "outputs": [],
   "source": []
  },
  {
   "cell_type": "code",
   "execution_count": null,
   "metadata": {},
   "outputs": [],
   "source": []
  },
  {
   "cell_type": "code",
   "execution_count": null,
   "metadata": {},
   "outputs": [],
   "source": []
  },
  {
   "cell_type": "markdown",
   "metadata": {},
   "source": [
    "# Test 4 \n",
    "\n",
    "# Looking for relations after removing variables that correlate too strongly to eachother and the variables that have a weak affect on the data"
   ]
  },
  {
   "cell_type": "code",
   "execution_count": null,
   "metadata": {},
   "outputs": [],
   "source": []
  },
  {
   "cell_type": "code",
   "execution_count": 119,
   "metadata": {},
   "outputs": [],
   "source": [
    "nba_data_4 = nba_data.drop(columns = ['ORB%', '3PAr', 'FTr', 'AST%', '3P%', \n",
    "                                      'STL%', 'BLK%', 'PTS'])"
   ]
  },
  {
   "cell_type": "code",
   "execution_count": null,
   "metadata": {},
   "outputs": [],
   "source": []
  },
  {
   "cell_type": "code",
   "execution_count": 120,
   "metadata": {},
   "outputs": [],
   "source": [
    "features_list_4 = []"
   ]
  },
  {
   "cell_type": "code",
   "execution_count": 121,
   "metadata": {},
   "outputs": [],
   "source": [
    "for x in nba_data_4:\n",
    "    if (x == 'W') or (x == 'Tm') or (x == 'year') or (x == 'Pace'):\n",
    "        pass\n",
    "    else:\n",
    "        features_list_4.append(x)"
   ]
  },
  {
   "cell_type": "code",
   "execution_count": 122,
   "metadata": {},
   "outputs": [],
   "source": [
    "features_4 = nba_data_4[features_list_4]"
   ]
  },
  {
   "cell_type": "code",
   "execution_count": null,
   "metadata": {},
   "outputs": [],
   "source": []
  },
  {
   "cell_type": "markdown",
   "metadata": {},
   "source": [
    "Train test split"
   ]
  },
  {
   "cell_type": "code",
   "execution_count": 123,
   "metadata": {},
   "outputs": [],
   "source": [
    "X_train_4, X_test_4, y_train_4, y_test_4= train_test_split(features_4, target, random_state=23,test_size=0.2)  "
   ]
  },
  {
   "cell_type": "code",
   "execution_count": null,
   "metadata": {},
   "outputs": [],
   "source": []
  },
  {
   "cell_type": "markdown",
   "metadata": {},
   "source": [
    "Scaler"
   ]
  },
  {
   "cell_type": "code",
   "execution_count": 124,
   "metadata": {},
   "outputs": [],
   "source": [
    "scaler = StandardScaler()\n",
    "final_scaler = scaler.fit(X_train_4)\n",
    "X_train_4 =pd.DataFrame(data=scaler.transform(X_train_4), columns=features_list_4)\n",
    "X_test_4 =pd.DataFrame(data=scaler.transform(X_test_4), columns=features_list_4)"
   ]
  },
  {
   "cell_type": "code",
   "execution_count": null,
   "metadata": {},
   "outputs": [],
   "source": []
  },
  {
   "cell_type": "markdown",
   "metadata": {},
   "source": [
    "Quick look at the data"
   ]
  },
  {
   "cell_type": "code",
   "execution_count": 125,
   "metadata": {
    "scrolled": true
   },
   "outputs": [
    {
     "data": {
      "text/html": [
       "<table class=\"simpletable\">\n",
       "<caption>OLS Regression Results</caption>\n",
       "<tr>\n",
       "  <th>Dep. Variable:</th>            <td>y</td>        <th>  R-squared:         </th> <td>   0.896</td>\n",
       "</tr>\n",
       "<tr>\n",
       "  <th>Model:</th>                   <td>OLS</td>       <th>  Adj. R-squared:    </th> <td>   0.841</td>\n",
       "</tr>\n",
       "<tr>\n",
       "  <th>Method:</th>             <td>Least Squares</td>  <th>  F-statistic:       </th> <td>   16.43</td>\n",
       "</tr>\n",
       "<tr>\n",
       "  <th>Date:</th>             <td>Thu, 07 May 2020</td> <th>  Prob (F-statistic):</th> <td>1.64e-08</td>\n",
       "</tr>\n",
       "<tr>\n",
       "  <th>Time:</th>                 <td>10:42:51</td>     <th>  Log-Likelihood:    </th> <td> -104.77</td>\n",
       "</tr>\n",
       "<tr>\n",
       "  <th>No. Observations:</th>      <td>    36</td>      <th>  AIC:               </th> <td>   235.5</td>\n",
       "</tr>\n",
       "<tr>\n",
       "  <th>Df Residuals:</th>          <td>    23</td>      <th>  BIC:               </th> <td>   256.1</td>\n",
       "</tr>\n",
       "<tr>\n",
       "  <th>Df Model:</th>              <td>    12</td>      <th>                     </th>     <td> </td>   \n",
       "</tr>\n",
       "<tr>\n",
       "  <th>Covariance Type:</th>      <td>nonrobust</td>    <th>                     </th>     <td> </td>   \n",
       "</tr>\n",
       "</table>\n",
       "<table class=\"simpletable\">\n",
       "<tr>\n",
       "     <td></td>       <th>coef</th>     <th>std err</th>      <th>t</th>      <th>P>|t|</th>  <th>[0.025</th>    <th>0.975]</th>  \n",
       "</tr>\n",
       "<tr>\n",
       "  <th>const</th>  <td>   41.6507</td> <td>    1.126</td> <td>   37.004</td> <td> 0.000</td> <td>   39.322</td> <td>   43.979</td>\n",
       "</tr>\n",
       "<tr>\n",
       "  <th>Age</th>    <td>    1.5302</td> <td>    1.579</td> <td>    0.969</td> <td> 0.343</td> <td>   -1.737</td> <td>    4.797</td>\n",
       "</tr>\n",
       "<tr>\n",
       "  <th>TOV%</th>   <td>   -3.5172</td> <td>    1.600</td> <td>   -2.198</td> <td> 0.038</td> <td>   -6.828</td> <td>   -0.207</td>\n",
       "</tr>\n",
       "<tr>\n",
       "  <th>Dfg%</th>   <td>  -12.7257</td> <td>    2.049</td> <td>   -6.212</td> <td> 0.000</td> <td>  -16.964</td> <td>   -8.488</td>\n",
       "</tr>\n",
       "<tr>\n",
       "  <th>DRB%</th>   <td>    2.1364</td> <td>    1.603</td> <td>    1.333</td> <td> 0.196</td> <td>   -1.179</td> <td>    5.452</td>\n",
       "</tr>\n",
       "<tr>\n",
       "  <th>2P</th>     <td>   -1.2773</td> <td>    1.223</td> <td>   -1.044</td> <td> 0.307</td> <td>   -3.808</td> <td>    1.253</td>\n",
       "</tr>\n",
       "<tr>\n",
       "  <th>FT%</th>    <td>   -1.0307</td> <td>    1.478</td> <td>   -0.697</td> <td> 0.493</td> <td>   -4.088</td> <td>    2.027</td>\n",
       "</tr>\n",
       "<tr>\n",
       "  <th>DRB</th>    <td>   -4.1323</td> <td>    2.335</td> <td>   -1.770</td> <td> 0.090</td> <td>   -8.963</td> <td>    0.699</td>\n",
       "</tr>\n",
       "<tr>\n",
       "  <th>TS%</th>    <td>   -0.0085</td> <td>    3.044</td> <td>   -0.003</td> <td> 0.998</td> <td>   -6.304</td> <td>    6.288</td>\n",
       "</tr>\n",
       "<tr>\n",
       "  <th>TRB%</th>   <td>    0.2572</td> <td>    1.612</td> <td>    0.160</td> <td> 0.875</td> <td>   -3.077</td> <td>    3.592</td>\n",
       "</tr>\n",
       "<tr>\n",
       "  <th>TS_Ast</th> <td>    0.4579</td> <td>    1.376</td> <td>    0.333</td> <td> 0.742</td> <td>   -2.389</td> <td>    3.305</td>\n",
       "</tr>\n",
       "<tr>\n",
       "  <th>TS_ORB</th> <td>    1.9663</td> <td>    1.350</td> <td>    1.457</td> <td> 0.159</td> <td>   -0.826</td> <td>    4.758</td>\n",
       "</tr>\n",
       "<tr>\n",
       "  <th>TS_Pts</th> <td>    7.8367</td> <td>    3.556</td> <td>    2.204</td> <td> 0.038</td> <td>    0.481</td> <td>   15.192</td>\n",
       "</tr>\n",
       "</table>\n",
       "<table class=\"simpletable\">\n",
       "<tr>\n",
       "  <th>Omnibus:</th>       <td> 1.385</td> <th>  Durbin-Watson:     </th> <td>   2.160</td>\n",
       "</tr>\n",
       "<tr>\n",
       "  <th>Prob(Omnibus):</th> <td> 0.500</td> <th>  Jarque-Bera (JB):  </th> <td>   0.754</td>\n",
       "</tr>\n",
       "<tr>\n",
       "  <th>Skew:</th>          <td>-0.347</td> <th>  Prob(JB):          </th> <td>   0.686</td>\n",
       "</tr>\n",
       "<tr>\n",
       "  <th>Kurtosis:</th>      <td> 3.146</td> <th>  Cond. No.          </th> <td>    10.1</td>\n",
       "</tr>\n",
       "</table><br/><br/>Warnings:<br/>[1] Standard Errors assume that the covariance matrix of the errors is correctly specified."
      ],
      "text/plain": [
       "<class 'statsmodels.iolib.summary.Summary'>\n",
       "\"\"\"\n",
       "                            OLS Regression Results                            \n",
       "==============================================================================\n",
       "Dep. Variable:                      y   R-squared:                       0.896\n",
       "Model:                            OLS   Adj. R-squared:                  0.841\n",
       "Method:                 Least Squares   F-statistic:                     16.43\n",
       "Date:                Thu, 07 May 2020   Prob (F-statistic):           1.64e-08\n",
       "Time:                        10:42:51   Log-Likelihood:                -104.77\n",
       "No. Observations:                  36   AIC:                             235.5\n",
       "Df Residuals:                      23   BIC:                             256.1\n",
       "Df Model:                          12                                         \n",
       "Covariance Type:            nonrobust                                         \n",
       "==============================================================================\n",
       "                 coef    std err          t      P>|t|      [0.025      0.975]\n",
       "------------------------------------------------------------------------------\n",
       "const         41.6507      1.126     37.004      0.000      39.322      43.979\n",
       "Age            1.5302      1.579      0.969      0.343      -1.737       4.797\n",
       "TOV%          -3.5172      1.600     -2.198      0.038      -6.828      -0.207\n",
       "Dfg%         -12.7257      2.049     -6.212      0.000     -16.964      -8.488\n",
       "DRB%           2.1364      1.603      1.333      0.196      -1.179       5.452\n",
       "2P            -1.2773      1.223     -1.044      0.307      -3.808       1.253\n",
       "FT%           -1.0307      1.478     -0.697      0.493      -4.088       2.027\n",
       "DRB           -4.1323      2.335     -1.770      0.090      -8.963       0.699\n",
       "TS%           -0.0085      3.044     -0.003      0.998      -6.304       6.288\n",
       "TRB%           0.2572      1.612      0.160      0.875      -3.077       3.592\n",
       "TS_Ast         0.4579      1.376      0.333      0.742      -2.389       3.305\n",
       "TS_ORB         1.9663      1.350      1.457      0.159      -0.826       4.758\n",
       "TS_Pts         7.8367      3.556      2.204      0.038       0.481      15.192\n",
       "==============================================================================\n",
       "Omnibus:                        1.385   Durbin-Watson:                   2.160\n",
       "Prob(Omnibus):                  0.500   Jarque-Bera (JB):                0.754\n",
       "Skew:                          -0.347   Prob(JB):                        0.686\n",
       "Kurtosis:                       3.146   Cond. No.                         10.1\n",
       "==============================================================================\n",
       "\n",
       "Warnings:\n",
       "[1] Standard Errors assume that the covariance matrix of the errors is correctly specified.\n",
       "\"\"\""
      ]
     },
     "execution_count": 125,
     "metadata": {},
     "output_type": "execute_result"
    }
   ],
   "source": [
    "X_endog_4 = sm.add_constant(X_test_4)\n",
    "res_4 = sm.OLS(list(y_test_4), X_endog_4)\n",
    "res_4.fit().summary()"
   ]
  },
  {
   "cell_type": "code",
   "execution_count": null,
   "metadata": {},
   "outputs": [],
   "source": []
  },
  {
   "cell_type": "markdown",
   "metadata": {},
   "source": [
    "RFE Check to see if there are any features it would remove"
   ]
  },
  {
   "cell_type": "code",
   "execution_count": 126,
   "metadata": {},
   "outputs": [
    {
     "data": {
      "text/plain": [
       "RFECV(cv=10,\n",
       "      estimator=LinearRegression(copy_X=True, fit_intercept=True, n_jobs=None,\n",
       "                                 normalize=False),\n",
       "      min_features_to_select=1, n_jobs=None, scoring='neg_mean_squared_error',\n",
       "      step=1, verbose=0)"
      ]
     },
     "execution_count": 126,
     "metadata": {},
     "output_type": "execute_result"
    }
   ],
   "source": [
    "# Create recursive feature eliminator that scores features by mean squared errors\n",
    "selector_4 = RFECV(estimator=ols, step=1, cv=10, scoring='neg_mean_squared_error')\n",
    "\n",
    "# Fit recursive feature eliminator \n",
    "selector_4.fit(X_train_4, y_train_4)"
   ]
  },
  {
   "cell_type": "code",
   "execution_count": 127,
   "metadata": {},
   "outputs": [],
   "source": [
    "selected_rfe_4 = X_train_4.columns[selector_4.support_]\n",
    "removed_rfe_4 = X_train_4.columns[~selector_4.support_]"
   ]
  },
  {
   "cell_type": "code",
   "execution_count": null,
   "metadata": {},
   "outputs": [],
   "source": []
  },
  {
   "cell_type": "markdown",
   "metadata": {},
   "source": [
    "Lasso test to check the value"
   ]
  },
  {
   "cell_type": "code",
   "execution_count": 128,
   "metadata": {},
   "outputs": [
    {
     "name": "stdout",
     "output_type": "stream",
     "text": [
      "Training Error: 3.895388273981841\n",
      "Testing Error: 6.170272990269359\n"
     ]
    }
   ],
   "source": [
    "lasso_4 = Lasso(alpha=0.01, max_iter = 5000, normalize=False)\n",
    "\n",
    "lasso_4.fit(X_train_4,y_train_4)\n",
    "\n",
    "y_train_pred_lasso_4 = lasso_4.predict(X_train_4)\n",
    "y_pred_lasso_4 = lasso_4.predict(X_test_4)\n",
    "\n",
    "train_rmse_4 = metrics.mean_absolute_error(y_train_4, y_train_pred_lasso_4)\n",
    "test_rmse_4 = np.sqrt(metrics.mean_squared_error(y_test_4, y_pred_lasso_4))\n",
    "print('Training Error: '+ str(train_rmse_4))\n",
    "print('Testing Error: '+ str(test_rmse_4))"
   ]
  },
  {
   "cell_type": "code",
   "execution_count": null,
   "metadata": {},
   "outputs": [],
   "source": []
  },
  {
   "cell_type": "markdown",
   "metadata": {},
   "source": [
    "Ran this model to check how the new features would run with the older features it came from being removed. Only kept true shooting % as it is one of the most valuable features to the final data"
   ]
  },
  {
   "cell_type": "code",
   "execution_count": null,
   "metadata": {},
   "outputs": [],
   "source": []
  },
  {
   "cell_type": "code",
   "execution_count": null,
   "metadata": {},
   "outputs": [],
   "source": []
  }
 ],
 "metadata": {
  "kernelspec": {
   "display_name": "Python 3",
   "language": "python",
   "name": "python3"
  },
  "language_info": {
   "codemirror_mode": {
    "name": "ipython",
    "version": 3
   },
   "file_extension": ".py",
   "mimetype": "text/x-python",
   "name": "python",
   "nbconvert_exporter": "python",
   "pygments_lexer": "ipython3",
   "version": "3.7.6"
  }
 },
 "nbformat": 4,
 "nbformat_minor": 4
}
